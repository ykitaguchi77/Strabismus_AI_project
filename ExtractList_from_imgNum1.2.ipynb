{
  "nbformat": 4,
  "nbformat_minor": 0,
  "metadata": {
    "colab": {
      "name": "Untitled81.ipynb",
      "provenance": [],
      "authorship_tag": "ABX9TyPNw1Hteo6tMxKcYFV5uLQL",
      "include_colab_link": true
    },
    "kernelspec": {
      "name": "python3",
      "display_name": "Python 3"
    },
    "language_info": {
      "name": "python"
    }
  },
  "cells": [
    {
      "cell_type": "markdown",
      "metadata": {
        "id": "view-in-github",
        "colab_type": "text"
      },
      "source": [
        "<a href=\"https://colab.research.google.com/github/ykitaguchi77/Strabismus_AI_project/blob/main/ExtractList_from_imgNum1.2.ipynb\" target=\"_parent\"><img src=\"https://colab.research.google.com/assets/colab-badge.svg\" alt=\"Open In Colab\"/></a>"
      ]
    },
    {
      "cell_type": "code",
      "metadata": {
        "colab": {
          "base_uri": "https://localhost:8080/"
        },
        "id": "sPSAeq-PafD1",
        "outputId": "d84a1210-d404-4f4c-89c4-9a12f4266acb"
      },
      "source": [
        "import glob\n",
        "import os\n",
        "import pandas as pd\n",
        "import sys\n",
        "import shutil\n",
        "\n",
        "#google driveをcolabolatoryにマウント\n",
        "from google.colab import drive\n",
        "drive.mount('/content/drive')"
      ],
      "execution_count": 1,
      "outputs": [
        {
          "output_type": "stream",
          "name": "stdout",
          "text": [
            "Mounted at /content/drive\n"
          ]
        }
      ]
    },
    {
      "cell_type": "code",
      "metadata": {
        "id": "gTJ7lu_Pahsa"
      },
      "source": [
        "pd.set_option('display.max_columns', 10)\n",
        "\n",
        "def openCSV(csv_path):\n",
        "    #df = pd.read_csv(csv_path, encoding=\"shift-jis\")\n",
        "    df = pd.read_csv(csv_path, encoding=\"utf-8\",header=None)\n",
        "    #df = pd.read_csv(csv_path, encoding=\"cp932\")\n",
        "    #df = df.drop(df.columns[[0]], axis=1) #1列目を削除する\n",
        "    #print(df)\n",
        "    return df\n",
        "\n",
        "#CSVを開く （csv1:編集するファイル、csv2:参照するファイル）\n",
        "csv2_path = '/content/drive/MyDrive/Deep_learning/Facephoto_LIST/DiseaseInfo_all_connected_new3.csv'\n",
        "df2 = openCSV(csv2_path) #CSVを開く\n",
        "df2"
      ],
      "execution_count": null,
      "outputs": []
    },
    {
      "cell_type": "code",
      "metadata": {
        "id": "xx_IZZ78akSB"
      },
      "source": [
        "#ファイル名のアルファベットを削除するリネーム\n",
        "#path = \"/content/drive/MyDrive/Deep_learning/Strabismus/dataset(3class_notcut)/train/exte/e126.jpg\"\n",
        "#path = \"/content/drive/MyDrive/Deep_learning/Strabismus/dataset(3class_notcut)/train/exte/126.jpg\"\n",
        "\n",
        "img_path = \"/content/drive/MyDrive/Deep_learning/Strabismus/eso_250px\"\n",
        "\n",
        "orig_names = glob.glob(img_path + \"/*\")\n",
        "for orig_name in orig_names:\n",
        "    dir_name = os.path.dirname(orig_name)\n",
        "    base_name = os.path.basename(orig_name)\n",
        "    \n",
        "    print(base_name)\n",
        "    if base_name[0].isalpha() is True:\n",
        "        base_name = base_name[1:] #アルファベットから始まっているものはアルファベットを削除する\n",
        "    else:\n",
        "        base_name = base_name\n",
        "\n",
        "    dst_name = os.path.join(dir_name, base_name)\n",
        "    os.rename(orig_name, dst_name)"
      ],
      "execution_count": 3,
      "outputs": []
    },
    {
      "cell_type": "code",
      "metadata": {
        "id": "hwwY_61Ianok"
      },
      "source": [
        "#パスから画像名のリストを作成\n",
        "img_path = \"/content/drive/MyDrive/Deep_learning/Strabismus/Dataset_250px_20211116\"\n",
        "\n",
        "contlist, extelist, intelist = [], [], []\n",
        "\n",
        "#path = \"/content/drive/MyDrive/Deep_learning/Strabismus/dataset(3class_notcut)/train/exte/e126.jpg\"\n",
        "#このうち126の部分のみを取り出す\n",
        "\n",
        "cont_name = glob.glob(img_path +\"/cont/*\")\n",
        "for i in cont_name:\n",
        "    contlist.append(int(os.path.basename(os.path.splitext(i)[0])))\n",
        "contlist=sorted(contlist)\n",
        "\n",
        "exte_name = glob.glob(img_path +\"/exo/*\")\n",
        "for i in exte_name:\n",
        "    #extelist.append(int(os.path.basename(os.path.splitext(i)[0]).lstrip(\"e\").split(\"-\")[0]))\n",
        "    extelist.append(int(os.path.basename(os.path.splitext(i)[0])))\n",
        "extelist=sorted(extelist)\n",
        "    \n",
        "inte_name = glob.glob(img_path +\"/eso/*\")\n",
        "for i in inte_name:\n",
        "    intelist.append(int(os.path.basename(os.path.splitext(i)[0])))\n",
        "intelist=sorted(intelist)"
      ],
      "execution_count": 4,
      "outputs": []
    },
    {
      "cell_type": "code",
      "metadata": {
        "id": "poRh26U5aqx4"
      },
      "source": [
        "def extract(imgname_list, df_orig):\n",
        "    #もとのcsvと列名を揃えたデータフレームを作成\n",
        "    cols =  df_orig.columns\n",
        "    df_dst = pd.DataFrame(index=[], columns=cols)\n",
        "\n",
        "    for i in imgname_list:\n",
        "        df_add = df_orig[df_orig.iloc[0:,2] ==i]\n",
        "        df_dst = pd.concat([df_dst, df_add])\n",
        "    return df_dst\n",
        "\n",
        "df_cont = extract(contlist, df2)\n",
        "df_exte = extract(extelist, df2)\n",
        "df_inte = extract(intelist, df2)"
      ],
      "execution_count": 5,
      "outputs": []
    },
    {
      "cell_type": "code",
      "metadata": {
        "colab": {
          "base_uri": "https://localhost:8080/"
        },
        "id": "j-oIAhUoatBp",
        "outputId": "ea7fcfb1-75d3-4537-ebb4-bff916f22afe"
      },
      "source": [
        "import statistics\n",
        "import math\n",
        "from scipy import stats\n",
        "from statsmodels.stats.weightstats import ttest_ind\n",
        "\n",
        "def statistics_age(age_list):\n",
        "    print(\"n=\" +str(len(age_list)))\n",
        "    print(\"max: \"+str(min(age_list)))\n",
        "    print(\"min: \"+str(max(age_list)))\n",
        "    print(\"median: \"+str(statistics.median(age_list)))\n",
        "    print(\"mean: \"+str(statistics.mean(age_list)))\n",
        "    print(\"sd: \"+str(statistics.stdev(age_list)))\n",
        "    \n",
        "print(\"cont\")\n",
        "cont_age = df_cont.iloc[:,4].tolist()\n",
        "statistics_age(cont_age)\n",
        "\n",
        "print(\"\")\n",
        "print(\"exte\")\n",
        "exte_age = df_exte.iloc[:,4].tolist()\n",
        "statistics_age(exte_age)\n",
        "\n",
        "print(\"\")\n",
        "print(\"inte\")\n",
        "inte_age = df_inte.iloc[:,4].tolist()\n",
        "statistics_age(inte_age)\n",
        "\n",
        "print(\"\")\n",
        "print(\"total\")\n",
        "total_age = cont_age + exte_age + inte_age\n",
        "statistics_age(total_age)\n",
        "\n",
        "print(\"\")\n",
        "print(\"cont vs exo\")\n",
        "print(\"p=\"+str(stats.mannwhitneyu(inte_age, exte_age, use_continuity=True, alternative=None))\n",
        ")\n",
        "\n",
        "print(\"\")\n",
        "print(\"cont vs eso\")\n",
        "print(\"p=\"+str(ttest_ind(cont_age, inte_age)[1]))"
      ],
      "execution_count": 7,
      "outputs": [
        {
          "output_type": "stream",
          "name": "stdout",
          "text": [
            "cont\n",
            "n=366\n",
            "max: 0\n",
            "min: 83\n",
            "median: 10.0\n",
            "mean: 17.959016393442624\n",
            "sd: 20.37137296036135\n",
            "\n",
            "exte\n",
            "n=335\n",
            "max: 0\n",
            "min: 82\n",
            "median: 7\n",
            "mean: 16.8089552238806\n",
            "sd: 20.801152456437435\n",
            "\n",
            "inte\n",
            "n=294\n",
            "max: 0\n",
            "min: 86\n",
            "median: 5.0\n",
            "mean: 17.755102040816325\n",
            "sd: 24.12357034593524\n",
            "\n",
            "total\n",
            "n=995\n",
            "max: 0\n",
            "min: 86\n",
            "median: 7\n",
            "mean: 17.511557788944724\n",
            "sd: 21.669657621987295\n",
            "\n",
            "cont vs exo\n",
            "p=MannwhitneyuResult(statistic=44688.0, pvalue=0.022368943860630472)\n",
            "\n",
            "cont vs eso\n",
            "p=0.9063390922312577\n"
          ]
        }
      ]
    },
    {
      "cell_type": "code",
      "metadata": {
        "colab": {
          "base_uri": "https://localhost:8080/"
        },
        "id": "YPlBVAN2anv_",
        "outputId": "0d807f59-eb74-4108-af7c-5da43d9d16ed"
      },
      "source": [
        "stats.shapiro(cont_age)"
      ],
      "execution_count": 16,
      "outputs": [
        {
          "output_type": "execute_result",
          "data": {
            "text/plain": [
              "(0.7602319121360779, 1.0180988986773168e-22)"
            ]
          },
          "metadata": {},
          "execution_count": 16
        }
      ]
    },
    {
      "cell_type": "code",
      "metadata": {
        "id": "h11I6SxxigUD"
      },
      "source": [
        ""
      ],
      "execution_count": null,
      "outputs": []
    }
  ]
}