{
  "nbformat": 4,
  "nbformat_minor": 0,
  "metadata": {
    "colab": {
      "name": "Untitled63.ipynb",
      "provenance": [],
      "include_colab_link": true
    },
    "kernelspec": {
      "name": "python3",
      "display_name": "Python 3"
    }
  },
  "cells": [
    {
      "cell_type": "markdown",
      "metadata": {
        "id": "view-in-github",
        "colab_type": "text"
      },
      "source": [
        "<a href=\"https://colab.research.google.com/github/ykitaguchi77/Strabismus_AI_project/blob/main/ExtractList_from_imgNum.ipynb\" target=\"_parent\"><img src=\"https://colab.research.google.com/assets/colab-badge.svg\" alt=\"Open In Colab\"/></a>"
      ]
    },
    {
      "cell_type": "markdown",
      "metadata": {
        "id": "AcRHRF7JFLCs"
      },
      "source": [
        "#**画像番号に該当する症例をリストから抜粋するスクリプト**"
      ]
    },
    {
      "cell_type": "code",
      "metadata": {
        "id": "98xd9oXBglXT",
        "colab": {
          "base_uri": "https://localhost:8080/"
        },
        "outputId": "51e22626-28ff-42d6-fc05-f483ada4912b"
      },
      "source": [
        "import glob\n",
        "import os\n",
        "import pandas as pd\n",
        "import sys\n",
        "import shutil\n",
        "\n",
        "#google driveをcolabolatoryにマウント\n",
        "from google.colab import drive\n",
        "drive.mount('/content/drive')"
      ],
      "execution_count": 62,
      "outputs": [
        {
          "output_type": "stream",
          "name": "stdout",
          "text": [
            "Drive already mounted at /content/drive; to attempt to forcibly remount, call drive.mount(\"/content/drive\", force_remount=True).\n"
          ]
        }
      ]
    },
    {
      "cell_type": "code",
      "metadata": {
        "id": "2WKArVad3Coj"
      },
      "source": [
        "pd.set_option('display.max_columns', 10)\n",
        "\n",
        "def openCSV(csv_path):\n",
        "    #df = pd.read_csv(csv_path, encoding=\"shift-jis\")\n",
        "    df = pd.read_csv(csv_path, encoding=\"utf-8\",header=None)\n",
        "    #df = pd.read_csv(csv_path, encoding=\"cp932\")\n",
        "    #df = df.drop(df.columns[[0]], axis=1) #1列目を削除する\n",
        "    #print(df)\n",
        "    return df\n",
        "\n",
        "#CSVを開く （csv1:編集するファイル、csv2:参照するファイル）\n",
        "csv2_path = '/content/drive/MyDrive/Deep_learning/Facephoto_LIST/DiseaseInfo_all_connected_new3.csv'\n",
        "df2 = openCSV(csv2_path) #CSVを開く\n",
        "df2\n"
      ],
      "execution_count": null,
      "outputs": []
    },
    {
      "cell_type": "code",
      "metadata": {
        "id": "Z62vqewjDIp3"
      },
      "source": [
        "#ファイル名のアルファベットを削除するリネーム\n",
        "#path = \"/content/drive/MyDrive/Deep_learning/Strabismus/dataset(3class_notcut)/train/exte/e126.jpg\"\n",
        "#path = \"/content/drive/MyDrive/Deep_learning/Strabismus/dataset(3class_notcut)/train/exte/126.jpg\"\n",
        "\n",
        "img_path = \"/content/drive/MyDrive/Deep_learning/Strabismus/Dataset_250px_20211111/exo\"\n",
        "\n",
        "orig_names = glob.glob(img_path + \"/*\")\n",
        "for orig_name in orig_names:\n",
        "    dir_name = os.path.dirname(orig_name)\n",
        "    base_name = os.path.basename(orig_name)\n",
        "    \n",
        "    print(base_name)\n",
        "    if base_name[0].isalpha() is True:\n",
        "        base_name = base_name[1:] #アルファベットから始まっているものはアルファベットを削除する\n",
        "    else:\n",
        "        base_name = base_name\n",
        "\n",
        "    dst_name = os.path.join(dir_name, base_name)\n",
        "    os.rename(orig_name, dst_name)"
      ],
      "execution_count": null,
      "outputs": []
    },
    {
      "cell_type": "code",
      "metadata": {
        "id": "IoLu8iDTGsGD"
      },
      "source": [
        "\n",
        "#パスから画像名のリストを作成\n",
        "img_path = \"/content/drive/MyDrive/Deep_learning/Strabismus/Dataset_250px_20211111\"\n",
        "\n",
        "contlist, extelist, intelist = [], [], []\n",
        "\n",
        "#path = \"/content/drive/MyDrive/Deep_learning/Strabismus/dataset(3class_notcut)/train/exte/e126.jpg\"\n",
        "#このうち126の部分のみを取り出す\n",
        "\n",
        "cont_name = glob.glob(img_path +\"/cont/*\")\n",
        "for i in cont_name:\n",
        "    try: \n",
        "        contlist.append(int(os.path.basename(os.path.splitext(i)[0])))\n",
        "    except:\n",
        "        pass\n",
        "contlist=sorted(contlist)\n",
        "\n",
        "exte_name = glob.glob(img_path +\"/exo/*\")\n",
        "for i in exte_name:\n",
        "    try: \n",
        "        extelist.append(int(os.path.basename(os.path.splitext(i)[0])))\n",
        "    except:\n",
        "        pass\n",
        "extelist=sorted(extelist)\n",
        "    \n",
        "inte_name = glob.glob(img_path +\"/eso/*\")\n",
        "for i in inte_name:\n",
        "    try:\n",
        "        intelist.append(int(os.path.basename(os.path.splitext(i)[0])))\n",
        "    except:\n",
        "        pass\n",
        "intelist=sorted(intelist)"
      ],
      "execution_count": 73,
      "outputs": []
    },
    {
      "cell_type": "code",
      "metadata": {
        "id": "B2oZpDe8OhVc"
      },
      "source": [
        "def extract(imgname_list, df_orig):\n",
        "    #もとのcsvと列名を揃えたデータフレームを作成\n",
        "    cols =  df_orig.columns\n",
        "    df_dst = pd.DataFrame(index=[], columns=cols)\n",
        "\n",
        "    for i in imgname_list:\n",
        "        df_add = df_orig[df_orig.iloc[0:,2] ==i]\n",
        "        df_dst = pd.concat([df_dst, df_add])\n",
        "    return df_dst\n",
        "\n",
        "df_cont = extract(contlist, df2)\n",
        "df_exte = extract(extelist, df2)\n",
        "df_inte = extract(intelist, df2)"
      ],
      "execution_count": 74,
      "outputs": []
    },
    {
      "cell_type": "code",
      "metadata": {
        "colab": {
          "base_uri": "https://localhost:8080/"
        },
        "id": "eRNxW2pmXjDc",
        "outputId": "518be995-2506-4c8d-85e0-3abcb331db4e"
      },
      "source": [
        "import statistics\n",
        "import math\n",
        "\n",
        "def statistics_age(age_list):\n",
        "    print(\"n=\" +str(len(age_list)))\n",
        "    print(\"max: \"+str(min(age_list)))\n",
        "    print(\"min: \"+str(max(age_list)))\n",
        "    print(\"median: \"+str(statistics.median(age_list)))\n",
        "    print(\"mean: \"+str(statistics.mean(age_list)))\n",
        "    print(\"sd: \"+str(statistics.stdev(age_list)))\n",
        "    \n",
        "print(\"cont\")\n",
        "cont_age = df_cont.iloc[:,4].tolist()\n",
        "statistics_age(cont_age)\n",
        "\n",
        "print(\"\")\n",
        "print(\"exte\")\n",
        "exte_age = df_exte.iloc[:,4].tolist()\n",
        "statistics_age(exte_age)\n",
        "\n",
        "print(\"\")\n",
        "print(\"inte\")\n",
        "inte_age = df_inte.iloc[:,4].tolist()\n",
        "statistics_age(inte_age)\n",
        "\n",
        "print(\"\")\n",
        "print(\"total\")\n",
        "total_age = cont_age + exte_age + inte_age\n",
        "statistics_age(total_age)"
      ],
      "execution_count": 75,
      "outputs": [
        {
          "output_type": "stream",
          "name": "stdout",
          "text": [
            "cont\n",
            "n=366\n",
            "max: 0\n",
            "min: 83\n",
            "median: 10.0\n",
            "mean: 17.959016393442624\n",
            "sd: 20.37137296036135\n",
            "\n",
            "exte\n",
            "n=334\n",
            "max: 0\n",
            "min: 82\n",
            "median: 7.0\n",
            "mean: 16.856287425149702\n",
            "sd: 20.81428691858433\n",
            "\n",
            "inte\n",
            "n=294\n",
            "max: 0\n",
            "min: 86\n",
            "median: 5.0\n",
            "mean: 17.755102040816325\n",
            "sd: 24.12357034593524\n",
            "\n",
            "total\n",
            "n=994\n",
            "max: 0\n",
            "min: 86\n",
            "median: 7.5\n",
            "mean: 17.528169014084508\n",
            "sd: 21.674227000752918\n"
          ]
        }
      ]
    },
    {
      "cell_type": "code",
      "metadata": {
        "colab": {
          "base_uri": "https://localhost:8080/"
        },
        "id": "F0Dw-jeucFsN",
        "outputId": "09c11020-e804-439d-dd77-02bde679a323"
      },
      "source": [
        "#年齢の母集団に有意差があるかどうかの解析（Kruskal-Wallis)\n",
        "from scipy.stats.mstats import kruskal\n",
        "from scipy.stats import ttest_ind\n",
        "print(\"Kruskal-Wallis\")\n",
        "print(kruskal(inte_age, exte_age, inte_age))\n",
        "\n",
        "print(\"t-test_ind\")\n",
        "print(\"exo vs eso: \"+str(ttest_ind(exte_age, inte_age, equal_var = False)))\n",
        "print(\"exo vs cont: \"+str(ttest_ind(exte_age, cont_age, equal_var = False)))\n",
        "print(\"cont vs eso: \"+str(ttest_ind(cont_age, inte_age, equal_var = False)))"
      ],
      "execution_count": 76,
      "outputs": [
        {
          "output_type": "stream",
          "name": "stdout",
          "text": [
            "Kruskal-Wallis\n",
            "KruskalResult(statistic=5.7522466839128334, pvalue=0.05635280046961159)\n",
            "t-test_ind\n",
            "exo vs eso: Ttest_indResult(statistic=-0.4965508504086252, pvalue=0.6196930945735439)\n",
            "exo vs cont: Ttest_indResult(statistic=-0.7072598729760249, pvalue=0.4796440744617124)\n",
            "cont vs eso: Ttest_indResult(statistic=0.11556846948727542, pvalue=0.9080349919099393)\n"
          ]
        }
      ]
    },
    {
      "cell_type": "code",
      "metadata": {
        "id": "SbQkwjhH1I6q",
        "outputId": "fa29e6ae-125a-4a89-a636-4d470066135f",
        "colab": {
          "base_uri": "https://localhost:8080/"
        }
      },
      "source": [
        "a = [6.3, 5.4, 7.7, 5.2, 5.0]\n",
        "b = [6.9, 7.0, 6.1, 7.9]\n",
        "c = [7.2, 6.9, 6.1, 6.5]\n",
        "kruskal(a, b, c)"
      ],
      "execution_count": 78,
      "outputs": [
        {
          "output_type": "execute_result",
          "data": {
            "text/plain": [
              "KruskalResult(statistic=2.814364640883984, pvalue=0.2448321707681035)"
            ]
          },
          "metadata": {},
          "execution_count": 78
        }
      ]
    },
    {
      "cell_type": "markdown",
      "metadata": {
        "id": "xxJoa0PptzZS"
      },
      "source": [
        "#**CSVから該当する文字列のある行を抜き出すサンプルコード**"
      ]
    },
    {
      "cell_type": "code",
      "metadata": {
        "id": "PLz4UM0Ip9Ch",
        "colab": {
          "base_uri": "https://localhost:8080/"
        },
        "outputId": "4d66cd59-2f9f-4bda-b479-e51dffb9bf6f"
      },
      "source": [
        "#df2の0列目から\"2695701\"を見つけて、その行を抜き出す\n",
        "#さらにその行の2列目の内容を出力する\n",
        "\n",
        "img_num = df2[df2.iloc[0:,2] == 100].iloc[0,0]\n",
        "print(img_num)"
      ],
      "execution_count": 53,
      "outputs": [
        {
          "output_type": "stream",
          "name": "stdout",
          "text": [
            "10065813.0\n"
          ]
        }
      ]
    },
    {
      "cell_type": "markdown",
      "metadata": {
        "id": "cNIlta32-tvY"
      },
      "source": [
        "#**CSVとして保存**"
      ]
    },
    {
      "cell_type": "code",
      "metadata": {
        "id": "LWTILIBW33_n"
      },
      "source": [
        "csv_path = '***********.csv'\n",
        "csv = df1.to_csv(csv_path, encoding='utf_8_sig')\n"
      ],
      "execution_count": null,
      "outputs": []
    }
  ]
}