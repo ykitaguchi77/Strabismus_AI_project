{
  "nbformat": 4,
  "nbformat_minor": 0,
  "metadata": {
    "colab": {
      "name": "Untitled63.ipynb",
      "provenance": [],
      "include_colab_link": true
    },
    "kernelspec": {
      "name": "python3",
      "display_name": "Python 3"
    }
  },
  "cells": [
    {
      "cell_type": "markdown",
      "metadata": {
        "id": "view-in-github",
        "colab_type": "text"
      },
      "source": [
        "<a href=\"https://colab.research.google.com/github/ykitaguchi77/Strabismus_AI_project/blob/main/ExtractList_from_imgNum.ipynb\" target=\"_parent\"><img src=\"https://colab.research.google.com/assets/colab-badge.svg\" alt=\"Open In Colab\"/></a>"
      ]
    },
    {
      "cell_type": "markdown",
      "metadata": {
        "id": "AcRHRF7JFLCs"
      },
      "source": [
        "#**画像番号に該当する症例をリストから抜粋するスクリプト**"
      ]
    },
    {
      "cell_type": "code",
      "metadata": {
        "id": "98xd9oXBglXT",
        "colab": {
          "base_uri": "https://localhost:8080/"
        },
        "outputId": "7d6d12c0-9c02-4970-d841-49ef4243ef9f"
      },
      "source": [
        "#google driveをcolabolatoryにマウント\n",
        "from google.colab import drive\n",
        "drive.mount('/content/drive')"
      ],
      "execution_count": 2,
      "outputs": [
        {
          "output_type": "stream",
          "name": "stdout",
          "text": [
            "Mounted at /content/drive\n"
          ]
        }
      ]
    },
    {
      "cell_type": "code",
      "metadata": {
        "id": "2WKArVad3Coj"
      },
      "source": [
        "import pandas as pd\n",
        "pd.set_option('display.max_columns', 10)\n",
        "\n",
        "\n",
        "def openCSV(csv_path):\n",
        "    #df = pd.read_csv(csv_path, encoding=\"shift-jis\")\n",
        "    df = pd.read_csv(csv_path, encoding=\"utf-8\",header=None)\n",
        "    #df = pd.read_csv(csv_path, encoding=\"cp932\")\n",
        "    #df = df.drop(df.columns[[0]], axis=1) #1列目を削除する\n",
        "    print(df)\n",
        "    return df\n",
        "\n",
        "#CSVを開く （csv1:編集するファイル、csv2:参照するファイル）\n",
        "csv2_path = '/content/drive/MyDrive/Deep_learning/Facephoto_LIST/DiseaseInfo_all_connected_new3.csv'\n",
        "df2 = openCSV(csv2_path) #CSVを開く\n",
        "df2\n"
      ],
      "execution_count": null,
      "outputs": []
    },
    {
      "cell_type": "code",
      "metadata": {
        "id": "IoLu8iDTGsGD"
      },
      "source": [
        "import glob\n",
        "import os\n",
        "#パスから画像名のリストを作成\n",
        "img_path = \"/content/drive/MyDrive/Deep_learning/Strabismus/dataset(3class_notcut)\"\n",
        "\n",
        "contlist, extelist, intelist = [], [], []\n",
        "\n",
        "#path = \"/content/drive/MyDrive/Deep_learning/Strabismus/dataset(3class_notcut)/train/exte/e126.jpg\"\n",
        "#このうち126の部分のみを取り出す\n",
        "\n",
        "cont_name = glob.glob(img_path +\"/*/Cont/*\")\n",
        "for i in cont_name:\n",
        "    contlist.append(int(os.path.basename(os.path.splitext(i)[0])))\n",
        "contlist=sorted(contlist)\n",
        "\n",
        "exte_name = glob.glob(img_path +\"/*/Exte/*\")\n",
        "for i in exte_name:\n",
        "    extelist.append(int(os.path.basename(os.path.splitext(i)[0]).lstrip(\"e\").split(\"-\")[0]))\n",
        "extelist=sorted(extelist)\n",
        "    \n",
        "inte_name = glob.glob(img_path +\"/*/Inte/*\")\n",
        "for i in inte_name:\n",
        "    intelist.append(int(os.path.basename(os.path.splitext(i)[0]).lstrip(\"i\").split(\"-\")[0]))\n",
        "intelist=sorted(intelist)"
      ],
      "execution_count": 5,
      "outputs": []
    },
    {
      "cell_type": "code",
      "metadata": {
        "id": "B2oZpDe8OhVc"
      },
      "source": [
        "def extract(imgname_list, df_orig):\n",
        "    #もとのcsvと列名を揃えたデータフレームを作成\n",
        "    cols =  df_orig.columns\n",
        "    df_dst = pd.DataFrame(index=[], columns=cols)\n",
        "\n",
        "    for i in imgname_list:\n",
        "        df_add = df_orig[df_orig.iloc[0:,2] ==i]\n",
        "        df_dst = pd.concat([df_dst, df_add])\n",
        "    return df_dst\n",
        "\n",
        "df_cont = extract(contlist, df2)\n",
        "df_exte = extract(extelist, df2)\n",
        "df_inte = extract(intelist, df2)"
      ],
      "execution_count": 6,
      "outputs": []
    },
    {
      "cell_type": "code",
      "metadata": {
        "colab": {
          "base_uri": "https://localhost:8080/"
        },
        "id": "eRNxW2pmXjDc",
        "outputId": "58231a7b-5216-4089-8ce5-2f81c1eca81b"
      },
      "source": [
        "import statistics\n",
        "import math\n",
        "\n",
        "def statistics_age(age_list):\n",
        "    print(\"n=\" +str(len(age_list)))\n",
        "    print(\"max: \"+str(min(age_list)))\n",
        "    print(\"min: \"+str(max(age_list)))\n",
        "    print(\"median: \"+str(statistics.median(age_list)))\n",
        "    print(\"mean: \"+str(statistics.mean(age_list)))\n",
        "    print(\"sd: \"+str(statistics.stdev(age_list)))\n",
        "    \n",
        "print(\"cont\")\n",
        "cont_age = df_cont.iloc[:,4].tolist()\n",
        "statistics_age(cont_age)\n",
        "\n",
        "print(\"\")\n",
        "print(\"exte\")\n",
        "exte_age = df_exte.iloc[:,4].tolist()\n",
        "statistics_age(exte_age)\n",
        "\n",
        "print(\"\")\n",
        "print(\"inte\")\n",
        "inte_age = df_inte.iloc[:,4].tolist()\n",
        "statistics_age(inte_age)\n",
        "\n",
        "print(\"\")\n",
        "print(\"total\")\n",
        "total_age = cont_age + exte_age + inte_age\n",
        "statistics_age(total_age)"
      ],
      "execution_count": 21,
      "outputs": [
        {
          "output_type": "stream",
          "name": "stdout",
          "text": [
            "cont\n",
            "n=331\n",
            "max: 0\n",
            "min: 84\n",
            "median: 49\n",
            "mean: 43.03021148036254\n",
            "sd: 24.31558285028512\n",
            "\n",
            "exte\n",
            "n=318\n",
            "max: 0\n",
            "min: 82\n",
            "median: 10.0\n",
            "mean: 23.270440251572328\n",
            "sd: 25.004778227179404\n",
            "\n",
            "inte\n",
            "n=302\n",
            "max: 0\n",
            "min: 86\n",
            "median: 5.0\n",
            "mean: 17.301324503311257\n",
            "sd: 23.960070568104907\n",
            "\n",
            "total\n",
            "n=951\n",
            "max: 0\n",
            "min: 86\n",
            "median: 17\n",
            "mean: 28.252365930599368\n",
            "sd: 26.803523573877886\n"
          ]
        }
      ]
    },
    {
      "cell_type": "markdown",
      "metadata": {
        "id": "xxJoa0PptzZS"
      },
      "source": [
        "#**CSVから該当する文字列のある行を抜き出すサンプルコード**"
      ]
    },
    {
      "cell_type": "code",
      "metadata": {
        "id": "PLz4UM0Ip9Ch",
        "colab": {
          "base_uri": "https://localhost:8080/"
        },
        "outputId": "4db417cb-15c3-4c26-fe4b-7de2401da387"
      },
      "source": [
        "#df2の0列目から\"2695701\"を見つけて、その行を抜き出す\n",
        "#さらにその行の2列目の内容を出力する\n",
        "\n",
        "img_num = df2[df2.iloc[0:,2] == 100].iloc[0,0]\n",
        "print(img_num)"
      ],
      "execution_count": null,
      "outputs": [
        {
          "output_type": "stream",
          "name": "stdout",
          "text": [
            "10065813.0\n"
          ]
        }
      ]
    },
    {
      "cell_type": "markdown",
      "metadata": {
        "id": "cNIlta32-tvY"
      },
      "source": [
        "#**CSVとして保存**"
      ]
    },
    {
      "cell_type": "code",
      "metadata": {
        "id": "LWTILIBW33_n"
      },
      "source": [
        "csv_path = '***********.csv'\n",
        "csv = df1.to_csv(csv_path, encoding='utf_8_sig')\n"
      ],
      "execution_count": null,
      "outputs": []
    }
  ]
}