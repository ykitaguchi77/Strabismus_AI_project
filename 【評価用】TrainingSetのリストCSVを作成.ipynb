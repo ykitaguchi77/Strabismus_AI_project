{
  "nbformat": 4,
  "nbformat_minor": 0,
  "metadata": {
    "colab": {
      "name": "Untitled64.ipynb",
      "provenance": [],
      "include_colab_link": true
    },
    "kernelspec": {
      "name": "python3",
      "display_name": "Python 3"
    }
  },
  "cells": [
    {
      "cell_type": "markdown",
      "metadata": {
        "id": "view-in-github",
        "colab_type": "text"
      },
      "source": [
        "<a href=\"https://colab.research.google.com/github/ykitaguchi77/Strabismus_AI_project/blob/main/%E3%80%90%E8%A9%95%E4%BE%A1%E7%94%A8%E3%80%91TrainingSet%E3%81%AE%E3%83%AA%E3%82%B9%E3%83%88CSV%E3%82%92%E4%BD%9C%E6%88%90.ipynb\" target=\"_parent\"><img src=\"https://colab.research.google.com/assets/colab-badge.svg\" alt=\"Open In Colab\"/></a>"
      ]
    },
    {
      "cell_type": "markdown",
      "metadata": {
        "id": "NlLpkWVcVFsQ"
      },
      "source": [
        "#**【評価用】TrainingSetのリストCSVを作成**\n"
      ]
    },
    {
      "cell_type": "code",
      "metadata": {
        "id": "bH8TbMaxu669",
        "colab": {
          "base_uri": "https://localhost:8080/"
        },
        "outputId": "9d896a4c-3056-453b-9cd2-ce237805e4ba"
      },
      "source": [
        "\"\"\"\n",
        "train-------class1\n",
        "       |----class2\n",
        "       |----class3\n",
        "\n",
        "→CSVでリストを作成（ランダムに並び替え）\n",
        "\"\"\"\n",
        "\n",
        "from google.colab import drive\n",
        "drive.mount('/content/drive')"
      ],
      "execution_count": 18,
      "outputs": [
        {
          "output_type": "stream",
          "text": [
            "Drive already mounted at /content/drive; to attempt to forcibly remount, call drive.mount(\"/content/drive\", force_remount=True).\n"
          ],
          "name": "stdout"
        }
      ]
    },
    {
      "cell_type": "code",
      "metadata": {
        "id": "RDGnBBd4FvT-"
      },
      "source": [
        "import os\n",
        "import pandas as pd\n",
        "import glob\n",
        "\n",
        "test_dir = \"/content/drive/MyDrive/Deep_learning/Strabismus/dataset(3class_notcut)/test\"\n",
        "csv_dir = \"/content/drive/MyDrive/Deep_learning/Strabismus/3classes_test.csv\""
      ],
      "execution_count": 19,
      "outputs": []
    },
    {
      "cell_type": "code",
      "metadata": {
        "id": "zQaXT3k_Gy0Y",
        "colab": {
          "base_uri": "https://localhost:8080/"
        },
        "outputId": "fc31b9a9-d87c-4b72-d809-06eccaf21c0e"
      },
      "source": [
        "classes = os.listdir(test_dir)\n",
        "\n",
        "k=0\n",
        "for i in classes:\n",
        "    print(str(k)+\": \"+i+\" \"+str(len(os.listdir(os.path.join(test_dir, i))))+\" images\")\n",
        "    k+=1\n",
        "\n",
        "#画像のリストを作る\n",
        "\n",
        "image_path_list = [0]*len(classes)\n",
        "image_name_list = [0]*len(classes)\n",
        "\n",
        "for i in range(len(classes)):\n",
        "    image_name_list[i] = os.listdir(test_dir + \"/\" + classes[i])\n",
        "    image_path_list[i] = glob.glob(test_dir + \"/\" + classes[i]+\"/*\")\n",
        "\n",
        "\n",
        "\n",
        "#Pandasでリストを作成\n",
        "\n",
        "Image_name, Label, Answer, AI = [], [], [], []\n",
        "\n",
        "for i in image_name_list:\n",
        "    Image_name = list(Image_name + i)\n",
        "\n",
        "k=0\n",
        "for i in image_name_list:\n",
        "    for j in range(len(i)):\n",
        "        Label.append(k)\n",
        "    k+=1\n",
        "\n",
        "Answer = len(Image_name)* [\"内斜視　・　外斜視　・　正常\"] \n",
        "\n",
        "\n",
        "df = pd.DataFrame(\n",
        "        data={'Image_name': Image_name, 'Label': Label, 'Answer': Answer},\n",
        "        columns=['Image_name', 'Label', 'Answer']\n",
        ")\n",
        "\n",
        "#行をランダムにシャッフルして、インデックスを並び替える\n",
        "df = df.sample(frac=1, random_state=100).reset_index(drop=True)\n",
        "print(df)\n",
        "\n",
        "#CSVに書き出し\n",
        "df.to_csv(csv_dir)"
      ],
      "execution_count": 23,
      "outputs": [
        {
          "output_type": "stream",
          "text": [
            "0: Cont 10 images\n",
            "1: Exte 16 images\n",
            "2: Inte 18 images\n",
            "    Image_name  Label          Answer\n",
            "0     6738.jpg      0  内斜視　・　外斜視　・　正常\n",
            "1     2641.jpg      1  内斜視　・　外斜視　・　正常\n",
            "2     2639.jpg      1  内斜視　・　外斜視　・　正常\n",
            "3     8473.jpg      2  内斜視　・　外斜視　・　正常\n",
            "4     3889.jpg      2  内斜視　・　外斜視　・　正常\n",
            "5     1235.jpg      2  内斜視　・　外斜視　・　正常\n",
            "6     6868.jpg      0  内斜視　・　外斜視　・　正常\n",
            "7     9323.jpg      1  内斜視　・　外斜視　・　正常\n",
            "8     4385.jpg      2  内斜視　・　外斜視　・　正常\n",
            "9     1607.jpg      2  内斜視　・　外斜視　・　正常\n",
            "10    9595.jpg      0  内斜視　・　外斜視　・　正常\n",
            "11    7572.jpg      2  内斜視　・　外斜視　・　正常\n",
            "12   848-1.jpg      2  内斜視　・　外斜視　・　正常\n",
            "13    2966.jpg      2  内斜視　・　外斜視　・　正常\n",
            "14    1491.jpg      1  内斜視　・　外斜視　・　正常\n",
            "15    4796.jpg      0  内斜視　・　外斜視　・　正常\n",
            "16  2291-2.jpg      2  内斜視　・　外斜視　・　正常\n",
            "17    4437.jpg      1  内斜視　・　外斜視　・　正常\n",
            "18    8366.jpg      1  内斜視　・　外斜視　・　正常\n",
            "19    7152.jpg      1  内斜視　・　外斜視　・　正常\n",
            "20    8739.jpg      0  内斜視　・　外斜視　・　正常\n",
            "21    6188.jpg      2  内斜視　・　外斜視　・　正常\n",
            "22    8194.jpg      1  内斜視　・　外斜視　・　正常\n",
            "23    8435.jpg      2  内斜視　・　外斜視　・　正常\n",
            "24    9622.jpg      1  内斜視　・　外斜視　・　正常\n",
            "25    3092.jpg      0  内斜視　・　外斜視　・　正常\n",
            "26    6279.jpg      1  内斜視　・　外斜視　・　正常\n",
            "27    9186.jpg      2  内斜視　・　外斜視　・　正常\n",
            "28    9663.jpg      2  内斜視　・　外斜視　・　正常\n",
            "29    9236.jpg      1  内斜視　・　外斜視　・　正常\n",
            "30    7111.jpg      0  内斜視　・　外斜視　・　正常\n",
            "31    2538.jpg      2  内斜視　・　外斜視　・　正常\n",
            "32    1848.jpg      2  内斜視　・　外斜視　・　正常\n",
            "33    7933.jpg      1  内斜視　・　外斜視　・　正常\n",
            "34    9256.jpg      0  内斜視　・　外斜視　・　正常\n",
            "35    8162.jpg      2  内斜視　・　外斜視　・　正常\n",
            "36   848-2.jpg      2  内斜視　・　外斜視　・　正常\n",
            "37    1912.jpg      1  内斜視　・　外斜視　・　正常\n",
            "38    6817.jpg      1  内斜視　・　外斜視　・　正常\n",
            "39    9604.jpg      1  内斜視　・　外斜視　・　正常\n",
            "40  2291-1.jpg      2  内斜視　・　外斜視　・　正常\n",
            "41    8728.jpg      0  内斜視　・　外斜視　・　正常\n",
            "42    9444.jpg      1  内斜視　・　外斜視　・　正常\n",
            "43    5169.jpg      0  内斜視　・　外斜視　・　正常\n"
          ],
          "name": "stdout"
        }
      ]
    },
    {
      "cell_type": "markdown",
      "metadata": {
        "id": "kyWqOkzT82TA"
      },
      "source": [
        "#別のCSVからAIの判定結果を転記"
      ]
    },
    {
      "cell_type": "code",
      "metadata": {
        "id": "Ip0FHDFo81Hm"
      },
      "source": [
        "import pandas as pd\n",
        "pd.set_option('display.max_columns', 10)\n",
        "\n",
        "\n",
        "def openCSV(csv_path):\n",
        "    df = pd.read_csv(csv_path, encoding=\"shift-jis\")\n",
        "    #df = df.drop(df.columns[[0]], axis=1) #1列目を削除する\n",
        "    print(df)\n",
        "    return df\n",
        "\n",
        "#CSVを開く （csv1:編集するファイル、csv2:参照するファイル）\n",
        "csv1_path = csv_path\n",
        "csv2_path = '/content/drive/MyDrive/進行中の研究/先天性緑内障プロジェクト/●DiseaseInfo_modified1.2_connected.csv'\n",
        "\n",
        "df1, df2 = openCSV(csv1_path), openCSV(csv2_path) #CSVを開く"
      ],
      "execution_count": null,
      "outputs": []
    }
  ]
}