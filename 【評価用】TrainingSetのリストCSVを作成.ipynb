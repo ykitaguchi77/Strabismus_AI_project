{
  "nbformat": 4,
  "nbformat_minor": 0,
  "metadata": {
    "colab": {
      "name": "Untitled64.ipynb",
      "provenance": [],
      "include_colab_link": true
    },
    "kernelspec": {
      "name": "python3",
      "display_name": "Python 3"
    }
  },
  "cells": [
    {
      "cell_type": "markdown",
      "metadata": {
        "id": "view-in-github",
        "colab_type": "text"
      },
      "source": [
        "<a href=\"https://colab.research.google.com/github/ykitaguchi77/Strabismus_AI_project/blob/main/%E3%80%90%E8%A9%95%E4%BE%A1%E7%94%A8%E3%80%91TrainingSet%E3%81%AE%E3%83%AA%E3%82%B9%E3%83%88CSV%E3%82%92%E4%BD%9C%E6%88%90.ipynb\" target=\"_parent\"><img src=\"https://colab.research.google.com/assets/colab-badge.svg\" alt=\"Open In Colab\"/></a>"
      ]
    },
    {
      "cell_type": "markdown",
      "metadata": {
        "id": "NlLpkWVcVFsQ"
      },
      "source": [
        "#**【評価用】TrainingSetのリストCSVを作成**\n"
      ]
    },
    {
      "cell_type": "code",
      "metadata": {
        "id": "bH8TbMaxu669",
        "colab": {
          "base_uri": "https://localhost:8080/"
        },
        "outputId": "acdd5bbd-3123-4ad7-c8c4-5e0976d4ca45"
      },
      "source": [
        "\"\"\"\n",
        "train-------class1\n",
        "       |----class2\n",
        "       |----class3\n",
        "\n",
        "→CSVでリストを作成（ランダムに並び替え）\n",
        "\"\"\"\n",
        "\n",
        "from google.colab import drive\n",
        "drive.mount('/content/drive')"
      ],
      "execution_count": 1,
      "outputs": [
        {
          "output_type": "stream",
          "text": [
            "Mounted at /content/drive\n"
          ],
          "name": "stdout"
        }
      ]
    },
    {
      "cell_type": "code",
      "metadata": {
        "id": "RDGnBBd4FvT-"
      },
      "source": [
        "import os\n",
        "import pandas as pd\n",
        "import glob\n",
        "\n",
        "test_dir = \"/content/drive/MyDrive/Deep_learning/Strabismus/dataset(3class_notcut)/test\"\n",
        "csv_dir = \"/content/drive/MyDrive/Deep_learning/Strabismus/3classes_test.csv\""
      ],
      "execution_count": 4,
      "outputs": []
    },
    {
      "cell_type": "code",
      "metadata": {
        "id": "zQaXT3k_Gy0Y",
        "colab": {
          "base_uri": "https://localhost:8080/"
        },
        "outputId": "cba1fac0-6214-4617-d3e6-2679dc932858"
      },
      "source": [
        "classes = os.listdir(test_dir)\n",
        "\n",
        "k=0\n",
        "for i in classes:\n",
        "    print(str(k)+\": \"+i+\" \"+str(len(os.listdir(os.path.join(test_dir, i))))+\" images\")\n",
        "    k+=1\n",
        "\n",
        "#画像のリストを作る\n",
        "\n",
        "image_path_list = [0]*len(classes)\n",
        "image_name_list = [0]*len(classes)\n",
        "\n",
        "for i in range(len(classes)):\n",
        "    image_name_list[i] = os.listdir(test_dir + \"/\" + classes[i])\n",
        "    image_path_list[i] = glob.glob(test_dir + \"/\" + classes[i]+\"/*\")\n",
        "\n",
        "\n",
        "\n",
        "#Pandasでリストを作成\n",
        "\n",
        "Image_name, Label, Answer = [], [], []\n",
        "\n",
        "for i in image_name_list:\n",
        "    Image_name = list(Image_name + i)\n",
        "\n",
        "k=0\n",
        "for i in image_name_list:\n",
        "    for j in range(len(i)):\n",
        "        Label.append(k)\n",
        "    k+=1\n",
        "\n",
        "Answer = len(Image_name)* [\"\"] \n",
        "\n",
        "\n",
        "df = pd.DataFrame(\n",
        "        data={'Image_name': Image_name, 'Label': Label, 'Answer': Answer},\n",
        "        columns=['Image_name', 'Label', 'Answer']\n",
        ")\n",
        "\n",
        "#行をランダムにシャッフルして、インデックスを並び替える\n",
        "df = df.sample(frac=1, random_state=100).reset_index(drop=True)\n",
        "print(df)\n",
        "\n",
        "#CSVに書き出し\n",
        "df.to_csv(csv_dir)"
      ],
      "execution_count": 17,
      "outputs": [
        {
          "output_type": "stream",
          "text": [
            "0: Cont 10 images\n",
            "1: Exte 16 images\n",
            "2: Inte 18 images\n",
            "    Image_name  Label Answer\n",
            "0     6738.jpg      0       \n",
            "1     2641.jpg      1       \n",
            "2     2639.jpg      1       \n",
            "3     8473.jpg      2       \n",
            "4     3889.jpg      2       \n",
            "5     1235.jpg      2       \n",
            "6     6868.jpg      0       \n",
            "7     9323.jpg      1       \n",
            "8     4385.jpg      2       \n",
            "9     1607.jpg      2       \n",
            "10    9595.jpg      0       \n",
            "11    7572.jpg      2       \n",
            "12   848-1.jpg      2       \n",
            "13    2966.jpg      2       \n",
            "14    1491.jpg      1       \n",
            "15    4796.jpg      0       \n",
            "16  2291-2.jpg      2       \n",
            "17    4437.jpg      1       \n",
            "18    8366.jpg      1       \n",
            "19    7152.jpg      1       \n",
            "20    8739.jpg      0       \n",
            "21    6188.jpg      2       \n",
            "22    8194.jpg      1       \n",
            "23    8435.jpg      2       \n",
            "24    9622.jpg      1       \n",
            "25    3092.jpg      0       \n",
            "26    6279.jpg      1       \n",
            "27    9186.jpg      2       \n",
            "28    9663.jpg      2       \n",
            "29    9236.jpg      1       \n",
            "30    7111.jpg      0       \n",
            "31    2538.jpg      2       \n",
            "32    1848.jpg      2       \n",
            "33    7933.jpg      1       \n",
            "34    9256.jpg      0       \n",
            "35    8162.jpg      2       \n",
            "36   848-2.jpg      2       \n",
            "37    1912.jpg      1       \n",
            "38    6817.jpg      1       \n",
            "39    9604.jpg      1       \n",
            "40  2291-1.jpg      2       \n",
            "41    8728.jpg      0       \n",
            "42    9444.jpg      1       \n",
            "43    5169.jpg      0       \n"
          ],
          "name": "stdout"
        }
      ]
    }
  ]
}