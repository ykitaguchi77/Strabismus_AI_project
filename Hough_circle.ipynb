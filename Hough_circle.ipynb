{
  "nbformat": 4,
  "nbformat_minor": 0,
  "metadata": {
    "colab": {
      "name": "Untitled62.ipynb",
      "provenance": [],
      "machine_shape": "hm",
      "authorship_tag": "ABX9TyN3APjpz5dEXsqLyMctcxVL",
      "include_colab_link": true
    },
    "kernelspec": {
      "name": "python3",
      "display_name": "Python 3"
    },
    "language_info": {
      "name": "python"
    },
    "accelerator": "GPU"
  },
  "cells": [
    {
      "cell_type": "markdown",
      "metadata": {
        "id": "view-in-github",
        "colab_type": "text"
      },
      "source": [
        "<a href=\"https://colab.research.google.com/github/ykitaguchi77/Strabismus_AI_project/blob/main/Hough_circle.ipynb\" target=\"_parent\"><img src=\"https://colab.research.google.com/assets/colab-badge.svg\" alt=\"Open In Colab\"/></a>"
      ]
    },
    {
      "cell_type": "markdown",
      "metadata": {
        "id": "gWiEi5bze3hE"
      },
      "source": [
        "#**Hough変換を用いた虹彩検出**\n",
        "https://ipsj.ixsq.nii.ac.jp/ej/?action=repository_action_common_download&item_id=113806&item_no=1&attribute_id=1&file_no=1<br>\n",
        "※HEICファイルには未対応。https://www.apowersoft.jp/heic-to-jpgで先に変換。"
      ]
    },
    {
      "cell_type": "code",
      "metadata": {
        "id": "3lGivAN7eveG"
      },
      "source": [
        "from __future__ import print_function, division\n",
        "\n",
        "import torch\n",
        "import torch.nn as nn\n",
        "import torch.optim as optim\n",
        "from torch.optim import lr_scheduler\n",
        "from torch.autograd import Variable\n",
        "import torch.utils.data as data\n",
        "import numpy as np\n",
        "import torchvision\n",
        "from torchvision import datasets, models, transforms\n",
        "import matplotlib.pyplot as plt\n",
        "import time\n",
        "import os\n",
        "import copy\n",
        "import pandas as pd\n",
        "\n",
        "#Advanced Pytorchから\n",
        "import glob\n",
        "import os.path as osp\n",
        "import random\n",
        "import json\n",
        "from PIL import Image\n",
        "from tqdm import tqdm\n",
        "%matplotlib inline\n",
        "\n",
        "#サポートパッチのインポート\n",
        "from google.colab.patches import cv2_imshow\n",
        "import cv2\n",
        "\n",
        "plt.ion()   # interactive mode\n",
        "device = torch.device(\"cuda:0\" if torch.cuda.is_available() else \"cpu\")"
      ],
      "execution_count": 1,
      "outputs": []
    },
    {
      "cell_type": "code",
      "metadata": {
        "colab": {
          "base_uri": "https://localhost:8080/"
        },
        "id": "hq8oSrWcfNgV",
        "outputId": "2feaf6eb-dbb4-4e70-a8ed-175633b5a731"
      },
      "source": [
        "from google.colab import drive\n",
        "drive.mount('/content/drive')"
      ],
      "execution_count": 2,
      "outputs": [
        {
          "output_type": "stream",
          "name": "stdout",
          "text": [
            "Mounted at /content/drive\n"
          ]
        }
      ]
    },
    {
      "cell_type": "code",
      "metadata": {
        "id": "JaZp8kY4gd5J"
      },
      "source": [
        "from google.colab.patches import cv2_imshow\n",
        "import cv2\n",
        "import matplotlib.pyplot as plt\n",
        "import math\n",
        "from PIL import Image\n",
        "import numpy as np\n",
        "import dlib\n",
        "from imutils import face_utils\n",
        "import os\n",
        "\n",
        "img_path = \"/content/drive/MyDrive/Deep_learning/Face_Images/IMG_4087.JPG\"\n",
        "\n",
        "predictor_path = '/content/drive/My Drive/AI_laboratory_course/shape_predictor_68_face_landmarks.dat'\n",
        "predictor = dlib.shape_predictor(predictor_path)\n",
        "detector = dlib.get_frontal_face_detector()\n",
        "\n",
        "\n",
        "\n",
        "\n",
        "# 画像読込み\n",
        "img = cv2.imread(img_path, cv2.IMREAD_UNCHANGED)\n",
        "img2 = img.copy()\n",
        "\n",
        "if img is None:\n",
        "    print('画像が見つかりません')\n",
        "    exit()\n",
        "\n",
        "rects = detector(img, 1)\n",
        "if len(rects) == 0:\n",
        "    print('顔が抽出されませんでした')\n",
        "    exit()\n",
        "\n",
        "for rect in rects:\n",
        "    for idx,p in enumerate(predictor(img,rect).parts()): \n",
        "        x = p.x\n",
        "        y = p.y\n",
        "        cv2.circle(img, (x,y),2, (0,255,0), thickness= 3)\n",
        "        cv2.putText(img,str(idx) , (x + 3, y+3), cv2.FONT_HERSHEY_SIMPLEX, 0.5, (255, 255, 255), thickness=1)\n",
        "\n",
        "cv2_imshow(img)\n",
        "\n",
        "\n",
        "dets = detector(img[:, :, ::-1])\n",
        "parts = predictor (img, dets[0]).parts()\n",
        "\n",
        "#眼周囲の画像を切り抜き\n",
        "\"\"\"\n",
        "x0 = int(parts[17].x)\n",
        "x1 = int(parts[27].x) #両眼にするなら26で\n",
        "y0 = int((parts[17].y + parts[26].y)/2)\n",
        "y1 = int(parts[29].y)\n",
        "\"\"\"\n",
        "x0 = int(parts[36].x)\n",
        "x1 = int(parts[39].x)\n",
        "y0 = int(1.5*min(parts[37].y, parts[38].y)-0.5*max(parts[40].y, parts[41].y))\n",
        "y1 = int(1.5*min(parts[40].y, parts[41].y)-0.5*max(parts[37].y, parts[38].y))\n",
        "\n",
        "img3 = img2[y0 : y1, x0 : x1]\n",
        "img4 = img3.copy()\n",
        "img_copy0 = img3.copy()\n",
        "img_copy1 = img3.copy()\n",
        "img_copy2 = img3.copy()\n",
        "img_copy3 = img3.copy()\n",
        "img_copy4 = img3.copy()\n",
        "cv2_imshow(img3)\n",
        "\n",
        "#ガウシアンフィルター\n",
        "#dst = cv2.GaussianBlur(img3, ksize=(3, 3), sigmaX=1.3)\n",
        "\n",
        "#白黒化\n",
        "gray = cv2.cvtColor(img4, cv2.COLOR_BGR2GRAY)\n",
        "cv2_imshow(gray)\n"
      ],
      "execution_count": null,
      "outputs": []
    },
    {
      "cell_type": "code",
      "metadata": {
        "id": "tu3_IIH1oW9T"
      },
      "source": [
        "%matplotlib inline\n",
        "import numpy as np\n",
        "import matplotlib.pyplot as plt\n",
        "from skimage.transform import hough_circle, hough_circle_peaks, hough_ellipse\n",
        "from skimage.feature import canny\n",
        "from skimage.draw import circle_perimeter, ellipse_perimeter\n",
        "from skimage.color import rgb2gray\n",
        "from skimage import data, color, img_as_ubyte\n",
        "import matplotlib.patches as patches\n",
        "\n",
        "#OTSUの2値化\n",
        "ret, th = cv2.threshold(gray, 0, 255, cv2.THRESH_OTSU)\n",
        "cv2_imshow(th)\n",
        "\n",
        "#Canny法によるedge検出\n",
        "edges = canny(th)\n",
        "fig, ax = plt.subplots()\n",
        "ax.imshow(edges, cmap=plt.cm.gray)\n",
        "\n",
        "#ハフ変換による円検出\n",
        "min_radius = int(1/5 * (parts[39].x - parts[36].x))\n",
        "max_radius = int(2/3 * (parts[39].x - parts[36].x))\n",
        "#min_radius = int(2/3 * (parts[41].y - parts[37].y))\n",
        "#max_radius = int(2 * (parts[41].y - parts[37].y))\n",
        "\n",
        "hough_radii = np.arange(min_radius, max_radius, 1)\n",
        "hough_res = hough_circle(edges, hough_radii)\n",
        "hough_res.shape\n",
        "#(4, 400, 400)\n",
        "\n",
        "#誤差が少なく近似されている円の選出\n",
        "accums, cx, cy, radii = hough_circle_peaks(hough_res, hough_radii,\n",
        "                                           total_num_peaks=1) #数字を増やすと検出する円の種類を増やせる\n",
        "print(accums)\n",
        "print(cx)\n",
        "print(cy)\n",
        "print(radii)\n",
        "\n",
        "\n",
        "#結果の表示\n",
        "fig, ax = plt.subplots()\n",
        "\n",
        "# Draw the most prominent 1 circles\n",
        "image = color.gray2rgb(img3)\n",
        "for center_y, center_x, radius in zip(cy, cx, radii):\n",
        "    circy, circx = circle_perimeter(center_y, center_x, radius,\n",
        "                                    shape=image.shape)\n",
        "    image[circy, circx] = (220, 20, 20)\n",
        "\n",
        "ax.imshow(image, cmap=plt.cm.gray)\n",
        "plt.show()"
      ],
      "execution_count": null,
      "outputs": []
    },
    {
      "cell_type": "code",
      "metadata": {
        "id": "YIN3UoPaJKDc"
      },
      "source": [
        "h, w = img4.shape[:2]\n",
        "#print(h)\n",
        "#print(w)\n",
        "print(\"center_y: \"+str(center_y))\n",
        "print(\"center_x: \"+str(center_x))\n",
        "print(\"radius: \"+str(radius))\n",
        "\n",
        "# マスク作成 (黒く塗りつぶす画素の値は0)\n",
        "mask = np.zeros((h, w), dtype=np.uint8)\n",
        "# 円を描画する関数 circle() を利用してマスクの残したい部分を 255 にしている。\n",
        "cv2.circle(mask, center=(center_x, center_y), radius=radius, color=255, thickness=-1)\n",
        "\n",
        "# マスクを描画\n",
        "plt.imshow(mask, cmap='gray')\n",
        "plt.axis('off')\n",
        "#plt.show()\n",
        "\n",
        "img4[mask==0] = [0, 0, 0]  # mask の値が 0 の画素は黒で塗りつぶす。\n",
        "plt.imshow(cv2.cvtColor(img4, cv2.COLOR_BGR2RGB))\n",
        "plt.axis('off')\n",
        "plt.show()"
      ],
      "execution_count": null,
      "outputs": []
    },
    {
      "cell_type": "code",
      "metadata": {
        "id": "5rkqJoA0PRgI"
      },
      "source": [
        "hsv = cv2.cvtColor(img4, cv2.COLOR_BGR2HSV)\n",
        "\n",
        "# 白のHSV範囲\n",
        "lower_white = np.array([0,0,200])\n",
        "upper_white = np.array([180,45,255])\n",
        "\n",
        "mask_white = cv2.inRange(hsv, lower_white, upper_white)\n",
        "res_white = cv2.bitwise_and(img4, img4, mask= mask_white)\n",
        "\n",
        "plt.imshow(res_white)\n",
        "plt.axis('off')\n",
        "plt.show()\n",
        " \n"
      ],
      "execution_count": null,
      "outputs": []
    },
    {
      "cell_type": "code",
      "metadata": {
        "id": "FXYG1tmJX3zC"
      },
      "source": [
        "res_white_WB = cv2.cvtColor(res_white, cv2.COLOR_BGR2GRAY)"
      ],
      "execution_count": 22,
      "outputs": []
    },
    {
      "cell_type": "code",
      "metadata": {
        "id": "ucnO_OOcV9AL",
        "outputId": "2f3dc282-e604-4238-bd2e-6c870798c24a",
        "colab": {
          "base_uri": "https://localhost:8080/"
        }
      },
      "source": [
        "contours, hierarchy = cv2.findContours(\n",
        "    res_white_WB, cv2.RETR_EXTERNAL, cv2.CHAIN_APPROX_SIMPLE\n",
        ")\n",
        "\n",
        "# 小さい輪郭は誤検出として削除する\n",
        "contours = list(filter(lambda x: cv2.contourArea(x) > 1, contours))\n",
        "\n",
        "cv2.drawContours(img, contours, -1, color=(0, 0, 255), thickness=2)\n",
        "\n",
        "for i, cnt in enumerate(contours):\n",
        "    print(f\"contours[{i}].shape: {cnt.shape}\")\n"
      ],
      "execution_count": 32,
      "outputs": [
        {
          "output_type": "stream",
          "name": "stdout",
          "text": [
            "contours[0].shape: (7, 1, 2)\n",
            "contours[1].shape: (4, 1, 2)\n"
          ]
        }
      ]
    },
    {
      "cell_type": "code",
      "metadata": {
        "id": "hPJ-zrdbbY_n",
        "outputId": "a6c7bac4-07b1-43c1-f83c-a1b42ef1e962",
        "colab": {
          "base_uri": "https://localhost:8080/"
        }
      },
      "source": [
        "k=0\n",
        "for c in contours:\n",
        "    k+=1\n",
        "    mu = cv2.moments(c)\n",
        "    x,y= int(mu[\"m10\"]/mu[\"m00\"]) , int(mu[\"m01\"]/mu[\"m00\"])\n",
        "    print(\"reflex\"+str(k)+\": x=\"+str(x)+\", y=\"+str(y))\n",
        "\n",
        "print(img4.shape)\n"
      ],
      "execution_count": 51,
      "outputs": [
        {
          "output_type": "stream",
          "name": "stdout",
          "text": [
            "reflex1: x=218, y=160\n",
            "reflex2: x=194, y=71\n",
            "(216, 396, 3)\n"
          ]
        }
      ]
    },
    {
      "cell_type": "code",
      "metadata": {
        "id": "ULuRRg0hajTf",
        "outputId": "a2e5dce8-9919-4e2d-9e95-6203333f79a1",
        "colab": {
          "base_uri": "https://localhost:8080/",
          "height": 271
        }
      },
      "source": [
        "maxCont = contours[1]\n",
        "for c in contours:\n",
        "  if len(maxCont)<len(c):\n",
        "    maxCont=c\n",
        " \n",
        "mu = cv2.moments(maxCont)\n",
        "x,y= int(mu[\"m10\"]/mu[\"m00\"]) , int(mu[\"m01\"]/mu[\"m00\"])\n",
        "\n",
        "cv2.circle(img4, (x,y), 4, 100, 2, 4)\n",
        "plt.imshow(img4)\n",
        "plt.colorbar()\n",
        "plt.show()\n",
        "\n",
        "print(x,y)"
      ],
      "execution_count": 47,
      "outputs": [
        {
          "output_type": "display_data",
          "data": {
            "image/png": "[encoded data removed]",
            "text/plain": [
              "<Figure size 432x288 with 2 Axes>"
            ]
          },
          "metadata": {
            "needs_background": "light"
          }
        },
        {
          "output_type": "stream",
          "name": "stdout",
          "text": [
            "218 160\n"
          ]
        }
      ]
    },
    {
      "cell_type": "code",
      "metadata": {
        "id": "zHCzcd3DY1t0",
        "outputId": "c55a8032-efb0-4245-e0ba-febbbef8e950",
        "colab": {
          "base_uri": "https://localhost:8080/",
          "height": 274
        }
      },
      "source": [
        "def draw_contours(ax, img, contours):\n",
        "    ax.imshow(img)\n",
        "    ax.set_axis_off()\n",
        "\n",
        "    for i, cnt in enumerate(contours):\n",
        "        # 形状を変更する。(NumPoints, 1, 2) -> (NumPoints, 2)\n",
        "        cnt = cnt.squeeze(axis=1)\n",
        "        # 輪郭の点同士を結ぶ線を描画する。\n",
        "        ax.add_patch(plt.Polygon(cnt, color=\"b\", fill=None, lw=2))\n",
        "        # 輪郭の点を描画する。\n",
        "        ax.plot(cnt[:, 0], cnt[:, 1], \"ro\", mew=0, ms=4)\n",
        "        # 輪郭の番号を描画する。\n",
        "        ax.text(cnt[0][0], cnt[0][1], i, color=\"r\", size=\"20\", bbox=dict(fc=\"w\"))\n",
        "\n",
        "\n",
        "fig, ax = plt.subplots(figsize=(8, 8))\n",
        "draw_contours(ax, res_white, contours)\n",
        "\n",
        "plt.show()"
      ],
      "execution_count": 46,
      "outputs": [
        {
          "output_type": "display_data",
          "data": {
            "image/png": "[encoded data removed]",
            "text/plain": [
              "<Figure size 576x576 with 1 Axes>"
            ]
          },
          "metadata": {
            "needs_background": "light"
          }
        }
      ]
    }
  ]
}