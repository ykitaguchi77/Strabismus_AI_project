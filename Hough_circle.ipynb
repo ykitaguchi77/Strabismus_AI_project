{
  "nbformat": 4,
  "nbformat_minor": 0,
  "metadata": {
    "colab": {
      "name": "Untitled62.ipynb",
      "provenance": [],
      "authorship_tag": "ABX9TyMhPYQe61WpIH2KEGP8kyqp",
      "include_colab_link": true
    },
    "kernelspec": {
      "name": "python3",
      "display_name": "Python 3"
    },
    "language_info": {
      "name": "python"
    }
  },
  "cells": [
    {
      "cell_type": "markdown",
      "metadata": {
        "id": "view-in-github",
        "colab_type": "text"
      },
      "source": [
        "<a href=\"https://colab.research.google.com/github/ykitaguchi77/Strabismus_AI_project/blob/main/Hough_circle.ipynb\" target=\"_parent\"><img src=\"https://colab.research.google.com/assets/colab-badge.svg\" alt=\"Open In Colab\"/></a>"
      ]
    },
    {
      "cell_type": "markdown",
      "metadata": {
        "id": "gWiEi5bze3hE"
      },
      "source": [
        "#**Hough変換を用いた虹彩検出**\n",
        "https://ipsj.ixsq.nii.ac.jp/ej/?action=repository_action_common_download&item_id=113806&item_no=1&attribute_id=1&file_no=1<br>\n",
        "※HEICファイルには未対応。https://www.apowersoft.jp/heic-to-jpgで先に変換。"
      ]
    },
    {
      "cell_type": "code",
      "metadata": {
        "id": "3lGivAN7eveG"
      },
      "source": [
        "from __future__ import print_function, division\n",
        "\n",
        "import torch\n",
        "import torch.nn as nn\n",
        "import torch.optim as optim\n",
        "from torch.optim import lr_scheduler\n",
        "from torch.autograd import Variable\n",
        "import torch.utils.data as data\n",
        "import numpy as np\n",
        "import torchvision\n",
        "from torchvision import datasets, models, transforms\n",
        "import matplotlib.pyplot as plt\n",
        "import time\n",
        "import os\n",
        "import copy\n",
        "import pandas as pd\n",
        "\n",
        "#Advanced Pytorchから\n",
        "import glob\n",
        "import os.path as osp\n",
        "import random\n",
        "import json\n",
        "from PIL import Image\n",
        "from tqdm import tqdm\n",
        "%matplotlib inline\n",
        "\n",
        "#サポートパッチのインポート\n",
        "from google.colab.patches import cv2_imshow\n",
        "import cv2\n",
        "\n",
        "plt.ion()   # interactive mode\n",
        "device = torch.device(\"cuda:0\" if torch.cuda.is_available() else \"cpu\")"
      ],
      "execution_count": null,
      "outputs": []
    },
    {
      "cell_type": "code",
      "metadata": {
        "colab": {
          "base_uri": "https://localhost:8080/"
        },
        "id": "hq8oSrWcfNgV",
        "outputId": "be51317d-4741-4cb1-d61d-afde0af04ffc"
      },
      "source": [
        "from google.colab import drive\n",
        "drive.mount('/content/drive')"
      ],
      "execution_count": 1,
      "outputs": [
        {
          "output_type": "stream",
          "name": "stdout",
          "text": [
            "Mounted at /content/drive\n"
          ]
        }
      ]
    },
    {
      "cell_type": "code",
      "metadata": {
        "id": "-2aT25P8p4fu"
      },
      "source": [
        "import os\n",
        "os.chdir('/content/drive/MyDrive/Deep_learning/Face_Images')"
      ],
      "execution_count": 27,
      "outputs": []
    },
    {
      "cell_type": "code",
      "metadata": {
        "id": "JaZp8kY4gd5J"
      },
      "source": [
        "from google.colab.patches import cv2_imshow\n",
        "import cv2\n",
        "import matplotlib.pyplot as plt\n",
        "import math\n",
        "from PIL import Image\n",
        "import numpy as np\n",
        "import dlib\n",
        "from imutils import face_utils\n",
        "import os\n",
        "\n",
        "img_path = \"/content/drive/MyDrive/Deep_learning/Face_Images/IMG_4087.JPG\"\n",
        "\n",
        "predictor_path = '/content/drive/My Drive/AI_laboratory_course/shape_predictor_68_face_landmarks.dat'\n",
        "predictor = dlib.shape_predictor(predictor_path)\n",
        "detector = dlib.get_frontal_face_detector()\n",
        "\n",
        "\n",
        "\n",
        "\n",
        "# 画像読込み\n",
        "img = cv2.imread(img_path, cv2.IMREAD_UNCHANGED)\n",
        "img2 = img.copy()\n",
        "\n",
        "if img is None:\n",
        "    print('画像が見つかりません')\n",
        "    exit()\n",
        "\n",
        "rects = detector(img, 1)\n",
        "if len(rects) == 0:\n",
        "    print('顔が抽出されませんでした')\n",
        "    exit()\n",
        "\n",
        "for rect in rects:\n",
        "    for idx,p in enumerate(predictor(img,rect).parts()): \n",
        "        x = p.x\n",
        "        y = p.y\n",
        "        cv2.circle(img, (x,y),2, (0,255,0), thickness= 3)\n",
        "        cv2.putText(img,str(idx) , (x + 3, y+3), cv2.FONT_HERSHEY_SIMPLEX, 0.5, (255, 255, 255), thickness=1)\n",
        "\n",
        "cv2_imshow(img)\n",
        "\n",
        "\n",
        "dets = detector(img[:, :, ::-1])\n",
        "parts = predictor (img, dets[0]).parts()\n",
        "\n",
        "#眼周囲の画像を切り抜き\n",
        "\"\"\"\n",
        "x0 = int(parts[17].x)\n",
        "x1 = int(parts[27].x) #両眼にするなら26で\n",
        "y0 = int((parts[17].y + parts[26].y)/2)\n",
        "y1 = int(parts[29].y)\n",
        "\"\"\"\n",
        "x0 = int(1.5*parts[37].x-0.5*parts[38].x)\n",
        "x1 = int(1.5*parts[38].x-0.5*parts[37].x)\n",
        "y0 = int(1.5*min(parts[37].y, parts[38].y)-0.5*max(parts[40].y, parts[41].y))\n",
        "y1 = int(1.5*min(parts[40].y, parts[41].y)-0.5*max(parts[37].y, parts[38].y))\n",
        "\n",
        "img3 = img2[y0 : y1, x0 : x1]\n",
        "img4 = img3.copy()\n",
        "img_copy0 = img3.copy()\n",
        "img_copy1 = img3.copy()\n",
        "img_copy2 = img3.copy()\n",
        "img_copy3 = img3.copy()\n",
        "img_copy4 = img3.copy()\n",
        "cv2_imshow(img3)\n",
        "\n",
        "#ガウシアンフィルター\n",
        "#dst = cv2.GaussianBlur(img3, ksize=(3, 3), sigmaX=1.3)\n",
        "\n",
        "#白黒化\n",
        "gray = cv2.cvtColor(img4, cv2.COLOR_BGR2GRAY)\n",
        "cv2_imshow(gray)\n"
      ],
      "execution_count": null,
      "outputs": []
    },
    {
      "cell_type": "code",
      "metadata": {
        "id": "tu3_IIH1oW9T"
      },
      "source": [
        "%matplotlib inline\n",
        "import numpy as np\n",
        "import matplotlib.pyplot as plt\n",
        "from skimage.transform import hough_circle, hough_circle_peaks, hough_ellipse\n",
        "from skimage.feature import canny\n",
        "from skimage.draw import circle_perimeter, ellipse_perimeter\n",
        "from skimage.color import rgb2gray\n",
        "from skimage import data, color, img_as_ubyte\n",
        "import matplotlib.patches as patches\n",
        "\n",
        "#OTSUの2値化\n",
        "ret, th = cv2.threshold(gray, 0, 255, cv2.THRESH_OTSU)\n",
        "cv2_imshow(th)\n",
        "\n",
        "#Canny法によるedge検出\n",
        "edges = canny(th)\n",
        "fig, ax = plt.subplots()\n",
        "ax.imshow(edges, cmap=plt.cm.gray)\n",
        "\n",
        "#ハフ変換による円検出\n",
        "min_radius = int(1/5 * (parts[39].x - parts[36].x))\n",
        "max_radius = int(2/3 * (parts[39].x - parts[36].x))\n",
        "#min_radius = int(2/3 * (parts[41].y - parts[37].y))\n",
        "#max_radius = int(2 * (parts[41].y - parts[37].y))\n",
        "\n",
        "hough_radii = np.arange(min_radius, max_radius, 1)\n",
        "hough_res = hough_circle(edges, hough_radii)\n",
        "hough_res.shape\n",
        "#(4, 400, 400)\n",
        "\n",
        "#誤差が少なく近似されている円の選出\n",
        "accums, cx, cy, radii = hough_circle_peaks(hough_res, hough_radii,\n",
        "                                           total_num_peaks=1)\n",
        "print(accums)\n",
        "print(cx)\n",
        "print(cy)\n",
        "print(radii)\n",
        "\n",
        "\n",
        "#結果の表示\n",
        "fig, ax = plt.subplots()\n",
        "\n",
        "# Draw the most prominent 1 circles\n",
        "image = color.gray2rgb(img3)\n",
        "for center_y, center_x, radius in zip(cy, cx, radii):\n",
        "    circy, circx = circle_perimeter(center_y, center_x, radius,\n",
        "                                    shape=image.shape)\n",
        "    image[circy, circx] = (220, 20, 20)\n",
        "\n",
        "ax.imshow(image, cmap=plt.cm.gray)\n",
        "plt.show()"
      ],
      "execution_count": null,
      "outputs": []
    }
  ]
}