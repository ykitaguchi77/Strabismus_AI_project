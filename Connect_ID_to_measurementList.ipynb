{
  "nbformat": 4,
  "nbformat_minor": 0,
  "metadata": {
    "colab": {
      "name": "Untitled60.ipynb",
      "provenance": [],
      "authorship_tag": "ABX9TyNJ+5L3H8k9iGNunon4cGAr",
      "include_colab_link": true
    },
    "kernelspec": {
      "name": "python3",
      "display_name": "Python 3"
    },
    "language_info": {
      "name": "python"
    }
  },
  "cells": [
    {
      "cell_type": "markdown",
      "metadata": {
        "id": "view-in-github",
        "colab_type": "text"
      },
      "source": [
        "<a href=\"https://colab.research.google.com/github/ykitaguchi77/Strabismus_AI_project/blob/main/Connect_ID_to_measurementList.ipynb\" target=\"_parent\"><img src=\"https://colab.research.google.com/assets/colab-badge.svg\" alt=\"Open In Colab\"/></a>"
      ]
    },
    {
      "cell_type": "code",
      "metadata": {
        "colab": {
          "base_uri": "https://localhost:8080/"
        },
        "id": "njoBk83xz4dq",
        "outputId": "54d1ca99-87a0-4203-e3b5-9cdb6549ccc7"
      },
      "source": [
        "import numpy as np\n",
        "import matplotlib.pyplot as plt\n",
        "import time\n",
        "import os\n",
        "import copy\n",
        "import pandas as pd\n",
        "import csv\n",
        "from random import randint\n",
        "from time import sleep\n",
        "import math\n",
        "\n",
        "import glob\n",
        "import random\n",
        "from PIL import Image\n",
        "from PIL import ImageFont\n",
        "from PIL import ImageDraw\n",
        "import cv2\n",
        "import codecs\n",
        "\n",
        "'''\n",
        "患者リストのうち、測定リストに含まれているものを抜き出すスクリプト\n",
        "'''\n",
        "\n",
        "from google.colab import drive\n",
        "drive.mount('/content/drive')\n",
        "\n",
        "\n",
        "#患者リスト\n",
        "patient_list = '/content/drive/MyDrive/Deep_learning/Facephoto_LIST/DiseaseInfo_all_connected_new3.csv'\n",
        "\n",
        "#測定リスト\n",
        "measurement_list = '/content/drive/MyDrive/進行中の研究/斜視AIプロジェクト/Disease_extracted_斜視.csv'\n",
        "\n",
        "\n",
        "with codecs.open(patient_list, \"r\", \"utf-8\", \"ignore\") as file:\n",
        "#with codecs.open(patient_list, \"r\", \"Shift-JIS\", \"ignore\") as file:\n",
        "    df_patient = pd.read_csv(file, index_col=None, header=0)\n",
        "    print(df_patient)\n",
        "\n",
        "with codecs.open(measurement_list, \"r\", \"utf-8\", \"ignore\") as file:\n",
        "    df_measurement = pd.read_csv(file, index_col=None, header=None)\n",
        "    print(df_measurement)"
      ],
      "execution_count": null,
      "outputs": [
        {
          "output_type": "stream",
          "text": [
            "Drive already mounted at /content/drive; to attempt to forcibly remount, call drive.mount(\"/content/drive\", force_remount=True).\n",
            "       1659051  ... Unnamed: 25\n",
            "0      7446269  ...         NaN\n",
            "1      7498807  ...         NaN\n",
            "2     10510656  ...         NaN\n",
            "3     10514400  ...         NaN\n",
            "4     10517615  ...         NaN\n",
            "...        ...  ...         ...\n",
            "9818  11613788  ...         NaN\n",
            "9819   9055165  ...         NaN\n",
            "9820  11452681  ...         NaN\n",
            "9821   6911048  ...         NaN\n",
            "9822  11587782  ...         NaN\n",
            "\n",
            "[9823 rows x 26 columns]\n",
            "          0   ...                                                 16\n",
            "0   11942046  ...  谷口先生御侍史\\r\\n\\r\\n平素より大変にお世話になっております。\\r\\n＃乳児内斜視\\r...\n",
            "1   11572051  ...  小児科　谷口先生御侍史\\r\\n\\r\\n平素より大変お世話になっております。\\r\\n\\r\\n紹...\n",
            "2   11603261  ...                                                NaN\n",
            "3   11623861  ...                                                NaN\n",
            "4   11458877  ...  お世話になっております。\\r\\n\\r\\n斜視、白内障、網膜血管閉塞は認めませんでした。\\r\\...\n",
            "..       ...  ...                                                ...\n",
            "68  11966261  ...  こちらこそ平素より大変お世話になっております。\\r\\n\\r\\n前眼部・眼底に特記所見は認めま...\n",
            "69  10674682  ...  小児科　桂先生　御侍史\\r\\n\\r\\n\\r\\n平素より大変お世話になっております。\\r\\n本...\n",
            "70  10674682  ...  小児科　桂先生　御侍史\\r\\n\\r\\n＃：内斜視\\r\\n\\r\\n平素より大変お世話になってお...\n",
            "71  11705554  ...  ＃正常眼底\\r\\n＃間欠性外斜視\\r\\n\\r\\n眼底は異常なく、屈折値も特に異常はありません...\n",
            "72  11990271  ...  小児科　田中先生\\r\\n\\r\\n現時点では眼への影響はありません。上下眼瞼および左結膜の出血...\n",
            "\n",
            "[73 rows x 17 columns]\n"
          ],
          "name": "stdout"
        }
      ]
    },
    {
      "cell_type": "code",
      "metadata": {
        "id": "7EQ6onU_0Rwa"
      },
      "source": [
        "\n",
        "measurement = df_measurement.iloc[:,0].values.tolist() #pandasをリストにする\n",
        "measurement = (list(dict.fromkeys(measurement))[1:]) #重複を削除\n",
        "\n",
        "patient = df_patient.iloc[:,0].values.tolist()\n",
        "\n",
        "print(patient)\n",
        "print(len(patient))\n",
        "print(measurement)\n",
        "print(len(measurement))\n",
        "\n",
        "#両リストに共通するものを、commonID_listに格納する\n",
        "commonID_list = []\n",
        "for i in patient:\n",
        "    if i in measurement:\n",
        "        commonID_list.append(i)\n",
        "print(commonID_list)\n",
        "print(len(commonID_list))\n",
        "print(commonID_list[0])\n",
        "\n",
        "#Patient_listから、commonID_listにIDが含まれているものを抜き出す\n",
        "row = df_patient[df_patient.iloc[:,0] == commonID_list[0]]\n",
        "k=0\n",
        "for i in commonID_list:\n",
        "    row = pd.concat([row, df_patient[df_patient.iloc[:,0] == commonID_list[k]]])\n",
        "    k+=1\n",
        "print(row)\n",
        "row2 = row.drop_duplicates() #重複を削除\n",
        "print(row2)\n",
        "#row3 = row2.iloc[:,0:4] #必要な項目のみ抜き出し\n",
        "#print(row3)\n",
        "\n",
        "#CSV形式で保存\n",
        "save_path = '/content/drive/MyDrive/進行中の研究/斜視AIプロジェクト/Disease_extracted_斜視_list.csv'\n",
        "row2.to_csv(save_path, encoding='utf_8_sig', index = False, header=False, sep=',')\n"
      ],
      "execution_count": null,
      "outputs": []
    },
    {
      "cell_type": "code",
      "metadata": {
        "id": "ISTlfDkJ25vM"
      },
      "source": [
        ""
      ],
      "execution_count": null,
      "outputs": []
    }
  ]
}