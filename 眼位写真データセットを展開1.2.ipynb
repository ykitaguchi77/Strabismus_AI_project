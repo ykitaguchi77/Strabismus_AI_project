{
  "nbformat": 4,
  "nbformat_minor": 0,
  "metadata": {
    "colab": {
      "name": "Untitled88.ipynb",
      "provenance": [],
      "include_colab_link": true
    },
    "kernelspec": {
      "name": "python3",
      "display_name": "Python 3"
    },
    "language_info": {
      "name": "python"
    }
  },
  "cells": [
    {
      "cell_type": "markdown",
      "metadata": {
        "id": "view-in-github",
        "colab_type": "text"
      },
      "source": [
        "<a href=\"https://colab.research.google.com/github/ykitaguchi77/Strabismus_AI_project/blob/main/%E7%9C%BC%E4%BD%8D%E5%86%99%E7%9C%9F%E3%83%87%E3%83%BC%E3%82%BF%E3%82%BB%E3%83%83%E3%83%88%E3%82%92%E5%B1%95%E9%96%8B1.2.ipynb\" target=\"_parent\"><img src=\"https://colab.research.google.com/assets/colab-badge.svg\" alt=\"Open In Colab\"/></a>"
      ]
    },
    {
      "cell_type": "markdown",
      "metadata": {
        "id": "ttOq-gRAIro2"
      },
      "source": [
        "#**眼位写真データセットを展開(Local)**\n",
        "\n"
      ]
    },
    {
      "cell_type": "code",
      "metadata": {
        "id": "PXGXXA5lIqnc"
      },
      "source": [
        "\"\"\"\n",
        "---8-----20120830121408_眼位_O-0_bc86ba014fead67f4426d32...\n",
        "      |--20130501145932_眼位_O-0_df50b65e32b4947f5b5de...\n",
        "      |...\n",
        "\n",
        " ↓↓↓\n",
        "\n",
        "「8-20120830-121408_眼位_O-0_bc86ba014fead67f4426d32...」\n",
        "「8-20130501-145932_眼位_O-0_df50b65e32b4947f5b5de...」\n",
        " ↓↓↓\n",
        " ※「眼位_０－0_」を削除\n",
        " 「8-20120830-121408_bc86ba014fead67f4426d32...」\n",
        "「8-20130501-145932_df50b65e32b4947f5b5de...」\n",
        "...\n",
        "\"\"\""
      ],
      "execution_count": null,
      "outputs": []
    },
    {
      "cell_type": "code",
      "metadata": {
        "id": "veW-7zKpJb2f"
      },
      "source": [
        "import codecs\n",
        "import pandas as pd\n",
        "\n",
        "\n",
        "orig1_path = r\"H:\\眼位写真2\\Files\"\n",
        "orig3_path = r\"H:\\眼位写真2\\Files_2\"\n",
        "orig2_path = r\"H:\\眼位写真1.1\"\n",
        "dst_path = r\"H:\\眼位写真NEW\"\n",
        "csv1_path = r\"H:\\DiseaseInfo_modified1.4_connected.csv\"\n",
        "csv2_path = r\"H:\\DiseaseInfo_all_connected_new3.csv\"\n",
        "csv3_path = r\"H:\\MediaInfo.csv\"\n",
        "\n",
        "with codecs.open(csv1_path, \"r\", \"utf-8\", \"ignore\") as file:\n",
        "#with codecs.open(patient_list, \"r\", \"Shift-JIS\", \"ignore\") as file:\n",
        "    df_csv1 = pd.read_csv(file, index_col=None, header=0)\n",
        "    print(df_csv1)\n",
        "\n",
        "with codecs.open(csv2_path, \"r\", \"utf-8\", \"ignore\") as file:\n",
        "#with codecs.open(patient_list, \"r\", \"Shift-JIS\", \"ignore\") as file:\n",
        "    df_csv2 = pd.read_csv(file, index_col=None, header=0)\n",
        "    print(df_csv2)\n",
        "\n",
        "with codecs.open(csv3_path, \"r\", \"utf-8\", \"ignore\") as file:\n",
        "#with codecs.open(patient_list, \"r\", \"Shift-JIS\", \"ignore\") as file:\n",
        "    df_csv3 = pd.read_csv(file, index_col=None, header=0)\n",
        "    print(df_csv3)"
      ],
      "execution_count": null,
      "outputs": []
    },
    {
      "cell_type": "markdown",
      "metadata": {
        "id": "pJ540vdedbBN"
      },
      "source": [
        "#**新画像ファイル**\n",
        "CSVファイルに撮影時の年齢あり"
      ]
    },
    {
      "cell_type": "code",
      "source": [
        "import os\n",
        "import shutil\n",
        "from datetime import datetime as dt\n",
        "import datetime\n",
        "\n",
        "folders = os.listdir(orig1_path)\n",
        "folder = folders[4]\n",
        "files = os.listdir(os.path.join(orig1_path, folder))\n",
        "file =files[0]\n",
        "print(file)\n",
        "\n",
        "df_age_captured = df_csv3[df_csv3.iloc[:,3] == file]\n",
        "age = df_age_captured.iloc[0,6]\n",
        "print(age)\n",
        "acq_date = file[0:8]\n",
        "print(acq_date)\n",
        "\n",
        "hashed = hashed = file[8:]\n",
        "print(hashed)\n",
        "\n",
        "hashed_final = hashed.split(\"_\")[0]+\"_\"+hashed.split(\"_\")[4]\n",
        "print(hashed_final)"
      ],
      "metadata": {
        "id": "wkMoylHTQ_ud"
      },
      "execution_count": null,
      "outputs": []
    },
    {
      "cell_type": "code",
      "metadata": {
        "id": "AKW9heSOka6c"
      },
      "source": [
        "import os\n",
        "import shutil\n",
        "from datetime import datetime as dt\n",
        "import datetime\n",
        "\n",
        "folders = os.listdir(orig1_path)\n",
        "\n",
        "for folder in folders:\n",
        "    if folder.isdigit():\n",
        "            print(folder)\n",
        "            files = os.listdir(os.path.join(orig1_path, folder))\n",
        "            #print(files)\n",
        "\n",
        "            for file in files:\n",
        "                #print(file)\n",
        "                df_age_captured = df_csv3[df_csv3.iloc[:,3] == file]\n",
        "                \n",
        "                if df_age_captured.empty:\n",
        "                    pass\n",
        "                else:\n",
        "                    age = df_age_captured.iloc[0,6]\n",
        "                    acq_date = file[0:8]\n",
        "                    hashed = file[8:]\n",
        "                    hashed_final = hashed.split(\"_\")[0]+\"_\"+hashed.split(\"_\")[4] \n",
        "                    newfilename = folder+\"-\"+acq_date+\"-\"+str(age)+\"-\"+hashed_final #フォルダ番号-日付-年齢-ハッシュ化番号\n",
        "                    shutil.copy(os.path.join(orig1_path, folder, file), os.path.join(dst_path, newfilename))\n",
        "                    print(newfilename)"
      ],
      "execution_count": null,
      "outputs": []
    },
    {
      "cell_type": "code",
      "source": [
        "import os\n",
        "import shutil\n",
        "from datetime import datetime as dt\n",
        "import datetime\n",
        "\n",
        "#Folders_3（新しい患者のフォルダ）についても同様に処理\n",
        "\n",
        "folders = os.listdir(orig3_path)\n",
        "folder = folders[4]\n",
        "files = os.listdir(os.path.join(orig3_path, folder))\n",
        "file =files[0]\n",
        "print(file)\n",
        "\n",
        "df_age_captured = df_csv3[df_csv3.iloc[:,3] == file]\n",
        "age = df_age_captured.iloc[0,6]\n",
        "print(age)\n",
        "acq_date = file[0:8]\n",
        "print(acq_date)\n",
        "\n",
        "hashed = hashed = file[8:]\n",
        "print(hashed)\n",
        "\n",
        "hashed_final = hashed.split(\"_\")[0]+\"_\"+hashed.split(\"_\")[4]\n",
        "print(hashed_final)\n",
        "\n",
        "\n",
        "\n",
        "folders = os.listdir(orig3_path)\n",
        "\n",
        "for folder in folders:\n",
        "    if folder.isdigit():\n",
        "            print(folder)\n",
        "            files = os.listdir(os.path.join(orig3_path, folder))\n",
        "            #print(files)\n",
        "\n",
        "            for file in files:\n",
        "                #print(file)\n",
        "                df_age_captured = df_csv3[df_csv3.iloc[:,3] == file]\n",
        "                \n",
        "                if df_age_captured.empty:\n",
        "                    pass\n",
        "                else:\n",
        "                    age = df_age_captured.iloc[0,6]\n",
        "                    acq_date = file[0:8]\n",
        "                    hashed = file[8:]\n",
        "                    hashed_final = hashed.split(\"_\")[0]+\"_\"+hashed.split(\"_\")[4] \n",
        "                    newfilename = folder+\"-\"+acq_date+\"-\"+str(age)+\"-\"+hashed_final #フォルダ番号-日付-年齢-ハッシュ化番号\n",
        "                    shutil.copy(os.path.join(orig1_path, folder, file), os.path.join(dst_path, newfilename))\n",
        "                    print(newfilename)"
      ],
      "metadata": {
        "id": "synPBiOS8DzD",
        "outputId": "41deddfe-9f8e-4fb5-9b41-5b7692d25373",
        "colab": {
          "base_uri": "https://localhost:8080/",
          "height": 1000
        }
      },
      "execution_count": 14,
      "outputs": [
        {
          "output_type": "stream",
          "name": "stdout",
          "text": [
            "8217-20200713-54-162522_f21f99736f1c5872e7971e9616eabb5334e0fc5db440f167b933790bb72e7709.jpg\n",
            "8218\n",
            "8218-20200812-17-130055_bae70570f29f4399297d2a7d524cd08b205be10f717fcfaeef83b41bf8ddd0c0.jpg\n",
            "8218-20200930-17-102043_8a8f1077fc3808e437abdf7b5126e5ace4c4b35dbfb091e73fcbc75b07da2505.jpg\n",
            "8219\n",
            "8219-20190909-69-101734_d4cdb36ddf337c312df92132cdf2ec8156512c9d7aa77e57d9022b2e9d4b2328.jpg\n",
            "8219-20191113-69-113127_4f9c1b804fdbb78a985d7dbcf3c7069d6e2b726fecf11b9ca14348efa23b45f3.jpg\n",
            "8219-20191113-69-113127_5c24a0473645bcc776b9e96f71794a834cbb01840fabc1fe0641a818309490e5.jpg\n",
            "8219-20191113-69-113127_ed8b44b1d4b79c1bd268cf639a99267f2dee021fa9565ae67ef9c468697da9f0.jpg\n",
            "8219-20191219-69-124151_4943ea0a00d9253b50679543ceffd7718ca88a0b337b72b42f7320e7a451a807.jpg\n",
            "8219-20200213-70-112417_5b2bc9aae0839ae7afc4a9868102834f58beff681c928e3bbe5f97e314ee9a6c.jpg\n",
            "8219-20200514-70-113912_88b1384da4dbecc4ddcdc53e7966c5e9a41ebff2ff5cd26440f846cbba1a588a.jpg\n",
            "8219-20200820-70-110143_41d4f0b666664e19a000239f86f5cc3f068bae5b70b4a159d20ab86ad26c858e.jpg\n",
            "8219-20201112-70-101220_a2e49958d55039f83d5afda8175b391734ade399d55a9de066c6c4a06bb5f370.jpg\n",
            "8219-20210204-70-095703_2981780e6236482b6cbd19fa3ae54b654b84701445b165bfd64a62b496575e07.jpg\n",
            "8219-20210506-71-090943_dc0f237414840fe918a07939b06b09af30ae88ae0129e8eff5764d9fb73023e3.jpg\n",
            "8220\n",
            "8220-20210324-72-141533_bb9f15b1e3303525cbf1939a3b9d34713230eadcd9c9d14b77878857eb4b8ca1.jpg\n",
            "8220-20210329-72-151757_c223313b075dac8ac8b39ede47ba943b629be3f82c0f4197093d37b16130714b.jpg\n",
            "8220-20210405-72-151900_bf55bce0d33339c5f37614e2e9cab1e66a4eaa4e5bedae5f1eb8b05623dfe8d6.jpg\n",
            "8220-20210428-72-131556_2daabe4a3f805bcc65e7e3d69cedbf42bc75b71a101cdb8f57f3b8c015cb1ef1.jpg\n",
            "8220-20210616-72-121406_c61578c1ff8675c8798267cb2bfd1fccd29cd713681fe89152f74277ed15e0dc.jpg\n",
            "8221\n",
            "8221-20210106-85-121832_3c8ab6829840f2beb28d143683818ae0aec0bde3b188a8145758f99bf3332e67.jpg\n",
            "8221-20210331-85-100116_2107d01366bff43dbb67c0b33480db62227e4eb8939b8cbba9dd07b0aafb328f.jpg\n",
            "8221-20210331-85-100116_a9cfa86a0c507151e899d62e9cf20e1cc96642e0a4fad63d92c2702f7ae0b089.jpg\n",
            "8221-20210428-85-114059_17c9ed63a019d22a77287cad49670609dc85e3ad8ae0f571bd7af450f07a9385.jpg\n",
            "8221-20210618-85-100857_6fd03a946461ff039434efdf73d8ecc41a76cad07d788c014c23b5c3fcc47334.jpg\n",
            "8222\n"
          ]
        },
        {
          "output_type": "error",
          "ename": "FileNotFoundError",
          "evalue": "ignored",
          "traceback": [
            "\u001b[1;31m---------------------------------------------------------------------------\u001b[0m",
            "\u001b[1;31mFileNotFoundError\u001b[0m                         Traceback (most recent call last)",
            "Input \u001b[1;32mIn [14]\u001b[0m, in \u001b[0;36m<module>\u001b[1;34m\u001b[0m\n\u001b[0;32m     46\u001b[0m hashed_final \u001b[38;5;241m=\u001b[39m hashed\u001b[38;5;241m.\u001b[39msplit(\u001b[38;5;124m\"\u001b[39m\u001b[38;5;124m_\u001b[39m\u001b[38;5;124m\"\u001b[39m)[\u001b[38;5;241m0\u001b[39m]\u001b[38;5;241m+\u001b[39m\u001b[38;5;124m\"\u001b[39m\u001b[38;5;124m_\u001b[39m\u001b[38;5;124m\"\u001b[39m\u001b[38;5;241m+\u001b[39mhashed\u001b[38;5;241m.\u001b[39msplit(\u001b[38;5;124m\"\u001b[39m\u001b[38;5;124m_\u001b[39m\u001b[38;5;124m\"\u001b[39m)[\u001b[38;5;241m4\u001b[39m] \n\u001b[0;32m     47\u001b[0m newfilename \u001b[38;5;241m=\u001b[39m folder\u001b[38;5;241m+\u001b[39m\u001b[38;5;124m\"\u001b[39m\u001b[38;5;124m-\u001b[39m\u001b[38;5;124m\"\u001b[39m\u001b[38;5;241m+\u001b[39macq_date\u001b[38;5;241m+\u001b[39m\u001b[38;5;124m\"\u001b[39m\u001b[38;5;124m-\u001b[39m\u001b[38;5;124m\"\u001b[39m\u001b[38;5;241m+\u001b[39m\u001b[38;5;28mstr\u001b[39m(age)\u001b[38;5;241m+\u001b[39m\u001b[38;5;124m\"\u001b[39m\u001b[38;5;124m-\u001b[39m\u001b[38;5;124m\"\u001b[39m\u001b[38;5;241m+\u001b[39mhashed_final \u001b[38;5;66;03m#フォルダ番号-日付-年齢-ハッシュ化番号\u001b[39;00m\n\u001b[1;32m---> 48\u001b[0m \u001b[43mshutil\u001b[49m\u001b[38;5;241;43m.\u001b[39;49m\u001b[43mcopy\u001b[49m\u001b[43m(\u001b[49m\u001b[43mos\u001b[49m\u001b[38;5;241;43m.\u001b[39;49m\u001b[43mpath\u001b[49m\u001b[38;5;241;43m.\u001b[39;49m\u001b[43mjoin\u001b[49m\u001b[43m(\u001b[49m\u001b[43morig1_path\u001b[49m\u001b[43m,\u001b[49m\u001b[43m \u001b[49m\u001b[43mfolder\u001b[49m\u001b[43m,\u001b[49m\u001b[43m \u001b[49m\u001b[43mfile\u001b[49m\u001b[43m)\u001b[49m\u001b[43m,\u001b[49m\u001b[43m \u001b[49m\u001b[43mos\u001b[49m\u001b[38;5;241;43m.\u001b[39;49m\u001b[43mpath\u001b[49m\u001b[38;5;241;43m.\u001b[39;49m\u001b[43mjoin\u001b[49m\u001b[43m(\u001b[49m\u001b[43mdst_path\u001b[49m\u001b[43m,\u001b[49m\u001b[43m \u001b[49m\u001b[43mnewfilename\u001b[49m\u001b[43m)\u001b[49m\u001b[43m)\u001b[49m\n\u001b[0;32m     49\u001b[0m \u001b[38;5;28mprint\u001b[39m(newfilename)\n",
            "File \u001b[1;32mc:\\users\\ykita\\appdata\\local\\programs\\python\\python38\\lib\\shutil.py:415\u001b[0m, in \u001b[0;36mcopy\u001b[1;34m(src, dst, follow_symlinks)\u001b[0m\n\u001b[0;32m    413\u001b[0m \u001b[38;5;28;01mif\u001b[39;00m os\u001b[38;5;241m.\u001b[39mpath\u001b[38;5;241m.\u001b[39misdir(dst):\n\u001b[0;32m    414\u001b[0m     dst \u001b[38;5;241m=\u001b[39m os\u001b[38;5;241m.\u001b[39mpath\u001b[38;5;241m.\u001b[39mjoin(dst, os\u001b[38;5;241m.\u001b[39mpath\u001b[38;5;241m.\u001b[39mbasename(src))\n\u001b[1;32m--> 415\u001b[0m \u001b[43mcopyfile\u001b[49m\u001b[43m(\u001b[49m\u001b[43msrc\u001b[49m\u001b[43m,\u001b[49m\u001b[43m \u001b[49m\u001b[43mdst\u001b[49m\u001b[43m,\u001b[49m\u001b[43m \u001b[49m\u001b[43mfollow_symlinks\u001b[49m\u001b[38;5;241;43m=\u001b[39;49m\u001b[43mfollow_symlinks\u001b[49m\u001b[43m)\u001b[49m\n\u001b[0;32m    416\u001b[0m copymode(src, dst, follow_symlinks\u001b[38;5;241m=\u001b[39mfollow_symlinks)\n\u001b[0;32m    417\u001b[0m \u001b[38;5;28;01mreturn\u001b[39;00m dst\n",
            "File \u001b[1;32mc:\\users\\ykita\\appdata\\local\\programs\\python\\python38\\lib\\shutil.py:261\u001b[0m, in \u001b[0;36mcopyfile\u001b[1;34m(src, dst, follow_symlinks)\u001b[0m\n\u001b[0;32m    259\u001b[0m     os\u001b[38;5;241m.\u001b[39msymlink(os\u001b[38;5;241m.\u001b[39mreadlink(src), dst)\n\u001b[0;32m    260\u001b[0m \u001b[38;5;28;01melse\u001b[39;00m:\n\u001b[1;32m--> 261\u001b[0m     \u001b[38;5;28;01mwith\u001b[39;00m \u001b[38;5;28;43mopen\u001b[39;49m\u001b[43m(\u001b[49m\u001b[43msrc\u001b[49m\u001b[43m,\u001b[49m\u001b[43m \u001b[49m\u001b[38;5;124;43m'\u001b[39;49m\u001b[38;5;124;43mrb\u001b[39;49m\u001b[38;5;124;43m'\u001b[39;49m\u001b[43m)\u001b[49m \u001b[38;5;28;01mas\u001b[39;00m fsrc, \u001b[38;5;28mopen\u001b[39m(dst, \u001b[38;5;124m'\u001b[39m\u001b[38;5;124mwb\u001b[39m\u001b[38;5;124m'\u001b[39m) \u001b[38;5;28;01mas\u001b[39;00m fdst:\n\u001b[0;32m    262\u001b[0m         \u001b[38;5;66;03m# macOS\u001b[39;00m\n\u001b[0;32m    263\u001b[0m         \u001b[38;5;28;01mif\u001b[39;00m _HAS_FCOPYFILE:\n\u001b[0;32m    264\u001b[0m             \u001b[38;5;28;01mtry\u001b[39;00m:\n",
            "\u001b[1;31mFileNotFoundError\u001b[0m: [Errno 2] No such file or directory: 'H:\\\\眼位写真2\\\\Files\\\\8222\\\\20200428130448_眼位_O_0_6da613b35c43d3bbd2067d012c0d7aadd0f18c59effe5e1151d90b2657dd0ead.jpg'"
          ]
        }
      ]
    },
    {
      "cell_type": "markdown",
      "metadata": {
        "id": "AwGP32CYR8pG"
      },
      "source": [
        "#**旧画像ファイル**\n",
        "CSVファイルに撮影日時あり"
      ]
    },
    {
      "cell_type": "code",
      "metadata": {
        "id": "eK0_Bh6CNuSk"
      },
      "source": [
        "import os\n",
        "import shutil\n",
        "from datetime import datetime as dt\n",
        "import datetime\n",
        "\n",
        "folders = os.listdir(orig2_path)\n",
        "\n",
        "#新しいファイルを先にチェックしておき重複するものはコピーしないようにする（新ファイルの方が年齢が正確なため）\n",
        "newfiles = os.listdir(dst_path)\n",
        "num_acqdate_list = []\n",
        "for path in newfiles:\n",
        "    num, acqdate = path.split(\"-\",2)[0:2]\n",
        "    num_acqdate_list.append(str(num)+\"-\"+str(acqdate))\n",
        "print(num_acqdate_list)\n",
        "\n",
        "for folder in folders:\n",
        "    print(folder)\n",
        "    files = os.listdir(os.path.join(orig2_path, folder))\n",
        "    print(files)\n",
        "\n",
        "    for file in files:\n",
        "        init_date = df_csv1[df_csv1.iloc[:,2] == int(folder)].iloc[0,3]\n",
        "        file_age = df_csv1[df_csv1.iloc[:,2] == int(folder)].iloc[0,4]\n",
        "        init_date = init_date.split()[0]\n",
        "        init_date_dt = dt.strptime(init_date, '%Y/%m/%d')\n",
        "        #print(init_date)\n",
        "\n",
        "        acq_date = file[0:8]\n",
        "        hashed = file[8:] \n",
        "\n",
        "        try:\n",
        "            hashed_final = hashed.split(\"_\")[0]+\"_\"+hashed.split(\"_\")[4]  #out of rangeになるエラーを回避\n",
        "\n",
        "            try:\n",
        "                acq_date_dt = dt.strptime(acq_date, '%Y%m%d')\n",
        "                #print(acq_date)\n",
        "            except:\n",
        "                continue\n",
        "\n",
        "            acq_init_days = (acq_date_dt - init_date_dt).days\n",
        "\n",
        "            if acq_init_days >= 0:\n",
        "                acq_init_yrs = acq_init_days//365\n",
        "            else:\n",
        "                acq_init_yrs = 0\n",
        "\n",
        "            #print(acq_init_yrs)        \n",
        "            \n",
        "            age = int(file_age + acq_init_yrs)\n",
        "            #print(age)\n",
        "\n",
        "            #すでに新ファイルからconvertされている場合には、ファイルを移動しない\n",
        "            num_acqdate = folder+\"-\"+acq_date\n",
        "            if num_acqdate in num_acqdate_list:\n",
        "                print(\"file already converted\")\n",
        "                pass\n",
        "            else:\n",
        "                newfilename = folder+\"-\"+acq_date+\"-\"+str(age)+\"-\"+hashed_final #フォルダ番号-日付-年齢-ハッシュ化番号\n",
        "                shutil.copy(os.path.join(orig2_path, folder, file), os.path.join(dst_path, newfilename))\n",
        "                print(newfilename)\n",
        "\n",
        "        except:\n",
        "            pass\n",
        "\n"
      ],
      "execution_count": null,
      "outputs": []
    },
    {
      "cell_type": "markdown",
      "source": [
        "#**すでに展開されている画像のリネーム**"
      ],
      "metadata": {
        "id": "T0MilEPFUP5f"
      }
    },
    {
      "cell_type": "code",
      "metadata": {
        "id": "gIVNSih6dZ_H"
      },
      "source": [
        "\"\"\"\n",
        "\n",
        "「8-20120830-121408_眼位_O-0_bc86ba014fead67f4426d32...」\n",
        "「8-20130501-145932_眼位_O-0_df50b65e32b4947f5b5de...」\n",
        " ↓↓↓\n",
        " ※「眼位_０－0_」を削除\n",
        "「8-20120830-121408_bc86ba014fead67f4426d32...」\n",
        "「8-20130501-145932_df50b65e32b4947f5b5de...」\n",
        "...\n",
        "\"\"\""
      ],
      "execution_count": null,
      "outputs": []
    },
    {
      "cell_type": "code",
      "metadata": {
        "id": "w0hQeRzySN3Z"
      },
      "source": [
        "import os\n",
        "import shutil\n",
        "from datetime import datetime as dt\n",
        "import datetime\n",
        "\n",
        "folder_path = r\"F:\\眼位写真NEW\"\n",
        "\n",
        "files = os.listdir(folder_path)\n",
        "\n",
        "for filename in files:\n",
        "    print(filename)\n",
        "    orig_filepath = os.path.join(folder_path, filename)\n",
        "    \n",
        "    dst_filename = filename.split(\"_\")[0]+ \"_\" +filename.split(\"_\")[4]\n",
        "    dst_filepath = os.path.join(folder_path, dst_filename)\n",
        "    #print(dst_filepath)\n",
        "\n",
        "    os.rename(orig_filepath, dst_filepath)"
      ],
      "execution_count": null,
      "outputs": []
    }
  ]
}