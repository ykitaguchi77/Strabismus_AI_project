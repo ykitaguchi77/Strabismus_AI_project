{
  "nbformat": 4,
  "nbformat_minor": 0,
  "metadata": {
    "colab": {
      "name": "Untitled88.ipynb",
      "provenance": [],
      "include_colab_link": true
    },
    "kernelspec": {
      "name": "python3",
      "display_name": "Python 3"
    },
    "language_info": {
      "name": "python"
    }
  },
  "cells": [
    {
      "cell_type": "markdown",
      "metadata": {
        "id": "view-in-github",
        "colab_type": "text"
      },
      "source": [
        "<a href=\"https://colab.research.google.com/github/ykitaguchi77/Strabismus_AI_project/blob/main/%E7%9C%BC%E4%BD%8D%E5%86%99%E7%9C%9F%E3%83%87%E3%83%BC%E3%82%BF%E3%82%BB%E3%83%83%E3%83%88%E3%82%92%E5%B1%95%E9%96%8B1.2.ipynb\" target=\"_parent\"><img src=\"https://colab.research.google.com/assets/colab-badge.svg\" alt=\"Open In Colab\"/></a>"
      ]
    },
    {
      "cell_type": "markdown",
      "metadata": {
        "id": "ttOq-gRAIro2"
      },
      "source": [
        "#**眼位写真データセットを展開(Local)**\n",
        "\n"
      ]
    },
    {
      "cell_type": "code",
      "metadata": {
        "id": "PXGXXA5lIqnc"
      },
      "source": [
        "\"\"\"\n",
        "---8-----20120830121408_眼位_O-0_bc86ba014fead67f4426d32...\n",
        "      |--20130501145932_眼位_O-0_df50b65e32b4947f5b5de...\n",
        "      |...\n",
        "\n",
        " ↓↓↓\n",
        "\n",
        "「8-20120830-121408_眼位_O-0_bc86ba014fead67f4426d32...」\n",
        "「8-20130501-145932_眼位_O-0_df50b65e32b4947f5b5de...」\n",
        " ↓↓↓\n",
        " ※「眼位_０－0_」を削除\n",
        " 「8-20120830-121408_bc86ba014fead67f4426d32...」\n",
        "「8-20130501-145932_df50b65e32b4947f5b5de...」\n",
        "...\n",
        "\"\"\""
      ],
      "execution_count": null,
      "outputs": []
    },
    {
      "cell_type": "code",
      "metadata": {
        "id": "veW-7zKpJb2f"
      },
      "source": [
        "import codecs\n",
        "import pandas as pd\n",
        "\n",
        "\n",
        "orig1_path = r\"H:\\眼位写真2\\Files\"\n",
        "orig3_path = r\"H:\\眼位写真2\\Files_2\"\n",
        "orig2_path = r\"H:\\眼位写真1.1\"\n",
        "dst_path = r\"H:\\眼位写真NEW\"\n",
        "csv1_path = r\"H:\\DiseaseInfo_modified1.4_connected.csv\"\n",
        "csv2_path = r\"H:\\DiseaseInfo_all_connected_new3.csv\"\n",
        "csv3_path = r\"H:\\MediaInfo.csv\"\n",
        "\n",
        "with codecs.open(csv1_path, \"r\", \"utf-8\", \"ignore\") as file:\n",
        "#with codecs.open(patient_list, \"r\", \"Shift-JIS\", \"ignore\") as file:\n",
        "    df_csv1 = pd.read_csv(file, index_col=None, header=0)\n",
        "    print(df_csv1)\n",
        "\n",
        "with codecs.open(csv2_path, \"r\", \"utf-8\", \"ignore\") as file:\n",
        "#with codecs.open(patient_list, \"r\", \"Shift-JIS\", \"ignore\") as file:\n",
        "    df_csv2 = pd.read_csv(file, index_col=None, header=0)\n",
        "    print(df_csv2)\n",
        "\n",
        "with codecs.open(csv3_path, \"r\", \"utf-8\", \"ignore\") as file:\n",
        "#with codecs.open(patient_list, \"r\", \"Shift-JIS\", \"ignore\") as file:\n",
        "    df_csv3 = pd.read_csv(file, index_col=None, header=0)\n",
        "    print(df_csv3)"
      ],
      "execution_count": null,
      "outputs": []
    },
    {
      "cell_type": "markdown",
      "metadata": {
        "id": "pJ540vdedbBN"
      },
      "source": [
        "#**新画像ファイル**\n",
        "CSVファイルに撮影時の年齢あり"
      ]
    },
    {
      "cell_type": "code",
      "source": [
        "import os\n",
        "import shutil\n",
        "from datetime import datetime as dt\n",
        "import datetime\n",
        "\n",
        "folders = os.listdir(orig1_path)\n",
        "folder = folders[4]\n",
        "files = os.listdir(os.path.join(orig1_path, folder))\n",
        "file =files[0]\n",
        "print(file)\n",
        "\n",
        "df_age_captured = df_csv3[df_csv3.iloc[:,3] == file]\n",
        "age = df_age_captured.iloc[0,6]\n",
        "print(age)\n",
        "acq_date = file[0:8]\n",
        "print(acq_date)\n",
        "\n",
        "hashed = hashed = file[8:]\n",
        "print(hashed)\n",
        "\n",
        "hashed_final = hashed.split(\"_\")[0]+\"_\"+hashed.split(\"_\")[4]\n",
        "print(hashed_final)"
      ],
      "metadata": {
        "id": "wkMoylHTQ_ud"
      },
      "execution_count": null,
      "outputs": []
    },
    {
      "cell_type": "code",
      "metadata": {
        "id": "AKW9heSOka6c"
      },
      "source": [
        "import os\n",
        "import shutil\n",
        "from datetime import datetime as dt\n",
        "import datetime\n",
        "\n",
        "folders = os.listdir(orig1_path)\n",
        "\n",
        "for folder in folders:\n",
        "    if folder.isdigit():\n",
        "            print(folder)\n",
        "            files = os.listdir(os.path.join(orig1_path, folder))\n",
        "            #print(files)\n",
        "\n",
        "            for file in files:\n",
        "                #print(file)\n",
        "                df_age_captured = df_csv3[df_csv3.iloc[:,3] == file]\n",
        "                \n",
        "                if df_age_captured.empty:\n",
        "                    pass\n",
        "                else:\n",
        "                    age = df_age_captured.iloc[0,6]\n",
        "                    acq_date = file[0:8]\n",
        "                    hashed = file[8:]\n",
        "                    hashed_final = hashed.split(\"_\")[0]+\"_\"+hashed.split(\"_\")[4] \n",
        "                    newfilename = folder+\"-\"+acq_date+\"-\"+str(age)+\"-\"+hashed_final #フォルダ番号-日付-年齢-ハッシュ化番号\n",
        "                    shutil.copy(os.path.join(orig1_path, folder, file), os.path.join(dst_path, newfilename))\n",
        "                    print(newfilename)"
      ],
      "execution_count": null,
      "outputs": []
    },
    {
      "cell_type": "code",
      "source": [
        "import os\n",
        "import shutil\n",
        "from datetime import datetime as dt\n",
        "import datetime\n",
        "\n",
        "#Folders_3（新しい患者のフォルダ）についても同様に処理\n",
        "\n",
        "folders = os.listdir(orig3_path)\n",
        "folder = folders[4]\n",
        "files = os.listdir(os.path.join(orig3_path, folder))\n",
        "file =files[0]\n",
        "print(file)\n",
        "\n",
        "df_age_captured = df_csv3[df_csv3.iloc[:,3] == file]\n",
        "age = df_age_captured.iloc[0,6]\n",
        "print(age)\n",
        "acq_date = file[0:8]\n",
        "print(acq_date)\n",
        "\n",
        "hashed = hashed = file[8:]\n",
        "print(hashed)\n",
        "\n",
        "hashed_final = hashed.split(\"_\")[0]+\"_\"+hashed.split(\"_\")[4]\n",
        "print(hashed_final)\n",
        "\n",
        "\n",
        "\n",
        "folders = os.listdir(orig3_path)\n",
        "\n",
        "for folder in folders:\n",
        "    if folder.isdigit():\n",
        "            print(folder)\n",
        "            files = os.listdir(os.path.join(orig3_path, folder))\n",
        "            #print(files)\n",
        "\n",
        "            for file in files:\n",
        "                #print(file)\n",
        "                df_age_captured = df_csv3[df_csv3.iloc[:,3] == file]\n",
        "                \n",
        "                if df_age_captured.empty:\n",
        "                    pass\n",
        "                else:\n",
        "                    age = df_age_captured.iloc[0,6]\n",
        "                    acq_date = file[0:8]\n",
        "                    hashed = file[8:]\n",
        "                    hashed_final = hashed.split(\"_\")[0]+\"_\"+hashed.split(\"_\")[4] \n",
        "                    newfilename = folder+\"-\"+acq_date+\"-\"+str(age)+\"-\"+hashed_final #フォルダ番号-日付-年齢-ハッシュ化番号\n",
        "                    shutil.copy(os.path.join(orig3_path, folder, file), os.path.join(dst_path, newfilename))\n",
        "                    print(newfilename)"
      ],
      "metadata": {
        "id": "synPBiOS8DzD"
      },
      "execution_count": null,
      "outputs": []
    },
    {
      "cell_type": "markdown",
      "metadata": {
        "id": "AwGP32CYR8pG"
      },
      "source": [
        "#**旧画像ファイル**\n",
        "CSVファイルに撮影日時あり"
      ]
    },
    {
      "cell_type": "code",
      "metadata": {
        "id": "eK0_Bh6CNuSk"
      },
      "source": [
        "import os\n",
        "import shutil\n",
        "from datetime import datetime as dt\n",
        "import datetime\n",
        "\n",
        "folders = os.listdir(orig2_path)\n",
        "\n",
        "#新しいファイルを先にチェックしておき重複するものはコピーしないようにする（新ファイルの方が年齢が正確なため）\n",
        "newfiles = os.listdir(dst_path)\n",
        "num_acqdate_list = []\n",
        "for path in newfiles:\n",
        "    num, acqdate = path.split(\"-\",2)[0:2]\n",
        "    num_acqdate_list.append(str(num)+\"-\"+str(acqdate))\n",
        "print(num_acqdate_list)\n",
        "\n",
        "for folder in folders:\n",
        "    print(folder)\n",
        "    files = os.listdir(os.path.join(orig2_path, folder))\n",
        "    print(files)\n",
        "\n",
        "    for file in files:\n",
        "        init_date = df_csv1[df_csv1.iloc[:,2] == int(folder)].iloc[0,3]\n",
        "        file_age = df_csv1[df_csv1.iloc[:,2] == int(folder)].iloc[0,4]\n",
        "        init_date = init_date.split()[0]\n",
        "        init_date_dt = dt.strptime(init_date, '%Y/%m/%d')\n",
        "        #print(init_date)\n",
        "\n",
        "        acq_date = file[0:8]\n",
        "        hashed = file[8:] \n",
        "\n",
        "        try:\n",
        "            hashed_final = hashed.split(\"_\")[0]+\"_\"+hashed.split(\"_\")[4]  #out of rangeになるエラーを回避\n",
        "\n",
        "            try:\n",
        "                acq_date_dt = dt.strptime(acq_date, '%Y%m%d')\n",
        "                #print(acq_date)\n",
        "            except:\n",
        "                continue\n",
        "\n",
        "            acq_init_days = (acq_date_dt - init_date_dt).days\n",
        "\n",
        "            if acq_init_days >= 0:\n",
        "                acq_init_yrs = acq_init_days//365\n",
        "            else:\n",
        "                acq_init_yrs = 0\n",
        "\n",
        "            #print(acq_init_yrs)        \n",
        "            \n",
        "            age = int(file_age + acq_init_yrs)\n",
        "            #print(age)\n",
        "\n",
        "            #すでに新ファイルからconvertされている場合には、ファイルを移動しない\n",
        "            num_acqdate = folder+\"-\"+acq_date\n",
        "            if num_acqdate in num_acqdate_list:\n",
        "                print(\"file already converted\")\n",
        "                pass\n",
        "            else:\n",
        "                newfilename = folder+\"-\"+acq_date+\"-\"+str(age)+\"-\"+hashed_final #フォルダ番号-日付-年齢-ハッシュ化番号\n",
        "                shutil.copy(os.path.join(orig2_path, folder, file), os.path.join(dst_path, newfilename))\n",
        "                print(newfilename)\n",
        "\n",
        "        except:\n",
        "            pass\n",
        "\n"
      ],
      "execution_count": null,
      "outputs": []
    },
    {
      "cell_type": "markdown",
      "source": [
        "#**すでに展開されている画像のリネーム**"
      ],
      "metadata": {
        "id": "T0MilEPFUP5f"
      }
    },
    {
      "cell_type": "code",
      "metadata": {
        "id": "gIVNSih6dZ_H"
      },
      "source": [
        "\"\"\"\n",
        "\n",
        "「8-20120830-121408_眼位_O-0_bc86ba014fead67f4426d32...」\n",
        "「8-20130501-145932_眼位_O-0_df50b65e32b4947f5b5de...」\n",
        " ↓↓↓\n",
        " ※「眼位_０－0_」を削除\n",
        "「8-20120830-121408_bc86ba014fead67f4426d32...」\n",
        "「8-20130501-145932_df50b65e32b4947f5b5de...」\n",
        "...\n",
        "\"\"\""
      ],
      "execution_count": null,
      "outputs": []
    },
    {
      "cell_type": "code",
      "metadata": {
        "id": "w0hQeRzySN3Z"
      },
      "source": [
        "import os\n",
        "import shutil\n",
        "from datetime import datetime as dt\n",
        "import datetime\n",
        "\n",
        "folder_path = r\"F:\\眼位写真NEW\"\n",
        "\n",
        "files = os.listdir(folder_path)\n",
        "\n",
        "for filename in files:\n",
        "    print(filename)\n",
        "    orig_filepath = os.path.join(folder_path, filename)\n",
        "    \n",
        "    dst_filename = filename.split(\"_\")[0]+ \"_\" +filename.split(\"_\")[4]\n",
        "    dst_filepath = os.path.join(folder_path, dst_filename)\n",
        "    #print(dst_filepath)\n",
        "\n",
        "    os.rename(orig_filepath, dst_filepath)"
      ],
      "execution_count": null,
      "outputs": []
    }
  ]
}