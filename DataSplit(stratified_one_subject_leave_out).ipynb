{
  "nbformat": 4,
  "nbformat_minor": 0,
  "metadata": {
    "colab": {
      "name": "Untitled90.ipynb",
      "provenance": [],
      "authorship_tag": "ABX9TyOEU+tdt3FnuuhFyHUDizwh",
      "include_colab_link": true
    },
    "kernelspec": {
      "name": "python3",
      "display_name": "Python 3"
    },
    "language_info": {
      "name": "python"
    }
  },
  "cells": [
    {
      "cell_type": "markdown",
      "metadata": {
        "id": "view-in-github",
        "colab_type": "text"
      },
      "source": [
        "<a href=\"https://colab.research.google.com/github/ykitaguchi77/Strabismus_AI_project/blob/main/DataSplit(stratified_one_subject_leave_out).ipynb\" target=\"_parent\"><img src=\"https://colab.research.google.com/assets/colab-badge.svg\" alt=\"Open In Colab\"/></a>"
      ]
    },
    {
      "cell_type": "markdown",
      "source": [
        "#**Data_split for one-subject-leave-out stratified 5-fold crossvalidation**"
      ],
      "metadata": {
        "id": "Dxlpd0AbAWf7"
      }
    },
    {
      "cell_type": "code",
      "source": [
        "\"\"\"\n",
        "Leave one subject out cross validation + 5-fold stratified cross validation\n",
        "\n",
        "・1症例を抜き出し、その症例のすべての画像をテスト画像とする\n",
        "・残りの症例の内斜視、外斜視、斜視なし群を、同じ症例が群をまたがないように5分割する。\n",
        "・5分割したデータセットのうち4つをtraining、1つをvalidationとして用いてトレーニングを行い、抜き出した1症例のそれぞれの画像のおける正解率を算出する。これを5回繰り返してcross validationとする。\n",
        "\n",
        "\"\"\""
      ],
      "metadata": {
        "id": "TkRaZnYjAjZ1"
      },
      "execution_count": null,
      "outputs": []
    },
    {
      "cell_type": "code",
      "execution_count": 2,
      "metadata": {
        "id": "nPSM5f-yyQfC"
      },
      "outputs": [],
      "source": [
        "import codecs\n",
        "import pandas as pd\n",
        "import os\n",
        "import numpy as np\n",
        "import shutil\n",
        "from sklearn.model_selection import LeaveOneGroupOut\n",
        "from sklearn.model_selection import StratifiedGroupKFold\n",
        "import pandas as pd\n",
        "pd.set_option('display.max_rows', 500)\n",
        "\n",
        "gla_ortho_path = r\"F:\\先天性緑内障\\data_list\\Disease_ortho.csv\"\n",
        "gla_eso_path = r\"F:\\先天性緑内障\\data_list\\Disease_ET.csv\"\n",
        "gla_exo_path = r\"F:\\先天性緑内障\\data_list\\Disease_XT.csv\"\n",
        "cont_ortho_path = r\"F:\\先天性緑内障\\data_list\\Disease_ortho.csv\"\n",
        "cont_eso_path = r\"F:\\先天性緑内障\\data_list\\Control_ET.csv\"\n",
        "cont_exo_path = r\"F:\\先天性緑内障\\data_list\\Control_XT.csv\"\n",
        "dst_path = r\"F:\\先天性緑内障\\OneGroupLeaveOut\"\n",
        "\n",
        "def opencsv(path, classname):\n",
        "    #with codecs.open(path, \"r\", \"utf-8\", \"ignore\") as file:\n",
        "    with codecs.open(path, \"r\", \"Shift-JIS\", \"ignore\") as file:\n",
        "        df = pd.read_csv(file, index_col=None, header=None)\n",
        "        df.insert(0, 'ID', '')\n",
        "        df.insert(0, 'classes', '')\n",
        "        for row in range(len(df)):\n",
        "            df.iloc[row,0] = classname #class\n",
        "            df.iloc[row,1] = os.path.basename(df.iloc[row,2]).split(\"_\")[0] #ID\n",
        "    return df\n",
        "\n",
        "\n",
        "#症例のリストをpandasで開く\n",
        "df_gla_ortho = opencsv(gla_ortho_path, \"gla_ortho\") \n",
        "df_gla_eso = opencsv(gla_eso_path, \"gla_eso\")\n",
        "df_gla_exo = opencsv(gla_exo_path, \"gla_exo\")\n",
        "df_cont_ortho = opencsv(cont_ortho_path, \"cont_ortho\")\n",
        "df_cont_eso = opencsv(cont_eso_path, \"gla_eso\")\n",
        "df_cont_exo = opencsv(cont_exo_path, \"gla_exo\")\n",
        "\n",
        "df_gla_all = pd.concat([df_gla_ortho, df_gla_eso, df_gla_exo], axis=0)\n",
        "df_cont_all = pd.concat([df_cont_ortho, df_cont_eso, df_cont_exo], axis=0)\n",
        "df_all = pd.concat([df_cont_ortho, df_cont_eso, df_cont_exo], axis=0)\n",
        "\n",
        "#df_all.to_csv(r\"F:\\先天性緑内障\\data_list\\df_all.csv\", encoding='utf-8-sig', index=0, header=None)"
      ]
    },
    {
      "cell_type": "code",
      "source": [
        "#それぞれの項目（path, classes, ID）をリスト化\n",
        "gla_dataset_path = df_gla_all.iloc[:,2].transpose().values\n",
        "gla_classes = df_gla_all.iloc[:,0].transpose().values\n",
        "gla_id = df_gla_all.iloc[:,1].transpose().values\n",
        "cont_dataset_path = df_cont_all.iloc[:,2].transpose().values\n",
        "cont_classes = df_cont_all.iloc[:,0].transpose().values\n",
        "cont_id = df_cont_all.iloc[:,1].transpose().values\n",
        "\n",
        "#print(len(gla_dataset_path))\n",
        "\n",
        "\"\"\"\n",
        "#保存先フォルダを作成\n",
        "if os.path.exists(dst_path):\n",
        "    shutil.rmtree(dst_path)\n",
        "os.makedirs(dst_path)\n",
        "\"\"\"\n",
        "\n",
        "#まずデータセットから1人分を抜き出す（LeaveOneGroupOut)\n",
        "logo = LeaveOneGroupOut()\n",
        "logo.get_n_splits(gla_dataset_path, gla_classes, gla_id)\n",
        "logo.get_n_splits(groups=gla_id)  # 'groups' is always required\n",
        "\n",
        "for remain_index, test_index in logo.split(gla_dataset_path, gla_classes, gla_id):\n",
        "    #print(\"TRAIN:\", train_index, \"TEST:\", test_index)\n",
        "    gla_dataset_path_remain, gla_dataset_path_test = gla_dataset_path[remain_index], gla_dataset_path[test_index]\n",
        "    gla_classes_remain, gla_classes_test = gla_classes[remain_index], gla_classes[test_index]\n",
        "    gla_id_remain, gla_id_test = gla_id[remain_index], gla_id[test_index]\n",
        "    #print(gla_dataset_path, gla_dataset_path_test, gla_id_train, gla_id_test)\n",
        "    print(gla_id_test)\n",
        "    #print(gla_id_train)\n",
        "\n",
        "    #抜き出したデータのIDでフォルダを作成\n",
        "    os.makedirs(os.path.join(dst_path, gla_id_test[0]), exist_ok=True)\n",
        "    os.chdir(os.path.join(dst_path, gla_id_test[0]))\n",
        "    for i in range(5):\n",
        "        for j in [\"train\", \"val\"]:\n",
        "            for k in [\"gla\", \"cont\"]:\n",
        "                os.makedirs(os.path.join(str(i), j, k), exist_ok=True)\n",
        "    os.makedirs(\"test\", exist_ok=True) #判定のための画像\n",
        "    \n",
        "    #testフォルダにコピー\n",
        "    for file in gla_dataset_path_test:\n",
        "        #print(file)\n",
        "        shutil.copyfile(file, \"./test/\"+ os.path.basename(file))\n",
        "    \n",
        "\n",
        "    #抜き出した残りのデータセットについてStratified group 5-foldをかける\n",
        "    cv = StratifiedGroupKFold(n_splits=5)\n",
        "\n",
        "    m=0\n",
        "    for train_idxs, val_idxs in cv.split(gla_dataset_path_train, gla_classes_train, gla_id_train):\n",
        "        \"\"\"\n",
        "        print(\"TRAIN:\", gla_classes_train[train_idxs])\n",
        "        print(\"      \", gla_id_train[train_idxs])\n",
        "        print(\"      \", gla_dataset_path_train[train_idxs])\n",
        "        print(\" TEST:\", gla_classes_train[val_idxs])\n",
        "        print(\"      \", gla_id_train[val_idxs])\n",
        "        print(\"      \", gla_dataset_path_train[val_idxs])\n",
        "        \"\"\"\n",
        "        print(train_idxs)\n",
        "        for idx in train_idxs:\n",
        "            shutil.copyfile(gla_dataset_path_remain[idx], \"./\"+str(m)+\"/train/gla/\"+os.path.basename(file))\n",
        "        for idx in val_idxs:\n",
        "            shutil.copyfile(gla_dataset_path_remain[idx], \"./\"+str(m)+\"/train/gla/\"+os.path.basename(file))\n"
      ],
      "metadata": {
        "colab": {
          "base_uri": "https://localhost:8080/",
          "height": 1000
        },
        "id": "0CmLwRFybHpa",
        "outputId": "5050252f-2cfb-4243-fa8c-1de2b1816730"
      },
      "execution_count": 43,
      "outputs": [
        {
          "output_type": "stream",
          "name": "stdout",
          "text": [
            "['1546' '1546' '1546' '1546' '1546' '1546' '1546']\n",
            "[  0   1   2   3   4   9  10  13  14  15  24  25  26  27  28  29  30  31\n",
            "  32  33  34  35  36  37  38  39  40  41  42  43  44  45  46  47  48  49\n",
            "  50  51  52  53  54  55  56  57  58  59  60  61  62  63  64  65  66  67\n",
            "  68  70  71  77  78  79  80  81  82  83  84  85  86  87  88  89  90  91\n",
            "  92  93  94  95  96  97  98  99 100 104 105 106 107 108 109 110 111 112\n",
            " 113 114 115 116 117 118 119 120 121 122 123 124 125 126 127 128 129 130\n",
            " 151 152 153 154 155 156 157 158 159 160 161 162 163 164 165 166 167 168\n",
            " 169 170 171 172 173 174 175 176 177 178 179 180 181 182 183 184 185 186\n",
            " 187 188 189 190 191 192 193 194 195 196]\n",
            "[  0   1   2   3   4   5   6   7   8   9  10  11  12  13  14  15  16  17\n",
            "  18  19  20  21  22  23  24  25  26  27  28  29  30  31  32  33  34  35\n",
            "  36  37  38  39  40  41  42  45  46  47  48  49  50  51  52  53  54  55\n",
            "  56  57  58  59  60  61  62  63  64  65  66  67  68  69  70  72  73  74\n",
            "  75  76  95  96  97  98  99 100 101 102 103 106 107 108 109 110 111 112\n",
            " 113 114 115 116 117 118 119 120 121 122 123 124 125 126 127 128 129 130\n",
            " 131 132 133 134 135 136 137 138 139 140 141 142 143 144 145 146 147 148\n",
            " 149 150 151 152 153 154 155 156 157 158 159 160 161 162 163 164 165 166\n",
            " 167 168 169 170 171 172 173 174 175 176 177 178 179 180 194 195 196]\n",
            "[  0   1   2   3   4   5   6   7   8  11  12  16  17  18  19  20  21  22\n",
            "  23  25  26  27  33  34  35  36  37  38  39  40  41  42  43  44  45  46\n",
            "  47  50  51  52  53  54  55  56  57  58  59  60  61  69  70  71  72  73\n",
            "  74  75  76  77  78  79  80  81  82  83  84  85  86  87  88  89  90  91\n",
            "  92  93  94  95  96  97  98  99 100 101 102 103 104 105 106 107 111 112\n",
            " 113 114 115 116 117 118 119 120 121 122 123 124 125 126 127 128 129 130\n",
            " 131 132 133 134 135 136 137 138 139 140 141 142 143 144 145 146 147 148\n",
            " 149 150 151 152 153 154 155 156 157 158 159 160 161 178 179 180 181 182\n",
            " 183 184 185 186 187 188 189 190 191 192 193 194 195 196]\n",
            "[  5   6   7   8   9  10  11  12  13  14  15  16  17  18  19  20  21  22\n",
            "  23  24  25  26  27  28  29  30  31  32  33  34  35  36  37  38  39  40\n",
            "  41  42  43  44  48  49  62  63  64  65  66  67  68  69  70  71  72  73\n",
            "  74  75  76  77  78  79  80  81  82  83  84  85  86  87  88  89  90  91\n",
            "  92  93  94  95  96  97  98  99 100 101 102 103 104 105 108 109 110 111\n",
            " 112 113 114 115 116 117 118 119 131 132 133 134 135 136 137 138 139 140\n",
            " 141 142 143 144 145 146 147 148 149 150 151 152 153 154 155 156 157 158\n",
            " 159 160 161 162 163 164 165 166 167 168 169 170 171 172 173 174 175 176\n",
            " 177 181 182 183 184 185 186 187 188 189 190 191 192 193 194 195 196]\n",
            "[  0   1   2   3   4   5   6   7   8   9  10  11  12  13  14  15  16  17\n",
            "  18  19  20  21  22  23  24  28  29  30  31  32  43  44  45  46  47  48\n",
            "  49  50  51  52  53  54  55  56  57  58  59  60  61  62  63  64  65  66\n",
            "  67  68  69  71  72  73  74  75  76  77  78  79  80  81  82  83  84  85\n",
            "  86  87  88  89  90  91  92  93  94 101 102 103 104 105 106 107 108 109\n",
            " 110 120 121 122 123 124 125 126 127 128 129 130 131 132 133 134 135 136\n",
            " 137 138 139 140 141 142 143 144 145 146 147 148 149 150 162 163 164 165\n",
            " 166 167 168 169 170 171 172 173 174 175 176 177 178 179 180 181 182 183\n",
            " 184 185 186 187 188 189 190 191 192 193]\n",
            "['1962']\n",
            "[  0   1   2   3   4   9  10  13  14  15  24  25  26  27  28  29  30  31\n",
            "  32  33  34  35  36  37  38  39  40  41  42  43  44  45  46  47  48  49\n",
            "  50  51  52  53  54  55  56  57  58  59  60  61  62  63  64  65  66  67\n",
            "  68  70  71  77  78  79  80  81  82  83  84  85  86  87  88  89  90  91\n",
            "  92  93  94  95  96  97  98  99 100 104 105 106 107 108 109 110 111 112\n",
            " 113 114 115 116 117 118 119 120 121 122 123 124 125 126 127 128 129 130\n",
            " 151 152 153 154 155 156 157 158 159 160 161 162 163 164 165 166 167 168\n",
            " 169 170 171 172 173 174 175 176 177 178 179 180 181 182 183 184 185 186\n",
            " 187 188 189 190 191 192 193 194 195 196]\n",
            "[  0   1   2   3   4   5   6   7   8   9  10  11  12  13  14  15  16  17\n",
            "  18  19  20  21  22  23  24  25  26  27  28  29  30  31  32  33  34  35\n",
            "  36  37  38  39  40  41  42  45  46  47  48  49  50  51  52  53  54  55\n",
            "  56  57  58  59  60  61  62  63  64  65  66  67  68  69  70  72  73  74\n",
            "  75  76  95  96  97  98  99 100 101 102 103 106 107 108 109 110 111 112\n",
            " 113 114 115 116 117 118 119 120 121 122 123 124 125 126 127 128 129 130\n",
            " 131 132 133 134 135 136 137 138 139 140 141 142 143 144 145 146 147 148\n",
            " 149 150 151 152 153 154 155 156 157 158 159 160 161 162 163 164 165 166\n",
            " 167 168 169 170 171 172 173 174 175 176 177 178 179 180 194 195 196]\n",
            "[  0   1   2   3   4   5   6   7   8  11  12  16  17  18  19  20  21  22\n",
            "  23  25  26  27  33  34  35  36  37  38  39  40  41  42  43  44  45  46\n",
            "  47  50  51  52  53  54  55  56  57  58  59  60  61  69  70  71  72  73\n",
            "  74  75  76  77  78  79  80  81  82  83  84  85  86  87  88  89  90  91\n",
            "  92  93  94  95  96  97  98  99 100 101 102 103 104 105 106 107 111 112\n",
            " 113 114 115 116 117 118 119 120 121 122 123 124 125 126 127 128 129 130\n",
            " 131 132 133 134 135 136 137 138 139 140 141 142 143 144 145 146 147 148\n",
            " 149 150 151 152 153 154 155 156 157 158 159 160 161 178 179 180 181 182\n",
            " 183 184 185 186 187 188 189 190 191 192 193 194 195 196]\n",
            "[  5   6   7   8   9  10  11  12  13  14  15  16  17  18  19  20  21  22\n",
            "  23  24  25  26  27  28  29  30  31  32  33  34  35  36  37  38  39  40\n",
            "  41  42  43  44  48  49  62  63  64  65  66  67  68  69  70  71  72  73\n",
            "  74  75  76  77  78  79  80  81  82  83  84  85  86  87  88  89  90  91\n",
            "  92  93  94  95  96  97  98  99 100 101 102 103 104 105 108 109 110 111\n",
            " 112 113 114 115 116 117 118 119 131 132 133 134 135 136 137 138 139 140\n",
            " 141 142 143 144 145 146 147 148 149 150 151 152 153 154 155 156 157 158\n",
            " 159 160 161 162 163 164 165 166 167 168 169 170 171 172 173 174 175 176\n",
            " 177 181 182 183 184 185 186 187 188 189 190 191 192 193 194 195 196]\n",
            "[  0   1   2   3   4   5   6   7   8   9  10  11  12  13  14  15  16  17\n",
            "  18  19  20  21  22  23  24  28  29  30  31  32  43  44  45  46  47  48\n",
            "  49  50  51  52  53  54  55  56  57  58  59  60  61  62  63  64  65  66\n",
            "  67  68  69  71  72  73  74  75  76  77  78  79  80  81  82  83  84  85\n",
            "  86  87  88  89  90  91  92  93  94 101 102 103 104 105 106 107 108 109\n",
            " 110 120 121 122 123 124 125 126 127 128 129 130 131 132 133 134 135 136\n",
            " 137 138 139 140 141 142 143 144 145 146 147 148 149 150 162 163 164 165\n",
            " 166 167 168 169 170 171 172 173 174 175 176 177 178 179 180 181 182 183\n",
            " 184 185 186 187 188 189 190 191 192 193]\n",
            "['2004' '2004' '2004' '2004' '2004' '2004' '2004' '2004' '2004' '2004']\n",
            "[  0   1   2   3   4   9  10  13  14  15  24  25  26  27  28  29  30  31\n",
            "  32  33  34  35  36  37  38  39  40  41  42  43  44  45  46  47  48  49\n",
            "  50  51  52  53  54  55  56  57  58  59  60  61  62  63  64  65  66  67\n",
            "  68  70  71  77  78  79  80  81  82  83  84  85  86  87  88  89  90  91\n",
            "  92  93  94  95  96  97  98  99 100 104 105 106 107 108 109 110 111 112\n",
            " 113 114 115 116 117 118 119 120 121 122 123 124 125 126 127 128 129 130\n",
            " 151 152 153 154 155 156 157 158 159 160 161 162 163 164 165 166 167 168\n",
            " 169 170 171 172 173 174 175 176 177 178 179 180 181 182 183 184 185 186\n",
            " 187 188 189 190 191 192 193 194 195 196]\n"
          ]
        },
        {
          "output_type": "error",
          "ename": "IndexError",
          "evalue": "ignored",
          "traceback": [
            "\u001b[1;31m---------------------------------------------------------------------------\u001b[0m",
            "\u001b[1;31mIndexError\u001b[0m                                Traceback (most recent call last)",
            "Input \u001b[1;32mIn [43]\u001b[0m, in \u001b[0;36m<module>\u001b[1;34m\u001b[0m\n\u001b[0;32m     60\u001b[0m \u001b[38;5;28mprint\u001b[39m(train_idxs)\n\u001b[0;32m     61\u001b[0m \u001b[38;5;28;01mfor\u001b[39;00m idx \u001b[38;5;129;01min\u001b[39;00m train_idxs:\n\u001b[1;32m---> 62\u001b[0m     shutil\u001b[38;5;241m.\u001b[39mcopyfile(\u001b[43mgla_dataset_path_remain\u001b[49m\u001b[43m[\u001b[49m\u001b[43midx\u001b[49m\u001b[43m]\u001b[49m, \u001b[38;5;124m\"\u001b[39m\u001b[38;5;124m./\u001b[39m\u001b[38;5;124m\"\u001b[39m\u001b[38;5;241m+\u001b[39m\u001b[38;5;28mstr\u001b[39m(m)\u001b[38;5;241m+\u001b[39m\u001b[38;5;124m\"\u001b[39m\u001b[38;5;124m/train/gla/\u001b[39m\u001b[38;5;124m\"\u001b[39m\u001b[38;5;241m+\u001b[39mos\u001b[38;5;241m.\u001b[39mpath\u001b[38;5;241m.\u001b[39mbasename(file))\n\u001b[0;32m     63\u001b[0m \u001b[38;5;28;01mfor\u001b[39;00m idx \u001b[38;5;129;01min\u001b[39;00m val_idxs:\n\u001b[0;32m     64\u001b[0m     shutil\u001b[38;5;241m.\u001b[39mcopyfile(gla_dataset_path_remain[idx], \u001b[38;5;124m\"\u001b[39m\u001b[38;5;124m./\u001b[39m\u001b[38;5;124m\"\u001b[39m\u001b[38;5;241m+\u001b[39m\u001b[38;5;28mstr\u001b[39m(m)\u001b[38;5;241m+\u001b[39m\u001b[38;5;124m\"\u001b[39m\u001b[38;5;124m/train/gla/\u001b[39m\u001b[38;5;124m\"\u001b[39m\u001b[38;5;241m+\u001b[39mos\u001b[38;5;241m.\u001b[39mpath\u001b[38;5;241m.\u001b[39mbasename(file))\n",
            "\u001b[1;31mIndexError\u001b[0m: index 194 is out of bounds for axis 0 with size 194"
          ]
        }
      ]
    },
    {
      "cell_type": "code",
      "source": [
        "print(folder)"
      ],
      "metadata": {
        "id": "7uHsZTLoWKF6",
        "outputId": "12ca6dfd-9a7c-4785-fa02-6552a50409aa",
        "colab": {
          "base_uri": "https://localhost:8080/"
        }
      },
      "execution_count": null,
      "outputs": [
        {
          "output_type": "stream",
          "name": "stdout",
          "text": [
            "None\n"
          ]
        }
      ]
    },
    {
      "cell_type": "code",
      "source": [
        "# one group leave out 見本\n",
        "# https://scikit-learn.org/stable/modules/generated/sklearn.model_selection.LeaveOneGroupOut.html#sklearn.model_selection.LeaveOneGroupOut\n",
        "# 今回のケースでは、groupがIDに該当\n",
        "import numpy as np\n",
        "from sklearn.model_selection import LeaveOneGroupOut\n",
        "X = np.array([[1, 2], [3, 4], [5, 6], [7, 8], [9, 10], [11, 12]])\n",
        "y = np.array([1, 2, 1, 2, 1, 1])\n",
        "groups = np.array([1, 1, 2, 3, 3, 4])\n",
        "logo = LeaveOneGroupOut()\n",
        "logo.get_n_splits(X, y, groups)\n",
        "logo.get_n_splits(groups=groups)  # 'groups' is always required\n",
        "print(logo)\n",
        "LeaveOneGroupOut()\n",
        "for train_index, test_index in logo.split(X, y, groups):\n",
        "     print(\"TRAIN:\", train_index, \"TEST:\", test_index)\n",
        "     X_train, X_test = X[train_index], X[test_index]\n",
        "     y_train, y_test = y[train_index], y[test_index]\n",
        "     print(X_train, X_test, y_train, y_test)"
      ],
      "metadata": {
        "colab": {
          "base_uri": "https://localhost:8080/"
        },
        "outputId": "c115c0e3-04da-4561-c1ac-a90b1d2cafd1",
        "id": "_MvzPiyBl6x6"
      },
      "execution_count": 7,
      "outputs": [
        {
          "output_type": "stream",
          "name": "stdout",
          "text": [
            "LeaveOneGroupOut()\n",
            "TRAIN: [2 3 4 5] TEST: [0 1]\n",
            "[[ 5  6]\n",
            " [ 7  8]\n",
            " [ 9 10]\n",
            " [11 12]] [[1 2]\n",
            " [3 4]] [1 2 1 1] [1 2]\n",
            "TRAIN: [0 1 3 4 5] TEST: [2]\n",
            "[[ 1  2]\n",
            " [ 3  4]\n",
            " [ 7  8]\n",
            " [ 9 10]\n",
            " [11 12]] [[5 6]] [1 2 2 1 1] [1]\n",
            "TRAIN: [0 1 2 5] TEST: [3 4]\n",
            "[[ 1  2]\n",
            " [ 3  4]\n",
            " [ 5  6]\n",
            " [11 12]] [[ 7  8]\n",
            " [ 9 10]] [1 2 1 1] [2 1]\n",
            "TRAIN: [0 1 2 3 4] TEST: [5]\n",
            "[[ 1  2]\n",
            " [ 3  4]\n",
            " [ 5  6]\n",
            " [ 7  8]\n",
            " [ 9 10]] [[11 12]] [1 2 1 2 1] [1]\n"
          ]
        }
      ]
    },
    {
      "cell_type": "code",
      "source": [
        "# example of stratified group Kfold　見本\n",
        "# 今回のケースでは、groupがID、yがclassesに該当\n",
        "import numpy as np\n",
        "from sklearn.model_selection import StratifiedGroupKFold\n",
        "X = np.ones((17, 2))\n",
        "y = np.array([0, 0, 1, 1, 1, 1, 1, 1, 0, 0, 0, 0, 0, 0, 0, 0, 0])\n",
        "groups = np.array([1, 1, 2, 2, 3, 3, 3, 4, 5, 5, 5, 5, 6, 6, 7, 8, 8])\n",
        "cv = StratifiedGroupKFold(n_splits=3)\n",
        "\n",
        "print(X)\n",
        "print(y)\n",
        "print(groups)\n",
        "\n",
        "for train_idxs, test_idxs in cv.split(X, y, groups):\n",
        "    print(\"TRAIN:\", groups[train_idxs])\n",
        "    print(\"      \", y[train_idxs])\n",
        "    print(\" TEST:\", groups[test_idxs])\n",
        "    print(\"      \", y[test_idxs])"
      ],
      "metadata": {
        "id": "ExOzNLzIIi2a"
      },
      "execution_count": null,
      "outputs": []
    },
    {
      "cell_type": "code",
      "source": [
        "# one group leave out \n",
        "# https://scikit-learn.org/stable/modules/generated/sklearn.model_selection.LeaveOneGroupOut.html#sklearn.model_selection.LeaveOneGroupOut\n",
        "# 今回のケースでは、groupがIDに該当\n",
        "import numpy as np\n",
        "from sklearn.model_selection import LeaveOneGroupOut\n",
        "X = np.array([[1, 2], [3, 4], [5, 6], [7, 8], [9, 10], [11, 12]])\n",
        "y = np.array([1, 2, 1, 2, 1, 1])\n",
        "groups = np.array([1, 1, 2, 3, 3, 4])\n",
        "logo = LeaveOneGroupOut()\n",
        "logo.get_n_splits(X, y, groups)\n",
        "logo.get_n_splits(groups=groups)  # 'groups' is always required\n",
        "print(logo)\n",
        "LeaveOneGroupOut()\n",
        "for train_index, test_index in logo.split(X, y, groups):\n",
        "     print(\"TRAIN:\", train_index, \"TEST:\", test_index)\n",
        "     X_train, X_test = X[train_index], X[test_index]\n",
        "     y_train, y_test = y[train_index], y[test_index]\n",
        "     print(X_train, X_test, y_train, y_test)"
      ],
      "metadata": {
        "colab": {
          "base_uri": "https://localhost:8080/"
        },
        "id": "nBJvTB_5TKqO",
        "outputId": "fcd4f0b2-083f-4a88-da6a-f2d3a071e17d"
      },
      "execution_count": null,
      "outputs": [
        {
          "output_type": "stream",
          "name": "stdout",
          "text": [
            "LeaveOneGroupOut()\n",
            "TRAIN: [2 3 4 5] TEST: [0 1]\n",
            "[[ 5  6]\n",
            " [ 7  8]\n",
            " [ 9 10]\n",
            " [11 12]] [[1 2]\n",
            " [3 4]] [1 2 1 1] [1 2]\n",
            "TRAIN: [0 1 3 4 5] TEST: [2]\n",
            "[[ 1  2]\n",
            " [ 3  4]\n",
            " [ 7  8]\n",
            " [ 9 10]\n",
            " [11 12]] [[5 6]] [1 2 2 1 1] [1]\n",
            "TRAIN: [0 1 2 5] TEST: [3 4]\n",
            "[[ 1  2]\n",
            " [ 3  4]\n",
            " [ 5  6]\n",
            " [11 12]] [[ 7  8]\n",
            " [ 9 10]] [1 2 1 1] [2 1]\n",
            "TRAIN: [0 1 2 3 4] TEST: [5]\n",
            "[[ 1  2]\n",
            " [ 3  4]\n",
            " [ 5  6]\n",
            " [ 7  8]\n",
            " [ 9 10]] [[11 12]] [1 2 1 2 1] [1]\n"
          ]
        }
      ]
    },
    {
      "cell_type": "code",
      "source": [
        ""
      ],
      "metadata": {
        "id": "pFKghBCLiuK2"
      },
      "execution_count": null,
      "outputs": []
    }
  ]
}