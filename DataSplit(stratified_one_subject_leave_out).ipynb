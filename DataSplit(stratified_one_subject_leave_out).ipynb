{
  "nbformat": 4,
  "nbformat_minor": 0,
  "metadata": {
    "colab": {
      "name": "Untitled90.ipynb",
      "provenance": [],
      "authorship_tag": "ABX9TyP+laz7ht5OexJ36MzkvuBr",
      "include_colab_link": true
    },
    "kernelspec": {
      "name": "python3",
      "display_name": "Python 3"
    },
    "language_info": {
      "name": "python"
    }
  },
  "cells": [
    {
      "cell_type": "markdown",
      "metadata": {
        "id": "view-in-github",
        "colab_type": "text"
      },
      "source": [
        "<a href=\"https://colab.research.google.com/github/ykitaguchi77/Strabismus_AI_project/blob/main/DataSplit(stratified_one_subject_leave_out).ipynb\" target=\"_parent\"><img src=\"https://colab.research.google.com/assets/colab-badge.svg\" alt=\"Open In Colab\"/></a>"
      ]
    },
    {
      "cell_type": "markdown",
      "source": [
        "#**Data_split for one-subject-leave-out stratified 5-fold crossvalidation**"
      ],
      "metadata": {
        "id": "Dxlpd0AbAWf7"
      }
    },
    {
      "cell_type": "code",
      "source": [
        "\"\"\"\n",
        "Leave one subject out cross validation + 5-fold stratified cross validation\n",
        "\n",
        "・1症例を抜き出し、その症例のすべての画像をテスト画像とする\n",
        "・残りの症例の内斜視、外斜視、斜視なし群を、同じ症例が群をまたがないように5分割する。\n",
        "・5分割したデータセットのうち4つをtraining、1つをvalidationとして用いてトレーニングを行い、抜き出した1症例のそれぞれの画像のおける正解率を算出する。これを5回繰り返してcross validationとする。\n",
        "\n",
        "\"\"\""
      ],
      "metadata": {
        "id": "TkRaZnYjAjZ1"
      },
      "execution_count": null,
      "outputs": []
    },
    {
      "cell_type": "code",
      "execution_count": 16,
      "metadata": {
        "id": "nPSM5f-yyQfC"
      },
      "outputs": [],
      "source": [
        "import codecs\n",
        "import pandas as pd\n",
        "import os\n",
        "pd.set_option('display.max_rows', 500)\n",
        "\n",
        "\n",
        "gla_ortho_path = r\"F:\\先天性緑内障\\data_list\\Disease_ortho.csv\"\n",
        "gla_eso_path = r\"F:\\先天性緑内障\\data_list\\Disease_ET.csv\"\n",
        "gla_exo_path = r\"F:\\先天性緑内障\\data_list\\Disease_XT.csv\"\n",
        "cont_ortho_path = r\"F:\\先天性緑内障\\data_list\\Control_ortho.csv\"\n",
        "cont_eso_path = r\"F:\\先天性緑内障\\data_list\\Control_ET.csv\"\n",
        "cont_exo_path = r\"F:\\先天性緑内障\\data_list\\Control_XT.csv\"\n",
        "\n",
        "def opencsv(path, classname):\n",
        "    #with codecs.open(path, \"r\", \"utf-8\", \"ignore\") as file:\n",
        "    with codecs.open(path, \"r\", \"Shift-JIS\", \"ignore\") as file:\n",
        "        df = pd.read_csv(file, index_col=None, header=None)\n",
        "        df.insert(0, 'ID', '')\n",
        "        df.insert(0, 'classes', '')\n",
        "        for row in range(len(df)):\n",
        "            df.iloc[row,0] = classname #class\n",
        "            df.iloc[row,1] = os.path.basename(df.iloc[row,2]).split(\"_\")[0] #ID\n",
        "    return df\n",
        "\n",
        "df_gla_ortho = opencsv(gla_ortho_path, \"gla_ortho\") \n",
        "df_gla_eso = opencsv(gla_eso_path, \"gla_eso\")\n",
        "df_gla_exo = opencsv(gla_exo_path, \"gla_exo\")\n",
        "df_cont_ortho = opencsv(cont_ortho_path, \"cont_ortho\")\n",
        "df_cont_eso = opencsv(cont_eso_path, \"gla_eso\")\n",
        "df_cont_exo = opencsv(cont_exo_path, \"gla_exo\")\n",
        "\n",
        "df_gla_all = pd.concat([df_gla_ortho, df_gla_eso, df_gla_exo], axis=0)\n",
        "df_cont_all = pd.concat([df_cont_ortho, df_cont_eso, df_cont_exo], axis=0)\n",
        "df_all = pd.concat([df_cont_ortho, df_cont_eso, df_cont_exo], axis=0)\n",
        "\n",
        "#df_all.to_csv(r\"F:\\先天性緑内障\\data_list\\df_all.csv\", encoding='utf-8-sig', index=0, header=None)"
      ]
    },
    {
      "cell_type": "code",
      "source": [
        "#それぞれの項目（path, classes, ID）をリスト化\n",
        "gla_dataset_path = df_gla_all.iloc[:,2].transpose().values\n",
        "gla_classes = df_gla_all.iloc[:,0].transpose().values\n",
        "gla_id = df_gla_all.iloc[:,1].transpose().values\n",
        "cont_dataset_path = df_cont_all.iloc[:,2].transpose().values\n",
        "cont_classes = df_cont_all.iloc[:,0].transpose().values\n",
        "cont_id = df_cont_all.iloc[:,1].transpose().values\n",
        "\n",
        "print(len(gla_dataset_path))\n",
        "print(len(gla_classes))\n",
        "print(len(gla_id))\n",
        "\n",
        "logo = LeaveOneGroupOut()\n",
        "logo.get_n_splits(gla_dataset_path, gla_classes, gla_id)\n",
        "logo.get_n_splits(groups=gla_id)  # 'groups' is always required\n",
        "\n",
        "for train_index, test_index in logo.split(gla_dataset_path, gla_classes, gla_id):\n",
        "     #print(\"TRAIN:\", train_index, \"TEST:\", test_index)\n",
        "     gla_dataset_path_train, gla_dataset_path_test = gla_dataset_path[train_index], gla_dataset_path[test_index]\n",
        "     gla_id_train, gla_id_test = gla_id[train_index], gla_id[test_index]\n",
        "     #print(gla_dataset_path, gla_dataset_path_test, gla_id_train, gla_id_test)\n",
        "print(gla_id_test)\n",
        "\n",
        "\"\"\"\n",
        "cv = StratifiedGroupKFold(n_splits=5)\n",
        "for train_idxs, test_idxs in cv.split(gla_dataset_path, gla_classes, gla_id):\n",
        "    print(\"TRAIN:\", gla_classes[train_idxs])\n",
        "    print(\"      \", gla_id[train_idxs])\n",
        "    print(\"      \", gla_dataset_path[train_idxs])\n",
        "    print(\" TEST:\", gla_classes[test_idxs])\n",
        "    print(\"      \", gla_id[test_idxs])\n",
        "    print(\"      \", gla_dataset_path[train_idxs])\n",
        "\"\"\""
      ],
      "metadata": {
        "colab": {
          "base_uri": "https://localhost:8080/"
        },
        "id": "0CmLwRFybHpa",
        "outputId": "3e81e25d-ce1c-45a0-8099-3b7729f6e190"
      },
      "execution_count": 34,
      "outputs": [
        {
          "output_type": "stream",
          "name": "stdout",
          "text": [
            "204\n",
            "204\n",
            "204\n",
            "['9201' '9201' '9201' '9201' '9201' '9201' '9201' '9201' '9201']\n"
          ]
        },
        {
          "output_type": "execute_result",
          "data": {
            "text/plain": [
              "'\\ncv = StratifiedGroupKFold(n_splits=5)\\nfor train_idxs, test_idxs in cv.split(gla_dataset_path, gla_classes, gla_id):\\n    print(\"TRAIN:\", gla_classes[train_idxs])\\n    print(\"      \", gla_id[train_idxs])\\n    print(\"      \", gla_dataset_path[train_idxs])\\n    print(\" TEST:\", gla_classes[test_idxs])\\n    print(\"      \", gla_id[test_idxs])\\n    print(\"      \", gla_dataset_path[train_idxs])\\n'"
            ]
          },
          "metadata": {},
          "execution_count": 34
        }
      ]
    },
    {
      "cell_type": "code",
      "source": [
        "# one group leave out \n",
        "# https://scikit-learn.org/stable/modules/generated/sklearn.model_selection.LeaveOneGroupOut.html#sklearn.model_selection.LeaveOneGroupOut\n",
        "# 今回のケースでは、groupがIDに該当\n",
        "import numpy as np\n",
        "from sklearn.model_selection import LeaveOneGroupOut\n",
        "X = np.array([[1, 2], [3, 4], [5, 6], [7, 8], [9, 10], [11, 12]])\n",
        "y = np.array([1, 2, 1, 2, 1, 1])\n",
        "groups = np.array([1, 1, 2, 3, 3, 4])\n",
        "logo = LeaveOneGroupOut()\n",
        "logo.get_n_splits(X, y, groups)\n",
        "logo.get_n_splits(groups=groups)  # 'groups' is always required\n",
        "print(logo)\n",
        "LeaveOneGroupOut()\n",
        "for train_index, test_index in logo.split(X, y, groups):\n",
        "     print(\"TRAIN:\", train_index, \"TEST:\", test_index)\n",
        "     X_train, X_test = X[train_index], X[test_index]\n",
        "     y_train, y_test = y[train_index], y[test_index]\n",
        "     print(X_train, X_test, y_train, y_test)"
      ],
      "metadata": {
        "colab": {
          "base_uri": "https://localhost:8080/"
        },
        "outputId": "fcd4f0b2-083f-4a88-da6a-f2d3a071e17d",
        "id": "EBC8bIIWl9H0"
      },
      "execution_count": null,
      "outputs": [
        {
          "output_type": "stream",
          "name": "stdout",
          "text": [
            "LeaveOneGroupOut()\n",
            "TRAIN: [2 3 4 5] TEST: [0 1]\n",
            "[[ 5  6]\n",
            " [ 7  8]\n",
            " [ 9 10]\n",
            " [11 12]] [[1 2]\n",
            " [3 4]] [1 2 1 1] [1 2]\n",
            "TRAIN: [0 1 3 4 5] TEST: [2]\n",
            "[[ 1  2]\n",
            " [ 3  4]\n",
            " [ 7  8]\n",
            " [ 9 10]\n",
            " [11 12]] [[5 6]] [1 2 2 1 1] [1]\n",
            "TRAIN: [0 1 2 5] TEST: [3 4]\n",
            "[[ 1  2]\n",
            " [ 3  4]\n",
            " [ 5  6]\n",
            " [11 12]] [[ 7  8]\n",
            " [ 9 10]] [1 2 1 1] [2 1]\n",
            "TRAIN: [0 1 2 3 4] TEST: [5]\n",
            "[[ 1  2]\n",
            " [ 3  4]\n",
            " [ 5  6]\n",
            " [ 7  8]\n",
            " [ 9 10]] [[11 12]] [1 2 1 2 1] [1]\n"
          ]
        }
      ]
    },
    {
      "cell_type": "code",
      "source": [
        "# one group leave out \n",
        "# https://scikit-learn.org/stable/modules/generated/sklearn.model_selection.LeaveOneGroupOut.html#sklearn.model_selection.LeaveOneGroupOut\n",
        "# 今回のケースでは、groupがIDに該当\n",
        "import numpy as np\n",
        "from sklearn.model_selection import LeaveOneGroupOut\n",
        "X = np.array([[1, 2], [3, 4], [5, 6], [7, 8], [9, 10], [11, 12]])\n",
        "y = np.array([1, 2, 1, 2, 1, 1])\n",
        "groups = np.array([1, 1, 2, 3, 3, 4])\n",
        "logo = LeaveOneGroupOut()\n",
        "logo.get_n_splits(X, y, groups)\n",
        "logo.get_n_splits(groups=groups)  # 'groups' is always required\n",
        "print(logo)\n",
        "LeaveOneGroupOut()\n",
        "for train_index, test_index in logo.split(X, y, groups):\n",
        "     print(\"TRAIN:\", train_index, \"TEST:\", test_index)\n",
        "     X_train, X_test = X[train_index], X[test_index]\n",
        "     y_train, y_test = y[train_index], y[test_index]\n",
        "     print(X_train, X_test, y_train, y_test)"
      ],
      "metadata": {
        "colab": {
          "base_uri": "https://localhost:8080/"
        },
        "outputId": "fcd4f0b2-083f-4a88-da6a-f2d3a071e17d",
        "id": "_MvzPiyBl6x6"
      },
      "execution_count": null,
      "outputs": [
        {
          "output_type": "stream",
          "name": "stdout",
          "text": [
            "LeaveOneGroupOut()\n",
            "TRAIN: [2 3 4 5] TEST: [0 1]\n",
            "[[ 5  6]\n",
            " [ 7  8]\n",
            " [ 9 10]\n",
            " [11 12]] [[1 2]\n",
            " [3 4]] [1 2 1 1] [1 2]\n",
            "TRAIN: [0 1 3 4 5] TEST: [2]\n",
            "[[ 1  2]\n",
            " [ 3  4]\n",
            " [ 7  8]\n",
            " [ 9 10]\n",
            " [11 12]] [[5 6]] [1 2 2 1 1] [1]\n",
            "TRAIN: [0 1 2 5] TEST: [3 4]\n",
            "[[ 1  2]\n",
            " [ 3  4]\n",
            " [ 5  6]\n",
            " [11 12]] [[ 7  8]\n",
            " [ 9 10]] [1 2 1 1] [2 1]\n",
            "TRAIN: [0 1 2 3 4] TEST: [5]\n",
            "[[ 1  2]\n",
            " [ 3  4]\n",
            " [ 5  6]\n",
            " [ 7  8]\n",
            " [ 9 10]] [[11 12]] [1 2 1 2 1] [1]\n"
          ]
        }
      ]
    },
    {
      "cell_type": "code",
      "source": [
        "# example of stratified group Kfold\n",
        "# 今回のケースでは、groupがID、yがclassesに該当\n",
        "import numpy as np\n",
        "from sklearn.model_selection import StratifiedGroupKFold\n",
        "X = np.ones((17, 2))\n",
        "y = np.array([0, 0, 1, 1, 1, 1, 1, 1, 0, 0, 0, 0, 0, 0, 0, 0, 0])\n",
        "groups = np.array([1, 1, 2, 2, 3, 3, 3, 4, 5, 5, 5, 5, 6, 6, 7, 8, 8])\n",
        "cv = StratifiedGroupKFold(n_splits=3)\n",
        "\n",
        "print(X)\n",
        "print(y)\n",
        "print(groups)\n",
        "\n",
        "for train_idxs, test_idxs in cv.split(X, y, groups):\n",
        "    print(\"TRAIN:\", groups[train_idxs])\n",
        "    print(\"      \", y[train_idxs])\n",
        "    print(\" TEST:\", groups[test_idxs])\n",
        "    print(\"      \", y[test_idxs])"
      ],
      "metadata": {
        "id": "ExOzNLzIIi2a"
      },
      "execution_count": null,
      "outputs": []
    },
    {
      "cell_type": "code",
      "source": [
        "# one group leave out \n",
        "# https://scikit-learn.org/stable/modules/generated/sklearn.model_selection.LeaveOneGroupOut.html#sklearn.model_selection.LeaveOneGroupOut\n",
        "# 今回のケースでは、groupがIDに該当\n",
        "import numpy as np\n",
        "from sklearn.model_selection import LeaveOneGroupOut\n",
        "X = np.array([[1, 2], [3, 4], [5, 6], [7, 8], [9, 10], [11, 12]])\n",
        "y = np.array([1, 2, 1, 2, 1, 1])\n",
        "groups = np.array([1, 1, 2, 3, 3, 4])\n",
        "logo = LeaveOneGroupOut()\n",
        "logo.get_n_splits(X, y, groups)\n",
        "logo.get_n_splits(groups=groups)  # 'groups' is always required\n",
        "print(logo)\n",
        "LeaveOneGroupOut()\n",
        "for train_index, test_index in logo.split(X, y, groups):\n",
        "     print(\"TRAIN:\", train_index, \"TEST:\", test_index)\n",
        "     X_train, X_test = X[train_index], X[test_index]\n",
        "     y_train, y_test = y[train_index], y[test_index]\n",
        "     print(X_train, X_test, y_train, y_test)"
      ],
      "metadata": {
        "colab": {
          "base_uri": "https://localhost:8080/"
        },
        "id": "nBJvTB_5TKqO",
        "outputId": "fcd4f0b2-083f-4a88-da6a-f2d3a071e17d"
      },
      "execution_count": 25,
      "outputs": [
        {
          "output_type": "stream",
          "name": "stdout",
          "text": [
            "LeaveOneGroupOut()\n",
            "TRAIN: [2 3 4 5] TEST: [0 1]\n",
            "[[ 5  6]\n",
            " [ 7  8]\n",
            " [ 9 10]\n",
            " [11 12]] [[1 2]\n",
            " [3 4]] [1 2 1 1] [1 2]\n",
            "TRAIN: [0 1 3 4 5] TEST: [2]\n",
            "[[ 1  2]\n",
            " [ 3  4]\n",
            " [ 7  8]\n",
            " [ 9 10]\n",
            " [11 12]] [[5 6]] [1 2 2 1 1] [1]\n",
            "TRAIN: [0 1 2 5] TEST: [3 4]\n",
            "[[ 1  2]\n",
            " [ 3  4]\n",
            " [ 5  6]\n",
            " [11 12]] [[ 7  8]\n",
            " [ 9 10]] [1 2 1 1] [2 1]\n",
            "TRAIN: [0 1 2 3 4] TEST: [5]\n",
            "[[ 1  2]\n",
            " [ 3  4]\n",
            " [ 5  6]\n",
            " [ 7  8]\n",
            " [ 9 10]] [[11 12]] [1 2 1 2 1] [1]\n"
          ]
        }
      ]
    },
    {
      "cell_type": "code",
      "source": [
        ""
      ],
      "metadata": {
        "id": "pFKghBCLiuK2"
      },
      "execution_count": null,
      "outputs": []
    }
  ]
}