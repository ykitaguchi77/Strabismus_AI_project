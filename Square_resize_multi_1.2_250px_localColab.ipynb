{
  "nbformat": 4,
  "nbformat_minor": 0,
  "metadata": {
    "colab": {
      "name": "Untitled40.ipynb",
      "provenance": [],
      "toc_visible": true,
      "include_colab_link": true
    },
    "kernelspec": {
      "name": "python3",
      "display_name": "Python 3"
    }
  },
  "cells": [
    {
      "cell_type": "markdown",
      "metadata": {
        "id": "view-in-github",
        "colab_type": "text"
      },
      "source": [
        "<a href=\"https://colab.research.google.com/github/ykitaguchi77/Strabismus_AI_project/blob/main/Square_resize_multi_1.2_250px_localColab.ipynb\" target=\"_parent\"><img src=\"https://colab.research.google.com/assets/colab-badge.svg\" alt=\"Open In Colab\"/></a>"
      ]
    },
    {
      "cell_type": "markdown",
      "metadata": {
        "id": "FT-uBcZ9PSmm"
      },
      "source": [
        "#Square_resize_multi_250pix\n",
        "\n",
        "長方形を、長辺を一辺とした正方形にresizeし余白を黒く塗りつぶした上で、250pixに縮小するスクリプト"
      ]
    },
    {
      "cell_type": "code",
      "metadata": {
        "id": "5yQwABlGCXgh",
        "colab": {
          "base_uri": "https://localhost:8080/"
        },
        "outputId": "39e1639c-e4a1-41d0-b0d5-2680e206bb00"
      },
      "source": [
        "import numpy as np\n",
        "import matplotlib.pyplot as plt\n",
        "import time\n",
        "import os\n",
        "import copy\n",
        "import pandas as pd\n",
        "import csv\n",
        "from random import randint\n",
        "from time import sleep\n",
        "import math\n",
        "\n",
        "import glob\n",
        "import random\n",
        "from PIL import Image\n",
        "%matplotlib inline\n",
        "\n",
        "import cv2\n",
        "\n",
        "plt.ion()   # interactive mode\n",
        "\"\"\"\n",
        "#Google driveをマウント\n",
        "from google.colab import drive\n",
        "drive.mount('/content/drive')\n",
        "\"\"\""
      ],
      "execution_count": 6,
      "outputs": [
        {
          "output_type": "execute_result",
          "data": {
            "text/plain": [
              "\"\\n#Google driveをマウント\\nfrom google.colab import drive\\ndrive.mount('/content/drive')\\n\""
            ]
          },
          "metadata": {},
          "execution_count": 6
        }
      ]
    },
    {
      "cell_type": "markdown",
      "metadata": {
        "id": "nzQon-jiSd2J"
      },
      "source": [
        "#保存あり"
      ]
    },
    {
      "cell_type": "code",
      "metadata": {
        "id": "zLwAJH8MSh8o"
      },
      "source": [
        "def convert(in_path, out_path, processing_file):\n",
        "    #処理時間の計測\n",
        "    start = time.time()\n",
        "\n",
        "    l=0\n",
        "    for i in processing_file:      \n",
        "          img = Image.open(in_path + '/' + i)\n",
        "          img_new = expand2square(img, (0, 0, 0)).resize((250, 250))\n",
        "          img_new.save(out_path +'/'+ i)\n",
        "          print(out_path +'/'+ i)\n",
        "          \n",
        "          #切り取った画像を表示\n",
        "          #plt.imshow(np.asarray(img_new))\n",
        "          #plt.show()\n",
        "\n",
        "    print('Process done!!')\n",
        "    elapsed_time = time.time() - start\n",
        "    print (\"elapsed_time:{0}\".format(elapsed_time) + \"[sec]\")\n",
        "\n",
        "def expand2square(pil_img, background_color):\n",
        "    width, height = pil_img.size\n",
        "    if width == height:\n",
        "        return pil_img\n",
        "    elif width > height:\n",
        "        result = Image.new(pil_img.mode, (width, width), background_color)\n",
        "        result.paste(pil_img, (0, (width-height)//2))\n",
        "        return result\n",
        "    else:\n",
        "        result = Image.new(pil_img.mode, (height, height), background_color)\n",
        "        result.paste(pil_img, (0, (height - width) // 2))\n",
        "        return result\n",
        "\n",
        "def showInfo(in_path):\n",
        "    #処理するDirectoryの設定\n",
        "    file = os.listdir(in_path)\n",
        "    print(len(file))\n",
        "\n",
        "    #ここにフォルダ番号を記載する (ex. [0:999])\n",
        "    processing_file = file[0:999]\n",
        "    print(processing_file)\n",
        "    len(processing_file)\n",
        "    return processing_file\n"
      ],
      "execution_count": 7,
      "outputs": []
    },
    {
      "cell_type": "code",
      "metadata": {
        "id": "KgonyabnQJcE",
        "colab": {
          "base_uri": "https://localhost:8080/",
          "height": 1000
        },
        "outputId": "57c8b32e-f5f8-42ab-a2aa-d50aaa39e781"
      },
      "source": [
        "#元画像フォルダ\n",
        "in_path = r'C:\\Users\\ykita\\OneDrive\\デスクトップ\\exo'\n",
        "\n",
        "#保存先フォルダ\n",
        "out_path = r'C:\\Users\\ykita\\OneDrive\\デスクトップ\\exo1.1'\n",
        "if not os.path.exists(out_path):\n",
        "    os.makedirs(out_path)\n",
        "\n",
        "processing_file = showInfo(in_path)\n",
        "convert(in_path, out_path, processing_file)\n",
        "\n",
        "\"\"\"\n",
        "#元画像フォルダ\n",
        "in_path = '/content/drive/My Drive/Deep_learning/cont_add'\n",
        "\n",
        "#保存先フォルダ\n",
        "out_path = '/content/drive/My Drive/Deep_learning/gravcont_processed2/cont'\n",
        "if not os.path.exists(out_path):\n",
        "    os.makedirs(out_path)\n",
        "\n",
        "processing_file = showInfo(in_path)\n",
        "convert(in_path, out_path, processing_file)\n",
        "\"\"\""
      ],
      "execution_count": 8,
      "outputs": [
        {
          "output_type": "stream",
          "name": "stdout",
          "text": [
            "99\n",
            "['1083.jpg', '1115.jpg', '1123.jpg', '1129.jpg', '1151.jpg', '1169.jpg', '1189.jpg', '125.jpg', '1334.jpg', '135.jpg', '1350.jpg', '1362.jpg', '1400.jpg', '1474.jpg', '1491.jpg', '1505.jpg', '1583.jpg', '1611.jpg', '1630.jpg', '1673.jpg', '1741.jpg', '1775.jpg', '1833.jpg', '1888.jpg', '1890.jpg', '1958.jpg', '1961.jpg', '1975.jpg', '1992.jpg', '2045.jpg', '2073.jpg', '2081.jpg', '213.jpg', '218.jpg', '2212.jpg', '2235.jpg', '2289.jpg', '2339.jpg', '2392.jpg', '2397.jpg', '2581.jpg', '2616.jpg', '2622.jpg', '2641.jpg', '2650.jpg', '268.jpg', '2703.jpg', '2776.jpg', '3016.jpg', '305.jpg', '3059.jpg', '3084.jpg', '3116.jpg', '3158.jpg', '3210.jpg', '3215.jpg', '3218.jpg', '3231.jpg', '3239.jpg', '3290.jpg', '3366.jpg', '3441.jpg', '3530.jpg', '3574.jpg', '3583.jpg', '3615.jpg', '3636.jpg', '3726.jpg', '3789.jpg', '3796.jpg', '4010.jpg', '4077.jpg', '4078.jpg', '4190.jpg', '4203.jpg', '4229.jpg', '4291.jpg', '441.jpg', '4435.jpg', '4496.jpg', '463.jpg', '49.jpg', '526.jpg', '549.jpg', '558.jpg', '608.jpg', '655.jpg', '666.jpg', '715.jpg', '716.jpg', '734.jpg', '751.jpg', '761.jpg', '816.jpg', '825.jpg', '844.jpg', '892.jpg', '918.jpg', '949.jpg']\n",
            "C:\\Users\\ykita\\OneDrive\\デスクトップ\\exo1.1/1083.jpg\n",
            "C:\\Users\\ykita\\OneDrive\\デスクトップ\\exo1.1/1115.jpg\n",
            "C:\\Users\\ykita\\OneDrive\\デスクトップ\\exo1.1/1123.jpg\n",
            "C:\\Users\\ykita\\OneDrive\\デスクトップ\\exo1.1/1129.jpg\n",
            "C:\\Users\\ykita\\OneDrive\\デスクトップ\\exo1.1/1151.jpg\n",
            "C:\\Users\\ykita\\OneDrive\\デスクトップ\\exo1.1/1169.jpg\n",
            "C:\\Users\\ykita\\OneDrive\\デスクトップ\\exo1.1/1189.jpg\n",
            "C:\\Users\\ykita\\OneDrive\\デスクトップ\\exo1.1/125.jpg\n",
            "C:\\Users\\ykita\\OneDrive\\デスクトップ\\exo1.1/1334.jpg\n",
            "C:\\Users\\ykita\\OneDrive\\デスクトップ\\exo1.1/135.jpg\n",
            "C:\\Users\\ykita\\OneDrive\\デスクトップ\\exo1.1/1350.jpg\n",
            "C:\\Users\\ykita\\OneDrive\\デスクトップ\\exo1.1/1362.jpg\n",
            "C:\\Users\\ykita\\OneDrive\\デスクトップ\\exo1.1/1400.jpg\n",
            "C:\\Users\\ykita\\OneDrive\\デスクトップ\\exo1.1/1474.jpg\n",
            "C:\\Users\\ykita\\OneDrive\\デスクトップ\\exo1.1/1491.jpg\n",
            "C:\\Users\\ykita\\OneDrive\\デスクトップ\\exo1.1/1505.jpg\n",
            "C:\\Users\\ykita\\OneDrive\\デスクトップ\\exo1.1/1583.jpg\n",
            "C:\\Users\\ykita\\OneDrive\\デスクトップ\\exo1.1/1611.jpg\n",
            "C:\\Users\\ykita\\OneDrive\\デスクトップ\\exo1.1/1630.jpg\n",
            "C:\\Users\\ykita\\OneDrive\\デスクトップ\\exo1.1/1673.jpg\n",
            "C:\\Users\\ykita\\OneDrive\\デスクトップ\\exo1.1/1741.jpg\n",
            "C:\\Users\\ykita\\OneDrive\\デスクトップ\\exo1.1/1775.jpg\n",
            "C:\\Users\\ykita\\OneDrive\\デスクトップ\\exo1.1/1833.jpg\n",
            "C:\\Users\\ykita\\OneDrive\\デスクトップ\\exo1.1/1888.jpg\n",
            "C:\\Users\\ykita\\OneDrive\\デスクトップ\\exo1.1/1890.jpg\n",
            "C:\\Users\\ykita\\OneDrive\\デスクトップ\\exo1.1/1958.jpg\n",
            "C:\\Users\\ykita\\OneDrive\\デスクトップ\\exo1.1/1961.jpg\n",
            "C:\\Users\\ykita\\OneDrive\\デスクトップ\\exo1.1/1975.jpg\n",
            "C:\\Users\\ykita\\OneDrive\\デスクトップ\\exo1.1/1992.jpg\n",
            "C:\\Users\\ykita\\OneDrive\\デスクトップ\\exo1.1/2045.jpg\n",
            "C:\\Users\\ykita\\OneDrive\\デスクトップ\\exo1.1/2073.jpg\n",
            "C:\\Users\\ykita\\OneDrive\\デスクトップ\\exo1.1/2081.jpg\n",
            "C:\\Users\\ykita\\OneDrive\\デスクトップ\\exo1.1/213.jpg\n",
            "C:\\Users\\ykita\\OneDrive\\デスクトップ\\exo1.1/218.jpg\n",
            "C:\\Users\\ykita\\OneDrive\\デスクトップ\\exo1.1/2212.jpg\n",
            "C:\\Users\\ykita\\OneDrive\\デスクトップ\\exo1.1/2235.jpg\n",
            "C:\\Users\\ykita\\OneDrive\\デスクトップ\\exo1.1/2289.jpg\n",
            "C:\\Users\\ykita\\OneDrive\\デスクトップ\\exo1.1/2339.jpg\n",
            "C:\\Users\\ykita\\OneDrive\\デスクトップ\\exo1.1/2392.jpg\n",
            "C:\\Users\\ykita\\OneDrive\\デスクトップ\\exo1.1/2397.jpg\n",
            "C:\\Users\\ykita\\OneDrive\\デスクトップ\\exo1.1/2581.jpg\n",
            "C:\\Users\\ykita\\OneDrive\\デスクトップ\\exo1.1/2616.jpg\n",
            "C:\\Users\\ykita\\OneDrive\\デスクトップ\\exo1.1/2622.jpg\n",
            "C:\\Users\\ykita\\OneDrive\\デスクトップ\\exo1.1/2641.jpg\n",
            "C:\\Users\\ykita\\OneDrive\\デスクトップ\\exo1.1/2650.jpg\n",
            "C:\\Users\\ykita\\OneDrive\\デスクトップ\\exo1.1/268.jpg\n",
            "C:\\Users\\ykita\\OneDrive\\デスクトップ\\exo1.1/2703.jpg\n",
            "C:\\Users\\ykita\\OneDrive\\デスクトップ\\exo1.1/2776.jpg\n",
            "C:\\Users\\ykita\\OneDrive\\デスクトップ\\exo1.1/3016.jpg\n",
            "C:\\Users\\ykita\\OneDrive\\デスクトップ\\exo1.1/305.jpg\n",
            "C:\\Users\\ykita\\OneDrive\\デスクトップ\\exo1.1/3059.jpg\n",
            "C:\\Users\\ykita\\OneDrive\\デスクトップ\\exo1.1/3084.jpg\n",
            "C:\\Users\\ykita\\OneDrive\\デスクトップ\\exo1.1/3116.jpg\n",
            "C:\\Users\\ykita\\OneDrive\\デスクトップ\\exo1.1/3158.jpg\n",
            "C:\\Users\\ykita\\OneDrive\\デスクトップ\\exo1.1/3210.jpg\n",
            "C:\\Users\\ykita\\OneDrive\\デスクトップ\\exo1.1/3215.jpg\n",
            "C:\\Users\\ykita\\OneDrive\\デスクトップ\\exo1.1/3218.jpg\n",
            "C:\\Users\\ykita\\OneDrive\\デスクトップ\\exo1.1/3231.jpg\n",
            "C:\\Users\\ykita\\OneDrive\\デスクトップ\\exo1.1/3239.jpg\n",
            "C:\\Users\\ykita\\OneDrive\\デスクトップ\\exo1.1/3290.jpg\n",
            "C:\\Users\\ykita\\OneDrive\\デスクトップ\\exo1.1/3366.jpg\n",
            "C:\\Users\\ykita\\OneDrive\\デスクトップ\\exo1.1/3441.jpg\n",
            "C:\\Users\\ykita\\OneDrive\\デスクトップ\\exo1.1/3530.jpg\n",
            "C:\\Users\\ykita\\OneDrive\\デスクトップ\\exo1.1/3574.jpg\n",
            "C:\\Users\\ykita\\OneDrive\\デスクトップ\\exo1.1/3583.jpg\n",
            "C:\\Users\\ykita\\OneDrive\\デスクトップ\\exo1.1/3615.jpg\n",
            "C:\\Users\\ykita\\OneDrive\\デスクトップ\\exo1.1/3636.jpg\n",
            "C:\\Users\\ykita\\OneDrive\\デスクトップ\\exo1.1/3726.jpg\n",
            "C:\\Users\\ykita\\OneDrive\\デスクトップ\\exo1.1/3789.jpg\n",
            "C:\\Users\\ykita\\OneDrive\\デスクトップ\\exo1.1/3796.jpg\n",
            "C:\\Users\\ykita\\OneDrive\\デスクトップ\\exo1.1/4010.jpg\n",
            "C:\\Users\\ykita\\OneDrive\\デスクトップ\\exo1.1/4077.jpg\n",
            "C:\\Users\\ykita\\OneDrive\\デスクトップ\\exo1.1/4078.jpg\n",
            "C:\\Users\\ykita\\OneDrive\\デスクトップ\\exo1.1/4190.jpg\n",
            "C:\\Users\\ykita\\OneDrive\\デスクトップ\\exo1.1/4203.jpg\n",
            "C:\\Users\\ykita\\OneDrive\\デスクトップ\\exo1.1/4229.jpg\n",
            "C:\\Users\\ykita\\OneDrive\\デスクトップ\\exo1.1/4291.jpg\n",
            "C:\\Users\\ykita\\OneDrive\\デスクトップ\\exo1.1/441.jpg\n",
            "C:\\Users\\ykita\\OneDrive\\デスクトップ\\exo1.1/4435.jpg\n",
            "C:\\Users\\ykita\\OneDrive\\デスクトップ\\exo1.1/4496.jpg\n",
            "C:\\Users\\ykita\\OneDrive\\デスクトップ\\exo1.1/463.jpg\n",
            "C:\\Users\\ykita\\OneDrive\\デスクトップ\\exo1.1/49.jpg\n",
            "C:\\Users\\ykita\\OneDrive\\デスクトップ\\exo1.1/526.jpg\n",
            "C:\\Users\\ykita\\OneDrive\\デスクトップ\\exo1.1/549.jpg\n",
            "C:\\Users\\ykita\\OneDrive\\デスクトップ\\exo1.1/558.jpg\n",
            "C:\\Users\\ykita\\OneDrive\\デスクトップ\\exo1.1/608.jpg\n",
            "C:\\Users\\ykita\\OneDrive\\デスクトップ\\exo1.1/655.jpg\n",
            "C:\\Users\\ykita\\OneDrive\\デスクトップ\\exo1.1/666.jpg\n",
            "C:\\Users\\ykita\\OneDrive\\デスクトップ\\exo1.1/715.jpg\n",
            "C:\\Users\\ykita\\OneDrive\\デスクトップ\\exo1.1/716.jpg\n",
            "C:\\Users\\ykita\\OneDrive\\デスクトップ\\exo1.1/734.jpg\n",
            "C:\\Users\\ykita\\OneDrive\\デスクトップ\\exo1.1/751.jpg\n",
            "C:\\Users\\ykita\\OneDrive\\デスクトップ\\exo1.1/761.jpg\n",
            "C:\\Users\\ykita\\OneDrive\\デスクトップ\\exo1.1/816.jpg\n",
            "C:\\Users\\ykita\\OneDrive\\デスクトップ\\exo1.1/825.jpg\n",
            "C:\\Users\\ykita\\OneDrive\\デスクトップ\\exo1.1/844.jpg\n",
            "C:\\Users\\ykita\\OneDrive\\デスクトップ\\exo1.1/892.jpg\n",
            "C:\\Users\\ykita\\OneDrive\\デスクトップ\\exo1.1/918.jpg\n",
            "C:\\Users\\ykita\\OneDrive\\デスクトップ\\exo1.1/949.jpg\n",
            "Process done!!\n",
            "elapsed_time:6.653272390365601[sec]\n"
          ]
        },
        {
          "output_type": "error",
          "ename": "FileNotFoundError",
          "evalue": "ignored",
          "traceback": [
            "\u001b[1;31m---------------------------------------------------------------------------\u001b[0m",
            "\u001b[1;31mFileNotFoundError\u001b[0m                         Traceback (most recent call last)",
            "\u001b[1;32m<ipython-input-8-593c0875439c>\u001b[0m in \u001b[0;36m<module>\u001b[1;34m\u001b[0m\n\u001b[0;32m     18\u001b[0m     \u001b[0mos\u001b[0m\u001b[1;33m.\u001b[0m\u001b[0mmakedirs\u001b[0m\u001b[1;33m(\u001b[0m\u001b[0mout_path\u001b[0m\u001b[1;33m)\u001b[0m\u001b[1;33m\u001b[0m\u001b[1;33m\u001b[0m\u001b[0m\n\u001b[0;32m     19\u001b[0m \u001b[1;33m\u001b[0m\u001b[0m\n\u001b[1;32m---> 20\u001b[1;33m \u001b[0mprocessing_file\u001b[0m \u001b[1;33m=\u001b[0m \u001b[0mshowInfo\u001b[0m\u001b[1;33m(\u001b[0m\u001b[0min_path\u001b[0m\u001b[1;33m)\u001b[0m\u001b[1;33m\u001b[0m\u001b[1;33m\u001b[0m\u001b[0m\n\u001b[0m\u001b[0;32m     21\u001b[0m \u001b[0mconvert\u001b[0m\u001b[1;33m(\u001b[0m\u001b[0min_path\u001b[0m\u001b[1;33m,\u001b[0m \u001b[0mout_path\u001b[0m\u001b[1;33m,\u001b[0m \u001b[0mprocessing_file\u001b[0m\u001b[1;33m)\u001b[0m\u001b[1;33m\u001b[0m\u001b[1;33m\u001b[0m\u001b[0m\n",
            "\u001b[1;32m<ipython-input-7-93074b4a3123>\u001b[0m in \u001b[0;36mshowInfo\u001b[1;34m(in_path)\u001b[0m\n\u001b[0;32m     33\u001b[0m \u001b[1;32mdef\u001b[0m \u001b[0mshowInfo\u001b[0m\u001b[1;33m(\u001b[0m\u001b[0min_path\u001b[0m\u001b[1;33m)\u001b[0m\u001b[1;33m:\u001b[0m\u001b[1;33m\u001b[0m\u001b[1;33m\u001b[0m\u001b[0m\n\u001b[0;32m     34\u001b[0m     \u001b[1;31m#処理するDirectoryの設定\u001b[0m\u001b[1;33m\u001b[0m\u001b[1;33m\u001b[0m\u001b[1;33m\u001b[0m\u001b[0m\n\u001b[1;32m---> 35\u001b[1;33m     \u001b[0mfile\u001b[0m \u001b[1;33m=\u001b[0m \u001b[0mos\u001b[0m\u001b[1;33m.\u001b[0m\u001b[0mlistdir\u001b[0m\u001b[1;33m(\u001b[0m\u001b[0min_path\u001b[0m\u001b[1;33m)\u001b[0m\u001b[1;33m\u001b[0m\u001b[1;33m\u001b[0m\u001b[0m\n\u001b[0m\u001b[0;32m     36\u001b[0m     \u001b[0mprint\u001b[0m\u001b[1;33m(\u001b[0m\u001b[0mlen\u001b[0m\u001b[1;33m(\u001b[0m\u001b[0mfile\u001b[0m\u001b[1;33m)\u001b[0m\u001b[1;33m)\u001b[0m\u001b[1;33m\u001b[0m\u001b[1;33m\u001b[0m\u001b[0m\n\u001b[0;32m     37\u001b[0m \u001b[1;33m\u001b[0m\u001b[0m\n",
            "\u001b[1;31mFileNotFoundError\u001b[0m: [WinError 3] 指定されたパスが見つかりません。: '/content/drive/My Drive/Deep_learning/cont_add'"
          ]
        }
      ]
    }
  ]
}