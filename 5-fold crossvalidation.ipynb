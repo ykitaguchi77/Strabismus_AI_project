{
  "nbformat": 4,
  "nbformat_minor": 0,
  "metadata": {
    "colab": {
      "name": "Untitled80.ipynb",
      "provenance": [],
      "authorship_tag": "ABX9TyPCMEc4iRiR8IOTSrMGLOVL",
      "include_colab_link": true
    },
    "kernelspec": {
      "name": "python3",
      "display_name": "Python 3"
    },
    "language_info": {
      "name": "python"
    }
  },
  "cells": [
    {
      "cell_type": "markdown",
      "metadata": {
        "id": "view-in-github",
        "colab_type": "text"
      },
      "source": [
        "<a href=\"https://colab.research.google.com/github/ykitaguchi77/Strabismus_AI_project/blob/main/5-fold%20crossvalidation.ipynb\" target=\"_parent\"><img src=\"https://colab.research.google.com/assets/colab-badge.svg\" alt=\"Open In Colab\"/></a>"
      ]
    },
    {
      "cell_type": "markdown",
      "metadata": {
        "id": "h5CVPFZ3z0ON"
      },
      "source": [
        "#**Strabismus 5-fold crossvalidation**"
      ]
    },
    {
      "cell_type": "code",
      "metadata": {
        "id": "2-ropSQkzzmq"
      },
      "source": [
        "\"\"\"\n",
        "CSVを作成し、ファイル名-正解-予測を記載\n",
        "\n",
        "データを5分割（division1~5)\n",
        "set1: 1がtest、2~5がtrain\n",
        "set2: 2がtest、1、3~5がtrain\n",
        "set3:\n",
        "set4: \n",
        "set5: 5がtest、1~4がtrain\n",
        "それぞれのdivisionに、exoとcontのフォルダを置いておく\n",
        "\n",
        "各セットについてトレーニング→CSVに予測の結果を記載していく\n",
        "全てのデータが揃ったら、正解-予測のデータから、正解率、感度、特異度、ROC curveの計算を行う\n",
        "\"\"\""
      ],
      "execution_count": null,
      "outputs": []
    },
    {
      "cell_type": "markdown",
      "metadata": {
        "id": "dyW4AJj14_og"
      },
      "source": [
        "#**Split dataset for Crossvalidation**\n",
        "trainセットを５分割、うち1つをvalセット、残りの合計をtestセットに分割"
      ]
    },
    {
      "cell_type": "code",
      "metadata": {
        "colab": {
          "base_uri": "https://localhost:8080/",
          "height": 137
        },
        "id": "PnyR-OC25V0Q",
        "outputId": "b9a31da5-f0e9-425f-87f2-fd0ed2d45516"
      },
      "source": [
        "import random\n",
        "import glob\n",
        "import os\n",
        "import shutil\n",
        "import numpy as np\n",
        "import time\n",
        "import pandas as pd\n",
        "\n",
        "from google.colab import drive\n",
        "drive.mount('/content/drive')\n",
        "\n",
        "\n",
        "'''\n",
        "-----orig_data-----grav\n",
        "                |--cont\n",
        "↓\n",
        "↓\n",
        "\n",
        "-----dst_data[0]------dst_train[0]----grav\n",
        "  |                |               |-- cont\n",
        "  |                |--dst_val[0]------grav\n",
        "  |                                |--cont\n",
        "  |\n",
        "  |--dst_data[1]------dst_train[1]----grav\n",
        "  |                |               |-- cont\n",
        "  |                |--dst_val[1]------grav\n",
        "  |                                |--cont\n",
        "  ...\n",
        "  |--dst_data[1]------dst_train[9]----grav\n",
        "                   |               |-- cont\n",
        "                   |--dst_val[9]------grav\n",
        "                                   |--cont\n",
        "'''"
      ],
      "execution_count": 1,
      "outputs": [
        {
          "output_type": "stream",
          "name": "stdout",
          "text": [
            "Mounted at /content/drive\n"
          ]
        },
        {
          "output_type": "execute_result",
          "data": {
            "application/vnd.google.colaboratory.intrinsic+json": {
              "type": "string"
            },
            "text/plain": [
              "'\\n-----orig_data-----grav\\n                |--cont\\n↓\\n↓\\n\\n-----dst_data[0]------dst_train[0]----grav\\n  |                |               |-- cont\\n  |                |--dst_val[0]------grav\\n  |                                |--cont\\n  |\\n  |--dst_data[1]------dst_train[1]----grav\\n  |                |               |-- cont\\n  |                |--dst_val[1]------grav\\n  |                                |--cont\\n  ...\\n  |--dst_data[1]------dst_train[9]----grav\\n                   |               |-- cont\\n                   |--dst_val[9]------grav\\n                                   |--cont\\n'"
            ]
          },
          "metadata": {},
          "execution_count": 1
        }
      ]
    },
    {
      "cell_type": "code",
      "metadata": {
        "id": "w6biTMRGD-WK"
      },
      "source": [
        "orig_path = \"/content/drive/MyDrive/Deep_learning/Strabismus/Dataset_250px_20211111\"\n",
        "dst_path = \"/content/drive/MyDrive/Deep_learning/Strabismus/Dataset_250px_crossvalidation\"  # フォルダ名\n",
        "split_num = 5  #データをいくつに分割するかを記載"
      ],
      "execution_count": 2,
      "outputs": []
    },
    {
      "cell_type": "code",
      "metadata": {
        "id": "P-XraZlu5a5d"
      },
      "source": [
        "def get_path(orig_path, dst_path, split_num):\n",
        "    classes = os.listdir(orig_path) #クラス名を取得\n",
        "    #データの分割数を設定\n",
        "    data_list = [0]*len(classes)\n",
        "    k=0\n",
        "    for i in classes:\n",
        "        data_list[k] = glob.glob(orig_path+'/'+i+'/*')\n",
        "        k+=1\n",
        "    split_length = int(len(data_list)/split_num)\n",
        "    return data_list, classes, split_length\n",
        "\n",
        "def makefolder(orig_path, dst_path, classes):\n",
        "    #フォルダを作成\n",
        "    if not os.path.exists(dst_path):  # ディレクトリがなかったら\n",
        "        os.mkdir(dst_path)  # 作成したいフォルダ名を作成\n",
        "        for i in range(split_num):\n",
        "            os.mkdir(dst_path+'/'+str(i))\n",
        "            os.mkdir(dst_path+'/'+str(i)+'/train')\n",
        "            os.mkdir(dst_path+'/'+str(i)+'/val')\n",
        "            for j in classes:\n",
        "                os.mkdir(dst_path+'/'+str(i)+'/train/'+j)\n",
        "                os.mkdir(dst_path+'/'+str(i)+'/val/'+j)\n",
        "\n",
        "def split_data_list(data_list, split_num):\n",
        "    split_data, dst_data, dst_train, dst_val, dst_test = [0]*split_num, [0]*split_num, [0]*split_num, [0]*split_num, [0]*split_num\n",
        "\n",
        "    #データの分割\n",
        "    split_data = list(np.array_split(data_list, split_num))\n",
        "\n",
        "    #データセット全体と分割したデータの差分を取り、dst_dataに格納\n",
        "\n",
        "    dst_data = [0] * split_num\n",
        "    for i in range(split_num):\n",
        "        dst_data[i] = [x for x in data_list if x not in split_data[i]]\n",
        "\n",
        "    #トレーニングセット、バリデーションセット、テストセットのリスト作成\n",
        "    for i in range(split_num):\n",
        "        dst_train[i] = dst_data[i]\n",
        "        dst_val[i] = split_data[i]  #テストセット\n",
        "    \n",
        "    return dst_train, dst_val\n",
        "\n",
        "def copy_to_folders(split_num, class_name, dst_train, dst_val, dst_path):\n",
        "    k=0\n",
        "    for i in range(split_num):\n",
        "        dst_path_train = dst_path +'/'+str(i)+'/train/'+class_name\n",
        "        dst_path_val = dst_path +'/'+str(i)+'/val/'+class_name\n",
        "        for p in dst_train[k]:  # 選択したファイルを目的フォルダにコピー\n",
        "            shutil.copy(p, dst_path_train)\n",
        "            #print(p)\n",
        "            print(dst_path_train)\n",
        "\n",
        "        for p in dst_val[k]:  # 選択したファイルを目的フォルダにコピー\n",
        "            shutil.copy(p, dst_path_val)\n",
        "            #print(p)    \n",
        "            print(dst_path_val)\n",
        "\n",
        "        k+=1"
      ],
      "execution_count": 3,
      "outputs": []
    },
    {
      "cell_type": "code",
      "metadata": {
        "id": "UHp4Whs25lbn"
      },
      "source": [
        "#Dataの５分割\n",
        "data_list, classes, split_length = get_path(orig_path, dst_path, split_num)\n",
        "makefolder(orig_path, dst_path, classes)\n",
        "\n",
        "\n",
        "print(classes)\n",
        "k=0\n",
        "for i in range(len(classes)):\n",
        "    dst_train, dst_val = split_data_list(data_list[k], split_num)\n",
        "    print(classes[k])\n",
        "    copy_to_folders(split_num, classes[k], dst_train, dst_val, dst_path)\n",
        "    k+=1"
      ],
      "execution_count": null,
      "outputs": []
    },
    {
      "cell_type": "code",
      "metadata": {
        "colab": {
          "base_uri": "https://localhost:8080/",
          "height": 1000
        },
        "id": "fFwa0-VP-fR5",
        "outputId": "826ff68c-26d1-4165-9c45-7e80df1bf681"
      },
      "source": [
        "classes = os.listdir(dst_path+\"/0/val/\")\n",
        "split_num = 5\n",
        "img_num = len(glob.glob(dst_path+\"/*/val/*/*\"))\n",
        "#print(glob.glob(dst_path+\"/*/val/*/*\"))\n",
        "#print(img_num)\n",
        "\n",
        "#Make CSV file\n",
        "cols = [\"num\", \"division\", \"class\", \"prediction\"]\n",
        "df_cross = pd.DataFrame(index=list(range(img_num)), columns=cols)\n",
        "print(df_cross)\n",
        "\n",
        "t=0\n",
        "for i in range(split_num):\n",
        "    for j in classes:\n",
        "        print(str(i) + \", \"+str(j))\n",
        "        img_list = os.listdir(dst_path+\"/\"+str(i)+\"/val/\"+str(j))\n",
        "        print(img_list)\n",
        "        for k in img_list:\n",
        "            df_cross.iloc[t,0]=str(k)\n",
        "            df_cross.iloc[t,1]=str(i)\n",
        "            df_cross.iloc[t,2]=str(j)\n",
        "            t+=1\n",
        "\n",
        "            \n",
        "df_cross\n"
      ],
      "execution_count": 28,
      "outputs": [
        {
          "output_type": "stream",
          "name": "stdout",
          "text": [
            "      num division class prediction\n",
            "0     NaN      NaN   NaN        NaN\n",
            "1     NaN      NaN   NaN        NaN\n",
            "2     NaN      NaN   NaN        NaN\n",
            "3     NaN      NaN   NaN        NaN\n",
            "4     NaN      NaN   NaN        NaN\n",
            "...   ...      ...   ...        ...\n",
            "1025  NaN      NaN   NaN        NaN\n",
            "1026  NaN      NaN   NaN        NaN\n",
            "1027  NaN      NaN   NaN        NaN\n",
            "1028  NaN      NaN   NaN        NaN\n",
            "1029  NaN      NaN   NaN        NaN\n",
            "\n",
            "[1030 rows x 4 columns]\n",
            "0, cont\n",
            "['6868.jpg', '1912.jpg', '7111.jpg', '5169.jpg', '3092.jpg', '4796.jpg', '9256.jpg', '6738.jpg', '8739.jpg', '8728.jpg', '9595.jpg', '1017.jpg', '4163.jpg', '2102.jpg', '6354.jpg', '1193.jpg', '2506.jpg', '1574.jpg', '8134.jpg', '5623.jpg', '2063.jpg', '5539.jpg', '3153.jpg', '4173.jpg', '2298.jpg', '1295.jpg', '1828.jpg', '1459.jpg', '5889.jpg', '8015.jpg', '2014.jpg', '8010.jpg', '5977.jpg', '137.jpg', '8102.jpg', '1393.jpg', '2575.jpg', '1319.jpg', '5782.jpg', '4818.jpg', '2031.jpg', '3139.jpg', '7963.jpg', '1025.jpg', '7400.jpg', '1059.jpg', '409.jpg', '47.jpg', '4462.jpg', '1601.jpg', '2069.jpg', '2209.jpg', '813.jpg', '8092.jpg', '3300.jpg', '2827.jpg', '1023.jpg', '1688.jpg', '4731.jpg', '1580.jpg', '1785.jpg', '1009.jpg', '4302.jpg', '1116.jpg', '4028.jpg', '5697.jpg', '225.jpg', '1019.jpg', '1708.jpg', '1598.jpg', '8118.jpg', '1968.jpg', '2048.jpg', '5304.jpg']\n",
            "0, eso\n",
            "['6188.jpg', '8162.jpg', '7572.jpg', '1607.jpg', '2291-1.jpg', '848-1.jpg', '848-2.jpg', '9186.jpg', '1235.jpg', '2291-2.jpg', '4385.jpg', '8473.jpg', '9663.jpg', '8435.jpg', '1663.jpg', '1616.jpg', '1504.jpg', '1544.jpg', '1518.jpg', '1570.jpg', '1569.jpg', '1557.jpg', '160.jpg', '1489.jpg', '141.jpg', '1425.jpg', '1368.jpg', '1398.jpg', '138.jpg', '1461.jpg', '1427.jpg', '1394.jpg', '1418.jpg', '1371.jpg', '1352.jpg', '1351.jpg', '1326.jpg', '1232.jpg', '1221.jpg', '1328.jpg', '1290.jpg', '1264.jpg', '1306.jpg', '1212.jpg', '1197.jpg', '1204.jpg', '1120.jpg', '1107.jpg', '1047.jpg', '1088.jpg', '1044.jpg', '1082.jpg', '1097.jpg', '1040.jpg', '2142.jpg', '2186.jpg', '2248.jpg', '2291.jpg', '2215.jpg', '217.jpg']\n",
            "0, exo\n",
            "['7933.jpg', '6817.jpg', '2639.jpg', '6279.jpg', '7152.jpg', '4437.jpg', '9622.jpg', '8194.jpg', '9323.jpg', '8366.jpg', '9604.jpg', '9236.jpg', '9444.jpg', '1362 (1).jpg', '1350 (1).jpg', '1334 (1).jpg', '1083.jpg', '1115 (1).jpg', '1129 (1).jpg', '1673 (1).jpg', '1611 (1).jpg', '1505 (1).jpg', '1400 (1).jpg', '1890 (1).jpg', '1888 (1).jpg', '949.jpg', '892 (1).jpg', '825 (1).jpg', '816 (2).jpg', '761 (2).jpg', '1491 (1).jpg', '1992 (1).jpg', '1961.jpg', '2045 (1).jpg', '2073 (1).jpg', '2081 (1).jpg', '1975 (1).jpg', '2289 (1).jpg', '2616.jpg', '2212.jpg', '2339 (1).jpg', '2650 (1).jpg', '2397 (1).jpg', '2235 (1).jpg', '2392 (1).jpg', '2622 (1).jpg', '2581.jpg', '3084.jpg', '3016.jpg', '2776.jpg', '3441.jpg', '3210.jpg', '3366.jpg', '2703.jpg', '3218.jpg', '3239.jpg', '3215.jpg', '3059.jpg', '3116.jpg', '3158.jpg', '3231.jpg', '3290.jpg', '3726.jpg', '3615.jpg', '3574.jpg', '4229.jpg', '4190.jpg', '4077.jpg', '4078.jpg', '3789.jpg', '3530.jpg', '3583.jpg', '4010.jpg', '3796.jpg']\n",
            "1, cont\n",
            "['7908.jpg', '2100.jpg', '8094.jpg', '498.jpg', '7057.jpg', '1844.jpg', '2449.jpg', '8097.jpg', '7960.jpg', '1707.jpg', '7988.jpg', '1873.jpg', '1897.jpg', '2383.jpg', '620.jpg', '4737.jpg', '6318.jpg', '8019.jpg', '6838.jpg', '1522.jpg', '8117.jpg', '5457.jpg', '2462.jpg', '4979.jpg', '4696.jpg', '786.jpg', '5390.jpg', '8188.jpg', '2173.jpg', '8183.jpg', '5097.jpg', '3128.jpg', '1372.jpg', '7401.jpg', '4417.jpg', '4869.jpg', '4755.jpg', '7937.jpg', '3455.jpg', '8137.jpg', '4270.jpg', '5143.jpg', '4762.jpg', '4760.jpg', '5223.jpg', '5587.jpg', '8088.jpg', '6768.jpg', '4695.jpg', '5946.jpg', '4246.jpg', '5077.jpg', '8072.jpg', '8008.jpg', '4549.jpg', '1291.jpg', '7954.jpg', '2081.jpg', '1604.jpg', '2286.jpg', '1882.jpg', '2162.jpg', '1638.jpg', '6132.jpg', '4349.jpg', '3390.jpg', '5887.jpg', '369.jpg', '4498.jpg', '4745.jpg', '1865.jpg', '2675.jpg', '8017.jpg']\n",
            "1, eso\n",
            "['2239.jpg', '2244.jpg', '2242.jpg', '2114.jpg', '2112.jpg', '21.jpg', '2088.jpg', '2082.jpg', '2071.jpg', '206.jpg', '2111.jpg', '2018.jpg', '2049.jpg', '2011.jpg', '2002.jpg', '1984.jpg', '1842.jpg', '1862.jpg', '1855.jpg', '1882.jpg', '1843.jpg', '1982.jpg', '1831.jpg', '1829.jpg', '18.jpg', '1683.jpg', '1769.jpg', '173.jpg', '1717.jpg', '1720.jpg', '1780.jpg', '1718.jpg', '1677.jpg', '2859.jpg', '2844.jpg', '2783.jpg', '2732.jpg', '2834.jpg', '2740.jpg', '2810.jpg', '2829.jpg', '2727.jpg', '2656.jpg', '2652.jpg', '2640.jpg', '2605.jpg', '2613.jpg', '2638.jpg', '2517.jpg', '2537.jpg', '2522.jpg', '2514.jpg', '2466.jpg', '2474.jpg', '2438.jpg', '2484.jpg', '2492.jpg', '2455.jpg', '251.jpg', '2465.jpg']\n",
            "1, exo\n",
            "['3636.jpg', '4291.jpg', '4203.jpg', '4435.jpg', '4496.jpg', '761 (1).jpg', '816 (1).jpg', '716.jpg', '844.jpg', '918.jpg', '1189.jpg', '1474.jpg', '1583.jpg', '1123.jpg', '1630.jpg', '1741.jpg', '1775.jpg', '1833.jpg', '1958.jpg', '268.jpg', '441.jpg', '267.jpg', '1169.jpg', '1813.jpg', '1546.jpg', '1707.jpg', '2178.jpg', '1379.jpg', '2238.jpg', '1713.jpg', '2579.jpg', '1787.jpg', '1792.jpg', '2690.jpg', '1865.jpg', '2072.jpg', '1662.jpg', '1746.jpg', '196.jpg', '1350.jpg', '1905.jpg', '2108.jpg', '215.jpg', '307.jpg', '1499.jpg', '1788.jpg', '2618.jpg', '1846.jpg', '1459.jpg', '655.jpg', '2020.jpg', '2602.jpg', '445.jpg', '407.jpg', '2100.jpg', '414.jpg', '1367.jpg', '1708.jpg', '1890.jpg', '1078.jpg', '1387.jpg', '1407.jpg', '125.jpg', '257.jpg', '1539.jpg', '2491.jpg', '2661.jpg', '2621.jpg', '1917.jpg', '294.jpg', '2622.jpg', '637.jpg', '256.jpg']\n",
            "2, cont\n",
            "['4603.jpg', '1777.jpg', '8093.jpg', '4545.jpg', '7995.jpg', '3009.jpg', '2463.jpg', '2695.jpg', '5698.jpg', '3215.jpg', '4496.jpg', '4664.jpg', '1985.jpg', '6717.jpg', '7134.jpg', '4800.jpg', '1082.jpg', '5059.jpg', '1946.jpg', '914.jpg', '5092.jpg', '4671.jpg', '4260.jpg', '5058.jpg', '630.jpg', '7952.jpg', '8191.jpg', '8152.jpg', '1716.jpg', '5388.jpg', '7998.jpg', '2002.jpg', '2730.jpg', '2212.jpg', '8027.jpg', '8040.jpg', '2311.jpg', '91.jpg', '2074.jpg', '3206.jpg', '2003.jpg', '2857.jpg', '2444.jpg', '5086.jpg', '6103.jpg', '3586.jpg', '1127.jpg', '4797.jpg', '6371.jpg', '6429.jpg', '1122.jpg', '1461.jpg', '183.jpg', '2135.jpg', '8024.jpg', '4913.jpg', '6000.jpg', '5533.jpg', '2832.jpg', '3284.jpg', '5727.jpg', '1709.jpg', '2856.jpg', '1953.jpg', '2080.jpg', '1465.jpg', '4733.jpg', '5114.jpg', '6454.jpg', '7986.jpg', '1988.jpg', '126.jpg', '8068.jpg']\n",
            "2, eso\n",
            "['2478.jpg', '2447.jpg', '2380.jpg', '2418.jpg', '2359.jpg', '2293.jpg', '2350.jpg', '2409.jpg', '2433.jpg', '2382.jpg', '2337.jpg', '2333.jpg', '361.jpg', '3604.jpg', '3593.jpg', '3495.jpg', '3561.jpg', '3460.jpg', '3488.jpg', '3556.jpg', '3470.jpg', '353.jpg', '3454.jpg', '3418.jpg', '3391.jpg', '3408.jpg', '3375.jpg', '3409.jpg', '3298.jpg', '334.jpg', '3338.jpg', '3326.jpg', '3288.jpg', '3265.jpg', '3241.jpg', '3205.jpg', '3121.jpg', '3184.jpg', '3054.jpg', '3165.jpg', '3024.jpg', '3027.jpg', '3000.jpg', '2956.jpg', '2914.jpg', '2913.jpg', '2938.jpg', '2915.jpg', '2921.jpg', '2940.jpg', '2899.jpg', '2871.jpg', '4297.jpg', '427.jpg', '4285.jpg', '4264.jpg', '4119.jpg', '4161.jpg', '4200.jpg', '4184.jpg']\n",
            "2, exo\n",
            "['463.jpg', '190.jpg', '589.jpg', '1032.jpg', '1139.jpg', '41.jpg', '2392.jpg', '1897.jpg', '2637.jpg', '318.jpg', '2045.jpg', '1996.jpg', '2287.jpg', '1031.jpg', '558.jpg', '1151.jpg', '2685.jpg', '1480.jpg', '2081.jpg', '2234.jpg', '1099.jpg', '1491.jpg', '1825.jpg', '1428.jpg', '357.jpg', '2181.jpg', '1679.jpg', '2285.jpg', '2245.jpg', '1414.jpg', '1654.jpg', '2598.jpg', '349.jpg', '1337.jpg', '159.jpg', '2073.jpg', '617.jpg', '1450.jpg', '2257.jpg', '1319.jpg', '1220.jpg', '423.jpg', '1896.jpg', '1485.jpg', '322.jpg', '1617.jpg', '525.jpg', '1547.jpg', '2118.jpg', '1444.jpg', '2200.jpg', '2572.jpg', '312.jpg', '1357.jpg', '1964.jpg', '1966.jpg', '549.jpg', '2580.jpg', '29.jpg', '305.jpg', '2646.jpg', '162.jpg', '526.jpg', '254.jpg', '453.jpg', '1421.jpg', '1210.jpg', '1465.jpg', '240.jpg', '1329.jpg', '1744.jpg', '2263.jpg', '395.jpg']\n",
            "3, cont\n",
            "['2699.jpg', '308.jpg', '5377.jpg', '4906.jpg', '5603.jpg', '1992.jpg', '3150.jpg', '5071.jpg', '3173.jpg', '5981.jpg', '910.jpg', '1234.jpg', '3016.jpg', '2537.jpg', '8002.jpg', '5606.jpg', '8149.jpg', '310.jpg', '5231.jpg', '8140.jpg', '4848.jpg', '343.jpg', '8138.jpg', '2129.jpg', '1938.jpg', '1414.jpg', '1656.jpg', '2828.jpg', '7424.jpg', '4740.jpg', '2419.jpg', '8170.jpg', '4756.jpg', '2385.jpg', '1888.jpg', '1960.jpg', '2381.jpg', '4642.jpg', '2660.jpg', '3055.jpg', '1730.jpg', '2501.jpg', '4435.jpg', '2134.jpg', '4923.jpg', '1685.jpg', '8098.jpg', '4484.jpg', '4145.jpg', '234.jpg', '2397.jpg', '172.jpg', '1050.jpg', '3298.jpg', '1934.jpg', '4788.jpg', '5767.jpg', '3534.jpg', '4020.jpg', '821.jpg', '1883.jpg', '1674.jpg', '4021.jpg', '303.jpg', '2161.jpg', '2424.jpg', '4238.jpg', '4095.jpg', '1134.jpg', '5731.jpg', '4742.jpg', '1012.jpg', '2044.jpg']\n",
            "3, eso\n",
            "['4143.jpg', '4152.jpg', '4118.jpg', '4036.jpg', '4112.jpg', '3994.jpg', '4008.jpg', '4055.jpg', '3997.jpg', '4057.jpg', '4013.jpg', '4096.jpg', '3975.jpg', '3964.jpg', '3948.jpg', '3949.jpg', '386.jpg', '3943.jpg', '3844.jpg', '3941.jpg', '39.jpg', '3836.jpg', '3810.jpg', '3703.jpg', '3618.jpg', '3818.jpg', '3616.jpg', '3782.jpg', '3701.jpg', '362.jpg', '3777.jpg', '58.jpg', '581.jpg', '579.jpg', '573.jpg', '4974.jpg', '532.jpg', '578.jpg', '50.jpg', '577.jpg', '4967.jpg', '492.jpg', '4837.jpg', '4953.jpg', '48.jpg', '4913.jpg', '4811.jpg', '4914.jpg', '4922.jpg', '485.jpg', '4792.jpg', '4571.jpg', '4649.jpg', '4775.jpg', '4567.jpg', '4662.jpg', '464.jpg', '4653.jpg', '4615.jpg']\n",
            "3, exo\n",
            "['1172.jpg', '2135.jpg', '2415.jpg', '280.jpg', '2669.jpg', '1004.jpg', '2397.jpg', '1129.jpg', '2462.jpg', '1643.jpg', '213.jpg', '435.jpg', '1724.jpg', '382.jpg', '478.jpg', '1797.jpg', '1674.jpg', '438.jpg', '1919.jpg', '1115.jpg', '120.jpg', '2700.jpg', '218.jpg', '1027.jpg', '1505.jpg', '2679.jpg', '2513.jpg', '1216.jpg', '1507.jpg', '1274.jpg', '2235.jpg', '163.jpg', '2463.jpg', '1049.jpg', '1804.jpg', '1247.jpg', '1716.jpg', '2046.jpg', '1400.jpg', '2028.jpg', '2529.jpg', '2383.jpg', '2584.jpg', '408.jpg', '2069.jpg', '1782.jpg', '2575.jpg', '1348.jpg', '473.jpg', '2675.jpg', '2609.jpg', '1992.jpg', '1611.jpg', '1334.jpg', '1155.jpg', '2632.jpg', '1117.jpg', '2296.jpg', '1711.jpg', '222.jpg', '186.jpg', '136.jpg', '1975.jpg', '409.jpg', '599.jpg', '1135.jpg', '429.jpg', '2650.jpg', '1626.jpg', '2278.jpg', '1362.jpg', '1906.jpg', '1771.jpg']\n",
            "4, cont\n",
            "['116.JPG', '145.JPG', '152.JPG', '201.JPG', '809.JPG', '946.JPG', '1014.JPG', '1033.JPG', '1162.JPG', '1213.JPG', '1222.JPG', '1230.JPG', '1256.JPG', '1405.JPG', '1424.JPG', '1434.JPG', '1443.JPG', '1462.JPG', '1490.JPG', '1512.JPG', '1573.JPG', '1621.JPG', '1635.JPG', '1696.JPG', '1758.JPG', '1765.JPG', '1816.JPG', '1868.JPG', '1921.JPG', '1927.JPG', '1977.JPG', '1983.JPG', '2101.JPG', '2107.JPG', '2155.JPG', '2214.JPG', '2276.JPG', '2272.JPG', '2394.JPG', '2435.JPG', '2518.JPG', '2525.JPG', '2604.JPG', '2841.JPG', '2947.JPG', '3013.JPG', '3188.JPG', '3410.JPG', '4027.JPG', '4230.JPG', '4315.JPG', '4336.JPG', '4387.JPG', '4692.JPG', '4809.JPG', '4862.JPG', '5196.JPG', '5485.JPG', '5783.JPG', '5839.JPG', '6018.JPG', '6685.JPG', '6843.JPG', '7906.JPG', '7972.JPG', '7985.JPG', '7999.JPG', '8064.JPG', '8100.JPG', '8120.JPG', '8132.JPG', '8145.JPG', '8192.JPG']\n",
            "4, eso\n",
            "['4593.jpg', '4542.jpg', '4541.jpg', '4504.jpg', '449.jpg', '4421.jpg', '448.jpg', '4430.jpg', '4468.jpg', '4482.jpg', '4424.jpg', '4404.jpg', '440.jpg', '437.jpg', '4345.jpg', '4326.jpg', '4322.jpg', '436.jpg', '4314.jpg', '4300.jpg', '43.jpg', '990.jpg', '99.jpg', '993.jpg', '987.jpg', '975.jpg', '94.jpg', '911.jpg', '913.jpg', '90.jpg', '874.jpg', '902.jpg', '908.jpg', '916.jpg', '848.jpg', '764.jpg', '804.jpg', '795.jpg', '823.jpg', '833.jpg', '757.jpg', '777.jpg', '720.jpg', '832.jpg', '716.jpg', '668.jpg', '660.jpg', '625.jpg', '6.jpg', '658.jpg', '598.jpg', '607.jpg', '654.jpg', '615.jpg', '587.jpg', '2966.jpg', '3889.jpg', '1848.jpg', '2538.jpg']\n",
            "4, exo\n",
            "['1343.jpg', '630.jpg', '1752.jpg', '2501.jpg', '2289.jpg', '648.jpg', '128.jpg', '1437.jpg', '2641.jpg', '49.jpg', '2302.jpg', '1105.jpg', '1863.jpg', '608.jpg', '2339.jpg', '1294.jpg', '1532.jpg', '2425.jpg', '1540.jpg', '1623.jpg', '1884.jpg', '1888.jpg', '1102.jpg', '135.jpg', '339.jpg', '2381.jpg', '1005.jpg', '2205.jpg', '1774.jpg', '2449.jpg', '2270.jpg', '1673.jpg', '792.jpg', '359.jpg', '666.jpg', '725.jpg', '761.jpg', '735.jpg', '816.jpg', '825.jpg', '7.jpg', '898.jpg', '999.jpg', '796.jpg', '734.jpg', '71.jpg', '813.jpg', '835.jpg', '758.jpg', '742.jpg', '800.jpg', '9.jpg', '791.jpg', '790.jpg', '694.jpg', '926.jpg', '845.jpg', '690.jpg', '972.jpg', '770.jpg', '921.jpg', '815.jpg', '784.jpg', '840.jpg', '788.jpg', '868.jpg', '751.jpg', '894.jpg', '82.jpg', '929.jpg', '994.jpg', '715.jpg', '892.jpg']\n"
          ]
        },
        {
          "output_type": "execute_result",
          "data": {
            "text/html": [
              "<div>\n",
              "<style scoped>\n",
              "    .dataframe tbody tr th:only-of-type {\n",
              "        vertical-align: middle;\n",
              "    }\n",
              "\n",
              "    .dataframe tbody tr th {\n",
              "        vertical-align: top;\n",
              "    }\n",
              "\n",
              "    .dataframe thead th {\n",
              "        text-align: right;\n",
              "    }\n",
              "</style>\n",
              "<table border=\"1\" class=\"dataframe\">\n",
              "  <thead>\n",
              "    <tr style=\"text-align: right;\">\n",
              "      <th></th>\n",
              "      <th>num</th>\n",
              "      <th>division</th>\n",
              "      <th>class</th>\n",
              "      <th>prediction</th>\n",
              "    </tr>\n",
              "  </thead>\n",
              "  <tbody>\n",
              "    <tr>\n",
              "      <th>0</th>\n",
              "      <td>6868.jpg</td>\n",
              "      <td>0</td>\n",
              "      <td>cont</td>\n",
              "      <td>NaN</td>\n",
              "    </tr>\n",
              "    <tr>\n",
              "      <th>1</th>\n",
              "      <td>1912.jpg</td>\n",
              "      <td>0</td>\n",
              "      <td>cont</td>\n",
              "      <td>NaN</td>\n",
              "    </tr>\n",
              "    <tr>\n",
              "      <th>2</th>\n",
              "      <td>7111.jpg</td>\n",
              "      <td>0</td>\n",
              "      <td>cont</td>\n",
              "      <td>NaN</td>\n",
              "    </tr>\n",
              "    <tr>\n",
              "      <th>3</th>\n",
              "      <td>5169.jpg</td>\n",
              "      <td>0</td>\n",
              "      <td>cont</td>\n",
              "      <td>NaN</td>\n",
              "    </tr>\n",
              "    <tr>\n",
              "      <th>4</th>\n",
              "      <td>3092.jpg</td>\n",
              "      <td>0</td>\n",
              "      <td>cont</td>\n",
              "      <td>NaN</td>\n",
              "    </tr>\n",
              "    <tr>\n",
              "      <th>...</th>\n",
              "      <td>...</td>\n",
              "      <td>...</td>\n",
              "      <td>...</td>\n",
              "      <td>...</td>\n",
              "    </tr>\n",
              "    <tr>\n",
              "      <th>1025</th>\n",
              "      <td>82.jpg</td>\n",
              "      <td>4</td>\n",
              "      <td>exo</td>\n",
              "      <td>NaN</td>\n",
              "    </tr>\n",
              "    <tr>\n",
              "      <th>1026</th>\n",
              "      <td>929.jpg</td>\n",
              "      <td>4</td>\n",
              "      <td>exo</td>\n",
              "      <td>NaN</td>\n",
              "    </tr>\n",
              "    <tr>\n",
              "      <th>1027</th>\n",
              "      <td>994.jpg</td>\n",
              "      <td>4</td>\n",
              "      <td>exo</td>\n",
              "      <td>NaN</td>\n",
              "    </tr>\n",
              "    <tr>\n",
              "      <th>1028</th>\n",
              "      <td>715.jpg</td>\n",
              "      <td>4</td>\n",
              "      <td>exo</td>\n",
              "      <td>NaN</td>\n",
              "    </tr>\n",
              "    <tr>\n",
              "      <th>1029</th>\n",
              "      <td>892.jpg</td>\n",
              "      <td>4</td>\n",
              "      <td>exo</td>\n",
              "      <td>NaN</td>\n",
              "    </tr>\n",
              "  </tbody>\n",
              "</table>\n",
              "<p>1030 rows × 4 columns</p>\n",
              "</div>"
            ],
            "text/plain": [
              "           num division class prediction\n",
              "0     6868.jpg        0  cont        NaN\n",
              "1     1912.jpg        0  cont        NaN\n",
              "2     7111.jpg        0  cont        NaN\n",
              "3     5169.jpg        0  cont        NaN\n",
              "4     3092.jpg        0  cont        NaN\n",
              "...        ...      ...   ...        ...\n",
              "1025    82.jpg        4   exo        NaN\n",
              "1026   929.jpg        4   exo        NaN\n",
              "1027   994.jpg        4   exo        NaN\n",
              "1028   715.jpg        4   exo        NaN\n",
              "1029   892.jpg        4   exo        NaN\n",
              "\n",
              "[1030 rows x 4 columns]"
            ]
          },
          "metadata": {},
          "execution_count": 28
        }
      ]
    },
    {
      "cell_type": "markdown",
      "metadata": {
        "id": "blaWE7qw6GjP"
      },
      "source": [
        "#**作ったフォルダの削除**"
      ]
    },
    {
      "cell_type": "code",
      "metadata": {
        "id": "ats9BT0d6OAP"
      },
      "source": [
        "dst_path = \"/content/drive/MyDrive/Deep_learning/Strabismus/Dataset_250px_crossvalidation\"\n",
        "directory = dst_path\n",
        "try:\n",
        "    shutil.rmtree(directory)\n",
        "except FileNotFoundError:\n",
        "    pass"
      ],
      "execution_count": null,
      "outputs": []
    }
  ]
}