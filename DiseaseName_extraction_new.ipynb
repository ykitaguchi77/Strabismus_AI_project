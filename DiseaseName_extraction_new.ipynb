{
  "nbformat": 4,
  "nbformat_minor": 0,
  "metadata": {
    "colab": {
      "name": "Untitled59.ipynb",
      "provenance": [],
      "include_colab_link": true
    },
    "kernelspec": {
      "name": "python3",
      "display_name": "Python 3"
    },
    "language_info": {
      "name": "python"
    }
  },
  "cells": [
    {
      "cell_type": "markdown",
      "metadata": {
        "id": "view-in-github",
        "colab_type": "text"
      },
      "source": [
        "<a href=\"https://colab.research.google.com/github/ykitaguchi77/Strabismus_AI_project/blob/main/DiseaseName_extraction_new.ipynb\" target=\"_parent\"><img src=\"https://colab.research.google.com/assets/colab-badge.svg\" alt=\"Open In Colab\"/></a>"
      ]
    },
    {
      "cell_type": "markdown",
      "metadata": {
        "id": "aoXy5R2QV7MO"
      },
      "source": [
        "#**病名を含むリストを抽出するスクリプト**\n",
        "csvから特定の文字列を含む行を抜き出して保存"
      ]
    },
    {
      "cell_type": "code",
      "metadata": {
        "id": "gr7Q2Jy8V6qG",
        "colab": {
          "base_uri": "https://localhost:8080/"
        },
        "outputId": "a845925f-bc7f-4c1d-d116-0f71d66f0bfe"
      },
      "source": [
        "from google.colab import drive\n",
        "drive.mount('/content/drive')"
      ],
      "execution_count": 1,
      "outputs": [
        {
          "output_type": "stream",
          "name": "stdout",
          "text": [
            "Mounted at /content/drive\n"
          ]
        }
      ]
    },
    {
      "cell_type": "code",
      "metadata": {
        "id": "vBwzMI-JWDBz",
        "colab": {
          "base_uri": "https://localhost:8080/"
        },
        "outputId": "576913ef-6b77-47f0-8589-a0bb444d03f9"
      },
      "source": [
        "import csv\n",
        "import numpy as np\n",
        "import os\n",
        "import os.path\n",
        "import sys\n",
        "import glob\n",
        "import pandas as pd\n",
        "import codecs\n",
        "\n",
        "byoumei=[\"腫瘍\", \"腫瘤\"]\n",
        "byoumei_exclude=[\"眼窩腫瘍\", \"涙腺腫瘍\"]\n",
        "csv_path = '/content/drive/MyDrive/Deep_learning/Facephoto_LIST/DiseaseInfo_all_connected_new3.csv'\n",
        "dst_folder = '/content/drive/MyDrive/進行中の研究/斜視AIプロジェクト/'\n",
        "\n",
        "#各ファイルを開く　※codec errorを回避\n",
        "with codecs.open(csv_path, \"r\", \"utf-8\", \"ignore\") as file:\n",
        "#with codecs.open(csv_path, \"r\", \"shift_jis\", \"ignore\") as file:\n",
        "    df = pd.read_csv(file, delimiter=\",\", header=None)\n",
        "print(df)\n",
        "\n",
        "#ファイル名設定のための前処理\n",
        "byoumei_filename = byoumei[0]\n",
        "j=1\n",
        "for i in range(len(byoumei)-1):\n",
        "    byoumei_filename = byoumei_filename + '.' + byoumei[j]\n",
        "    j+=1\n",
        "dst_path = dst_folder + \"/Disease_extracted_\" + byoumei_filename+ \".csv\""
      ],
      "execution_count": 38,
      "outputs": [
        {
          "output_type": "stream",
          "name": "stdout",
          "text": [
            "              0                                                  1   ...   24   25\n",
            "0     10893530.0  d8847829893b30e2bff7943b01ca557fe839cf9b649d5e...  ...  NaN  NaN\n",
            "1      7777705.0  a084892cbe599b02304e56535d7072d736271bd487abf4...  ...  NaN  NaN\n",
            "2     10527858.0  d53872e128cd3d405f313b5c179a079a2fbeda852bca2d...  ...  NaN  NaN\n",
            "3     10021590.0  9366a1267f814193d9ac2f13786d89acdb16456ee46db4...  ...  NaN  NaN\n",
            "4     10964694.0  c5fbf6684b10dc2f84635ba7fcb3b0c7b6021b34bf4938...  ...  NaN  NaN\n",
            "...          ...                                                ...  ...  ...  ...\n",
            "9819  11613788.0  757069f15bc74739c51f5fe03167d51f594f4779017b2b...  ...  NaN  NaN\n",
            "9820   9055165.0  51e7f294b7b63f15864316bbaf5b701b43f0c11c18c9fd...  ...  NaN  NaN\n",
            "9821  11452681.0  f7345ccf09fe678c1ba8487d9a61e4bfc1658144b98ae9...  ...  NaN  NaN\n",
            "9822   6911048.0  23753e35a4b02c439e9adecab3d26887ba4729e07258fa...  ...  NaN  NaN\n",
            "9823  11587782.0  b3e8e6f86945cf4e67c8e473ff99a6ecadb99b5327f5f5...  ...  NaN  NaN\n",
            "\n",
            "[9824 rows x 26 columns]\n"
          ]
        }
      ]
    },
    {
      "cell_type": "markdown",
      "metadata": {
        "id": "EDLo1wA1WObk"
      },
      "source": [
        "#**病名を含むリストを抽出**"
      ]
    },
    {
      "cell_type": "code",
      "metadata": {
        "id": "JbUopD7TWTij",
        "colab": {
          "base_uri": "https://localhost:8080/"
        },
        "outputId": "543d28b4-198d-425c-e98c-bdd7fefdca05"
      },
      "source": [
        "list=pd.DataFrame({}) #空のリストを定義\n",
        "\n",
        "for i in byoumei:\n",
        "    for j in range(df.shape[1]):  #それぞれの列に対して検索をかける\n",
        "        extract = df[df[j].astype(str).str.contains(i, na=False)] #数字、naに関するエラーを回避        \n",
        "        list = list.append(extract)\n",
        "\n",
        "for i in byoumei_exclude: #除外病名\n",
        "    for j in range(list.shape[1]):  #それぞれの列に対して検索をかける\n",
        "        list = list[~list[j].astype(str).str.contains(i)]\n",
        "\n",
        "#重複した行を削除\n",
        "list = list[~list.duplicated()]\n",
        "#番号順に並び替え\n",
        "list = list.sort_values([2]) #[2]は列番号\n",
        "\n",
        "print(str(len(list))+\"例抽出されました！\")"
      ],
      "execution_count": 39,
      "outputs": [
        {
          "output_type": "stream",
          "name": "stdout",
          "text": [
            "420例抽出されました！\n"
          ]
        }
      ]
    },
    {
      "cell_type": "markdown",
      "metadata": {
        "id": "-NPhE8wCWUF1"
      },
      "source": [
        "#**抽出したファイルを出力**"
      ]
    },
    {
      "cell_type": "code",
      "metadata": {
        "id": "QFtTCYm_WZE8"
      },
      "source": [
        "list.to_csv(dst_path, encoding='utf_8_sig', index = False, header=False)"
      ],
      "execution_count": 40,
      "outputs": []
    }
  ]
}