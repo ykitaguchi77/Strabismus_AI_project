{
  "nbformat": 4,
  "nbformat_minor": 0,
  "metadata": {
    "colab": {
      "name": "Untitled64.ipynb",
      "provenance": [],
      "include_colab_link": true
    },
    "kernelspec": {
      "name": "python3",
      "display_name": "Python 3"
    }
  },
  "cells": [
    {
      "cell_type": "markdown",
      "metadata": {
        "id": "view-in-github",
        "colab_type": "text"
      },
      "source": [
        "<a href=\"https://colab.research.google.com/github/ykitaguchi77/Strabismus_AI_project/blob/main/%E3%80%90%E8%A9%95%E4%BE%A1%E7%94%A8%E3%80%91TrainingSet%E3%81%AE%E3%83%AA%E3%82%B9%E3%83%88CSV%E3%81%A8%E7%95%AA%E5%8F%B7%E4%BB%98%E3%81%8D%E7%94%BB%E5%83%8F%E3%82%92%E4%BD%9C%E6%88%90_colab1.1.ipynb\" target=\"_parent\"><img src=\"https://colab.research.google.com/assets/colab-badge.svg\" alt=\"Open In Colab\"/></a>"
      ]
    },
    {
      "cell_type": "markdown",
      "metadata": {
        "id": "NlLpkWVcVFsQ"
      },
      "source": [
        "#**【評価用】TrainingSetのリストCSVを作成**\n"
      ]
    },
    {
      "cell_type": "code",
      "metadata": {
        "id": "bH8TbMaxu669",
        "colab": {
          "base_uri": "https://localhost:8080/"
        },
        "outputId": "a259750c-3245-4db6-932e-9340d3ef0c0c"
      },
      "source": [
        "\"\"\"\n",
        "test-------class1\n",
        "       |----class2\n",
        "       |----class3\n",
        "\n",
        "→CSVでリストを作成（ランダムに並び替え）\n",
        "\"\"\"\n",
        "\n",
        "from google.colab import drive\n",
        "drive.mount('/content/drive')"
      ],
      "execution_count": 7,
      "outputs": [
        {
          "output_type": "stream",
          "name": "stdout",
          "text": [
            "Drive already mounted at /content/drive; to attempt to forcibly remount, call drive.mount(\"/content/drive\", force_remount=True).\n"
          ]
        }
      ]
    },
    {
      "cell_type": "code",
      "metadata": {
        "id": "RDGnBBd4FvT-"
      },
      "source": [
        "import os\n",
        "import pandas as pd\n",
        "import glob\n",
        "import random\n",
        "\n",
        "test_dir = \"/content/drive/MyDrive/Deep_learning/Strabismus/testset2_750px\"  #test画像(classごとにフォルダ分けあり)のパス\n",
        "csv_dir = \"/content/drive/MyDrive/Deep_learning/Strabismus/3classes_test.csv\"   #画像のリストをCSVに書き出した保存先\n",
        "csv_AI_dir = \"/content/drive/MyDrive/Deep_learning/Strabismus/3classes_test_AI_result.csv\"     #すでに作成したAIによる判定結果のリスト\n",
        "img_save_dir = \"/content/drive/MyDrive/Deep_learning/Strabismus/3class_humanEval\"   #通し番号を記入した画像を保存するパス\n",
        "pdf_save_dir = \"/content/drive/MyDrive/Deep_learning/Strabismus/3class_humanEval\"   #画像を番号順にpdf化したものを保存するパス\n",
        "zip_save_dir = \"/content/drive/MyDrive/Deep_learning/Strabismus/3class_humanEval\"   #評価画像と回答用csvの組み合わせを圧縮して保存\n",
        "\n",
        "ref_csv_dir = \"/content/drive/MyDrive/進行中の研究/斜視AIプロジェクト/test_image_list.csv\" #評価画像の順番チェック用\n"
      ],
      "execution_count": 98,
      "outputs": []
    },
    {
      "cell_type": "markdown",
      "metadata": {
        "id": "EkWtG3YvwG6F"
      },
      "source": [
        "#**新たに評価用CSVを作成**"
      ]
    },
    {
      "cell_type": "code",
      "metadata": {
        "id": "zQaXT3k_Gy0Y",
        "colab": {
          "base_uri": "https://localhost:8080/"
        },
        "outputId": "fd4b4692-f6b7-488b-9c8f-6409b6e7fa27"
      },
      "source": [
        "classes = os.listdir(test_dir)\n",
        "\n",
        "k=0\n",
        "for i in classes:\n",
        "    print(str(k)+\": \"+i+\" \"+str(len(os.listdir(os.path.join(test_dir, i))))+\" images\")\n",
        "    k+=1\n",
        "\n",
        "#画像のリストを作る\n",
        "\n",
        "image_path_list = [0]*len(classes)\n",
        "image_name_list = [0]*len(classes)\n",
        "\n",
        "for i in range(len(classes)):\n",
        "    image_name_list[i] = os.listdir(test_dir + \"/\" + classes[i])\n",
        "    image_path_list[i] = glob.glob(test_dir + \"/\" + classes[i]+\"/*\")\n",
        "\n",
        "\n",
        "\n",
        "#Pandasでリストを作成（それぞれの列を定義）\n",
        "\n",
        "Image_name, Label, Answer, AI = [], [], [], []\n",
        "\n",
        "\n",
        "for i in image_name_list:\n",
        "    Image_name = list(Image_name + i)\n",
        "\n",
        "k=0\n",
        "for i in image_name_list:\n",
        "    for j in range(len(i)):\n",
        "        Label.append(classes[k])\n",
        "    k+=1\n",
        "\n",
        "Answer = len(Image_name)* [\" \"] \n",
        "\n",
        "AI = len(Image_name)* [\"\"] \n",
        "\n",
        "\n",
        "df = pd.DataFrame(\n",
        "        data={'Image_name': Image_name, 'Label': Label, 'AI': AI, 'Answer: 正常0, 内斜視1, 外斜視2': Answer},\n",
        "        columns=['Image_name', 'Label', 'AI', 'Answer: 正常0, 内斜視1, 外斜視2']\n",
        ")\n",
        "\n",
        "#行をランダムにシャッフルして、インデックスを並び替える\n",
        "random.seed(100)\n",
        "df = df.sample(frac=1, random_state=100).reset_index(drop=True)\n",
        "print(df)\n",
        "\n",
        "#CSVに書き出し\n",
        "df.to_csv(csv_dir, index=True, encoding='utf_8_sig')"
      ],
      "execution_count": 67,
      "outputs": [
        {
          "output_type": "stream",
          "name": "stdout",
          "text": [
            "0: Cont 11 images\n",
            "1: Exte 15 images\n",
            "2: Inte 18 images\n",
            "    Image_name Label AI Answer: 正常0, 内斜視1, 外斜視2\n",
            "0     6738.jpg  Cont                           \n",
            "1     7152.jpg  Exte                           \n",
            "2     9622.jpg  Exte                           \n",
            "3     3889.jpg  Inte                           \n",
            "4     9186.jpg  Inte                           \n",
            "5     8435.jpg  Inte                           \n",
            "6     3092.jpg  Cont                           \n",
            "7     9444.jpg  Exte                           \n",
            "8     1848.jpg  Inte                           \n",
            "9   2291-2.jpg  Inte                           \n",
            "10    6868.jpg  Cont                           \n",
            "11    1607.jpg  Inte                           \n",
            "12    7572.jpg  Inte                           \n",
            "13    2966.jpg  Inte                           \n",
            "14    8194.jpg  Exte                           \n",
            "15    9256.jpg  Cont                           \n",
            "16    8473.jpg  Inte                           \n",
            "17    4437.jpg  Exte                           \n",
            "18    9323.jpg  Exte                           \n",
            "19    2641.jpg  Exte                           \n",
            "20    7111.jpg  Cont                           \n",
            "21   848-1.jpg  Inte                           \n",
            "22    7933.jpg  Exte                           \n",
            "23   848-2.jpg  Inte                           \n",
            "24    8366.jpg  Exte                           \n",
            "25    8739.jpg  Cont                           \n",
            "26    6279.jpg  Exte                           \n",
            "27    2538.jpg  Inte                           \n",
            "28    6188.jpg  Inte                           \n",
            "29    6817.jpg  Exte                           \n",
            "30    4796.jpg  Cont                           \n",
            "31    4385.jpg  Inte                           \n",
            "32    9663.jpg  Inte                           \n",
            "33    2639.jpg  Exte                           \n",
            "34    1912.jpg  Cont                           \n",
            "35  2291-1.jpg  Inte                           \n",
            "36    8162.jpg  Inte                           \n",
            "37    8728.jpg  Cont                           \n",
            "38    1491.jpg  Exte                           \n",
            "39    9236.jpg  Exte                           \n",
            "40    1235.jpg  Inte                           \n",
            "41    5169.jpg  Cont                           \n",
            "42    9604.jpg  Exte                           \n",
            "43    9595.jpg  Cont                           \n"
          ]
        }
      ]
    },
    {
      "cell_type": "markdown",
      "metadata": {
        "id": "aCUBFwn1wNIF"
      },
      "source": [
        "#**すでにあるCSVからリストを転記する場合**"
      ]
    },
    {
      "cell_type": "code",
      "metadata": {
        "colab": {
          "base_uri": "https://localhost:8080/"
        },
        "id": "H3LMd-drwT90",
        "outputId": "22c457b1-72b4-49aa-8d98-124861c1f02e"
      },
      "source": [
        "import codecs\n",
        "\n",
        "with codecs.open(ref_csv_dir, \"r\", \"utf-8\", \"ignore\") as file:\n",
        "#with codecs.open(patient_list, \"r\", \"Shift-JIS\", \"ignore\") as file:\n",
        "    df_ref = pd.read_csv(file, index_col=0, header=0)\n",
        "\n",
        "Answer = len(df_ref)* [\"\"] \n",
        "AI = len(df_ref)* [\"\"] \n",
        "\n",
        "df_ref.loc[:,'AI']= AI\n",
        "df_ref.loc[:,'Answer: 正常0, 内斜視1, 外斜視2']= Answer\n",
        "\n",
        "print(df_ref)\n",
        "#CSVに書き出し\n",
        "df_ref.to_csv(csv_dir, index=True, encoding='utf_8_sig')"
      ],
      "execution_count": 103,
      "outputs": [
        {
          "output_type": "stream",
          "name": "stdout",
          "text": [
            "           Image_name Label AI Answer: 正常0, 内斜視1, 外斜視2\n",
            "image_num                                             \n",
            "0            6738.jpg  Cont                           \n",
            "1            2641.jpg  Exte                           \n",
            "2            2639.jpg  Exte                           \n",
            "3            8473.jpg  Inte                           \n",
            "4            3889.jpg  Inte                           \n",
            "5            1235.jpg  Inte                           \n",
            "6            6868.jpg  Cont                           \n",
            "7            9323.jpg  Exte                           \n",
            "8            4385.jpg  Inte                           \n",
            "9            1607.jpg  Inte                           \n",
            "10           9595.jpg  Cont                           \n",
            "11           7572.jpg  Inte                           \n",
            "12          848-1.jpg  Inte                           \n",
            "13           2966.jpg  Inte                           \n",
            "14           1491.jpg  Exte                           \n",
            "15           4796.jpg  Cont                           \n",
            "16         2291-2.jpg  Inte                           \n",
            "17           4437.jpg  Exte                           \n",
            "18           8366.jpg  Exte                           \n",
            "19           7152.jpg  Exte                           \n",
            "20           8739.jpg  Cont                           \n",
            "21           6188.jpg  Inte                           \n",
            "22           8194.jpg  Exte                           \n",
            "23           8435.jpg  Inte                           \n",
            "24           9622.jpg  Exte                           \n",
            "25           3092.jpg  Cont                           \n",
            "26           6279.jpg  Exte                           \n",
            "27           9186.jpg  Inte                           \n",
            "28           9663.jpg  Inte                           \n",
            "29           9236.jpg  Exte                           \n",
            "30           7111.jpg  Cont                           \n",
            "31           2538.jpg  Inte                           \n",
            "32           1848.jpg  Inte                           \n",
            "33           7933.jpg  Exte                           \n",
            "34           9256.jpg  Cont                           \n",
            "35           8162.jpg  Inte                           \n",
            "36          848-2.jpg  Inte                           \n",
            "37           1912.jpg  Exte                           \n",
            "38           6817.jpg  Exte                           \n",
            "39           9604.jpg  Exte                           \n",
            "40         2291-1.jpg  Inte                           \n",
            "41           8728.jpg  Cont                           \n",
            "42           9444.jpg  Exte                           \n",
            "43           5169.jpg  Cont                           \n"
          ]
        }
      ]
    },
    {
      "cell_type": "markdown",
      "metadata": {
        "id": "kyWqOkzT82TA"
      },
      "source": [
        "#別のCSVからAIの判定結果を転記"
      ]
    },
    {
      "cell_type": "code",
      "metadata": {
        "id": "Ip0FHDFo81Hm"
      },
      "source": [
        "import pandas as pd\n",
        "\n",
        "def openCSV(csv_path):\n",
        "    df = pd.read_csv(csv_path)\n",
        "    df = df.drop(df.columns[[0]], axis=1) #1列目を削除する\n",
        "    #print(df)\n",
        "    return df\n",
        "\n",
        "def transpose_value(df1, df2):\n",
        "    k=0\n",
        "    for i in range(len(df1)):\n",
        "        id = df1.iloc[k,0]  #CSV1つ目のimage_nameを取得\n",
        "\n",
        "        try:\n",
        "            img_num = df2[df2.iloc[0:,0] == id].iloc[0,2]\n",
        "        except: #一致するimage_nameがなければ空欄にする\n",
        "            img_num = \"\"\n",
        "\n",
        "        df1.iloc[k, 2] = img_num #CSV1つ目の所定の列に代入\n",
        "        k+=1\n",
        "    return df1\n",
        "\n",
        "\n",
        "#CSVを開く （csv1:編集するファイル、csv2:参照するファイル）\n",
        "csv1_path = csv_dir\n",
        "csv2_path = csv_AI_dir  #AIの判定結果を記載したCSV\n",
        "\n",
        "df1, df2 = openCSV(csv1_path), openCSV(csv2_path) #CSVを開く\n",
        "\n",
        "df3 = transpose_value(df1, df2)\n",
        "\n",
        "print(df3)\n",
        "\n",
        "#CSVに書き出し\n",
        "df3.to_csv(csv_dir, index=False, encoding='utf_8_sig')\n"
      ],
      "execution_count": null,
      "outputs": []
    },
    {
      "cell_type": "markdown",
      "metadata": {
        "id": "vAQ6a09bobjY"
      },
      "source": [
        "#評価記載用CSVファイルを作成"
      ]
    },
    {
      "cell_type": "code",
      "metadata": {
        "id": "XEIV6Ou8oZ4b"
      },
      "source": [
        "#画像番号と項目だけのCSVにする\n",
        "\n",
        "df4 = df3.drop(['Image_name', 'Label', 'AI'], axis=1)\n",
        "df4.insert(0,'Image_Number',\"\")\n",
        "df4.iloc[:, 0] = range(len(df4))\n",
        "print(df4)\n",
        "\n",
        "\n",
        "df4.to_csv(\"hum_eval.csv\", index=False, encoding='utf_8_sig')"
      ],
      "execution_count": null,
      "outputs": []
    },
    {
      "cell_type": "markdown",
      "metadata": {
        "id": "hzV9RFdTT4Uu"
      },
      "source": [
        "#**評価用画像を作成**\n",
        "通し番号を合成して新しいフォルダに保存"
      ]
    },
    {
      "cell_type": "code",
      "metadata": {
        "id": "Qdyrf_0KUCr0"
      },
      "source": [
        "import cv2\n",
        "from google.colab.patches import cv2_imshow\n",
        "import shutil\n",
        "\n",
        "save_path = img_save_dir\n",
        "\n",
        "#save_pathがあれば削除して新しく作り直す\n",
        "try:\n",
        "    shutil.rmtree(save_path)\n",
        "    os.makedirs(save_path)\n",
        "except FileNotFoundError:\n",
        "    os.makedirs(save_path)\n",
        "    pass\n",
        "\n",
        "#CSVに対応する画像のパスを取得\n",
        "\n",
        "img_path_list = []\n",
        "for i in range(len(df3)):\n",
        "    img_name = df3.iloc[i,0]\n",
        "    img_class = df3.iloc[i,1]\n",
        "    img_path_list.append(test_dir + \"/\" +img_class+ \"/\" + img_name)\n",
        "\n",
        "print(img_path_list)\n",
        "\n",
        "def write_text(image_path, text, save_path):\n",
        "    img = cv2.imread(image_path)\n",
        "    # 文字を加える                                                                                      \n",
        "    cv2.putText(img, text, (0, 130),\n",
        "               cv2.FONT_HERSHEY_PLAIN, 10,\n",
        "               (255,255,255), 8, cv2.LINE_AA)\n",
        "    #cv2.imwrite(save_path +\"/\" +os.path.basename(image_path), img)\n",
        "    cv2.imwrite(save_path, img)\n",
        "    return(img)\n",
        "\n",
        "k=0\n",
        "for i in range(len(img_path_list)):\n",
        "    im = write_text(img_path_list[i], str(i), save_path+\"/\"+str(k)+\".jpg\")\n",
        "    cv2_imshow(im)\n",
        "    k+=1\n",
        "\n"
      ],
      "execution_count": null,
      "outputs": []
    },
    {
      "cell_type": "markdown",
      "metadata": {
        "id": "LOU8x8BbaLB-"
      },
      "source": [
        "#**画像を連結して印刷用のPDFファイルにする**"
      ]
    },
    {
      "cell_type": "code",
      "metadata": {
        "colab": {
          "base_uri": "https://localhost:8080/"
        },
        "id": "lbtXipkHem1S",
        "outputId": "69a249ba-b166-433f-a854-2973ca144e69"
      },
      "source": [
        "!pip install img2pdf\n",
        "import os\n",
        "import img2pdf\n",
        "from PIL import Image # img2pdfと一緒にインストールされたPillowを使います\n",
        "\n",
        "\n",
        "pdfFileName = \"images.pdf\"\n",
        "path = img_save_dir + \"/*\"\n",
        "ext = \".jpg\"\n",
        " \n",
        "with open(pdfFileName, \"wb\") as files:\n",
        "  files.write(img2pdf.convert([i for i in glob.glob(path) if i.endswith(ext)]))\n"
      ],
      "execution_count": 107,
      "outputs": [
        {
          "output_type": "stream",
          "name": "stdout",
          "text": [
            "Requirement already satisfied: img2pdf in /usr/local/lib/python3.7/dist-packages (0.4.3)\n",
            "Requirement already satisfied: pikepdf in /usr/local/lib/python3.7/dist-packages (from img2pdf) (4.1.0)\n",
            "Requirement already satisfied: Pillow in /usr/local/lib/python3.7/dist-packages (from img2pdf) (7.1.2)\n",
            "Requirement already satisfied: lxml>=4.0 in /usr/local/lib/python3.7/dist-packages (from pikepdf->img2pdf) (4.2.6)\n"
          ]
        }
      ]
    },
    {
      "cell_type": "code",
      "metadata": {
        "colab": {
          "base_uri": "https://localhost:8080/"
        },
        "id": "_x_fyH8Cl3Vh",
        "outputId": "39336c3c-7844-41da-fc99-37a8123ed28b"
      },
      "source": [
        "#作成したpdfにパスワードをかける\n",
        "!pip install PyPDF2\n",
        "import PyPDF2\n",
        "\n",
        "src_pdf = PyPDF2.PdfFileReader(pdfFileName)\n",
        "pass_pdf = pdfFileName\n",
        "password = 'shasi'    #password\n",
        "\n",
        "dst_pdf = PyPDF2.PdfFileWriter()\n",
        "dst_pdf.cloneReaderDocumentRoot(src_pdf)\n",
        "\n",
        "d = {key: src_pdf.documentInfo[key] for key in src_pdf.documentInfo.keys()}\n",
        "dst_pdf.addMetadata(d)\n",
        "\n",
        "dst_pdf.encrypt(password)\n",
        "\n",
        "with open(pass_pdf, 'wb') as f:\n",
        "    dst_pdf.write(f)\n"
      ],
      "execution_count": 108,
      "outputs": [
        {
          "output_type": "stream",
          "name": "stdout",
          "text": [
            "Requirement already satisfied: PyPDF2 in /usr/local/lib/python3.7/dist-packages (1.26.0)\n"
          ]
        },
        {
          "output_type": "stream",
          "name": "stderr",
          "text": [
            "PdfReadWarning: Xref table not zero-indexed. ID numbers for objects will be corrected. [pdf.py:1736]\n"
          ]
        }
      ]
    },
    {
      "cell_type": "markdown",
      "metadata": {
        "id": "omoaMEhSzeH2"
      },
      "source": [
        "#**評価用CSVと画像pdfをまとめてzip化する**"
      ]
    },
    {
      "cell_type": "code",
      "metadata": {
        "id": "Eu3GdFkGxauk"
      },
      "source": [
        "import zipfile\n",
        "\n",
        "with zipfile.ZipFile('evaluation.zip', 'w', compression=zipfile.ZIP_DEFLATED) as new_zip:\n",
        "    new_zip.write('hum_eval.csv', arcname='hum_eval.csv')\n",
        "    new_zip.write('images.pdf', arcname='750px_images.pdf')"
      ],
      "execution_count": 110,
      "outputs": []
    },
    {
      "cell_type": "code",
      "metadata": {
        "id": "fZbiB2zv8Ote"
      },
      "source": [
        "with zipfile.ZipFile(zip_save_dir+\"/evaluation.zip\", 'w', compression=zipfile.ZIP_DEFLATED) as new_zip:\n",
        "    new_zip.write('hum_eval.csv', arcname='hum_eval.csv')\n",
        "    new_zip.write('images.pdf', arcname='750px_images.pdf')"
      ],
      "execution_count": 111,
      "outputs": []
    }
  ]
}