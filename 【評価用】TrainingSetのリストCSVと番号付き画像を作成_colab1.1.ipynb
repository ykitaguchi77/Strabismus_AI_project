{
  "nbformat": 4,
  "nbformat_minor": 0,
  "metadata": {
    "colab": {
      "name": "Untitled64.ipynb",
      "provenance": [],
      "include_colab_link": true
    },
    "kernelspec": {
      "name": "python3",
      "display_name": "Python 3"
    }
  },
  "cells": [
    {
      "cell_type": "markdown",
      "metadata": {
        "id": "view-in-github",
        "colab_type": "text"
      },
      "source": [
        "<a href=\"https://colab.research.google.com/github/ykitaguchi77/Strabismus_AI_project/blob/main/%E3%80%90%E8%A9%95%E4%BE%A1%E7%94%A8%E3%80%91TrainingSet%E3%81%AE%E3%83%AA%E3%82%B9%E3%83%88CSV%E3%81%A8%E7%95%AA%E5%8F%B7%E4%BB%98%E3%81%8D%E7%94%BB%E5%83%8F%E3%82%92%E4%BD%9C%E6%88%90_colab1.1.ipynb\" target=\"_parent\"><img src=\"https://colab.research.google.com/assets/colab-badge.svg\" alt=\"Open In Colab\"/></a>"
      ]
    },
    {
      "cell_type": "markdown",
      "metadata": {
        "id": "NlLpkWVcVFsQ"
      },
      "source": [
        "#**【評価用】TrainingSetのリストCSVを作成**\n"
      ]
    },
    {
      "cell_type": "code",
      "metadata": {
        "id": "bH8TbMaxu669",
        "colab": {
          "base_uri": "https://localhost:8080/"
        },
        "outputId": "e9681301-f7f0-4d8f-ea77-99273ecfdc1b"
      },
      "source": [
        "\"\"\"\n",
        "test-------class1\n",
        "       |----class2\n",
        "       |----class3\n",
        "\n",
        "→CSVでリストを作成（ランダムに並び替え）\n",
        "\"\"\"\n",
        "\n",
        "from google.colab import drive\n",
        "drive.mount('/content/drive')"
      ],
      "execution_count": 35,
      "outputs": [
        {
          "output_type": "stream",
          "name": "stdout",
          "text": [
            "Drive already mounted at /content/drive; to attempt to forcibly remount, call drive.mount(\"/content/drive\", force_remount=True).\n"
          ]
        }
      ]
    },
    {
      "cell_type": "code",
      "metadata": {
        "id": "RDGnBBd4FvT-"
      },
      "source": [
        "import os\n",
        "import pandas as pd\n",
        "import glob\n",
        "\n",
        "test_dir = \"/content/drive/MyDrive/Deep_learning/Strabismus/testset2_750px\"  #test画像(classごとにフォルダ分けあり)のパス\n",
        "csv_dir = \"/content/drive/MyDrive/Deep_learning/Strabismus/3classes_test.csv\"   #画像のリストをCSVに書き出した保存先\n",
        "csv_AI_dir = \"/content/drive/MyDrive/Deep_learning/Strabismus/3classes_test_AI_result.csv\"     #すでに作成したAIによる判定結果のリスト\n",
        "img_save_dir = \"/content/drive/MyDrive/Deep_learning/Strabismus/3class_humanEval\"   #通し番号を記入した画像を保存するパス\n",
        "pdf_save_dir = \"/content/drive/MyDrive/Deep_learning/Strabismus/3class_humanEval\"   #画像を番号順にpdf化したものを保存するパス\n",
        "zip_save_dir = \"/content/drive/MyDrive/Deep_learning/Strabismus/3class_humanEval\"   #評価画像と回答用csvの組み合わせを圧縮して保存"
      ],
      "execution_count": 83,
      "outputs": []
    },
    {
      "cell_type": "code",
      "metadata": {
        "id": "zQaXT3k_Gy0Y",
        "colab": {
          "base_uri": "https://localhost:8080/"
        },
        "outputId": "f5927a96-8464-4279-a166-fb9851a37b39"
      },
      "source": [
        "classes = os.listdir(test_dir)\n",
        "\n",
        "k=0\n",
        "for i in classes:\n",
        "    print(str(k)+\": \"+i+\" \"+str(len(os.listdir(os.path.join(test_dir, i))))+\" images\")\n",
        "    k+=1\n",
        "\n",
        "#画像のリストを作る\n",
        "\n",
        "image_path_list = [0]*len(classes)\n",
        "image_name_list = [0]*len(classes)\n",
        "\n",
        "for i in range(len(classes)):\n",
        "    image_name_list[i] = os.listdir(test_dir + \"/\" + classes[i])\n",
        "    image_path_list[i] = glob.glob(test_dir + \"/\" + classes[i]+\"/*\")\n",
        "\n",
        "\n",
        "\n",
        "#Pandasでリストを作成（それぞれの列を定義）\n",
        "\n",
        "Image_name, Label, Answer, AI = [], [], [], []\n",
        "\n",
        "\n",
        "for i in image_name_list:\n",
        "    Image_name = list(Image_name + i)\n",
        "\n",
        "k=0\n",
        "for i in image_name_list:\n",
        "    for j in range(len(i)):\n",
        "        Label.append(classes[k])\n",
        "    k+=1\n",
        "\n",
        "Answer = len(Image_name)* [\" \"] \n",
        "\n",
        "AI = len(Image_name)* [\"\"] \n",
        "\n",
        "\n",
        "df = pd.DataFrame(\n",
        "        data={'Image_name': Image_name, 'Label': Label, 'AI': AI, 'Answer: 正常0, 内斜視1, 外斜視2': Answer},\n",
        "        columns=['Image_name', 'Label', 'AI', 'Answer: 正常0, 内斜視1, 外斜視2']\n",
        ")\n",
        "\n",
        "#行をランダムにシャッフルして、インデックスを並び替える\n",
        "df = df.sample(frac=1, random_state=100).reset_index(drop=True)\n",
        "print(df)\n",
        "\n",
        "#CSVに書き出し\n",
        "df.to_csv(csv_dir, index=True, encoding='utf_8_sig')"
      ],
      "execution_count": 84,
      "outputs": [
        {
          "output_type": "stream",
          "name": "stdout",
          "text": [
            "0: Cont 11 images\n",
            "1: Inte 18 images\n",
            "2: Exte 15 images\n",
            "    Image_name Label AI Answer: 正常0, 内斜視1, 外斜視2\n",
            "0     6738.jpg  Cont                           \n",
            "1     8162.jpg  Inte                           \n",
            "2   2291-1.jpg  Inte                           \n",
            "3     9604.jpg  Exte                           \n",
            "4     6279.jpg  Exte                           \n",
            "5     6817.jpg  Exte                           \n",
            "6     3092.jpg  Cont                           \n",
            "7     4385.jpg  Inte                           \n",
            "8    848-2.jpg  Inte                           \n",
            "9     2639.jpg  Exte                           \n",
            "10    4796.jpg  Cont                           \n",
            "11    8366.jpg  Exte                           \n",
            "12    9444.jpg  Exte                           \n",
            "13    9323.jpg  Exte                           \n",
            "14    8435.jpg  Inte                           \n",
            "15    9256.jpg  Cont                           \n",
            "16    2641.jpg  Exte                           \n",
            "17    2538.jpg  Inte                           \n",
            "18    9663.jpg  Inte                           \n",
            "19    7572.jpg  Inte                           \n",
            "20    5169.jpg  Cont                           \n",
            "21    4437.jpg  Exte                           \n",
            "22    2966.jpg  Inte                           \n",
            "23    9622.jpg  Exte                           \n",
            "24    8473.jpg  Inte                           \n",
            "25    8739.jpg  Cont                           \n",
            "26    1848.jpg  Inte                           \n",
            "27    9186.jpg  Inte                           \n",
            "28   848-1.jpg  Inte                           \n",
            "29    1607.jpg  Inte                           \n",
            "30    6868.jpg  Cont                           \n",
            "31    7152.jpg  Exte                           \n",
            "32    7933.jpg  Exte                           \n",
            "33    3889.jpg  Inte                           \n",
            "34    1912.jpg  Cont                           \n",
            "35    8194.jpg  Exte                           \n",
            "36    9236.jpg  Exte                           \n",
            "37    8728.jpg  Cont                           \n",
            "38    6188.jpg  Inte                           \n",
            "39  2291-2.jpg  Inte                           \n",
            "40    1491.jpg  Exte                           \n",
            "41    7111.jpg  Cont                           \n",
            "42    1235.jpg  Inte                           \n",
            "43    9595.jpg  Cont                           \n"
          ]
        }
      ]
    },
    {
      "cell_type": "markdown",
      "metadata": {
        "id": "kyWqOkzT82TA"
      },
      "source": [
        "#別のCSVからAIの判定結果を転記"
      ]
    },
    {
      "cell_type": "code",
      "metadata": {
        "colab": {
          "base_uri": "https://localhost:8080/"
        },
        "id": "Ip0FHDFo81Hm",
        "outputId": "30ebaf30-0988-4caf-9ac5-fa5898737fe1"
      },
      "source": [
        "import pandas as pd\n",
        "\n",
        "def openCSV(csv_path):\n",
        "    df = pd.read_csv(csv_path)\n",
        "    df = df.drop(df.columns[[0]], axis=1) #1列目を削除する\n",
        "    #print(df)\n",
        "    return df\n",
        "\n",
        "def transpose_value(df1, df2):\n",
        "    k=0\n",
        "    for i in range(len(df1)):\n",
        "        id = df1.iloc[k,0]  #CSV1つ目のimage_nameを取得\n",
        "\n",
        "        try:\n",
        "            img_num = df2[df2.iloc[0:,0] == id].iloc[0,2]\n",
        "        except: #一致するimage_nameがなければ空欄にする\n",
        "            img_num = \"\"\n",
        "\n",
        "        df1.iloc[k, 2] = img_num #CSV1つ目の所定の列に代入\n",
        "        k+=1\n",
        "    return df1\n",
        "\n",
        "\n",
        "#CSVを開く （csv1:編集するファイル、csv2:参照するファイル）\n",
        "csv1_path = csv_dir\n",
        "csv2_path = csv_AI_dir  #AIの判定結果を記載したCSV\n",
        "\n",
        "df1, df2 = openCSV(csv1_path), openCSV(csv2_path) #CSVを開く\n",
        "\n",
        "df3 = transpose_value(df1, df2)\n",
        "\n",
        "print(df3)\n",
        "\n",
        "#CSVに書き出し\n",
        "df3.to_csv(csv_dir, index=False, encoding='utf_8_sig')\n"
      ],
      "execution_count": 85,
      "outputs": [
        {
          "output_type": "stream",
          "name": "stdout",
          "text": [
            "    Image_name Label    AI Answer: 正常0, 内斜視1, 外斜視2\n",
            "0     6738.jpg  Cont  Inte                        \n",
            "1     8162.jpg  Inte  Inte                        \n",
            "2   2291-1.jpg  Inte  Inte                        \n",
            "3     9604.jpg  Exte  Cont                        \n",
            "4     6279.jpg  Exte  Exte                        \n",
            "5     6817.jpg  Exte  Exte                        \n",
            "6     3092.jpg  Cont  Exte                        \n",
            "7     4385.jpg  Inte  Inte                        \n",
            "8    848-2.jpg  Inte  Inte                        \n",
            "9     2639.jpg  Exte  Exte                        \n",
            "10    4796.jpg  Cont  Exte                        \n",
            "11    8366.jpg  Exte  Exte                        \n",
            "12    9444.jpg  Exte  Exte                        \n",
            "13    9323.jpg  Exte  Exte                        \n",
            "14    8435.jpg  Inte  Inte                        \n",
            "15    9256.jpg  Cont  Inte                        \n",
            "16    2641.jpg  Exte  Exte                        \n",
            "17    2538.jpg  Inte  Inte                        \n",
            "18    9663.jpg  Inte  Inte                        \n",
            "19    7572.jpg  Inte  Inte                        \n",
            "20    5169.jpg  Cont  Inte                        \n",
            "21    4437.jpg  Exte  Cont                        \n",
            "22    2966.jpg  Inte  Inte                        \n",
            "23    9622.jpg  Exte  Exte                        \n",
            "24    8473.jpg  Inte  Inte                        \n",
            "25    8739.jpg  Cont  Inte                        \n",
            "26    1848.jpg  Inte  Inte                        \n",
            "27    9186.jpg  Inte  Inte                        \n",
            "28   848-1.jpg  Inte  Inte                        \n",
            "29    1607.jpg  Inte  Inte                        \n",
            "30    6868.jpg  Cont  Inte                        \n",
            "31    7152.jpg  Exte  Exte                        \n",
            "32    7933.jpg  Exte  Exte                        \n",
            "33    3889.jpg  Inte  Inte                        \n",
            "34    1912.jpg  Cont  Exte                        \n",
            "35    8194.jpg  Exte  Exte                        \n",
            "36    9236.jpg  Exte  Exte                        \n",
            "37    8728.jpg  Cont  Cont                        \n",
            "38    6188.jpg  Inte  Inte                        \n",
            "39  2291-2.jpg  Inte  Inte                        \n",
            "40    1491.jpg  Exte  Exte                        \n",
            "41    7111.jpg  Cont  Cont                        \n",
            "42    1235.jpg  Inte  Inte                        \n",
            "43    9595.jpg  Cont  Exte                        \n"
          ]
        }
      ]
    },
    {
      "cell_type": "markdown",
      "metadata": {
        "id": "vAQ6a09bobjY"
      },
      "source": [
        "#評価記載用CSVファイルを作成"
      ]
    },
    {
      "cell_type": "code",
      "metadata": {
        "colab": {
          "base_uri": "https://localhost:8080/"
        },
        "id": "XEIV6Ou8oZ4b",
        "outputId": "8c8494b7-9eaa-43df-9b7d-5d7716e13669"
      },
      "source": [
        "#画像番号と項目だけのCSVにする\n",
        "\n",
        "df4 = df3.drop(['Image_name', 'Label', 'AI'], axis=1)\n",
        "df4.insert(0,'Image_Number',\"\")\n",
        "df4.iloc[:, 0] = range(len(df4))\n",
        "print(df4)\n",
        "\n",
        "\n",
        "df4.to_csv(\"hum_eval.csv\", index=False, encoding='utf_8_sig')"
      ],
      "execution_count": 75,
      "outputs": [
        {
          "output_type": "stream",
          "name": "stdout",
          "text": [
            "    Image_Number Answer: 正常0, 内斜視1, 外斜視2\n",
            "0              0                        \n",
            "1              1                        \n",
            "2              2                        \n",
            "3              3                        \n",
            "4              4                        \n",
            "5              5                        \n",
            "6              6                        \n",
            "7              7                        \n",
            "8              8                        \n",
            "9              9                        \n",
            "10            10                        \n",
            "11            11                        \n",
            "12            12                        \n",
            "13            13                        \n",
            "14            14                        \n",
            "15            15                        \n",
            "16            16                        \n",
            "17            17                        \n",
            "18            18                        \n",
            "19            19                        \n",
            "20            20                        \n",
            "21            21                        \n",
            "22            22                        \n",
            "23            23                        \n",
            "24            24                        \n",
            "25            25                        \n",
            "26            26                        \n",
            "27            27                        \n",
            "28            28                        \n",
            "29            29                        \n",
            "30            30                        \n",
            "31            31                        \n",
            "32            32                        \n",
            "33            33                        \n",
            "34            34                        \n",
            "35            35                        \n",
            "36            36                        \n",
            "37            37                        \n",
            "38            38                        \n",
            "39            39                        \n",
            "40            40                        \n",
            "41            41                        \n",
            "42            42                        \n",
            "43            43                        \n"
          ]
        }
      ]
    },
    {
      "cell_type": "code",
      "metadata": {
        "id": "TlB6MWETuQpb"
      },
      "source": [
        ""
      ],
      "execution_count": null,
      "outputs": []
    },
    {
      "cell_type": "markdown",
      "metadata": {
        "id": "hzV9RFdTT4Uu"
      },
      "source": [
        "#**評価用画像を作成**\n",
        "通し番号を合成して新しいフォルダに保存"
      ]
    },
    {
      "cell_type": "code",
      "metadata": {
        "id": "Qdyrf_0KUCr0"
      },
      "source": [
        "import cv2\n",
        "from google.colab.patches import cv2_imshow\n",
        "import shutil\n",
        "\n",
        "save_path = img_save_dir\n",
        "\n",
        "#save_pathがあれば削除して新しく作り直す\n",
        "try:\n",
        "    shutil.rmtree(save_path)\n",
        "    os.makedirs(save_path)\n",
        "except FileNotFoundError:\n",
        "    os.makedirs(save_path)\n",
        "    pass\n",
        "\n",
        "#CSVに対応する画像のパスを取得\n",
        "\n",
        "img_path_list = []\n",
        "for i in range(len(df3)):\n",
        "    img_name = df3.iloc[i,0]\n",
        "    img_class = df3.iloc[i,1]\n",
        "    img_path_list.append(test_dir + \"/\" +img_class+ \"/\" + img_name)\n",
        "\n",
        "print(img_path_list)\n",
        "\n",
        "def write_text(image_path, text, save_path):\n",
        "    img = cv2.imread(image_path)\n",
        "    # 文字を加える                                                                                      \n",
        "    cv2.putText(img, text, (0, 130),\n",
        "               cv2.FONT_HERSHEY_PLAIN, 10,\n",
        "               (255,255,255), 8, cv2.LINE_AA)\n",
        "    #cv2.imwrite(save_path +\"/\" +os.path.basename(image_path), img)\n",
        "    cv2.imwrite(save_path, img)\n",
        "    return(img)\n",
        "\n",
        "k=0\n",
        "for i in range(len(img_path_list)):\n",
        "    im = write_text(img_path_list[i], str(i), save_path+\"/\"+str(k)+\".jpg\")\n",
        "    cv2_imshow(im)\n",
        "    k+=1\n",
        "\n"
      ],
      "execution_count": null,
      "outputs": []
    },
    {
      "cell_type": "markdown",
      "metadata": {
        "id": "LOU8x8BbaLB-"
      },
      "source": [
        "#**画像を連結して印刷用のPDFファイルにする**"
      ]
    },
    {
      "cell_type": "code",
      "metadata": {
        "colab": {
          "base_uri": "https://localhost:8080/"
        },
        "id": "lbtXipkHem1S",
        "outputId": "552c4b70-1b1a-48f4-c92d-d88f28e1cf3c"
      },
      "source": [
        "!pip install img2pdf\n",
        "import os\n",
        "import img2pdf\n",
        "from PIL import Image # img2pdfと一緒にインストールされたPillowを使います\n",
        "\n",
        "\n",
        "pdfFileName = \"images.pdf\"\n",
        "path = img_save_dir + \"/*\"\n",
        "ext = \".jpg\"\n",
        " \n",
        "with open(pdfFileName, \"wb\") as files:\n",
        "  files.write(img2pdf.convert([i for i in glob.glob(path) if i.endswith(ext)]))\n"
      ],
      "execution_count": 60,
      "outputs": [
        {
          "output_type": "stream",
          "name": "stdout",
          "text": [
            "Collecting img2pdf\n",
            "  Downloading img2pdf-0.4.3.tar.gz (98 kB)\n",
            "\u001b[?25l\r\u001b[K     |███▎                            | 10 kB 18.6 MB/s eta 0:00:01\r\u001b[K     |██████▋                         | 20 kB 25.0 MB/s eta 0:00:01\r\u001b[K     |██████████                      | 30 kB 13.3 MB/s eta 0:00:01\r\u001b[K     |█████████████▎                  | 40 kB 10.1 MB/s eta 0:00:01\r\u001b[K     |████████████████▋               | 51 kB 5.2 MB/s eta 0:00:01\r\u001b[K     |████████████████████            | 61 kB 5.3 MB/s eta 0:00:01\r\u001b[K     |███████████████████████▎        | 71 kB 5.9 MB/s eta 0:00:01\r\u001b[K     |██████████████████████████▋     | 81 kB 6.6 MB/s eta 0:00:01\r\u001b[K     |██████████████████████████████  | 92 kB 6.5 MB/s eta 0:00:01\r\u001b[K     |████████████████████████████████| 98 kB 4.0 MB/s \n",
            "\u001b[?25hRequirement already satisfied: Pillow in /usr/local/lib/python3.7/dist-packages (from img2pdf) (7.1.2)\n",
            "Collecting pikepdf\n",
            "  Downloading pikepdf-4.0.1.post1-cp37-cp37m-manylinux_2_17_x86_64.manylinux2014_x86_64.whl (2.0 MB)\n",
            "\u001b[K     |████████████████████████████████| 2.0 MB 39.2 MB/s \n",
            "\u001b[?25hRequirement already satisfied: lxml>=4.0 in /usr/local/lib/python3.7/dist-packages (from pikepdf->img2pdf) (4.2.6)\n",
            "Building wheels for collected packages: img2pdf\n",
            "  Building wheel for img2pdf (setup.py) ... \u001b[?25l\u001b[?25hdone\n",
            "  Created wheel for img2pdf: filename=img2pdf-0.4.3-py3-none-any.whl size=43712 sha256=f2a6598d6a93db80d59dc56220771fdc4ef806fc0f67b2a86f8fceac192b0950\n",
            "  Stored in directory: /root/.cache/pip/wheels/d4/79/c5/74a9ae2eb3a213b2f56712c91b166ef5ad1751f5a049cef8ef\n",
            "Successfully built img2pdf\n",
            "Installing collected packages: pikepdf, img2pdf\n",
            "Successfully installed img2pdf-0.4.3 pikepdf-4.0.1.post1\n"
          ]
        }
      ]
    },
    {
      "cell_type": "code",
      "metadata": {
        "colab": {
          "base_uri": "https://localhost:8080/"
        },
        "id": "_x_fyH8Cl3Vh",
        "outputId": "acced834-59b4-4a23-ac28-87f3692144c0"
      },
      "source": [
        "#作成したpdfにパスワードをかける\n",
        "!pip install PyPDF2\n",
        "import PyPDF2\n",
        "\n",
        "src_pdf = PyPDF2.PdfFileReader(pdfFileName)\n",
        "pass_pdf = pdfFileName\n",
        "password = 'shasi'    #password\n",
        "\n",
        "dst_pdf = PyPDF2.PdfFileWriter()\n",
        "dst_pdf.cloneReaderDocumentRoot(src_pdf)\n",
        "\n",
        "d = {key: src_pdf.documentInfo[key] for key in src_pdf.documentInfo.keys()}\n",
        "dst_pdf.addMetadata(d)\n",
        "\n",
        "dst_pdf.encrypt(password)\n",
        "\n",
        "with open(pass_pdf, 'wb') as f:\n",
        "    dst_pdf.write(f)\n"
      ],
      "execution_count": 61,
      "outputs": [
        {
          "output_type": "stream",
          "name": "stdout",
          "text": [
            "Collecting PyPDF2\n",
            "  Downloading PyPDF2-1.26.0.tar.gz (77 kB)\n",
            "\u001b[?25l\r\u001b[K     |████▎                           | 10 kB 19.7 MB/s eta 0:00:01\r\u001b[K     |████████▌                       | 20 kB 26.5 MB/s eta 0:00:01\r\u001b[K     |████████████▊                   | 30 kB 12.5 MB/s eta 0:00:01\r\u001b[K     |█████████████████               | 40 kB 9.6 MB/s eta 0:00:01\r\u001b[K     |█████████████████████▏          | 51 kB 5.2 MB/s eta 0:00:01\r\u001b[K     |█████████████████████████▍      | 61 kB 5.1 MB/s eta 0:00:01\r\u001b[K     |█████████████████████████████▋  | 71 kB 5.7 MB/s eta 0:00:01\r\u001b[K     |████████████████████████████████| 77 kB 3.1 MB/s \n",
            "\u001b[?25hBuilding wheels for collected packages: PyPDF2\n",
            "  Building wheel for PyPDF2 (setup.py) ... \u001b[?25l\u001b[?25hdone\n",
            "  Created wheel for PyPDF2: filename=PyPDF2-1.26.0-py3-none-any.whl size=61101 sha256=aa2519e973102e920dc5cf22b772decd20a1753a58f34f93744f2ce3d56aea4d\n",
            "  Stored in directory: /root/.cache/pip/wheels/80/1a/24/648467ade3a77ed20f35cfd2badd32134e96dd25ca811e64b3\n",
            "Successfully built PyPDF2\n",
            "Installing collected packages: PyPDF2\n",
            "Successfully installed PyPDF2-1.26.0\n"
          ]
        },
        {
          "output_type": "stream",
          "name": "stderr",
          "text": [
            "PdfReadWarning: Xref table not zero-indexed. ID numbers for objects will be corrected. [pdf.py:1736]\n"
          ]
        }
      ]
    },
    {
      "cell_type": "markdown",
      "metadata": {
        "id": "omoaMEhSzeH2"
      },
      "source": [
        "#**評価用CSVと画像pdfをまとめてzip化する**"
      ]
    },
    {
      "cell_type": "code",
      "metadata": {
        "id": "Eu3GdFkGxauk"
      },
      "source": [
        "import zipfile\n",
        "\n",
        "with zipfile.ZipFile('evaluation.zip', 'w', compression=zipfile.ZIP_DEFLATED) as new_zip:\n",
        "    new_zip.write('hum_eval.csv', arcname='hum_eval.csv')\n",
        "    new_zip.write('images.pdf', arcname='images.pdf')"
      ],
      "execution_count": 62,
      "outputs": []
    },
    {
      "cell_type": "code",
      "metadata": {
        "id": "fZbiB2zv8Ote"
      },
      "source": [
        "with zipfile.ZipFile(zip_save_dir+\"/evaluation.zip\", 'w', compression=zipfile.ZIP_DEFLATED) as new_zip:\n",
        "    new_zip.write('hum_eval.csv', arcname='hum_eval.csv')\n",
        "    new_zip.write('images.pdf', arcname='images.pdf')"
      ],
      "execution_count": 63,
      "outputs": []
    }
  ]
}