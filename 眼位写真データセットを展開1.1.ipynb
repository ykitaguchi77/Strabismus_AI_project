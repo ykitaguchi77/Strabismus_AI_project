{
  "nbformat": 4,
  "nbformat_minor": 0,
  "metadata": {
    "colab": {
      "name": "Untitled88.ipynb",
      "provenance": [],
      "include_colab_link": true
    },
    "kernelspec": {
      "name": "python3",
      "display_name": "Python 3"
    },
    "language_info": {
      "name": "python"
    }
  },
  "cells": [
    {
      "cell_type": "markdown",
      "metadata": {
        "id": "view-in-github",
        "colab_type": "text"
      },
      "source": [
        "<a href=\"https://colab.research.google.com/github/ykitaguchi77/Strabismus_AI_project/blob/main/%E7%9C%BC%E4%BD%8D%E5%86%99%E7%9C%9F%E3%83%87%E3%83%BC%E3%82%BF%E3%82%BB%E3%83%83%E3%83%88%E3%82%92%E5%B1%95%E9%96%8B1.1.ipynb\" target=\"_parent\"><img src=\"https://colab.research.google.com/assets/colab-badge.svg\" alt=\"Open In Colab\"/></a>"
      ]
    },
    {
      "cell_type": "markdown",
      "metadata": {
        "id": "ttOq-gRAIro2"
      },
      "source": [
        "#**眼位写真データセットを展開(Local)**\n",
        "\n"
      ]
    },
    {
      "cell_type": "code",
      "metadata": {
        "id": "PXGXXA5lIqnc"
      },
      "source": [
        "\"\"\"\n",
        "---8-----20120830121408_眼位_O-0_bc86ba014fead67f4426d32...\n",
        "      |--20130501145932_眼位_O-0_df50b65e32b4947f5b5de...\n",
        "      |...\n",
        "\n",
        " ↓↓↓\n",
        "\n",
        "「8-20120830-121408_眼位_O-0_bc86ba014fead67f4426d32...」\n",
        "「8-20130501-145932_眼位_O-0_df50b65e32b4947f5b5de...」\n",
        " ↓↓↓\n",
        " ※「眼位_０－0_」を削除\n",
        " 「8-20120830-121408_bc86ba014fead67f4426d32...」\n",
        "「8-20130501-145932_df50b65e32b4947f5b5de...」\n",
        "...\n",
        "\"\"\""
      ],
      "execution_count": null,
      "outputs": []
    },
    {
      "cell_type": "code",
      "metadata": {
        "id": "veW-7zKpJb2f"
      },
      "source": [
        "import codecs\n",
        "import pandas as pd\n",
        "\n",
        "\n",
        "orig1_path = r\"H:\\眼位写真2\\Files\"\n",
        "orig3_path = r\"H:\\眼位写真2\\Files_2\"\n",
        "orig2_path = r\"H:\\眼位写真1.1\"\n",
        "dst_path = r\"H:\\眼位写真NEW\"\n",
        "csv1_path = r\"H:\\DiseaseInfo_modified1.4_connected.csv\"\n",
        "csv2_path = r\"H:\\DiseaseInfo_all_connected_new3.csv\"\n",
        "csv3_path = r\"H:\\MediaInfo.csv\"\n",
        "\n",
        "with codecs.open(csv1_path, \"r\", \"utf-8\", \"ignore\") as file:\n",
        "#with codecs.open(patient_list, \"r\", \"Shift-JIS\", \"ignore\") as file:\n",
        "    df_csv1 = pd.read_csv(file, index_col=None, header=0)\n",
        "    print(df_csv1)\n",
        "\n",
        "with codecs.open(csv2_path, \"r\", \"utf-8\", \"ignore\") as file:\n",
        "#with codecs.open(patient_list, \"r\", \"Shift-JIS\", \"ignore\") as file:\n",
        "    df_csv2 = pd.read_csv(file, index_col=None, header=0)\n",
        "    print(df_csv2)\n",
        "\n",
        "with codecs.open(csv3_path, \"r\", \"utf-8\", \"ignore\") as file:\n",
        "#with codecs.open(patient_list, \"r\", \"Shift-JIS\", \"ignore\") as file:\n",
        "    df_csv3 = pd.read_csv(file, index_col=None, header=0)\n",
        "    print(df_csv3)"
      ],
      "execution_count": null,
      "outputs": []
    },
    {
      "cell_type": "markdown",
      "metadata": {
        "id": "pJ540vdedbBN"
      },
      "source": [
        "#**新画像ファイル**\n",
        "CSVファイルに撮影時の年齢あり"
      ]
    },
    {
      "cell_type": "code",
      "source": [
        "import os\n",
        "import shutil\n",
        "from datetime import datetime as dt\n",
        "import datetime\n",
        "\n",
        "folders = os.listdir(orig1_path)\n",
        "folder = folders[4]\n",
        "files = os.listdir(os.path.join(orig1_path, folder))\n",
        "file =files[0]\n",
        "print(file)\n",
        "\n",
        "df_age_captured = df_csv3[df_csv3.iloc[:,3] == file]\n",
        "age = df_age_captured.iloc[0,6]\n",
        "print(age)\n",
        "acq_date = file[0:8]\n",
        "print(acq_date)\n",
        "\n",
        "hashed = hashed = file[8:]\n",
        "print(hashed)\n",
        "\n",
        "hashed_final = hashed.split(\"_\")[0]+\"_\"+hashed.split(\"_\")[4]\n",
        "print(hashed_final)"
      ],
      "metadata": {
        "id": "wkMoylHTQ_ud"
      },
      "execution_count": null,
      "outputs": []
    },
    {
      "cell_type": "code",
      "metadata": {
        "id": "AKW9heSOka6c"
      },
      "source": [
        "import os\n",
        "import shutil\n",
        "from datetime import datetime as dt\n",
        "import datetime\n",
        "\n",
        "folders = os.listdir(orig1_path)\n",
        "\n",
        "for folder in folders:\n",
        "    if folder.isdigit():\n",
        "            print(folder)\n",
        "            files = os.listdir(os.path.join(orig1_path, folder))\n",
        "            #print(files)\n",
        "\n",
        "            for file in files:\n",
        "                #print(file)\n",
        "                df_age_captured = df_csv3[df_csv3.iloc[:,3] == file]\n",
        "                \n",
        "                if df_age_captured.empty:\n",
        "                    pass\n",
        "                else:\n",
        "                    age = df_age_captured.iloc[0,6]\n",
        "                    acq_date = file[0:8]\n",
        "                    hashed = file[8:]\n",
        "                    hashed_final = hashed.split(\"_\")[0]+\"_\"+hashed.split(\"_\")[4] \n",
        "                    newfilename = folder+\"-\"+acq_date+\"-\"+str(age)+\"-\"+hashed_final #フォルダ番号-日付-年齢-ハッシュ化番号\n",
        "                    shutil.copy(os.path.join(orig1_path, folder, file), os.path.join(dst_path, newfilename))\n",
        "                    print(newfilename)"
      ],
      "execution_count": null,
      "outputs": []
    },
    {
      "cell_type": "code",
      "source": [
        "import os\n",
        "import shutil\n",
        "from datetime import datetime as dt\n",
        "import datetime\n",
        "\n",
        "#Folders_3（新しい患者のフォルダ）についても同様に処理\n",
        "\n",
        "folders = os.listdir(orig3_path)\n",
        "folder = folders[4]\n",
        "files = os.listdir(os.path.join(orig3_path, folder))\n",
        "file =files[0]\n",
        "print(file)\n",
        "\n",
        "df_age_captured = df_csv3[df_csv3.iloc[:,3] == file]\n",
        "age = df_age_captured.iloc[0,6]\n",
        "print(age)\n",
        "acq_date = file[0:8]\n",
        "print(acq_date)\n",
        "\n",
        "hashed = hashed = file[8:]\n",
        "print(hashed)\n",
        "\n",
        "hashed_final = hashed.split(\"_\")[0]+\"_\"+hashed.split(\"_\")[4]\n",
        "print(hashed_final)\n",
        "\n",
        "\n",
        "\n",
        "folders = os.listdir(orig3_path)\n",
        "\n",
        "for folder in folders:\n",
        "    if folder.isdigit():\n",
        "            print(folder)\n",
        "            files = os.listdir(os.path.join(orig3_path, folder))\n",
        "            #print(files)\n",
        "\n",
        "            for file in files:\n",
        "                #print(file)\n",
        "                df_age_captured = df_csv3[df_csv3.iloc[:,3] == file]\n",
        "                \n",
        "                if df_age_captured.empty:\n",
        "                    pass\n",
        "                else:\n",
        "                    age = df_age_captured.iloc[0,6]\n",
        "                    acq_date = file[0:8]\n",
        "                    hashed = file[8:]\n",
        "                    hashed_final = hashed.split(\"_\")[0]+\"_\"+hashed.split(\"_\")[4] \n",
        "                    newfilename = folder+\"-\"+acq_date+\"-\"+str(age)+\"-\"+hashed_final #フォルダ番号-日付-年齢-ハッシュ化番号\n",
        "                    shutil.copy(os.path.join(orig3_path, folder, file), os.path.join(dst_path, newfilename))\n",
        "                    print(newfilename)"
      ],
      "metadata": {
        "colab": {
          "base_uri": "https://localhost:8080/"
        },
        "id": "synPBiOS8DzD",
        "outputId": "02c2678a-a491-4bfb-cc0f-abd66f2429e4"
      },
      "execution_count": null,
      "outputs": [
        {
          "output_type": "stream",
          "name": "stdout",
          "text": [
            "20190828092248_眼位_O_0_1e9a77bd8ecb0fb76b5862de08b54ecce4c4bffe130b2e1e47666397bd1f02d9.jpg\n",
            "2\n",
            "20190828\n",
            "092248_眼位_O_0_1e9a77bd8ecb0fb76b5862de08b54ecce4c4bffe130b2e1e47666397bd1f02d9.jpg\n",
            "092248_1e9a77bd8ecb0fb76b5862de08b54ecce4c4bffe130b2e1e47666397bd1f02d9.jpg\n",
            "8211\n",
            "8211-20200205-48-144140_fd122e7cec2b8dc27d7d0db6ce745b9efdd494814e67e0ce46fbc5a35b48c2bd.jpg\n",
            "8212\n",
            "8212-20201218-32-122154_163a85a3b08157c035bbf573e4b446063f416b0e0285df9eaa355d0bd04fe40a.jpg\n",
            "8212-20201218-32-122154_24ceeb0f3f2667812f7209fbe09853e46308c4ba233c5d3839a45231e2a63a4c.jpg\n",
            "8212-20201218-32-122154_3bb4e5a96e1d5375dab649437adfa8c88a5f0018bdd6e986c67c4db69d45693a.jpg\n",
            "8212-20201218-32-122154_9959dfddb41041400cc6491273766a19fad17c78e2f8fc34b9040ee617e7bcb2.jpg\n",
            "8212-20201218-32-122154_c7faf42ddbdefa96697e4c27c48588b881e054d7b335a5c48eda3fce9ad97ebb.jpg\n",
            "8212-20201218-32-122154_cb6a1b0c36bbb9a50836ca2a3a741ca810cbb97f16157860a9ffd23095d099b4.jpg\n",
            "8212-20201218-32-122154_d8b40f60ffb78d808aa3fe675c7a7c25a911fe43bfb89bfa5a1a44de597571ac.jpg\n",
            "8212-20201218-32-122154_da157e9f3a18a2cafebc3add7d8a24044c31d1289e85b3e673defa7c8e8b012c.jpg\n",
            "8212-20201218-32-122154_fffac261051d6d1f627e7b7c74d16bdac8bab16b3f488808eb3a3c99564e2f1c.jpg\n",
            "8212-20201218-32-122525_153012888e0b13bcb174012bb9324dfb219704f82ff01472a8b5680bebce8a88.jpg\n",
            "8212-20201218-32-122525_6c4e3254f5de19daefe546a5e59fa11b5998f98bacc5950e4139c6fe5cd007c7.jpg\n",
            "8212-20210127-32-153857_8c7472702dcefa932644b0dbbdaf6a1d85b37b0e052b8ca529766334ce191b46.jpg\n",
            "8212-20210224-32-153427_00e9c9540ea11a9ab291cf7329af5b64310f3c0887631ae593951cd66375dc09.jpg\n",
            "8212-20210224-32-153427_43c51b5a0a6e4a0d7e3ac0327f901b548ab7cd6db6347eb4127e2359aab11b07.jpg\n",
            "8212-20210324-33-153803_50c7992386f30a4d1d75e52a96f712a0a695955a7ab8226c4113e6c773701518.jpg\n",
            "8212-20210428-33-150745_5a6f53f61b3290a54d8db3d5291bb9c33ff8daf1e447bbc06bab39b75e973724.jpg\n",
            "8213\n",
            "8213-20200604-85-100425_37c16cbf47700589dcf2c3744e71ec1a98458baef4bf457b97dff683800875f9.jpg\n",
            "8214\n",
            "8214-20200108-13-113002_125d38e68839960cca5f7fa260a8eb7d11b5002aa6fbeaf71bb878659f0f9350.jpg\n",
            "8214-20200108-13-113002_370eed0ec83e02477c4ba0e0a257d02ca2b97bedadaa38faca95dee061713fa0.jpg\n",
            "8214-20200108-13-113002_b1c78c426009e0d6feeca9e02fb11f692b7b8088e9d69ba5f249cfdc28e79230.jpg\n",
            "8214-20200108-13-113002_cfd84a3b59039891c0ee2ec078235426d0ae8811e047d01e83e5c927b1ba8e74.jpg\n",
            "8214-20200812-14-144758_02bb4a91a99db01a4a81b47cdb19c454aa25957afc5995d483fcb758f14c284f.jpg\n",
            "8214-20200812-14-144758_36af63962cc456366502c5268b364e12271cbb90dfb8485c178f12494b7d8b95.jpg\n",
            "8214-20200812-14-144758_8557289e7a46954b6844d4b34dc915def637e4535a4f3f7da256a3ad95af0e3f.jpg\n",
            "8214-20200812-14-144758_a1e54e6eea21c862b7ef4a71c1d43fb2a25517c340fd7d0914dbfc1b0cac4603.jpg\n",
            "8215\n",
            "8215-20200401-70-105457_bc9b449c4a07cabd98b3e236d135cea3ac0065d661718a17f2ce661ad1b1adfd.jpg\n",
            "8215-20200415-70-091556_caffe2dc0c4c9968b961891e748b6be35b6f44d77e11a10c849c6c4aa0e3af4b.jpg\n",
            "8216\n",
            "8216-20200915-1-103800_787be6e71829cd2a5b3b61ab1c653c3571d6e8609872562ee730cd5a5e4463b9.jpg\n",
            "8217\n",
            "8217-20200713-54-162522_01127307800a683297feef83924cd2a50c823a60d1a901b005bf8d960899fc50.jpg\n",
            "8217-20200713-54-162522_1ea0bb41b3a6308366f9caf00ed67851a832b56bede8ea8d2a5f2ce8291c9f31.jpg\n",
            "8217-20200713-54-162522_2167fe293619fc4936afeff080dc0a82e3ef8ac24d6e85b172d06c0dcd3d8ea6.jpg\n",
            "8217-20200713-54-162522_28a5895722993581b0a23401dc14418594fb5bef4de766f1e067992b1aabc280.jpg\n",
            "8217-20200713-54-162522_46e22e78501cc7849bffae1d0c6d453c7ef297e76fc2380b6ab9acf847132c3b.jpg\n",
            "8217-20200713-54-162522_b2cfc851a0534bb691f543c4713a52b482f65c74ec2185eda5a2a7f8f4df617e.jpg\n",
            "8217-20200713-54-162522_baaf14c71619020a11b2dd0f733fa6dde42f07c3e5aaeb91dd68f3c2a2a8f66a.jpg\n",
            "8217-20200713-54-162522_d7bbd66c0c96daa0942ba17826e8f320e18226c711a6870455f5d29431d233ab.jpg\n",
            "8217-20200713-54-162522_f21f99736f1c5872e7971e9616eabb5334e0fc5db440f167b933790bb72e7709.jpg\n",
            "8218\n",
            "8218-20200812-17-130055_bae70570f29f4399297d2a7d524cd08b205be10f717fcfaeef83b41bf8ddd0c0.jpg\n",
            "8218-20200930-17-102043_8a8f1077fc3808e437abdf7b5126e5ace4c4b35dbfb091e73fcbc75b07da2505.jpg\n",
            "8219\n",
            "8219-20190909-69-101734_d4cdb36ddf337c312df92132cdf2ec8156512c9d7aa77e57d9022b2e9d4b2328.jpg\n",
            "8219-20191113-69-113127_4f9c1b804fdbb78a985d7dbcf3c7069d6e2b726fecf11b9ca14348efa23b45f3.jpg\n",
            "8219-20191113-69-113127_5c24a0473645bcc776b9e96f71794a834cbb01840fabc1fe0641a818309490e5.jpg\n",
            "8219-20191113-69-113127_ed8b44b1d4b79c1bd268cf639a99267f2dee021fa9565ae67ef9c468697da9f0.jpg\n",
            "8219-20191219-69-124151_4943ea0a00d9253b50679543ceffd7718ca88a0b337b72b42f7320e7a451a807.jpg\n",
            "8219-20200213-70-112417_5b2bc9aae0839ae7afc4a9868102834f58beff681c928e3bbe5f97e314ee9a6c.jpg\n",
            "8219-20200514-70-113912_88b1384da4dbecc4ddcdc53e7966c5e9a41ebff2ff5cd26440f846cbba1a588a.jpg\n",
            "8219-20200820-70-110143_41d4f0b666664e19a000239f86f5cc3f068bae5b70b4a159d20ab86ad26c858e.jpg\n",
            "8219-20201112-70-101220_a2e49958d55039f83d5afda8175b391734ade399d55a9de066c6c4a06bb5f370.jpg\n",
            "8219-20210204-70-095703_2981780e6236482b6cbd19fa3ae54b654b84701445b165bfd64a62b496575e07.jpg\n",
            "8219-20210506-71-090943_dc0f237414840fe918a07939b06b09af30ae88ae0129e8eff5764d9fb73023e3.jpg\n",
            "8220\n",
            "8220-20210324-72-141533_bb9f15b1e3303525cbf1939a3b9d34713230eadcd9c9d14b77878857eb4b8ca1.jpg\n",
            "8220-20210329-72-151757_c223313b075dac8ac8b39ede47ba943b629be3f82c0f4197093d37b16130714b.jpg\n",
            "8220-20210405-72-151900_bf55bce0d33339c5f37614e2e9cab1e66a4eaa4e5bedae5f1eb8b05623dfe8d6.jpg\n",
            "8220-20210428-72-131556_2daabe4a3f805bcc65e7e3d69cedbf42bc75b71a101cdb8f57f3b8c015cb1ef1.jpg\n",
            "8220-20210616-72-121406_c61578c1ff8675c8798267cb2bfd1fccd29cd713681fe89152f74277ed15e0dc.jpg\n",
            "8221\n",
            "8221-20210106-85-121832_3c8ab6829840f2beb28d143683818ae0aec0bde3b188a8145758f99bf3332e67.jpg\n",
            "8221-20210331-85-100116_2107d01366bff43dbb67c0b33480db62227e4eb8939b8cbba9dd07b0aafb328f.jpg\n",
            "8221-20210331-85-100116_a9cfa86a0c507151e899d62e9cf20e1cc96642e0a4fad63d92c2702f7ae0b089.jpg\n",
            "8221-20210428-85-114059_17c9ed63a019d22a77287cad49670609dc85e3ad8ae0f571bd7af450f07a9385.jpg\n",
            "8221-20210618-85-100857_6fd03a946461ff039434efdf73d8ecc41a76cad07d788c014c23b5c3fcc47334.jpg\n",
            "8222\n",
            "8222-20200428-49-130448_6da613b35c43d3bbd2067d012c0d7aadd0f18c59effe5e1151d90b2657dd0ead.jpg\n",
            "8222-20200428-49-130448_8c50a7e5f9cf5be8e5234f0d1e75fa3cc79a84b0260fdf8021977767d4cb2010.jpg\n",
            "8222-20200428-49-130448_ee6e9d0c8684cc8bb1be4a13dfb171b9e356d60316b6a638facbe90da3fad5bc.jpg\n",
            "8222-20200430-49-085718_dbeda1c776a61003c89084eb08d15af9e4ce00b1474ee23dcf1a67a15c428e22.jpg\n",
            "8222-20200520-49-090905_29306322f9c225c33b787bc788d089a72908ad0bac1d4ec59a5468b5faf9ad8a.jpg\n",
            "8222-20200624-49-112939_eace99c5c97210c56d133b7d7e4ed98b5169b897e62ccbaa953232e2c406d709.jpg\n",
            "8223\n",
            "8223-20200812-9-120251_147b842a1857e39a44d7ee91ec966c3d0a5ed8258048b0c132781d3ffc4d818c.jpg\n",
            "8224\n",
            "8224-20210316-80-160539_d5be1db009dc015fbd4a30c46185161fa50edff951f81d0ee46e341a7386624c.jpg\n",
            "8224-20210316-80-160539_dcda23aa03e7501dc0026eba74259891c71cc2230a3edf7bdfa630a0cc24408c.jpg\n",
            "8225\n",
            "8225-20210422-69-144526_24617754e24b6da76fcddbf44e19dd55af987540be010f00f230b98e925650d5.jpg\n",
            "8225-20210422-69-144526_83a645f02952e218db32beeb864eddce4d2dfc451562b7546e891b98cf06ba9a.jpg\n",
            "8225-20210705-69-085743_eee1633418966d467ae65f37195062548cc48fe39da3db5dd726b347c8f9d9ef.jpg\n",
            "8226\n",
            "8226-20200618-23-131247_e228c467f260a0e5fc6546edf4b0dcfcc41f0b95d8748776e8b8fa1180d206c2.jpg\n",
            "8227\n",
            "8227-20200207-15-103912_0311695a1a0405d88d422e3304eddd8d630f06acc678d46656cc5360aebcab34.jpg\n",
            "8227-20200325-15-093105_a874c50c2623761eae05310a38d9e0b96b125d8ca8d6f34d9f003257cb4b1022.jpg\n",
            "8227-20200501-15-091814_0018250a9709c842aa348076b03ab4dd8cc67569edd7f4a5ce5de83d613cc102.jpg\n",
            "8228\n",
            "8228-20200722-74-100807_3d8ef23305456ca7f3a1707bdcfb771ff0b585e5e11436a74104ac44892e256c.jpg\n",
            "8228-20200722-74-100807_4f8b801e4cb642fc55270028a894a0809cb2cab878ff5113ebf7ae85efc57123.jpg\n",
            "8228-20200722-74-100807_a1d0b0644b76a532c43513942968785049fcbca3db6c02a504aee63295248239.jpg\n",
            "8228-20200909-74-085458_b6a4592e73d1bf03320136052fb0224df22b4d8f36ac4f7fb397f42cf1dfbbf5.jpg\n",
            "8229\n"
          ]
        }
      ]
    },
    {
      "cell_type": "markdown",
      "metadata": {
        "id": "AwGP32CYR8pG"
      },
      "source": [
        "#**旧画像ファイル**\n",
        "CSVファイルに撮影日時あり"
      ]
    },
    {
      "cell_type": "code",
      "metadata": {
        "id": "eK0_Bh6CNuSk"
      },
      "source": [
        "import os\n",
        "import shutil\n",
        "from datetime import datetime as dt\n",
        "import datetime\n",
        "\n",
        "folders = os.listdir(orig2_path)\n",
        "\n",
        "#新しいファイルを先にチェックしておき重複するものはコピーしないようにする（新ファイルの方が年齢が正確なため）\n",
        "newfiles = os.listdir(dst_path)\n",
        "num_acqdate_list = []\n",
        "for path in newfiles:\n",
        "    num, acqdate = path.split(\"-\",2)[0:2]\n",
        "    num_acqdate_list.append(str(num)+\"-\"+str(acqdate))\n",
        "print(num_acqdate_list)\n",
        "\n",
        "for folder in folders:\n",
        "    print(folder)\n",
        "    files = os.listdir(os.path.join(orig2_path, folder))\n",
        "    print(files)\n",
        "\n",
        "    for file in files:\n",
        "        init_date = df_csv1[df_csv1.iloc[:,2] == int(folder)].iloc[0,3]\n",
        "        file_age = df_csv1[df_csv1.iloc[:,2] == int(folder)].iloc[0,4]\n",
        "        init_date = init_date.split()[0]\n",
        "        init_date_dt = dt.strptime(init_date, '%Y/%m/%d')\n",
        "        #print(init_date)\n",
        "\n",
        "        acq_date = file[0:8]\n",
        "        hashed = file[8:] \n",
        "\n",
        "        try:\n",
        "            hashed_final = hashed.split(\"_\")[0]+\"_\"+hashed.split(\"_\")[4]  #out of rangeになるエラーを回避\n",
        "\n",
        "            try:\n",
        "                acq_date_dt = dt.strptime(acq_date, '%Y%m%d')\n",
        "                #print(acq_date)\n",
        "            except:\n",
        "                continue\n",
        "\n",
        "            acq_init_days = (acq_date_dt - init_date_dt).days\n",
        "\n",
        "            if acq_init_days >= 0:\n",
        "                acq_init_yrs = acq_init_days//365\n",
        "            else:\n",
        "                acq_init_yrs = 0\n",
        "\n",
        "            #print(acq_init_yrs)        \n",
        "            \n",
        "            age = int(file_age + acq_init_yrs)\n",
        "            #print(age)\n",
        "\n",
        "            #すでに新ファイルからconvertされている場合には、ファイルを移動しない\n",
        "            num_acqdate = folder+\"-\"+acq_date\n",
        "            if num_acqdate in num_acqdate_list:\n",
        "                print(\"file already converted\")\n",
        "                pass\n",
        "            else:\n",
        "                newfilename = folder+\"-\"+acq_date+\"-\"+str(age)+\"-\"+hashed_final #フォルダ番号-日付-年齢-ハッシュ化番号\n",
        "                shutil.copy(os.path.join(orig2_path, folder, file), os.path.join(dst_path, newfilename))\n",
        "                print(newfilename)\n",
        "\n",
        "        except:\n",
        "            pass\n",
        "\n"
      ],
      "execution_count": null,
      "outputs": []
    },
    {
      "cell_type": "markdown",
      "source": [
        "#**すでに展開されている画像のリネーム**"
      ],
      "metadata": {
        "id": "T0MilEPFUP5f"
      }
    },
    {
      "cell_type": "code",
      "metadata": {
        "id": "gIVNSih6dZ_H"
      },
      "source": [
        "\"\"\"\n",
        "\n",
        "「8-20120830-121408_眼位_O-0_bc86ba014fead67f4426d32...」\n",
        "「8-20130501-145932_眼位_O-0_df50b65e32b4947f5b5de...」\n",
        " ↓↓↓\n",
        " ※「眼位_０－0_」を削除\n",
        "「8-20120830-121408_bc86ba014fead67f4426d32...」\n",
        "「8-20130501-145932_df50b65e32b4947f5b5de...」\n",
        "...\n",
        "\"\"\""
      ],
      "execution_count": null,
      "outputs": []
    },
    {
      "cell_type": "code",
      "metadata": {
        "id": "w0hQeRzySN3Z"
      },
      "source": [
        "import os\n",
        "import shutil\n",
        "from datetime import datetime as dt\n",
        "import datetime\n",
        "\n",
        "folder_path = r\"F:\\眼位写真NEW\"\n",
        "\n",
        "files = os.listdir(folder_path)\n",
        "\n",
        "for filename in files:\n",
        "    print(filename)\n",
        "    orig_filepath = os.path.join(folder_path, filename)\n",
        "    \n",
        "    dst_filename = filename.split(\"_\")[0]+ \"_\" +filename.split(\"_\")[4]\n",
        "    dst_filepath = os.path.join(folder_path, dst_filename)\n",
        "    #print(dst_filepath)\n",
        "\n",
        "    os.rename(orig_filepath, dst_filepath)"
      ],
      "execution_count": null,
      "outputs": []
    }
  ]
}