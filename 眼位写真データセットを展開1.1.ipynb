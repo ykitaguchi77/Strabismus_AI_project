{
  "nbformat": 4,
  "nbformat_minor": 0,
  "metadata": {
    "colab": {
      "name": "Untitled88.ipynb",
      "provenance": [],
      "include_colab_link": true
    },
    "kernelspec": {
      "name": "python3",
      "display_name": "Python 3"
    },
    "language_info": {
      "name": "python"
    }
  },
  "cells": [
    {
      "cell_type": "markdown",
      "metadata": {
        "id": "view-in-github",
        "colab_type": "text"
      },
      "source": [
        "<a href=\"https://colab.research.google.com/github/ykitaguchi77/Strabismus_AI_project/blob/main/%E7%9C%BC%E4%BD%8D%E5%86%99%E7%9C%9F%E3%83%87%E3%83%BC%E3%82%BF%E3%82%BB%E3%83%83%E3%83%88%E3%82%92%E5%B1%95%E9%96%8B1.1.ipynb\" target=\"_parent\"><img src=\"https://colab.research.google.com/assets/colab-badge.svg\" alt=\"Open In Colab\"/></a>"
      ]
    },
    {
      "cell_type": "markdown",
      "metadata": {
        "id": "ttOq-gRAIro2"
      },
      "source": [
        "#**眼位写真データセットを展開(Local)**\n",
        "\n"
      ]
    },
    {
      "cell_type": "code",
      "metadata": {
        "id": "PXGXXA5lIqnc"
      },
      "source": [
        "\"\"\"\n",
        "---8-----20120830121408_眼位_O-0_bc86ba014fead67f4426d32...\n",
        "      |--20130501145932_眼位_O-0_df50b65e32b4947f5b5de...\n",
        "      |...\n",
        "\n",
        " ↓↓↓\n",
        "\n",
        "「8-20120830-121408_眼位_O-0_bc86ba014fead67f4426d32...」\n",
        "「8-20130501-145932_眼位_O-0_df50b65e32b4947f5b5de...」\n",
        " ↓↓↓\n",
        " ※「眼位_０－0_」を削除\n",
        " 「8-20120830-121408_bc86ba014fead67f4426d32...」\n",
        "「8-20130501-145932_df50b65e32b4947f5b5de...」\n",
        "...\n",
        "\"\"\""
      ],
      "execution_count": null,
      "outputs": []
    },
    {
      "cell_type": "code",
      "metadata": {
        "id": "veW-7zKpJb2f",
        "colab": {
          "base_uri": "https://localhost:8080/"
        },
        "outputId": "034471ef-89fd-4665-81be-aec53bb553bc"
      },
      "source": [
        "import codecs\n",
        "import pandas as pd\n",
        "\n",
        "\n",
        "orig1_path = r\"F:\\眼位写真2\\Files\"\n",
        "orig2_path = r\"F:\\眼位写真1.1\"\n",
        "dst_path = r\"F:\\眼位写真NEW\"\n",
        "csv1_path = r\"F:\\DiseaseInfo_modified1.4_connected.csv\"\n",
        "csv2_path = r\"F:\\DiseaseInfo_all_connected_new3.csv\"\n",
        "csv3_path = r\"F:\\MediaInfo.csv\"\n",
        "\n",
        "with codecs.open(csv1_path, \"r\", \"utf-8\", \"ignore\") as file:\n",
        "#with codecs.open(patient_list, \"r\", \"Shift-JIS\", \"ignore\") as file:\n",
        "    df_csv1 = pd.read_csv(file, index_col=None, header=0)\n",
        "    print(df_csv1)\n",
        "\n",
        "with codecs.open(csv2_path, \"r\", \"utf-8\", \"ignore\") as file:\n",
        "#with codecs.open(patient_list, \"r\", \"Shift-JIS\", \"ignore\") as file:\n",
        "    df_csv2 = pd.read_csv(file, index_col=None, header=0)\n",
        "    print(df_csv2)\n",
        "\n",
        "with codecs.open(csv3_path, \"r\", \"utf-8\", \"ignore\") as file:\n",
        "#with codecs.open(patient_list, \"r\", \"Shift-JIS\", \"ignore\") as file:\n",
        "    df_csv3 = pd.read_csv(file, index_col=None, header=0)\n",
        "    print(df_csv3)"
      ],
      "execution_count": 1,
      "outputs": [
        {
          "output_type": "stream",
          "name": "stderr",
          "text": [
            "c:\\users\\ykita\\appdata\\local\\programs\\python\\python37\\lib\\site-packages\\IPython\\core\\interactiveshell.py:3063: DtypeWarning: Columns (6,7,13,14,15,16,17,18,19,20,21,22,34,36,37,38,39,40,41,42,43,44,45,46,47,48,49,50,51,52,53,54,55,56,57,58,59,60,61,62,63,64,65,66,67,68,69,70,71,72,73,74,75,76,77,78,79,80,81,82,83,84,85,88,89,101,103,104,105,106,107,108,109,110,119,124,125,133,135,136,137,138) have mixed types.Specify dtype option on import or set low_memory=False.\n",
            "  interactivity=interactivity, compiler=compiler, result=result)\n"
          ]
        },
        {
          "output_type": "stream",
          "name": "stdout",
          "text": [
            "      Unnamed: 0                                         Unnamed: 1  \\\n",
            "0         335376  39b9186937b9756ef9010cf024c6f4734562654193918d...   \n",
            "1         351554  c05e3c5ea6717b69134500136d08fdca385c0c7d034bb5...   \n",
            "2         496330  e2734f0e8a7ef13d7f9476527d10e7a6e640addae5013b...   \n",
            "3         521208  7cf75afb16121efe7cbe76e1036145c3b1ff0b9d5e1a48...   \n",
            "4         533691  53e4cd83121fe8e48dd11f291a919a2f58963d99b2bafa...   \n",
            "...          ...                                                ...   \n",
            "8207    11767825  4c1fa7e79ebab785c268ceb08fe882e593d8a5013cbc02...   \n",
            "8208    11768123  b81db450414f1d2c6bf05a0692ee24c882122e450e58c2...   \n",
            "8209    90000011  6b11453396196c4889ca3e475ff5a480b214cf312d7da0...   \n",
            "8210    99999999  3f08d8fadb4b67fb056623565edbbc2c788091d78fd24c...   \n",
            "8211    99999999  3f08d8fadb4b67fb056623565edbbc2c788091d78fd24c...   \n",
            "\n",
            "      image_name       Unnamed: 3  Unnamed: 4 Unnamed: 5 Unnamed: 6  \\\n",
            "0           2946  1992/12/16 0:00          80       Male        NaN   \n",
            "1           1092  1993/10/20 0:00          81     Female        NaN   \n",
            "2           3536   1990/2/10 0:00          73     Female        NaN   \n",
            "3           5103    1994/3/3 0:00          77       Male        NaN   \n",
            "4           8160   2016/2/23 0:00          90     Female        NaN   \n",
            "...          ...              ...         ...        ...        ...   \n",
            "8207         140    2019/9/5 0:00          42       Male        NaN   \n",
            "8208        5658    2019/9/5 0:00          79       Male        NaN   \n",
            "8209        7679    2015/4/8 0:00           5       Male        NaN   \n",
            "8210        5306   2010/3/14 0:00          46       Male        NaN   \n",
            "8211        5307   2010/3/14 0:00          46       Male        NaN   \n",
            "\n",
            "     Unnamed: 7 Unnamed: 8 Unnamed: 9  ... Unnamed: 131 Unnamed: 132  \\\n",
            "0           NaN        NaN        NaN  ...          NaN          NaN   \n",
            "1           NaN        NaN        NaN  ...          NaN          NaN   \n",
            "2           NaN        NaN        NaN  ...          NaN          NaN   \n",
            "3           NaN        NaN        NaN  ...          NaN          NaN   \n",
            "4           NaN        NaN        NaN  ...          NaN          NaN   \n",
            "...         ...        ...        ...  ...          ...          ...   \n",
            "8207        NaN        NaN        NaN  ...          NaN          NaN   \n",
            "8208        NaN        NaN        NaN  ...          NaN          NaN   \n",
            "8209        NaN        NaN        NaN  ...          NaN          NaN   \n",
            "8210        NaN        NaN        NaN  ...          NaN          NaN   \n",
            "8211        NaN        NaN        NaN  ...          NaN          NaN   \n",
            "\n",
            "     Unnamed: 133 Unnamed: 134 Unnamed: 135 Unnamed: 136 Unnamed: 137  \\\n",
            "0             NaN          NaN          NaN          NaN          NaN   \n",
            "1             NaN          NaN          NaN          NaN          NaN   \n",
            "2             NaN          NaN          NaN          NaN          NaN   \n",
            "3             NaN          NaN          NaN          NaN          NaN   \n",
            "4             NaN          NaN          NaN          NaN          NaN   \n",
            "...           ...          ...          ...          ...          ...   \n",
            "8207          NaN          NaN          NaN          NaN          NaN   \n",
            "8208          NaN          NaN          NaN          NaN          NaN   \n",
            "8209          NaN          NaN          NaN          NaN          NaN   \n",
            "8210           ̋^          NaN          NaN          NaN          NaN   \n",
            "8211           ̋^          NaN          NaN          NaN          NaN   \n",
            "\n",
            "     Unnamed: 138 Unnamed: 139 Unnamed: 140  \n",
            "0             NaN         80.0         Male  \n",
            "1             NaN         81.0       Female  \n",
            "2             NaN         73.0       Female  \n",
            "3             NaN         77.0         Male  \n",
            "4             NaN         90.0       Female  \n",
            "...           ...          ...          ...  \n",
            "8207          NaN         42.0         Male  \n",
            "8208          NaN         79.0         Male  \n",
            "8209          NaN          5.0         Male  \n",
            "8210          NaN         46.0         Male  \n",
            "8211          NaN         46.0         Male  \n",
            "\n",
            "[8212 rows x 141 columns]\n",
            "        10893530  \\\n",
            "0      7777705.0   \n",
            "1     10527858.0   \n",
            "2     10021590.0   \n",
            "3     10964694.0   \n",
            "4      7711566.0   \n",
            "...          ...   \n",
            "9818  11613788.0   \n",
            "9819   9055165.0   \n",
            "9820  11452681.0   \n",
            "9821   6911048.0   \n",
            "9822  11587782.0   \n",
            "\n",
            "     d8847829893b30e2bff7943b01ca557fe839cf9b649d5e51b22a88c8b6a16b1d     1  \\\n",
            "0     a084892cbe599b02304e56535d7072d736271bd487abf4...                   2   \n",
            "1     d53872e128cd3d405f313b5c179a079a2fbeda852bca2d...                   3   \n",
            "2     9366a1267f814193d9ac2f13786d89acdb16456ee46db4...                   4   \n",
            "3     c5fbf6684b10dc2f84635ba7fcb3b0c7b6021b34bf4938...                   5   \n",
            "4     6ed82083cf58489e4a01e05edbc9f5b3f0d350c5978b10...                   6   \n",
            "...                                                 ...                 ...   \n",
            "9818  757069f15bc74739c51f5fe03167d51f594f4779017b2b...                9831   \n",
            "9819  51e7f294b7b63f15864316bbaf5b701b43f0c11c18c9fd...                9832   \n",
            "9820  f7345ccf09fe678c1ba8487d9a61e4bfc1658144b98ae9...                9833   \n",
            "9821  23753e35a4b02c439e9adecab3d26887ba4729e07258fa...                9834   \n",
            "9822  b3e8e6f86945cf4e67c8e473ff99a6ecadb99b5327f5f5...                9835   \n",
            "\n",
            "      45  38  Female          眼瞼痙攣       ドライアイ         両側眼瞼痙攣         近視性乱視  \\\n",
            "0     74  53  Female         内斜視術後       遠視性乱視            内斜視           NaN   \n",
            "1     59  51    Male          上下斜視       ドライアイ           混合乱視           NaN   \n",
            "2     46  34  Female        右眼瞼下垂症      両側強度近視            NaN           NaN   \n",
            "3     64  59  Female  近視性網脈絡膜萎縮の疑い     円錐角膜の疑い          近視性乱視        外斜視の疑い   \n",
            "4     20   0    Male     アレルギー性結膜炎        右内斜視           左内斜視           内斜視   \n",
            "...   ..  ..     ...           ...         ...            ...           ...   \n",
            "9818  43  41  Female        眼球運動障害  右動眼神経麻痺の疑い      動眼神経麻痺の疑い         近視性乱視   \n",
            "9819  50  35  Female           霰粒腫      未熟児網膜症            外斜視     右眼内レンズ挿入眼   \n",
            "9820  33  29    Male    ウイルス性肝炎の疑い     出血傾向の疑い  Ｃ型肝炎ウイルス感染の疑い     重症筋無力症の疑い   \n",
            "9821  27   3    Male         外斜視術後         外斜視        両側調節緊張症  他の疾患に合併した結膜炎   \n",
            "9822  73  73    Male         眼瞼下垂症         結膜炎             斜視        両側結膜腫瘍   \n",
            "\n",
            "      ... Unnamed: 16 Unnamed: 17 Unnamed: 18 Unnamed: 19 Unnamed: 20  \\\n",
            "0     ...         NaN         NaN         NaN         NaN         NaN   \n",
            "1     ...         NaN         NaN         NaN         NaN         NaN   \n",
            "2     ...         NaN         NaN         NaN         NaN         NaN   \n",
            "3     ...         NaN         NaN         NaN         NaN         NaN   \n",
            "4     ...         NaN         NaN         NaN         NaN         NaN   \n",
            "...   ...         ...         ...         ...         ...         ...   \n",
            "9818  ...         NaN         NaN         NaN         NaN         NaN   \n",
            "9819  ...     Ｃ型肝炎の疑い       近視性乱視    甲状腺機能亢進症      左核性白内障        角膜乱視   \n",
            "9820  ...         NaN         NaN         NaN         NaN         NaN   \n",
            "9821  ...         NaN         NaN         NaN         NaN         NaN   \n",
            "9822  ...         NaN         NaN         NaN         NaN         NaN   \n",
            "\n",
            "     Unnamed: 21 Unnamed: 22 Unnamed: 23 Unnamed: 24 Unnamed: 25  \n",
            "0            NaN         NaN         NaN         NaN         NaN  \n",
            "1            NaN         NaN         NaN         NaN         NaN  \n",
            "2            NaN         NaN         NaN         NaN         NaN  \n",
            "3            NaN         NaN         NaN         NaN         NaN  \n",
            "4            NaN         NaN         NaN         NaN         NaN  \n",
            "...          ...         ...         ...         ...         ...  \n",
            "9818         NaN         NaN         NaN         NaN         NaN  \n",
            "9819   Ｃ型急性肝炎の疑い         NaN         NaN         NaN         NaN  \n",
            "9820         NaN         NaN         NaN         NaN         NaN  \n",
            "9821         NaN         NaN         NaN         NaN         NaN  \n",
            "9822         NaN         NaN         NaN         NaN         NaN  \n",
            "\n",
            "[9823 rows x 26 columns]\n",
            "                                       PatientIdentifier          CaptureDate  \\\n",
            "0      2bc6e856adbea1e991ac70d33a79b0fe46801e00ce9129...  2018/02/13 17:50:19   \n",
            "1      2bc6e856adbea1e991ac70d33a79b0fe46801e00ce9129...  2018/02/13 17:50:19   \n",
            "2      91b7d3bf80dfaa8e94d6a135287759428bc60e6c6ada9d...  2014/08/06 13:36:51   \n",
            "3      91b7d3bf80dfaa8e94d6a135287759428bc60e6c6ada9d...  2010/08/25 16:22:59   \n",
            "4      91b7d3bf80dfaa8e94d6a135287759428bc60e6c6ada9d...  2010/08/25 16:22:59   \n",
            "...                                                  ...                  ...   \n",
            "66680  c4119ee4d26427ce6082ddfc864313d905236ca7e35cc0...   2019/07/03 9:47:38   \n",
            "66681  c4119ee4d26427ce6082ddfc864313d905236ca7e35cc0...   2020/01/15 9:30:08   \n",
            "66682  c4119ee4d26427ce6082ddfc864313d905236ca7e35cc0...   2019/07/03 9:47:38   \n",
            "66683  c4119ee4d26427ce6082ddfc864313d905236ca7e35cc0...   2020/01/15 9:30:08   \n",
            "66684  642a9c6348a5e9f27b30a6710e93ab15f5f1c8f1b12718...  2018/12/19 11:49:14   \n",
            "\n",
            "      ProcedureName                                           FileName Site  \\\n",
            "0                眼位  20180213175019_眼位_O_0_0523ed324a097d4efee788b2...    O   \n",
            "1                眼位  20180213175019_眼位_O_0_faa6840cfbf5af83d05e494a...    O   \n",
            "2                眼位  20140806133651_眼位_O_0_be04c416aa556d78e0a4bcb8...    O   \n",
            "3                眼位  20100825162259_眼位_O_0_33c7bd88dd8c40a5ee7b53b1...    O   \n",
            "4                眼位  20100825162259_眼位_O_0_50a8ce629f9645112ad7b805...    O   \n",
            "...             ...                                                ...  ...   \n",
            "66680            眼位  20190703094738_眼位_O_0_596a5bcf6c0ee3065bc57363...    O   \n",
            "66681            眼位  20200115093008_眼位_O_0_228d19be04651902676cdc3f...    O   \n",
            "66682            眼位  20190703094738_眼位_O_0_15abdbbd4d3c29f1a54e52e2...    O   \n",
            "66683            眼位  20200115093008_眼位_O_0_b99fb70cfdac882fb23ccc34...    O   \n",
            "66684            眼位  20181219114914_眼位_O_0_424913503312470433d168b8...    O   \n",
            "\n",
            "       Angle  Age_Captured  Unnamed: 7  \n",
            "0        0.0            82         NaN  \n",
            "1        0.0            82         NaN  \n",
            "2        0.0            16         NaN  \n",
            "3        0.0            12         NaN  \n",
            "4        0.0            12         NaN  \n",
            "...      ...           ...         ...  \n",
            "66680    0.0             2         NaN  \n",
            "66681    0.0             2         NaN  \n",
            "66682    0.0             2         NaN  \n",
            "66683    0.0             2         NaN  \n",
            "66684    0.0            70         NaN  \n",
            "\n",
            "[66685 rows x 8 columns]\n"
          ]
        }
      ]
    },
    {
      "cell_type": "markdown",
      "metadata": {
        "id": "pJ540vdedbBN"
      },
      "source": [
        "#**新画像ファイル**\n",
        "CSVファイルに撮影時の年齢あり"
      ]
    },
    {
      "cell_type": "code",
      "source": [
        "import os\n",
        "import shutil\n",
        "from datetime import datetime as dt\n",
        "import datetime\n",
        "\n",
        "folders = os.listdir(orig1_path)\n",
        "folder = folders[4]\n",
        "files = os.listdir(os.path.join(orig1_path, folder))\n",
        "file =files[0]\n",
        "print(file)\n",
        "\n",
        "df_age_captured = df_csv3[df_csv3.iloc[:,3] == file]\n",
        "age = df_age_captured.iloc[0,6]\n",
        "print(age)\n",
        "acq_date = file[0:8]\n",
        "print(acq_date)\n",
        "\n",
        "hashed = hashed = file[8:]\n",
        "print(hashed)\n",
        "\n",
        "hashed_final = hashed.split(\"_\")[0]+\"_\"+hashed.split(\"_\")[4]\n",
        "print(hashed_final)"
      ],
      "metadata": {
        "colab": {
          "base_uri": "https://localhost:8080/"
        },
        "id": "wkMoylHTQ_ud",
        "outputId": "91c08e2e-6496-43cf-af89-c9c4322f6b0a"
      },
      "execution_count": 22,
      "outputs": [
        {
          "output_type": "stream",
          "name": "stdout",
          "text": [
            "20200826110901_眼位_O_0_311b8fd4b4049eb23b50b088718beaa793ee96989de94e5ef2a4f10024b0f989.jpg\n",
            "51\n",
            "20200826\n",
            "110901_眼位_O_0_311b8fd4b4049eb23b50b088718beaa793ee96989de94e5ef2a4f10024b0f989.jpg\n",
            "110901_311b8fd4b4049eb23b50b088718beaa793ee96989de94e5ef2a4f10024b0f989.jpg\n"
          ]
        }
      ]
    },
    {
      "cell_type": "code",
      "metadata": {
        "id": "AKW9heSOka6c"
      },
      "source": [
        "import os\n",
        "import shutil\n",
        "from datetime import datetime as dt\n",
        "import datetime\n",
        "\n",
        "folders = os.listdir(orig1_path)\n",
        "\n",
        "for folder in folders:\n",
        "    if folder.isdigit():\n",
        "            print(folder)\n",
        "            files = os.listdir(os.path.join(orig1_path, folder))\n",
        "            #print(files)\n",
        "\n",
        "            for file in files:\n",
        "                #print(file)\n",
        "                df_age_captured = df_csv3[df_csv3.iloc[:,3] == file]\n",
        "                \n",
        "                if df_age_captured.empty:\n",
        "                    pass\n",
        "                else:\n",
        "                    age = df_age_captured.iloc[0,6]\n",
        "                    acq_date = file[0:8]\n",
        "                    hashed = file[8:]\n",
        "                    hashed_final = hashed.split(\"_\")[0]+\"_\"+hashed.split(\"_\")[4] \n",
        "                    newfilename = folder+\"-\"+acq_date+\"-\"+str(age)+\"-\"+hashed_final #フォルダ番号-日付-年齢-ハッシュ化番号\n",
        "                    shutil.copy(os.path.join(orig1_path, folder, file), os.path.join(dst_path, newfilename))\n",
        "                    print(newfilename)"
      ],
      "execution_count": null,
      "outputs": []
    },
    {
      "cell_type": "markdown",
      "metadata": {
        "id": "AwGP32CYR8pG"
      },
      "source": [
        "#**旧画像ファイル**\n",
        "CSVファイルに撮影日時あり"
      ]
    },
    {
      "cell_type": "code",
      "metadata": {
        "id": "eK0_Bh6CNuSk"
      },
      "source": [
        "import os\n",
        "import shutil\n",
        "from datetime import datetime as dt\n",
        "import datetime\n",
        "\n",
        "folders = os.listdir(orig2_path)\n",
        "\n",
        "#新しいファイルを先にチェックしておき重複するものはコピーしないようにする（新ファイルの方が年齢が正確なため）\n",
        "newfiles = os.listdir(dst_path)\n",
        "num_acqdate_list = []\n",
        "for path in newfiles:\n",
        "    num, acqdate = path.split(\"-\",2)[0:2]\n",
        "    num_acqdate_list.append(str(num)+\"-\"+str(acqdate))\n",
        "print(num_acqdate_list)\n",
        "\n",
        "for folder in folders:\n",
        "    print(folder)\n",
        "    files = os.listdir(os.path.join(orig2_path, folder))\n",
        "    print(files)\n",
        "\n",
        "    for file in files:\n",
        "        init_date = df_csv1[df_csv1.iloc[:,2] == int(folder)].iloc[0,3]\n",
        "        file_age = df_csv1[df_csv1.iloc[:,2] == int(folder)].iloc[0,4]\n",
        "        init_date = init_date.split()[0]\n",
        "        init_date_dt = dt.strptime(init_date, '%Y/%m/%d')\n",
        "        #print(init_date)\n",
        "\n",
        "        acq_date = file[0:8]\n",
        "        hashed = file[8:] \n",
        "        hashed_final = hashed.split(\"_\")[0]+\"_\"+hashed.split(\"_\")[4]\n",
        "\n",
        "        try:\n",
        "            acq_date_dt = dt.strptime(acq_date, '%Y%m%d')\n",
        "            #print(acq_date)\n",
        "        except:\n",
        "            continue\n",
        "\n",
        "        acq_init_days = (acq_date_dt - init_date_dt).days\n",
        "\n",
        "        if acq_init_days >= 0:\n",
        "            acq_init_yrs = acq_init_days//365\n",
        "        else:\n",
        "            acq_init_yrs = 0\n",
        "\n",
        "        #print(acq_init_yrs)        \n",
        "        \n",
        "        age = int(file_age + acq_init_yrs)\n",
        "        #print(age)\n",
        "\n",
        "        #すでに新ファイルからconvertされている場合には、ファイルを移動しない\n",
        "        num_acqdate = folder+\"-\"+acq_date\n",
        "        if num_acqdate in num_acqdate_list:\n",
        "            print(\"file already converted\")\n",
        "            pass\n",
        "        else:\n",
        "            newfilename = folder+\"-\"+acq_date+\"-\"+str(age)+\"-\"+hashed_final #フォルダ番号-日付-年齢-ハッシュ化番号\n",
        "            shutil.copy(os.path.join(orig2_path, folder, file), os.path.join(dst_path, newfilename))\n",
        "            print(newfilename)\n",
        "\n",
        "\n"
      ],
      "execution_count": null,
      "outputs": []
    },
    {
      "cell_type": "markdown",
      "source": [
        "#**すでに展開されている画像のリネーム**"
      ],
      "metadata": {
        "id": "T0MilEPFUP5f"
      }
    },
    {
      "cell_type": "code",
      "metadata": {
        "id": "gIVNSih6dZ_H"
      },
      "source": [
        "\"\"\"\n",
        "「8-20120830-121408_眼位_O-0_bc86ba014fead67f4426d32...」\n",
        "「8-20130501-145932_眼位_O-0_df50b65e32b4947f5b5de...」\n",
        " ↓↓↓\n",
        " ※「眼位_０－0_」を削除\n",
        "「8-20120830-121408_bc86ba014fead67f4426d32...」\n",
        "「8-20130501-145932_df50b65e32b4947f5b5de...」\n",
        "...\n",
        "\"\"\""
      ],
      "execution_count": null,
      "outputs": []
    },
    {
      "cell_type": "code",
      "metadata": {
        "id": "w0hQeRzySN3Z"
      },
      "source": [
        "import os\n",
        "import shutil\n",
        "from datetime import datetime as dt\n",
        "import datetime\n",
        "\n",
        "folder_path = r\"F:\\眼位写真NEW\"\n",
        "\n",
        "files = os.listdir(folder_path)\n",
        "\n",
        "for filename in files:\n",
        "    print(filename)\n",
        "    orig_filepath = os.path.join(folder_path, filename)\n",
        "    \n",
        "    dst_filename = filename.split(\"_\")[0]+ \"_\" +filename.split(\"_\")[4]\n",
        "    dst_filepath = os.path.join(folder_path, dst_filename)\n",
        "    #print(dst_filepath)\n",
        "\n",
        "    os.rename(orig_filepath, dst_filepath)"
      ],
      "execution_count": null,
      "outputs": []
    }
  ]
}