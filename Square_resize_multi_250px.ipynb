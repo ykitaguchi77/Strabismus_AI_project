{
  "nbformat": 4,
  "nbformat_minor": 0,
  "metadata": {
    "colab": {
      "name": "Untitled40.ipynb",
      "provenance": [],
      "include_colab_link": true
    },
    "kernelspec": {
      "name": "python3",
      "display_name": "Python 3"
    }
  },
  "cells": [
    {
      "cell_type": "markdown",
      "metadata": {
        "id": "view-in-github",
        "colab_type": "text"
      },
      "source": [
        "<a href=\"https://colab.research.google.com/github/ykitaguchi77/Strabismus_AI_project/blob/main/Square_resize_multi_250px.ipynb\" target=\"_parent\"><img src=\"https://colab.research.google.com/assets/colab-badge.svg\" alt=\"Open In Colab\"/></a>"
      ]
    },
    {
      "cell_type": "markdown",
      "metadata": {
        "id": "FT-uBcZ9PSmm"
      },
      "source": [
        "#Square_resize_multi_250pix\n",
        "\n",
        "長方形を、長辺を一辺とした正方形にresizeし余白を黒く塗りつぶした上で、250pixに縮小するスクリプト"
      ]
    },
    {
      "cell_type": "code",
      "metadata": {
        "id": "5yQwABlGCXgh",
        "colab": {
          "base_uri": "https://localhost:8080/"
        },
        "outputId": "9640c113-0e57-44ed-b85c-c4d7b938f163"
      },
      "source": [
        "import numpy as np\n",
        "import matplotlib.pyplot as plt\n",
        "import time\n",
        "import os\n",
        "import copy\n",
        "import pandas as pd\n",
        "import csv\n",
        "from random import randint\n",
        "from time import sleep\n",
        "import math\n",
        "\n",
        "import glob\n",
        "import random\n",
        "from PIL import Image\n",
        "%matplotlib inline\n",
        "\n",
        "#サポートパッチのインポート\n",
        "from google.colab.patches import cv2_imshow\n",
        "import cv2\n",
        "\n",
        "plt.ion()   # interactive mode\n",
        "\n",
        "#Google driveをマウント\n",
        "from google.colab import drive\n",
        "drive.mount('/content/drive')\n"
      ],
      "execution_count": 1,
      "outputs": [
        {
          "output_type": "stream",
          "text": [
            "Mounted at /content/drive\n"
          ],
          "name": "stdout"
        }
      ]
    },
    {
      "cell_type": "markdown",
      "metadata": {
        "id": "nzQon-jiSd2J"
      },
      "source": [
        "#保存あり"
      ]
    },
    {
      "cell_type": "code",
      "metadata": {
        "id": "zLwAJH8MSh8o"
      },
      "source": [
        "def convert(in_path, out_path, processing_file):\n",
        "    #処理時間の計測\n",
        "    start = time.time()\n",
        "\n",
        "    l=0\n",
        "    for i in processing_file:      \n",
        "          img = Image.open(in_path + '/' + i)\n",
        "          img_new = expand2square(img, (0, 0, 0)).resize((250, 250))\n",
        "          img_new.save(out_path +'/'+ i)\n",
        "          print(out_path +'/'+ i)\n",
        "          \n",
        "          #切り取った画像を表示\n",
        "          #plt.imshow(np.asarray(img_new))\n",
        "          #plt.show()\n",
        "\n",
        "    print('Process done!!')\n",
        "    elapsed_time = time.time() - start\n",
        "    print (\"elapsed_time:{0}\".format(elapsed_time) + \"[sec]\")\n",
        "\n",
        "def expand2square(pil_img, background_color):\n",
        "    width, height = pil_img.size\n",
        "    if width == height:\n",
        "        return pil_img\n",
        "    elif width > height:\n",
        "        result = Image.new(pil_img.mode, (width, width), background_color)\n",
        "        result.paste(pil_img, (0, (width-height)//2))\n",
        "        return result\n",
        "    else:\n",
        "        result = Image.new(pil_img.mode, (height, height), background_color)\n",
        "        result.paste(pil_img, (0, (height - width) // 2))\n",
        "        return result\n",
        "\n",
        "def showInfo(in_path):\n",
        "    #処理するDirectoryの設定\n",
        "    file = os.listdir(in_path)\n",
        "    print(len(file))\n",
        "\n",
        "    #ここにフォルダ番号を記載する (ex. [0:999])\n",
        "    processing_file = file[0:999]\n",
        "    print(processing_file)\n",
        "    len(processing_file)\n",
        "    return processing_file\n"
      ],
      "execution_count": 2,
      "outputs": []
    },
    {
      "cell_type": "code",
      "metadata": {
        "id": "KgonyabnQJcE",
        "colab": {
          "base_uri": "https://localhost:8080/"
        },
        "outputId": "dd36acc4-3dfc-416f-9881-167ebe9c4307"
      },
      "source": [
        "#元画像フォルダ\n",
        "in_path = '/content/drive/MyDrive/Deep_learning/Strabismus/testset/Cont'\n",
        "\n",
        "#保存先フォルダ\n",
        "out_path = '/content/drive/MyDrive/Deep_learning/Strabismus/testset_250px/Cont'\n",
        "if not os.path.exists(out_path):\n",
        "    os.makedirs(out_path)\n",
        "\n",
        "processing_file = showInfo(in_path)\n",
        "convert(in_path, out_path, processing_file)\n",
        "\n",
        "#元画像フォルダ\n",
        "in_path = '/content/drive/MyDrive/Deep_learning/Strabismus/testset/Exte'\n",
        "\n",
        "#保存先フォルダ\n",
        "out_path = '/content/drive/MyDrive/Deep_learning/Strabismus/testset_250px/Exte'\n",
        "if not os.path.exists(out_path):\n",
        "    os.makedirs(out_path)\n",
        "\n",
        "processing_file = showInfo(in_path)\n",
        "convert(in_path, out_path, processing_file)\n",
        "\n",
        "#元画像フォルダ\n",
        "in_path = '/content/drive/MyDrive/Deep_learning/Strabismus/testset/Inte'\n",
        "\n",
        "#保存先フォルダ\n",
        "out_path = '/content/drive/MyDrive/Deep_learning/Strabismus/testset_250px/Inte'\n",
        "if not os.path.exists(out_path):\n",
        "    os.makedirs(out_path)\n",
        "\n",
        "processing_file = showInfo(in_path)\n",
        "convert(in_path, out_path, processing_file)\n",
        "\n"
      ],
      "execution_count": null,
      "outputs": [
        {
          "output_type": "stream",
          "text": [
            "12\n",
            "['6868.jpg', '1912.jpg', '5169.jpg', '7933.jpg', '4796.jpg', '3092.jpg', '6738.jpg', '9256.jpg', '8366.jpg', '9595.jpg', '9236.jpg', '8739.jpg']\n",
            "/content/drive/MyDrive/Deep_learning/Strabismus/testset_250px/Cont/6868.jpg\n",
            "/content/drive/MyDrive/Deep_learning/Strabismus/testset_250px/Cont/1912.jpg\n",
            "/content/drive/MyDrive/Deep_learning/Strabismus/testset_250px/Cont/5169.jpg\n",
            "/content/drive/MyDrive/Deep_learning/Strabismus/testset_250px/Cont/7933.jpg\n",
            "/content/drive/MyDrive/Deep_learning/Strabismus/testset_250px/Cont/4796.jpg\n",
            "/content/drive/MyDrive/Deep_learning/Strabismus/testset_250px/Cont/3092.jpg\n",
            "/content/drive/MyDrive/Deep_learning/Strabismus/testset_250px/Cont/6738.jpg\n",
            "/content/drive/MyDrive/Deep_learning/Strabismus/testset_250px/Cont/9256.jpg\n",
            "/content/drive/MyDrive/Deep_learning/Strabismus/testset_250px/Cont/8366.jpg\n",
            "/content/drive/MyDrive/Deep_learning/Strabismus/testset_250px/Cont/9595.jpg\n",
            "/content/drive/MyDrive/Deep_learning/Strabismus/testset_250px/Cont/9236.jpg\n",
            "/content/drive/MyDrive/Deep_learning/Strabismus/testset_250px/Cont/8739.jpg\n",
            "Process done!!\n",
            "elapsed_time:7.243760585784912[sec]\n",
            "13\n",
            "['7111.jpg', '6817.jpg', '2641.jpg', '2639.jpg', '1491.jpg', '6279.jpg', '7152.jpg', '4437.jpg', '9622.jpg', '8194.jpg', '9323.jpg', '9604.jpg', '9444.jpg']\n",
            "/content/drive/MyDrive/Deep_learning/Strabismus/testset_250px/Exte/7111.jpg\n",
            "/content/drive/MyDrive/Deep_learning/Strabismus/testset_250px/Exte/6817.jpg\n",
            "/content/drive/MyDrive/Deep_learning/Strabismus/testset_250px/Exte/2641.jpg\n",
            "/content/drive/MyDrive/Deep_learning/Strabismus/testset_250px/Exte/2639.jpg\n",
            "/content/drive/MyDrive/Deep_learning/Strabismus/testset_250px/Exte/1491.jpg\n",
            "/content/drive/MyDrive/Deep_learning/Strabismus/testset_250px/Exte/6279.jpg\n",
            "/content/drive/MyDrive/Deep_learning/Strabismus/testset_250px/Exte/7152.jpg\n",
            "/content/drive/MyDrive/Deep_learning/Strabismus/testset_250px/Exte/4437.jpg\n",
            "/content/drive/MyDrive/Deep_learning/Strabismus/testset_250px/Exte/9622.jpg\n",
            "/content/drive/MyDrive/Deep_learning/Strabismus/testset_250px/Exte/8194.jpg\n",
            "/content/drive/MyDrive/Deep_learning/Strabismus/testset_250px/Exte/9323.jpg\n",
            "/content/drive/MyDrive/Deep_learning/Strabismus/testset_250px/Exte/9604.jpg\n",
            "/content/drive/MyDrive/Deep_learning/Strabismus/testset_250px/Exte/9444.jpg\n",
            "Process done!!\n",
            "elapsed_time:8.283413648605347[sec]\n",
            "19\n",
            "['2538.jpg', '1848.jpg', '6188.jpg', '3889.jpg', '8162.jpg', '7572.jpg', '1607.jpg', '2966.jpg', '2291-1.jpg', '848-2.jpg', '848-1.jpg', '9186.jpg', '4385.jpg', '1235.jpg', '2291-2.jpg', '8473.jpg', '9663.jpg', '8728.jpg', '8435.jpg']\n",
            "/content/drive/MyDrive/Deep_learning/Strabismus/testset_250px/Inte/2538.jpg\n",
            "/content/drive/MyDrive/Deep_learning/Strabismus/testset_250px/Inte/1848.jpg\n",
            "/content/drive/MyDrive/Deep_learning/Strabismus/testset_250px/Inte/6188.jpg\n",
            "/content/drive/MyDrive/Deep_learning/Strabismus/testset_250px/Inte/3889.jpg\n",
            "/content/drive/MyDrive/Deep_learning/Strabismus/testset_250px/Inte/8162.jpg\n",
            "/content/drive/MyDrive/Deep_learning/Strabismus/testset_250px/Inte/7572.jpg\n",
            "/content/drive/MyDrive/Deep_learning/Strabismus/testset_250px/Inte/1607.jpg\n",
            "/content/drive/MyDrive/Deep_learning/Strabismus/testset_250px/Inte/2966.jpg\n",
            "/content/drive/MyDrive/Deep_learning/Strabismus/testset_250px/Inte/2291-1.jpg\n"
          ],
          "name": "stdout"
        }
      ]
    }
  ]
}