{
  "nbformat": 4,
  "nbformat_minor": 0,
  "metadata": {
    "colab": {
      "name": "Untitled83.ipynb",
      "provenance": [],
      "authorship_tag": "ABX9TyPdIK8ztZjzu124GpMlwcMq",
      "include_colab_link": true
    },
    "kernelspec": {
      "name": "python3",
      "display_name": "Python 3"
    },
    "language_info": {
      "name": "python"
    }
  },
  "cells": [
    {
      "cell_type": "markdown",
      "metadata": {
        "id": "view-in-github",
        "colab_type": "text"
      },
      "source": [
        "<a href=\"https://colab.research.google.com/github/ykitaguchi77/Strabismus_AI_project/blob/main/Calculate_age.ipynb\" target=\"_parent\"><img src=\"https://colab.research.google.com/assets/colab-badge.svg\" alt=\"Open In Colab\"/></a>"
      ]
    },
    {
      "cell_type": "code",
      "metadata": {
        "colab": {
          "base_uri": "https://localhost:8080/"
        },
        "id": "Oo0VzB9U-Y7V",
        "outputId": "a4772045-4817-447f-e303-34acd6f5432c"
      },
      "source": [
        "import glob\n",
        "import os\n",
        "import pandas as pd\n",
        "import sys\n",
        "import shutil\n",
        "import numpy as np\n",
        "import matplotlib.pyplot as plt\n",
        "\n",
        "#google driveをcolabolatoryにマウント\n",
        "from google.colab import drive\n",
        "drive.mount('/content/drive')"
      ],
      "execution_count": 32,
      "outputs": [
        {
          "output_type": "stream",
          "name": "stdout",
          "text": [
            "Drive already mounted at /content/drive; to attempt to forcibly remount, call drive.mount(\"/content/drive\", force_remount=True).\n"
          ]
        }
      ]
    },
    {
      "cell_type": "code",
      "metadata": {
        "id": "qF-URrSI-gJV"
      },
      "source": [
        "pd.set_option('display.max_columns', 10)\n",
        "\n",
        "def openCSV(csv_path):\n",
        "    #df = pd.read_csv(csv_path, encoding=\"shift-jis\")\n",
        "    df = pd.read_csv(csv_path, encoding=\"utf-8\",header=None)\n",
        "    #df = pd.read_csv(csv_path, encoding=\"cp932\")\n",
        "    #df = df.drop(df.columns[[0]], axis=1) #1列目を削除する\n",
        "    #print(df)\n",
        "    return df\n",
        "\n",
        "#CSVを開く （csv1:編集するファイル、csv2:参照するファイル）\n",
        "csv2_path = '/content/drive/MyDrive/Deep_learning/Facephoto_LIST/DiseaseInfo_all_connected_new3.csv'\n",
        "df2 = openCSV(csv2_path) #CSVを開く\n",
        "df2\n",
        "\n",
        "#パスから画像名のリストを作成\n",
        "img_path = \"/content/drive/MyDrive/Deep_learning/Strabismus/Dataset_250px_20211116\"\n",
        "\n",
        "contlist, extelist, intelist = [], [], []\n",
        "\n",
        "#path = \"/content/drive/MyDrive/Deep_learning/Strabismus/dataset(3class_notcut)/train/exte/e126.jpg\"\n",
        "#このうち126の部分のみを取り出す\n",
        "\n",
        "cont_name = glob.glob(img_path +\"/cont/*\")\n",
        "for i in cont_name:\n",
        "    contlist.append(int(os.path.basename(os.path.splitext(i)[0])))\n",
        "contlist=sorted(contlist)\n",
        "\n",
        "exte_name = glob.glob(img_path +\"/exo/*\")\n",
        "for i in exte_name:\n",
        "    #extelist.append(int(os.path.basename(os.path.splitext(i)[0]).lstrip(\"e\").split(\"-\")[0]))\n",
        "    extelist.append(int(os.path.basename(os.path.splitext(i)[0])))\n",
        "extelist=sorted(extelist)\n",
        "    \n",
        "inte_name = glob.glob(img_path +\"/eso/*\")\n",
        "for i in inte_name:\n",
        "    intelist.append(int(os.path.basename(os.path.splitext(i)[0])))\n",
        "intelist=sorted(intelist)"
      ],
      "execution_count": 33,
      "outputs": []
    },
    {
      "cell_type": "code",
      "metadata": {
        "id": "n8sAEGuv-lyt"
      },
      "source": [
        "def extract(imgname_list, df_orig):\n",
        "    #もとのcsvと列名を揃えたデータフレームを作成\n",
        "    cols =  df_orig.columns\n",
        "    df_dst = pd.DataFrame(index=[], columns=cols)\n",
        "\n",
        "    for i in imgname_list:\n",
        "        df_add = df_orig[df_orig.iloc[0:,2] ==i]\n",
        "        df_dst = pd.concat([df_dst, df_add])\n",
        "    return df_dst\n",
        "\n",
        "df_cont = extract(contlist, df2)\n",
        "df_exte = extract(extelist, df2)\n",
        "df_inte = extract(intelist, df2)"
      ],
      "execution_count": 34,
      "outputs": []
    },
    {
      "cell_type": "code",
      "metadata": {
        "colab": {
          "base_uri": "https://localhost:8080/",
          "height": 1000
        },
        "id": "uTw10wVH-otl",
        "outputId": "114f2b0b-a069-41cd-d0c4-f49562ac82bb"
      },
      "source": [
        "import statistics\n",
        "import math\n",
        "from scipy import stats\n",
        "from statsmodels.stats.weightstats import ttest_ind\n",
        "\n",
        "def statistics_age(age_list):\n",
        "    print(\"n=\" +str(len(age_list)))\n",
        "    print(\"max: \"+str(min(age_list)))\n",
        "    print(\"min: \"+str(max(age_list)))\n",
        "    print(\"median: \"+str(statistics.median(age_list)))\n",
        "    print(\"mean: \"+str(statistics.mean(age_list)))\n",
        "    print(\"sd: \"+str(statistics.stdev(age_list)))\n",
        "    \n",
        "print(\"cont\")\n",
        "cont_age = df_cont.iloc[:,4].tolist()\n",
        "statistics_age(cont_age)\n",
        "\n",
        "print(\"\")\n",
        "print(\"exte\")\n",
        "exte_age = df_exte.iloc[:,4].tolist()\n",
        "statistics_age(exte_age)\n",
        "\n",
        "print(\"\")\n",
        "print(\"inte\")\n",
        "inte_age = df_inte.iloc[:,4].tolist()\n",
        "statistics_age(inte_age)\n",
        "\n",
        "print(\"\")\n",
        "print(\"total\")\n",
        "total_age = cont_age + exte_age + inte_age\n",
        "statistics_age(total_age)\n",
        "\n",
        "print(\"\")\n",
        "print(\"cont vs eso\")\n",
        "print(\"p=\"+str(stats.mannwhitneyu(cont_age, inte_age, use_continuity=True, alternative=None)))\n",
        "\n",
        "print(\"\")\n",
        "print(\"cont vs exo\")\n",
        "print(\"p=\"+str(stats.mannwhitneyu(cont_age, exte_age, use_continuity=True, alternative=None)))\n",
        "\n",
        "print(\"\")\n",
        "print(\"cont vs eso\")\n",
        "print(\"p=\"+str(ttest_ind(cont_age, inte_age)[1]))\n",
        "\n",
        "\n",
        "#cont histogram\n",
        "fig = plt.figure()\n",
        "ax = fig.add_subplot(1,1,1)\n",
        "\n",
        "ax.hist(cont_age, bins=50)\n",
        "ax.set_title('Control histogram $\\mu=100,\\ \\sigma=15$')\n",
        "ax.set_xlabel('x')\n",
        "ax.set_ylabel('freq')\n",
        "fig.show()\n",
        "\n",
        "#exo histogram\n",
        "fig = plt.figure()\n",
        "ax = fig.add_subplot(1,1,1)\n",
        "\n",
        "ax.hist(exte_age, bins=50)\n",
        "ax.set_title('Exotropia histogram $\\mu=100,\\ \\sigma=15$')\n",
        "ax.set_xlabel('x')\n",
        "ax.set_ylabel('freq')\n",
        "fig.show()\n",
        "\n",
        "#eso histogram\n",
        "fig = plt.figure()\n",
        "ax = fig.add_subplot(1,1,1)\n",
        "\n",
        "ax.hist(inte_age, bins=50)\n",
        "ax.set_title('Esotropia histogram $\\mu=100,\\ \\sigma=15$')\n",
        "ax.set_xlabel('x')\n",
        "ax.set_ylabel('freq')\n",
        "fig.show()"
      ],
      "execution_count": 35,
      "outputs": [
        {
          "output_type": "stream",
          "name": "stdout",
          "text": [
            "cont\n",
            "n=444\n",
            "max: 0\n",
            "min: 83\n",
            "median: 7.5\n",
            "mean: 15.155405405405405\n",
            "sd: 19.566075874263664\n",
            "\n",
            "exte\n",
            "n=368\n",
            "max: 0\n",
            "min: 82\n",
            "median: 6.5\n",
            "mean: 15.410326086956522\n",
            "sd: 20.352683329096127\n",
            "\n",
            "inte\n",
            "n=472\n",
            "max: 0\n",
            "min: 86\n",
            "median: 4.0\n",
            "mean: 14.334745762711865\n",
            "sd: 20.987768663697285\n",
            "\n",
            "total\n",
            "n=1284\n",
            "max: 0\n",
            "min: 86\n",
            "median: 6.0\n",
            "mean: 14.926791277258568\n",
            "sd: 20.31246787164675\n",
            "\n",
            "cont vs eso\n",
            "p=MannwhitneyuResult(statistic=93969.5, pvalue=0.0033836546031471887)\n",
            "\n",
            "cont vs exo\n",
            "p=MannwhitneyuResult(statistic=78895.5, pvalue=0.19962503482857374)\n",
            "\n",
            "cont vs eso\n",
            "p=0.5412560347321234\n"
          ]
        },
        {
          "output_type": "display_data",
          "data": {
            "image/png": "[encoded data removed]",
            "text/plain": [
              "<Figure size 432x288 with 1 Axes>"
            ]
          },
          "metadata": {
            "needs_background": "light"
          }
        },
        {
          "output_type": "display_data",
          "data": {
            "image/png": "[encoded data removed]",
            "text/plain": [
              "<Figure size 432x288 with 1 Axes>"
            ]
          },
          "metadata": {
            "needs_background": "light"
          }
        },
        {
          "output_type": "display_data",
          "data": {
            "image/png": "[encoded data removed]",
            "text/plain": [
              "<Figure size 432x288 with 1 Axes>"
            ]
          },
          "metadata": {
            "needs_background": "light"
          }
        }
      ]
    },
    {
      "cell_type": "code",
      "metadata": {
        "id": "itZhwpM7_NCO"
      },
      "source": [
        ""
      ],
      "execution_count": null,
      "outputs": []
    }
  ]
}