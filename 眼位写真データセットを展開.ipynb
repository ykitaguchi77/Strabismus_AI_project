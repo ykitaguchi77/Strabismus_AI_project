{
  "nbformat": 4,
  "nbformat_minor": 0,
  "metadata": {
    "colab": {
      "name": "Untitled88.ipynb",
      "provenance": [],
      "authorship_tag": "ABX9TyMdt99D4pXpkuThhjJPfE8L",
      "include_colab_link": true
    },
    "kernelspec": {
      "name": "python3",
      "display_name": "Python 3"
    },
    "language_info": {
      "name": "python"
    }
  },
  "cells": [
    {
      "cell_type": "markdown",
      "metadata": {
        "id": "view-in-github",
        "colab_type": "text"
      },
      "source": [
        "<a href=\"https://colab.research.google.com/github/ykitaguchi77/Strabismus_AI_project/blob/main/%E7%9C%BC%E4%BD%8D%E5%86%99%E7%9C%9F%E3%83%87%E3%83%BC%E3%82%BF%E3%82%BB%E3%83%83%E3%83%88%E3%82%92%E5%B1%95%E9%96%8B.ipynb\" target=\"_parent\"><img src=\"https://colab.research.google.com/assets/colab-badge.svg\" alt=\"Open In Colab\"/></a>"
      ]
    },
    {
      "cell_type": "markdown",
      "metadata": {
        "id": "ttOq-gRAIro2"
      },
      "source": [
        "#**眼位写真データセットを展開**"
      ]
    },
    {
      "cell_type": "code",
      "metadata": {
        "id": "PXGXXA5lIqnc"
      },
      "source": [
        "\"\"\"\n",
        "---8-----20120830121408_眼位_O-0_bc86ba014fead67f4426d32...\n",
        "      |--20130501145932_眼位_O-0_df50b65e32b4947f5b5de...\n",
        "      |...\n",
        "\n",
        " ↓↓↓\n",
        "\n",
        "「8-20120830-121408_眼位_O-0_bc86ba014fead67f4426d32...」\n",
        "「8-20130501-145932_眼位_O-0_df50b65e32b4947f5b5de...」\n",
        "...\n",
        "\"\"\""
      ],
      "execution_count": null,
      "outputs": []
    },
    {
      "cell_type": "code",
      "metadata": {
        "id": "veW-7zKpJb2f"
      },
      "source": [
        ""
      ],
      "execution_count": null,
      "outputs": []
    }
  ]
}