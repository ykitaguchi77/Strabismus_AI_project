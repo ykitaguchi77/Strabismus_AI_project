{
  "nbformat": 4,
  "nbformat_minor": 0,
  "metadata": {
    "colab": {
      "name": "Untitled88.ipynb",
      "provenance": [],
      "include_colab_link": true
    },
    "kernelspec": {
      "name": "python3",
      "display_name": "Python 3"
    },
    "language_info": {
      "name": "python"
    }
  },
  "cells": [
    {
      "cell_type": "markdown",
      "metadata": {
        "id": "view-in-github",
        "colab_type": "text"
      },
      "source": [
        "<a href=\"https://colab.research.google.com/github/ykitaguchi77/Strabismus_AI_project/blob/main/%E7%9C%BC%E4%BD%8D%E5%86%99%E7%9C%9F%E3%83%87%E3%83%BC%E3%82%BF%E3%82%BB%E3%83%83%E3%83%88%E3%82%92%E5%B1%95%E9%96%8B.ipynb\" target=\"_parent\"><img src=\"https://colab.research.google.com/assets/colab-badge.svg\" alt=\"Open In Colab\"/></a>"
      ]
    },
    {
      "cell_type": "markdown",
      "metadata": {
        "id": "ttOq-gRAIro2"
      },
      "source": [
        "#**眼位写真データセットを展開(Local)**\n",
        "\n"
      ]
    },
    {
      "cell_type": "code",
      "metadata": {
        "id": "PXGXXA5lIqnc"
      },
      "source": [
        "\"\"\"\n",
        "---8-----20120830121408_眼位_O-0_bc86ba014fead67f4426d32...\n",
        "      |--20130501145932_眼位_O-0_df50b65e32b4947f5b5de...\n",
        "      |...\n",
        "\n",
        " ↓↓↓\n",
        "\n",
        "「8-20120830-121408_眼位_O-0_bc86ba014fead67f4426d32...」\n",
        "「8-20130501-145932_眼位_O-0_df50b65e32b4947f5b5de...」\n",
        "...\n",
        "\"\"\""
      ],
      "execution_count": null,
      "outputs": []
    },
    {
      "cell_type": "code",
      "metadata": {
        "id": "veW-7zKpJb2f"
      },
      "source": [
        "orig_path = r'C:\\Users\\ykita\\OneDrive\\デスクトップ\\眼位写真test'\n",
        "dst_path = r\"C:\\Users\\ykita\\OneDrive\\デスクトップ\\眼位写真output\""
      ],
      "execution_count": 1,
      "outputs": []
    },
    {
      "cell_type": "code",
      "metadata": {
        "id": "eK0_Bh6CNuSk",
        "colab": {
          "base_uri": "https://localhost:8080/"
        },
        "outputId": "86bc494d-eb11-4f72-ce0c-497671a94efc"
      },
      "source": [
        "import os\n",
        "import shutil\n",
        "\n",
        "folders = os.listdir(orig_path)\n",
        "\n",
        "for folder in folders:\n",
        "    files = os.listdir(os.path.join(orig_path, folder))\n",
        "    #print(files)\n",
        "\n",
        "    for file in files:\n",
        "        date = file[0:8]\n",
        "        hashed = file[8:] \n",
        "        newfilename = folder+\"-\"+date+\"-\"+hashed #フォルダ番号-日付-ハッシュ化番号\n",
        "        shutil.copy(os.path.join(orig_path, folder, file), os.path.join(dst_path, newfilename))\n",
        "        print(newfilename)\n"
      ],
      "execution_count": 17,
      "outputs": [
        {
          "output_type": "stream",
          "name": "stdout",
          "text": [
            "5-20160114-120536_眼位_O_0_e174377264ffcb16e31cebb3cd1ef0aea62c2598e16fae5f45e84876a81a5baf.jpg\n",
            "6-20010918-160722_眼位_O_0_f32788e7f7b19ba0948ab3de4ceba5b1bdf7d3bfe6ac2e71039c49bee5f3af85.JPG\n",
            "6-20020205-164618_眼位_O_0_0771f7e0608f442b72a9dd0652ba434f5a0bc1386e23a268a77d1dfa9ed3ffcd.JPG\n",
            "6-20020205-164618_眼位_O_0_0a8e12e81a49e8555cda33344451e322b775523ce33755d605c49f614d439839.JPG\n",
            "6-20020319-102533_眼位_O_0_dc4952f23ce1a598b434a4ce7a50dcaf22f3092a934d49f5874d9cd9ccfe0f1e.JPG\n",
            "6-20020521-115310_眼位_O_0_0f6c857dca0c951a09d4cbc7da6b9149b3ac71f1a8c3077876ca93ff00c809e7.JPG\n",
            "6-20020521-115310_眼位_O_0_a335ae6943bc7b5f134e88c49134e224c6e421bfb6965c411fec02e67efabe24.JPG\n",
            "6-20020521-115310_眼位_O_0_e8bfff6584d9d52963761eef56cbc5ff7be9cf6192c9a55bb5cbda63c55cbfeb.JPG\n",
            "6-20020917-111116_眼位_O_0_6c0718d9acaad08d9984c30e7c4fffb9a880fd5f523aa694a6333f64cd7138c4.JPG\n",
            "6-20040413-104834_眼位_O_-1_27cc91ef8763476c0a35056e783f7d2acbbbecf758e2f48ad95528778152c5a4.JPG\n",
            "7-20120208-113943_眼位_O_0_10ab430adbdc883837e93598bf81eda7f100f4fde1e52e92a9291a1dbf05a3f1.jpg\n",
            "7-20120208-113943_眼位_O_0_c575af08bfa46314fe9cb22ba68bc443a2a3dfc53a4afd21843fe4154b622bc1.jpg\n",
            "7-20120208-113943_眼位_O_0_fb542790c96a6ee987f0d86b259cc23c821afae28a61fe4bad567bf62df5bf7c.jpg\n",
            "7-20120523-093219_眼位_O_0_9dc3c50469983af6302c4a8d71f9ada699acd79f2e63675f1ed60b000c11ee84.jpg\n"
          ]
        }
      ]
    },
    {
      "cell_type": "code",
      "metadata": {
        "id": "w0hQeRzySN3Z"
      },
      "source": [
        ""
      ],
      "execution_count": null,
      "outputs": []
    }
  ]
}