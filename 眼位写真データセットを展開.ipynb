{
  "nbformat": 4,
  "nbformat_minor": 0,
  "metadata": {
    "colab": {
      "name": "Untitled88.ipynb",
      "provenance": [],
      "include_colab_link": true
    },
    "kernelspec": {
      "name": "python3",
      "display_name": "Python 3"
    },
    "language_info": {
      "name": "python"
    }
  },
  "cells": [
    {
      "cell_type": "markdown",
      "metadata": {
        "id": "view-in-github",
        "colab_type": "text"
      },
      "source": [
        "<a href=\"https://colab.research.google.com/github/ykitaguchi77/Strabismus_AI_project/blob/main/%E7%9C%BC%E4%BD%8D%E5%86%99%E7%9C%9F%E3%83%87%E3%83%BC%E3%82%BF%E3%82%BB%E3%83%83%E3%83%88%E3%82%92%E5%B1%95%E9%96%8B.ipynb\" target=\"_parent\"><img src=\"https://colab.research.google.com/assets/colab-badge.svg\" alt=\"Open In Colab\"/></a>"
      ]
    },
    {
      "cell_type": "markdown",
      "metadata": {
        "id": "ttOq-gRAIro2"
      },
      "source": [
        "#**眼位写真データセットを展開(Local)**\n",
        "\n"
      ]
    },
    {
      "cell_type": "code",
      "metadata": {
        "id": "PXGXXA5lIqnc"
      },
      "source": [
        "\"\"\"\n",
        "---8-----20120830121408_眼位_O-0_bc86ba014fead67f4426d32...\n",
        "      |--20130501145932_眼位_O-0_df50b65e32b4947f5b5de...\n",
        "      |...\n",
        "\n",
        " ↓↓↓\n",
        "\n",
        "「8-20120830-121408_眼位_O-0_bc86ba014fead67f4426d32...」\n",
        "「8-20130501-145932_眼位_O-0_df50b65e32b4947f5b5de...」\n",
        "...\n",
        "\"\"\""
      ],
      "execution_count": null,
      "outputs": []
    },
    {
      "cell_type": "code",
      "metadata": {
        "id": "veW-7zKpJb2f"
      },
      "source": [
        "import codecs\n",
        "import pandas as pd\n",
        "\n",
        "\n",
        "orig_path = r'C:\\Users\\ykita\\OneDrive\\デスクトップ\\眼位写真test'\n",
        "dst_path = r\"C:\\Users\\ykita\\OneDrive\\デスクトップ\\眼位写真output\"\n",
        "csv1_path = r\"C:\\Users\\ykita\\OneDrive\\デスクトップ\\DiseaseInfo_modified1.4_connected.csv\"\n",
        "csv2_path = r\"C:\\Users\\ykita\\OneDrive\\デスクトップ\\DiseaseInfo_all_connected_new3.csv\"\n",
        "csv3_path = r\"C:\\Users\\ykita\\OneDrive\\デスクトップ\\MediaInfo.csv\"\n",
        "\n",
        "with codecs.open(csv1_path, \"r\", \"utf-8\", \"ignore\") as file:\n",
        "#with codecs.open(patient_list, \"r\", \"Shift-JIS\", \"ignore\") as file:\n",
        "    df_csv1 = pd.read_csv(file, index_col=None, header=0)\n",
        "    print(df_csv1)\n",
        "\n",
        "with codecs.open(csv2_path, \"r\", \"utf-8\", \"ignore\") as file:\n",
        "#with codecs.open(patient_list, \"r\", \"Shift-JIS\", \"ignore\") as file:\n",
        "    df_csv2 = pd.read_csv(file, index_col=None, header=0)\n",
        "    print(df_csv2)\n",
        "\n",
        "with codecs.open(csv3_path, \"r\", \"utf-8\", \"ignore\") as file:\n",
        "#with codecs.open(patient_list, \"r\", \"Shift-JIS\", \"ignore\") as file:\n",
        "    df_csv3 = pd.read_csv(file, index_col=None, header=0)\n",
        "    print(df_csv3)"
      ],
      "execution_count": null,
      "outputs": []
    },
    {
      "cell_type": "markdown",
      "metadata": {
        "id": "AwGP32CYR8pG"
      },
      "source": [
        "#**旧画像ファイル**\n",
        "CSVファイルに撮影日時あり"
      ]
    },
    {
      "cell_type": "code",
      "metadata": {
        "id": "eK0_Bh6CNuSk"
      },
      "source": [
        "import os\n",
        "import shutil\n",
        "from datetime import datetime as dt\n",
        "import datetime\n",
        "\n",
        "folders = os.listdir(orig_path)\n",
        "\n",
        "for folder in folders:\n",
        "    print(folder)\n",
        "    files = os.listdir(os.path.join(orig_path, folder))\n",
        "    print(files)\n",
        "\n",
        "    for file in files:\n",
        "        init_date = df_csv1[df_csv1.iloc[:,2] == int(folder)].iloc[0,3]\n",
        "        file_age = df_csv1[df_csv1.iloc[:,2] == int(folder)].iloc[0,4]\n",
        "        init_date = init_date.split()[0]\n",
        "        init_date = dt.strptime(init_date, '%Y/%m/%d')\n",
        "        #print(init_date)\n",
        "\n",
        "        acq_date = file[0:8]\n",
        "        hashed = file[8:] \n",
        "\n",
        "        acq_date = dt.strptime(acq_date, '%Y%m%d')\n",
        "        #print(acq_date)\n",
        "\n",
        "        acq_init_days = (acq_date - init_date).days\n",
        "\n",
        "        if acq_init_days >= 0:\n",
        "            acq_init_yrs = acq_init_days//365\n",
        "        else:\n",
        "            acq_init_yrs = 0\n",
        "\n",
        "        #print(acq_init_yrs)        \n",
        "        \n",
        "        age = int(file_age + acq_init_yrs)\n",
        "        print(age)\n",
        "\n",
        "\n",
        "        newfilename = folder+\"-\"+date+\"-\"+str(age)+\"-\"+hashed #フォルダ番号-日付-年齢-ハッシュ化番号\n",
        "        shutil.copy(os.path.join(orig_path, folder, file), os.path.join(dst_path, newfilename))\n",
        "        print(newfilename)\n",
        "\n",
        "\n"
      ],
      "execution_count": null,
      "outputs": []
    },
    {
      "cell_type": "markdown",
      "metadata": {
        "id": "pJ540vdedbBN"
      },
      "source": [
        "#**新画像ファイル**\n",
        "CSVファイルに撮影時の年齢あり"
      ]
    },
    {
      "cell_type": "code",
      "metadata": {
        "id": "2eLAn4RAdmDQ",
        "outputId": "c690ed0a-e394-4bd1-9b70-f3a5ad48292b",
        "colab": {
          "base_uri": "https://localhost:8080/",
          "height": 683
        }
      },
      "source": [
        "folders = os.listdir(orig_path)\n",
        "\n",
        "for folder in folders:\n",
        "    print(folder)\n",
        "    files = os.listdir(os.path.join(orig_path, folder))\n",
        "    #print(files)\n",
        "\n",
        "    for file in files:\n",
        "        \"\"\"\n",
        "        file = file.split(\".\")[0]\n",
        "        #print(file)\n",
        "        filename, identifier = file.rsplit(\"_\",1)\n",
        "        #print(identifier)\n",
        "        print(filename)\n",
        "        \"\"\"\n",
        "        df_age_captured = df_csv3[df_csv3.iloc[:,3] == file]\n",
        "        \n",
        "        print(age_captured)"
      ],
      "execution_count": 106,
      "outputs": [
        {
          "output_type": "stream",
          "name": "stdout",
          "text": [
            "14\n"
          ]
        },
        {
          "output_type": "error",
          "ename": "IndexError",
          "evalue": "ignored",
          "traceback": [
            "\u001b[1;31m---------------------------------------------------------------------------\u001b[0m",
            "\u001b[1;31mIndexError\u001b[0m                                Traceback (most recent call last)",
            "\u001b[1;32m<ipython-input-106-63d7a494dfa6>\u001b[0m in \u001b[0;36m<module>\u001b[1;34m\u001b[0m\n\u001b[0;32m     14\u001b[0m         \u001b[0mprint\u001b[0m\u001b[1;33m(\u001b[0m\u001b[0mfilename\u001b[0m\u001b[1;33m)\u001b[0m\u001b[1;33m\u001b[0m\u001b[1;33m\u001b[0m\u001b[0m\n\u001b[0;32m     15\u001b[0m         \"\"\"\n\u001b[1;32m---> 16\u001b[1;33m         \u001b[0mage_captured\u001b[0m \u001b[1;33m=\u001b[0m \u001b[0mdf_csv3\u001b[0m\u001b[1;33m[\u001b[0m\u001b[0mdf_csv3\u001b[0m\u001b[1;33m.\u001b[0m\u001b[0miloc\u001b[0m\u001b[1;33m[\u001b[0m\u001b[1;33m:\u001b[0m\u001b[1;33m,\u001b[0m\u001b[1;36m3\u001b[0m\u001b[1;33m]\u001b[0m \u001b[1;33m==\u001b[0m \u001b[0mfile\u001b[0m\u001b[1;33m]\u001b[0m\u001b[1;33m.\u001b[0m\u001b[0miloc\u001b[0m\u001b[1;33m[\u001b[0m\u001b[1;36m6\u001b[0m\u001b[1;33m]\u001b[0m\u001b[1;33m\u001b[0m\u001b[1;33m\u001b[0m\u001b[0m\n\u001b[0m\u001b[0;32m     17\u001b[0m         \u001b[0mprint\u001b[0m\u001b[1;33m(\u001b[0m\u001b[0mage_captured\u001b[0m\u001b[1;33m)\u001b[0m\u001b[1;33m\u001b[0m\u001b[1;33m\u001b[0m\u001b[0m\n",
            "\u001b[1;32mc:\\users\\ykita\\appdata\\local\\programs\\python\\python37\\lib\\site-packages\\pandas\\core\\indexing.py\u001b[0m in \u001b[0;36m__getitem__\u001b[1;34m(self, key)\u001b[0m\n\u001b[0;32m   1766\u001b[0m \u001b[1;33m\u001b[0m\u001b[0m\n\u001b[0;32m   1767\u001b[0m             \u001b[0mmaybe_callable\u001b[0m \u001b[1;33m=\u001b[0m \u001b[0mcom\u001b[0m\u001b[1;33m.\u001b[0m\u001b[0mapply_if_callable\u001b[0m\u001b[1;33m(\u001b[0m\u001b[0mkey\u001b[0m\u001b[1;33m,\u001b[0m \u001b[0mself\u001b[0m\u001b[1;33m.\u001b[0m\u001b[0mobj\u001b[0m\u001b[1;33m)\u001b[0m\u001b[1;33m\u001b[0m\u001b[1;33m\u001b[0m\u001b[0m\n\u001b[1;32m-> 1768\u001b[1;33m             \u001b[1;32mreturn\u001b[0m \u001b[0mself\u001b[0m\u001b[1;33m.\u001b[0m\u001b[0m_getitem_axis\u001b[0m\u001b[1;33m(\u001b[0m\u001b[0mmaybe_callable\u001b[0m\u001b[1;33m,\u001b[0m \u001b[0maxis\u001b[0m\u001b[1;33m=\u001b[0m\u001b[0maxis\u001b[0m\u001b[1;33m)\u001b[0m\u001b[1;33m\u001b[0m\u001b[1;33m\u001b[0m\u001b[0m\n\u001b[0m\u001b[0;32m   1769\u001b[0m \u001b[1;33m\u001b[0m\u001b[0m\n\u001b[0;32m   1770\u001b[0m     \u001b[1;32mdef\u001b[0m \u001b[0m_is_scalar_access\u001b[0m\u001b[1;33m(\u001b[0m\u001b[0mself\u001b[0m\u001b[1;33m,\u001b[0m \u001b[0mkey\u001b[0m\u001b[1;33m:\u001b[0m \u001b[0mTuple\u001b[0m\u001b[1;33m)\u001b[0m\u001b[1;33m:\u001b[0m\u001b[1;33m\u001b[0m\u001b[1;33m\u001b[0m\u001b[0m\n",
            "\u001b[1;32mc:\\users\\ykita\\appdata\\local\\programs\\python\\python37\\lib\\site-packages\\pandas\\core\\indexing.py\u001b[0m in \u001b[0;36m_getitem_axis\u001b[1;34m(self, key, axis)\u001b[0m\n\u001b[0;32m   2136\u001b[0m \u001b[1;33m\u001b[0m\u001b[0m\n\u001b[0;32m   2137\u001b[0m             \u001b[1;31m# validate the location\u001b[0m\u001b[1;33m\u001b[0m\u001b[1;33m\u001b[0m\u001b[1;33m\u001b[0m\u001b[0m\n\u001b[1;32m-> 2138\u001b[1;33m             \u001b[0mself\u001b[0m\u001b[1;33m.\u001b[0m\u001b[0m_validate_integer\u001b[0m\u001b[1;33m(\u001b[0m\u001b[0mkey\u001b[0m\u001b[1;33m,\u001b[0m \u001b[0maxis\u001b[0m\u001b[1;33m)\u001b[0m\u001b[1;33m\u001b[0m\u001b[1;33m\u001b[0m\u001b[0m\n\u001b[0m\u001b[0;32m   2139\u001b[0m \u001b[1;33m\u001b[0m\u001b[0m\n\u001b[0;32m   2140\u001b[0m             \u001b[1;32mreturn\u001b[0m \u001b[0mself\u001b[0m\u001b[1;33m.\u001b[0m\u001b[0m_get_loc\u001b[0m\u001b[1;33m(\u001b[0m\u001b[0mkey\u001b[0m\u001b[1;33m,\u001b[0m \u001b[0maxis\u001b[0m\u001b[1;33m=\u001b[0m\u001b[0maxis\u001b[0m\u001b[1;33m)\u001b[0m\u001b[1;33m\u001b[0m\u001b[1;33m\u001b[0m\u001b[0m\n",
            "\u001b[1;32mc:\\users\\ykita\\appdata\\local\\programs\\python\\python37\\lib\\site-packages\\pandas\\core\\indexing.py\u001b[0m in \u001b[0;36m_validate_integer\u001b[1;34m(self, key, axis)\u001b[0m\n\u001b[0;32m   2061\u001b[0m         \u001b[0mlen_axis\u001b[0m \u001b[1;33m=\u001b[0m \u001b[0mlen\u001b[0m\u001b[1;33m(\u001b[0m\u001b[0mself\u001b[0m\u001b[1;33m.\u001b[0m\u001b[0mobj\u001b[0m\u001b[1;33m.\u001b[0m\u001b[0m_get_axis\u001b[0m\u001b[1;33m(\u001b[0m\u001b[0maxis\u001b[0m\u001b[1;33m)\u001b[0m\u001b[1;33m)\u001b[0m\u001b[1;33m\u001b[0m\u001b[1;33m\u001b[0m\u001b[0m\n\u001b[0;32m   2062\u001b[0m         \u001b[1;32mif\u001b[0m \u001b[0mkey\u001b[0m \u001b[1;33m>=\u001b[0m \u001b[0mlen_axis\u001b[0m \u001b[1;32mor\u001b[0m \u001b[0mkey\u001b[0m \u001b[1;33m<\u001b[0m \u001b[1;33m-\u001b[0m\u001b[0mlen_axis\u001b[0m\u001b[1;33m:\u001b[0m\u001b[1;33m\u001b[0m\u001b[1;33m\u001b[0m\u001b[0m\n\u001b[1;32m-> 2063\u001b[1;33m             \u001b[1;32mraise\u001b[0m \u001b[0mIndexError\u001b[0m\u001b[1;33m(\u001b[0m\u001b[1;34m\"single positional indexer is out-of-bounds\"\u001b[0m\u001b[1;33m)\u001b[0m\u001b[1;33m\u001b[0m\u001b[1;33m\u001b[0m\u001b[0m\n\u001b[0m\u001b[0;32m   2064\u001b[0m \u001b[1;33m\u001b[0m\u001b[0m\n\u001b[0;32m   2065\u001b[0m     \u001b[1;32mdef\u001b[0m \u001b[0m_getitem_tuple\u001b[0m\u001b[1;33m(\u001b[0m\u001b[0mself\u001b[0m\u001b[1;33m,\u001b[0m \u001b[0mtup\u001b[0m\u001b[1;33m:\u001b[0m \u001b[0mTuple\u001b[0m\u001b[1;33m)\u001b[0m\u001b[1;33m:\u001b[0m\u001b[1;33m\u001b[0m\u001b[1;33m\u001b[0m\u001b[0m\n",
            "\u001b[1;31mIndexError\u001b[0m: single positional indexer is out-of-bounds"
          ]
        }
      ]
    },
    {
      "cell_type": "code",
      "metadata": {
        "id": "fYkT9HiujigZ",
        "outputId": "54dccbf7-eec5-4071-be4e-e4669171c7b1",
        "colab": {
          "base_uri": "https://localhost:8080/"
        }
      },
      "source": [
        "filename"
      ],
      "execution_count": 100,
      "outputs": [
        {
          "output_type": "execute_result",
          "data": {
            "text/plain": [
              "'20120523093219_眼位_O_0'"
            ]
          },
          "metadata": {},
          "execution_count": 100
        }
      ]
    },
    {
      "cell_type": "code",
      "metadata": {
        "id": "AUQASQK1jfcC",
        "outputId": "ad95d9b8-984a-4d9e-ac5c-f05677e55ba9",
        "colab": {
          "base_uri": "https://localhost:8080/"
        }
      },
      "source": [
        "df_csv3.iloc[:,3]"
      ],
      "execution_count": 104,
      "outputs": [
        {
          "output_type": "execute_result",
          "data": {
            "text/plain": [
              "0        20180213175019_眼位_O_0_0523ed324a097d4efee788b2...\n",
              "1        20180213175019_眼位_O_0_faa6840cfbf5af83d05e494a...\n",
              "2        20140806133651_眼位_O_0_be04c416aa556d78e0a4bcb8...\n",
              "3        20100825162259_眼位_O_0_33c7bd88dd8c40a5ee7b53b1...\n",
              "4        20100825162259_眼位_O_0_50a8ce629f9645112ad7b805...\n",
              "                               ...                        \n",
              "66680    20190703094738_眼位_O_0_596a5bcf6c0ee3065bc57363...\n",
              "66681    20200115093008_眼位_O_0_228d19be04651902676cdc3f...\n",
              "66682    20190703094738_眼位_O_0_15abdbbd4d3c29f1a54e52e2...\n",
              "66683    20200115093008_眼位_O_0_b99fb70cfdac882fb23ccc34...\n",
              "66684    20181219114914_眼位_O_0_424913503312470433d168b8...\n",
              "Name: FileName, Length: 66685, dtype: object"
            ]
          },
          "metadata": {},
          "execution_count": 104
        }
      ]
    },
    {
      "cell_type": "code",
      "metadata": {
        "id": "gIVNSih6dZ_H"
      },
      "source": [
        ""
      ],
      "execution_count": null,
      "outputs": []
    },
    {
      "cell_type": "code",
      "metadata": {
        "id": "w0hQeRzySN3Z"
      },
      "source": [
        ""
      ],
      "execution_count": null,
      "outputs": []
    }
  ]
}