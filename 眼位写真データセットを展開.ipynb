{
  "nbformat": 4,
  "nbformat_minor": 0,
  "metadata": {
    "colab": {
      "name": "Untitled88.ipynb",
      "provenance": [],
      "include_colab_link": true
    },
    "kernelspec": {
      "name": "python3",
      "display_name": "Python 3"
    },
    "language_info": {
      "name": "python"
    }
  },
  "cells": [
    {
      "cell_type": "markdown",
      "metadata": {
        "id": "view-in-github",
        "colab_type": "text"
      },
      "source": [
        "<a href=\"https://colab.research.google.com/github/ykitaguchi77/Strabismus_AI_project/blob/main/%E7%9C%BC%E4%BD%8D%E5%86%99%E7%9C%9F%E3%83%87%E3%83%BC%E3%82%BF%E3%82%BB%E3%83%83%E3%83%88%E3%82%92%E5%B1%95%E9%96%8B.ipynb\" target=\"_parent\"><img src=\"https://colab.research.google.com/assets/colab-badge.svg\" alt=\"Open In Colab\"/></a>"
      ]
    },
    {
      "cell_type": "markdown",
      "metadata": {
        "id": "ttOq-gRAIro2"
      },
      "source": [
        "#**眼位写真データセットを展開(Local)**\n",
        "\n"
      ]
    },
    {
      "cell_type": "code",
      "metadata": {
        "id": "PXGXXA5lIqnc"
      },
      "source": [
        "\"\"\"\n",
        "---8-----20120830121408_眼位_O-0_bc86ba014fead67f4426d32...\n",
        "      |--20130501145932_眼位_O-0_df50b65e32b4947f5b5de...\n",
        "      |...\n",
        "\n",
        " ↓↓↓\n",
        "\n",
        "「8-20120830-121408_眼位_O-0_bc86ba014fead67f4426d32...」\n",
        "「8-20130501-145932_眼位_O-0_df50b65e32b4947f5b5de...」\n",
        "...\n",
        "\"\"\""
      ],
      "execution_count": null,
      "outputs": []
    },
    {
      "cell_type": "code",
      "metadata": {
        "id": "veW-7zKpJb2f",
        "colab": {
          "base_uri": "https://localhost:8080/"
        },
        "outputId": "1cf164e4-8f02-4809-d19b-49a2c68bb3ca"
      },
      "source": [
        "import codecs\n",
        "import pandas as pd\n",
        "from datetime import datetime as dt\n",
        "\n",
        "\n",
        "orig_path = r'C:\\Users\\ykita\\OneDrive\\デスクトップ\\眼位写真test'\n",
        "dst_path = r\"C:\\Users\\ykita\\OneDrive\\デスクトップ\\眼位写真output\"\n",
        "csv1_path = r\"C:\\Users\\ykita\\OneDrive\\デスクトップ\\DiseaseInfo_modified1.4_connected.csv\"\n",
        "csv2_path = r\"C:\\Users\\ykita\\OneDrive\\デスクトップ\\DiseaseInfo_all_connected_new3.csv\"\n",
        "\n",
        "with codecs.open(csv1_path, \"r\", \"utf-8\", \"ignore\") as file:\n",
        "#with codecs.open(patient_list, \"r\", \"Shift-JIS\", \"ignore\") as file:\n",
        "    df_csv1 = pd.read_csv(file, index_col=None, header=0)\n",
        "    print(df_csv1)\n",
        "\n",
        "with codecs.open(csv2_path, \"r\", \"utf-8\", \"ignore\") as file:\n",
        "#with codecs.open(patient_list, \"r\", \"Shift-JIS\", \"ignore\") as file:\n",
        "    df_csv2 = pd.read_csv(file, index_col=None, header=0)\n",
        "    print(df_csv2)"
      ],
      "execution_count": 27,
      "outputs": [
        {
          "output_type": "stream",
          "name": "stdout",
          "text": [
            "      Unnamed: 0                                         Unnamed: 1  \\\n",
            "0       10893530  3891131d0eb0ec5a964315d54299d0e9ce89bf25d542e8...   \n",
            "1        7777705  24422c4d2bad8f2bcc5ead84910b6fc231b7e899804707...   \n",
            "2       10527858  4ffa0f67b94e2f32c1a9042a4b4be15def8a37c3b60170...   \n",
            "3       10021590  c9d3096746277e6655a31034705df509882d5c03b19b41...   \n",
            "4       10964694  ba46794f95148e0ac02eb8ee5c7b0b88b4165701930450...   \n",
            "...          ...                                                ...   \n",
            "8207     9206986  a003ff4b1ac762c8967236630ed6ec64d946a187acb081...   \n",
            "8208    11611443  9b548320cc21190e61e3f709774e724297501d836e7db0...   \n",
            "8209    10953244  b19f93d24b63d53b47c202ae8a87d251905a9e793f973b...   \n",
            "8210    11117730  a614425e800fe206b62d67b32778645fbe7d66d9af74f1...   \n",
            "8211    10467886  17c6d4590654811b1ace226cac226a07c7daaf67038b1c...   \n",
            "\n",
            "      image_name       Unnamed: 3  Unnamed: 4 Unnamed: 5 Unnamed: 6  \\\n",
            "0              1  2014/10/23 0:00        38.0     Female        NaN   \n",
            "1              2   2001/4/11 0:00        53.0     Female        NaN   \n",
            "2              3   2013/2/14 0:00        51.0       Male        NaN   \n",
            "3              4   2010/5/12 0:00        34.0     Female        NaN   \n",
            "4              5   2016/1/15 0:00        59.0     Female        NaN   \n",
            "...          ...              ...         ...        ...        ...   \n",
            "8207        8206   2010/6/12 0:00         2.0     Female        NaN   \n",
            "8208        8207   2019/3/16 0:00         1.0     Female        NaN   \n",
            "8209        8208   2015/2/27 0:00        82.0       Male        NaN   \n",
            "8210        8209   2016/2/18 0:00         3.0       Male        NaN   \n",
            "8211        8210   2012/7/28 0:00        78.0     Female        NaN   \n",
            "\n",
            "     Unnamed: 7 Unnamed: 8 Unnamed: 9  ... Unnamed: 131 Unnamed: 132  \\\n",
            "0           NaN        NaN        NaN  ...          NaN          NaN   \n",
            "1           NaN        NaN        NaN  ...          NaN          NaN   \n",
            "2           NaN        NaN        NaN  ...          NaN          NaN   \n",
            "3           NaN        NaN        NaN  ...          NaN          NaN   \n",
            "4           NaN        NaN        NaN  ...          NaN          NaN   \n",
            "...         ...        ...        ...  ...          ...          ...   \n",
            "8207        NaN        NaN        NaN  ...          NaN          NaN   \n",
            "8208        NaN        NaN        NaN  ...          NaN          NaN   \n",
            "8209        NaN        NaN        NaN  ...          NaN          NaN   \n",
            "8210        NaN        NaN        NaN  ...          NaN          NaN   \n",
            "8211        NaN        NaN        NaN  ...          NaN          NaN   \n",
            "\n",
            "     Unnamed: 133 Unnamed: 134 Unnamed: 135 Unnamed: 136 Unnamed: 137  \\\n",
            "0             NaN          NaN          NaN          NaN          NaN   \n",
            "1             NaN          NaN          NaN          NaN          NaN   \n",
            "2             NaN          NaN          NaN          NaN          NaN   \n",
            "3             NaN          NaN          NaN          NaN          NaN   \n",
            "4             NaN          NaN          NaN          NaN          NaN   \n",
            "...           ...          ...          ...          ...          ...   \n",
            "8207          NaN          NaN          NaN          NaN          NaN   \n",
            "8208          NaN          NaN          NaN          NaN          NaN   \n",
            "8209          NaN          NaN          NaN          NaN          NaN   \n",
            "8210          NaN          NaN          NaN          NaN          NaN   \n",
            "8211          NaN          NaN          NaN          NaN          NaN   \n",
            "\n",
            "     Unnamed: 138 Unnamed: 139 Unnamed: 140  \n",
            "0             NaN         38.0       Female  \n",
            "1             NaN         53.0       Female  \n",
            "2             NaN         51.0         Male  \n",
            "3             NaN         34.0       Female  \n",
            "4             NaN         59.0       Female  \n",
            "...           ...          ...          ...  \n",
            "8207          NaN          2.0       Female  \n",
            "8208          NaN          1.0       Female  \n",
            "8209          NaN         82.0         Male  \n",
            "8210          NaN          3.0         Male  \n",
            "8211          NaN         78.0       Female  \n",
            "\n",
            "[8212 rows x 141 columns]\n",
            "        10893530  \\\n",
            "0      7777705.0   \n",
            "1     10527858.0   \n",
            "2     10021590.0   \n",
            "3     10964694.0   \n",
            "4      7711566.0   \n",
            "...          ...   \n",
            "9818  11613788.0   \n",
            "9819   9055165.0   \n",
            "9820  11452681.0   \n",
            "9821   6911048.0   \n",
            "9822  11587782.0   \n",
            "\n",
            "     d8847829893b30e2bff7943b01ca557fe839cf9b649d5e51b22a88c8b6a16b1d     1  \\\n",
            "0     a084892cbe599b02304e56535d7072d736271bd487abf4...                   2   \n",
            "1     d53872e128cd3d405f313b5c179a079a2fbeda852bca2d...                   3   \n",
            "2     9366a1267f814193d9ac2f13786d89acdb16456ee46db4...                   4   \n",
            "3     c5fbf6684b10dc2f84635ba7fcb3b0c7b6021b34bf4938...                   5   \n",
            "4     6ed82083cf58489e4a01e05edbc9f5b3f0d350c5978b10...                   6   \n",
            "...                                                 ...                 ...   \n",
            "9818  757069f15bc74739c51f5fe03167d51f594f4779017b2b...                9831   \n",
            "9819  51e7f294b7b63f15864316bbaf5b701b43f0c11c18c9fd...                9832   \n",
            "9820  f7345ccf09fe678c1ba8487d9a61e4bfc1658144b98ae9...                9833   \n",
            "9821  23753e35a4b02c439e9adecab3d26887ba4729e07258fa...                9834   \n",
            "9822  b3e8e6f86945cf4e67c8e473ff99a6ecadb99b5327f5f5...                9835   \n",
            "\n",
            "      45  38  Female          眼瞼痙攣       ドライアイ         両側眼瞼痙攣         近視性乱視  \\\n",
            "0     74  53  Female         内斜視術後       遠視性乱視            内斜視           NaN   \n",
            "1     59  51    Male          上下斜視       ドライアイ           混合乱視           NaN   \n",
            "2     46  34  Female        右眼瞼下垂症      両側強度近視            NaN           NaN   \n",
            "3     64  59  Female  近視性網脈絡膜萎縮の疑い     円錐角膜の疑い          近視性乱視        外斜視の疑い   \n",
            "4     20   0    Male     アレルギー性結膜炎        右内斜視           左内斜視           内斜視   \n",
            "...   ..  ..     ...           ...         ...            ...           ...   \n",
            "9818  43  41  Female        眼球運動障害  右動眼神経麻痺の疑い      動眼神経麻痺の疑い         近視性乱視   \n",
            "9819  50  35  Female           霰粒腫      未熟児網膜症            外斜視     右眼内レンズ挿入眼   \n",
            "9820  33  29    Male    ウイルス性肝炎の疑い     出血傾向の疑い  Ｃ型肝炎ウイルス感染の疑い     重症筋無力症の疑い   \n",
            "9821  27   3    Male         外斜視術後         外斜視        両側調節緊張症  他の疾患に合併した結膜炎   \n",
            "9822  73  73    Male         眼瞼下垂症         結膜炎             斜視        両側結膜腫瘍   \n",
            "\n",
            "      ... Unnamed: 16 Unnamed: 17 Unnamed: 18 Unnamed: 19 Unnamed: 20  \\\n",
            "0     ...         NaN         NaN         NaN         NaN         NaN   \n",
            "1     ...         NaN         NaN         NaN         NaN         NaN   \n",
            "2     ...         NaN         NaN         NaN         NaN         NaN   \n",
            "3     ...         NaN         NaN         NaN         NaN         NaN   \n",
            "4     ...         NaN         NaN         NaN         NaN         NaN   \n",
            "...   ...         ...         ...         ...         ...         ...   \n",
            "9818  ...         NaN         NaN         NaN         NaN         NaN   \n",
            "9819  ...     Ｃ型肝炎の疑い       近視性乱視    甲状腺機能亢進症      左核性白内障        角膜乱視   \n",
            "9820  ...         NaN         NaN         NaN         NaN         NaN   \n",
            "9821  ...         NaN         NaN         NaN         NaN         NaN   \n",
            "9822  ...         NaN         NaN         NaN         NaN         NaN   \n",
            "\n",
            "     Unnamed: 21 Unnamed: 22 Unnamed: 23 Unnamed: 24 Unnamed: 25  \n",
            "0            NaN         NaN         NaN         NaN         NaN  \n",
            "1            NaN         NaN         NaN         NaN         NaN  \n",
            "2            NaN         NaN         NaN         NaN         NaN  \n",
            "3            NaN         NaN         NaN         NaN         NaN  \n",
            "4            NaN         NaN         NaN         NaN         NaN  \n",
            "...          ...         ...         ...         ...         ...  \n",
            "9818         NaN         NaN         NaN         NaN         NaN  \n",
            "9819   Ｃ型急性肝炎の疑い         NaN         NaN         NaN         NaN  \n",
            "9820         NaN         NaN         NaN         NaN         NaN  \n",
            "9821         NaN         NaN         NaN         NaN         NaN  \n",
            "9822         NaN         NaN         NaN         NaN         NaN  \n",
            "\n",
            "[9823 rows x 26 columns]\n"
          ]
        },
        {
          "output_type": "stream",
          "name": "stderr",
          "text": [
            "c:\\users\\ykita\\appdata\\local\\programs\\python\\python37\\lib\\site-packages\\IPython\\core\\interactiveshell.py:3063: DtypeWarning: Columns (6,7,12,13,14,15,16,17,18,19,20,21,22,42,43,45,46,48,49,50,51,52,53,54,55,56,57,58,59,60,61,62,63,64,65,66,67,68,69,70,71,72,73,74,75,76,77,78,79,80,81,82,83,84,85,88,89,101,103,104,105,106,107,108,109,110,119,124,125,133,135,136,137,138) have mixed types.Specify dtype option on import or set low_memory=False.\n",
            "  interactivity=interactivity, compiler=compiler, result=result)\n"
          ]
        }
      ]
    },
    {
      "cell_type": "markdown",
      "metadata": {
        "id": "AwGP32CYR8pG"
      },
      "source": [
        "#**旧画像ファイル**\n",
        "CSVファイルに撮影日時あり"
      ]
    },
    {
      "cell_type": "code",
      "metadata": {
        "id": "eK0_Bh6CNuSk",
        "colab": {
          "base_uri": "https://localhost:8080/"
        },
        "outputId": "fcff9842-82a9-45e3-c8e1-415b4b61948a"
      },
      "source": [
        "import os\n",
        "import shutil\n",
        "\n",
        "folders = os.listdir(orig_path)\n",
        "\n",
        "for folder in folders:\n",
        "    print(folder)\n",
        "    files = os.listdir(os.path.join(orig_path, folder))\n",
        "    print(files)\n",
        "\n",
        "    for file in files:\n",
        "        born_date = df_csv1[df_csv1.iloc[:,2] == int(folder)].iloc[0,3]\n",
        "        file_age = df_csv1[df_csv1.iloc[:,2] == int(folder)].iloc[0,4]\n",
        "        print(born_date)\n",
        "\n",
        "\n",
        "        acq_date = file[0:8]\n",
        "        hashed = file[8:] \n",
        "\n",
        "        adt = dt.strptime(acq_date, '%Y%m%d')\n",
        "        acq_date = adt.strftime('%Y/%m/%d')\n",
        "        print(acq_date)\n",
        "\n",
        "\n",
        "\n",
        "        newfilename = folder+\"-\"+date+\"-\"+hashed #フォルダ番号-日付-年齢-ハッシュ化番号\n",
        "        shutil.copy(os.path.join(orig_path, folder, file), os.path.join(dst_path, newfilename))\n",
        "        print(newfilename)\n",
        "\n",
        "\n"
      ],
      "execution_count": 29,
      "outputs": [
        {
          "output_type": "stream",
          "name": "stdout",
          "text": [
            "5\n",
            "['20160114120536_眼位_O_0_e174377264ffcb16e31cebb3cd1ef0aea62c2598e16fae5f45e84876a81a5baf.jpg']\n",
            "2016/1/15 0:00\n",
            "2016/01/14\n",
            "5-20120523-120536_眼位_O_0_e174377264ffcb16e31cebb3cd1ef0aea62c2598e16fae5f45e84876a81a5baf.jpg\n",
            "6\n",
            "['20010918160722_眼位_O_0_f32788e7f7b19ba0948ab3de4ceba5b1bdf7d3bfe6ac2e71039c49bee5f3af85.JPG', '20020205164618_眼位_O_0_0771f7e0608f442b72a9dd0652ba434f5a0bc1386e23a268a77d1dfa9ed3ffcd.JPG', '20020205164618_眼位_O_0_0a8e12e81a49e8555cda33344451e322b775523ce33755d605c49f614d439839.JPG', '20020319102533_眼位_O_0_dc4952f23ce1a598b434a4ce7a50dcaf22f3092a934d49f5874d9cd9ccfe0f1e.JPG', '20020521115310_眼位_O_0_0f6c857dca0c951a09d4cbc7da6b9149b3ac71f1a8c3077876ca93ff00c809e7.JPG', '20020521115310_眼位_O_0_a335ae6943bc7b5f134e88c49134e224c6e421bfb6965c411fec02e67efabe24.JPG', '20020521115310_眼位_O_0_e8bfff6584d9d52963761eef56cbc5ff7be9cf6192c9a55bb5cbda63c55cbfeb.JPG', '20020917111116_眼位_O_0_6c0718d9acaad08d9984c30e7c4fffb9a880fd5f523aa694a6333f64cd7138c4.JPG', '20040413104834_眼位_O_-1_27cc91ef8763476c0a35056e783f7d2acbbbecf758e2f48ad95528778152c5a4.JPG']\n",
            "2000/12/13 0:00\n",
            "2001/09/18\n",
            "6-20120523-160722_眼位_O_0_f32788e7f7b19ba0948ab3de4ceba5b1bdf7d3bfe6ac2e71039c49bee5f3af85.JPG\n",
            "2000/12/13 0:00\n",
            "2002/02/05\n",
            "6-20120523-164618_眼位_O_0_0771f7e0608f442b72a9dd0652ba434f5a0bc1386e23a268a77d1dfa9ed3ffcd.JPG\n",
            "2000/12/13 0:00\n",
            "2002/02/05\n",
            "6-20120523-164618_眼位_O_0_0a8e12e81a49e8555cda33344451e322b775523ce33755d605c49f614d439839.JPG\n",
            "2000/12/13 0:00\n",
            "2002/03/19\n",
            "6-20120523-102533_眼位_O_0_dc4952f23ce1a598b434a4ce7a50dcaf22f3092a934d49f5874d9cd9ccfe0f1e.JPG\n",
            "2000/12/13 0:00\n",
            "2002/05/21\n",
            "6-20120523-115310_眼位_O_0_0f6c857dca0c951a09d4cbc7da6b9149b3ac71f1a8c3077876ca93ff00c809e7.JPG\n",
            "2000/12/13 0:00\n",
            "2002/05/21\n",
            "6-20120523-115310_眼位_O_0_a335ae6943bc7b5f134e88c49134e224c6e421bfb6965c411fec02e67efabe24.JPG\n",
            "2000/12/13 0:00\n",
            "2002/05/21\n",
            "6-20120523-115310_眼位_O_0_e8bfff6584d9d52963761eef56cbc5ff7be9cf6192c9a55bb5cbda63c55cbfeb.JPG\n",
            "2000/12/13 0:00\n",
            "2002/09/17\n",
            "6-20120523-111116_眼位_O_0_6c0718d9acaad08d9984c30e7c4fffb9a880fd5f523aa694a6333f64cd7138c4.JPG\n",
            "2000/12/13 0:00\n",
            "2004/04/13\n",
            "6-20120523-104834_眼位_O_-1_27cc91ef8763476c0a35056e783f7d2acbbbecf758e2f48ad95528778152c5a4.JPG\n",
            "7\n",
            "['20120208113943_眼位_O_0_10ab430adbdc883837e93598bf81eda7f100f4fde1e52e92a9291a1dbf05a3f1.jpg', '20120208113943_眼位_O_0_c575af08bfa46314fe9cb22ba68bc443a2a3dfc53a4afd21843fe4154b622bc1.jpg', '20120208113943_眼位_O_0_fb542790c96a6ee987f0d86b259cc23c821afae28a61fe4bad567bf62df5bf7c.jpg', '20120523093219_眼位_O_0_9dc3c50469983af6302c4a8d71f9ada699acd79f2e63675f1ed60b000c11ee84.jpg']\n",
            "2012/2/9 0:00\n",
            "2012/02/08\n",
            "7-20120523-113943_眼位_O_0_10ab430adbdc883837e93598bf81eda7f100f4fde1e52e92a9291a1dbf05a3f1.jpg\n",
            "2012/2/9 0:00\n",
            "2012/02/08\n",
            "7-20120523-113943_眼位_O_0_c575af08bfa46314fe9cb22ba68bc443a2a3dfc53a4afd21843fe4154b622bc1.jpg\n",
            "2012/2/9 0:00\n",
            "2012/02/08\n",
            "7-20120523-113943_眼位_O_0_fb542790c96a6ee987f0d86b259cc23c821afae28a61fe4bad567bf62df5bf7c.jpg\n",
            "2012/2/9 0:00\n",
            "2012/05/23\n",
            "7-20120523-093219_眼位_O_0_9dc3c50469983af6302c4a8d71f9ada699acd79f2e63675f1ed60b000c11ee84.jpg\n"
          ]
        }
      ]
    },
    {
      "cell_type": "code",
      "metadata": {
        "id": "w0hQeRzySN3Z"
      },
      "source": [
        ""
      ],
      "execution_count": null,
      "outputs": []
    }
  ]
}