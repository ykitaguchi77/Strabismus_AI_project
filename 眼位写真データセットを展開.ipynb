{
  "nbformat": 4,
  "nbformat_minor": 0,
  "metadata": {
    "colab": {
      "name": "Untitled88.ipynb",
      "provenance": [],
      "include_colab_link": true
    },
    "kernelspec": {
      "name": "python3",
      "display_name": "Python 3"
    },
    "language_info": {
      "name": "python"
    }
  },
  "cells": [
    {
      "cell_type": "markdown",
      "metadata": {
        "id": "view-in-github",
        "colab_type": "text"
      },
      "source": [
        "<a href=\"https://colab.research.google.com/github/ykitaguchi77/Strabismus_AI_project/blob/main/%E7%9C%BC%E4%BD%8D%E5%86%99%E7%9C%9F%E3%83%87%E3%83%BC%E3%82%BF%E3%82%BB%E3%83%83%E3%83%88%E3%82%92%E5%B1%95%E9%96%8B.ipynb\" target=\"_parent\"><img src=\"https://colab.research.google.com/assets/colab-badge.svg\" alt=\"Open In Colab\"/></a>"
      ]
    },
    {
      "cell_type": "markdown",
      "metadata": {
        "id": "ttOq-gRAIro2"
      },
      "source": [
        "#**眼位写真データセットを展開(Local)**\n",
        "\n"
      ]
    },
    {
      "cell_type": "code",
      "metadata": {
        "id": "PXGXXA5lIqnc"
      },
      "source": [
        "\"\"\"\n",
        "---8-----20120830121408_眼位_O-0_bc86ba014fead67f4426d32...\n",
        "      |--20130501145932_眼位_O-0_df50b65e32b4947f5b5de...\n",
        "      |...\n",
        "\n",
        " ↓↓↓\n",
        "\n",
        "「8-20120830-121408_眼位_O-0_bc86ba014fead67f4426d32...」\n",
        "「8-20130501-145932_眼位_O-0_df50b65e32b4947f5b5de...」\n",
        "...\n",
        "\"\"\""
      ],
      "execution_count": null,
      "outputs": []
    },
    {
      "cell_type": "code",
      "metadata": {
        "id": "veW-7zKpJb2f"
      },
      "source": [
        "import codecs\n",
        "import pandas as pd\n",
        "\n",
        "\n",
        "orig_path = r'C:\\Users\\ykita\\OneDrive\\デスクトップ\\眼位写真test'\n",
        "dst_path = r\"C:\\Users\\ykita\\OneDrive\\デスクトップ\\眼位写真output\"\n",
        "csv1_path = r\"C:\\Users\\ykita\\OneDrive\\デスクトップ\\DiseaseInfo_modified1.4_connected.csv\"\n",
        "csv2_path = r\"C:\\Users\\ykita\\OneDrive\\デスクトップ\\DiseaseInfo_all_connected_new3.csv\"\n",
        "csv3_path = r\"C:\\Users\\ykita\\OneDrive\\デスクトップ\\MediaInfo.csv\"\n",
        "\n",
        "with codecs.open(csv1_path, \"r\", \"utf-8\", \"ignore\") as file:\n",
        "#with codecs.open(patient_list, \"r\", \"Shift-JIS\", \"ignore\") as file:\n",
        "    df_csv1 = pd.read_csv(file, index_col=None, header=0)\n",
        "    print(df_csv1)\n",
        "\n",
        "with codecs.open(csv2_path, \"r\", \"utf-8\", \"ignore\") as file:\n",
        "#with codecs.open(patient_list, \"r\", \"Shift-JIS\", \"ignore\") as file:\n",
        "    df_csv2 = pd.read_csv(file, index_col=None, header=0)\n",
        "    print(df_csv2)\n",
        "\n",
        "with codecs.open(csv3_path, \"r\", \"utf-8\", \"ignore\") as file:\n",
        "#with codecs.open(patient_list, \"r\", \"Shift-JIS\", \"ignore\") as file:\n",
        "    df_csv3 = pd.read_csv(file, index_col=None, header=0)\n",
        "    print(df_csv3)"
      ],
      "execution_count": null,
      "outputs": []
    },
    {
      "cell_type": "markdown",
      "metadata": {
        "id": "pJ540vdedbBN"
      },
      "source": [
        "#**新画像ファイル**\n",
        "CSVファイルに撮影時の年齢あり"
      ]
    },
    {
      "cell_type": "code",
      "metadata": {
        "colab": {
          "base_uri": "https://localhost:8080/"
        },
        "id": "2eLAn4RAdmDQ",
        "outputId": "0d4fdf64-eb96-488b-950f-c13402e6c439"
      },
      "source": [
        "folders = os.listdir(orig_path)\n",
        "\n",
        "for folder in folders:\n",
        "    print(folder)\n",
        "    files = os.listdir(os.path.join(orig_path, folder))\n",
        "    #print(files)\n",
        "\n",
        "    for file in files:\n",
        "        \"\"\"\n",
        "        file = file.split(\".\")[0]\n",
        "        #print(file)\n",
        "        filename, identifier = file.rsplit(\"_\",1)\n",
        "        #print(identifier)\n",
        "        print(filename)\n",
        "        \"\"\"\n",
        "        #print(file)\n",
        "        df_age_captured = df_csv3[df_csv3.iloc[:,3] == file]\n",
        "        \n",
        "        if df_age_captured.empty:\n",
        "            pass\n",
        "        else:\n",
        "            age = df_age_captured.iloc[0,6]\n",
        "            acq_date = file[0:8]\n",
        "            hashed = hashed = file[8:] \n",
        "            newfilename = folder+\"-\"+acq_date+\"-\"+str(age)+\"-\"+hashed #フォルダ番号-日付-年齢-ハッシュ化番号\n",
        "            shutil.copy(os.path.join(orig_path, folder, file), os.path.join(dst_path, newfilename))\n",
        "            print(newfilename)\n",
        "         \n",
        "\n",
        "            "
      ],
      "execution_count": 181,
      "outputs": [
        {
          "output_type": "stream",
          "name": "stdout",
          "text": [
            "14\n",
            "14-20200311-78-141308_眼位_O_0_02703a9e893cfacdf5876c271d8d3a00b81f0fe5352f0e0768bcf9cdb1b3aa4b.jpg\n",
            "18\n",
            "18-20191002-4-145919_眼位_O_0_4b4cb30748f3f8ebd04e6c683283e7e18ce3ca85d1ae50431928b7590654f21a.jpg\n",
            "18-20191002-4-145919_眼位_O_0_4fbc02af820f5bc821a54eda030f3d9de71f9c436364edb3ccf527cc87b95f8e.jpg\n",
            "18-20191002-4-145919_眼位_O_0_b81c10ff2cdd3b28c06dca45e3d9133f4427cf4656e84633a6416514dc0a63f1.jpg\n",
            "18-20191002-4-145919_眼位_O_0_d98ef57529bf2c229366908856d1da87437e6c77dbccf5b91f5e0cda22f9be30.jpg\n",
            "18-20191002-4-145919_眼位_O_0_ecd9a099b380dac90e9469c3e75c9d428a6ebbbadac05fa73f93739d93d49a42.jpg\n",
            "18-20191002-4-145919_眼位_O_0_f886808cdece57255a070559fc580ae9c4311ad7033ae6ee245ebd18944e103d.jpg\n",
            "18-20191128-5-130215_眼位_O_0_cbb83178ab3f20125502651004a06fbbd9262c84a43079b53f3c82ba1b455b13.jpg\n",
            "18-20200722-5-125346_眼位_O_0_2bfa1e073c7769349614fa6e326ca4622312f0834ded7deb3c79dfba07068a58.jpg\n",
            "18-20201021-6-122626_眼位_O_0_531282827030991ac6e3b81d828b9487c042a3dbc1a90bb293c282e2658dd02a.jpg\n",
            "18-20210127-6-122444_眼位_O_0_18292ea005509680e9d7203b93ab73d7f6e0ede8f8649b968513831c783a8a09.jpg\n",
            "5\n",
            "5-20160114-59-120536_眼位_O_0_e174377264ffcb16e31cebb3cd1ef0aea62c2598e16fae5f45e84876a81a5baf.jpg\n",
            "6\n",
            "7\n",
            "7-20120208-44-113943_眼位_O_0_10ab430adbdc883837e93598bf81eda7f100f4fde1e52e92a9291a1dbf05a3f1.jpg\n",
            "7-20120208-44-113943_眼位_O_0_c575af08bfa46314fe9cb22ba68bc443a2a3dfc53a4afd21843fe4154b622bc1.jpg\n",
            "7-20120208-44-113943_眼位_O_0_fb542790c96a6ee987f0d86b259cc23c821afae28a61fe4bad567bf62df5bf7c.jpg\n",
            "7-20120523-44-093219_眼位_O_0_9dc3c50469983af6302c4a8d71f9ada699acd79f2e63675f1ed60b000c11ee84.jpg\n"
          ]
        }
      ]
    },
    {
      "cell_type": "markdown",
      "metadata": {
        "id": "AwGP32CYR8pG"
      },
      "source": [
        "#**旧画像ファイル**\n",
        "CSVファイルに撮影日時あり"
      ]
    },
    {
      "cell_type": "code",
      "metadata": {
        "id": "eK0_Bh6CNuSk",
        "colab": {
          "base_uri": "https://localhost:8080/"
        },
        "outputId": "e1fa18f1-d689-4454-e27c-9aad372e30fe"
      },
      "source": [
        "import os\n",
        "import shutil\n",
        "from datetime import datetime as dt\n",
        "import datetime\n",
        "\n",
        "folders = os.listdir(orig_path)\n",
        "\n",
        "#新しいファイルを先にチェックしておき重複するものはコピーしないようにする（新ファイルの方が年齢が正確なため）\n",
        "newfiles = os.listdir(dst_path)\n",
        "num_acqdate_list = []\n",
        "for path in newfiles:\n",
        "    num, acqdate = path.split(\"-\",2)[0:2]\n",
        "    num_acqdate_list.append(str(num)+\"-\"+str(acqdate))\n",
        "print(num_acqdate_list)\n",
        "\n",
        "for folder in folders:\n",
        "    print(folder)\n",
        "    files = os.listdir(os.path.join(orig_path, folder))\n",
        "    print(files)\n",
        "\n",
        "    for file in files:\n",
        "        init_date = df_csv1[df_csv1.iloc[:,2] == int(folder)].iloc[0,3]\n",
        "        file_age = df_csv1[df_csv1.iloc[:,2] == int(folder)].iloc[0,4]\n",
        "        init_date = init_date.split()[0]\n",
        "        init_date_dt = dt.strptime(init_date, '%Y/%m/%d')\n",
        "        #print(init_date)\n",
        "\n",
        "        acq_date = file[0:8]\n",
        "        hashed = file[8:] \n",
        "\n",
        "        acq_date_dt = dt.strptime(acq_date, '%Y%m%d')\n",
        "        #print(acq_date)\n",
        "\n",
        "        acq_init_days = (acq_date_dt - init_date_dt).days\n",
        "\n",
        "        if acq_init_days >= 0:\n",
        "            acq_init_yrs = acq_init_days//365\n",
        "        else:\n",
        "            acq_init_yrs = 0\n",
        "\n",
        "        #print(acq_init_yrs)        \n",
        "        \n",
        "        age = int(file_age + acq_init_yrs)\n",
        "        #print(age)\n",
        "\n",
        "        #すでに新ファイルからconvertされている場合には、ファイルを移動しない\n",
        "        num_acqdate = folder+\"-\"+acq_date\n",
        "        if num_acqdate in num_acqdate_list:\n",
        "            print(\"file already converted\")\n",
        "            pass\n",
        "        else:\n",
        "            newfilename = folder+\"-\"+acq_date+\"-\"+str(age)+\"-\"+hashed #フォルダ番号-日付-年齢-ハッシュ化番号\n",
        "            shutil.copy(os.path.join(orig_path, folder, file), os.path.join(dst_path, newfilename))\n",
        "            print(newfilename)\n",
        "\n",
        "\n"
      ],
      "execution_count": 182,
      "outputs": [
        {
          "output_type": "stream",
          "name": "stdout",
          "text": [
            "['14-20200311', '18-20191002', '18-20191002', '18-20191002', '18-20191002', '18-20191002', '18-20191002', '18-20191128', '18-20200722', '18-20201021', '18-20210127', '5-20160114', '7-20120208', '7-20120208', '7-20120208', '7-20120523']\n",
            "14\n",
            "['20200311141308_眼位_O_0_02703a9e893cfacdf5876c271d8d3a00b81f0fe5352f0e0768bcf9cdb1b3aa4b.jpg']\n",
            "file already converted\n",
            "18\n",
            "['20191002145919_眼位_O_0_4b4cb30748f3f8ebd04e6c683283e7e18ce3ca85d1ae50431928b7590654f21a.jpg', '20191002145919_眼位_O_0_4fbc02af820f5bc821a54eda030f3d9de71f9c436364edb3ccf527cc87b95f8e.jpg', '20191002145919_眼位_O_0_b81c10ff2cdd3b28c06dca45e3d9133f4427cf4656e84633a6416514dc0a63f1.jpg', '20191002145919_眼位_O_0_d98ef57529bf2c229366908856d1da87437e6c77dbccf5b91f5e0cda22f9be30.jpg', '20191002145919_眼位_O_0_ecd9a099b380dac90e9469c3e75c9d428a6ebbbadac05fa73f93739d93d49a42.jpg', '20191002145919_眼位_O_0_f886808cdece57255a070559fc580ae9c4311ad7033ae6ee245ebd18944e103d.jpg', '20191128130215_眼位_O_0_cbb83178ab3f20125502651004a06fbbd9262c84a43079b53f3c82ba1b455b13.jpg', '20200722125346_眼位_O_0_2bfa1e073c7769349614fa6e326ca4622312f0834ded7deb3c79dfba07068a58.jpg', '20201021122626_眼位_O_0_531282827030991ac6e3b81d828b9487c042a3dbc1a90bb293c282e2658dd02a.jpg', '20210127122444_眼位_O_0_18292ea005509680e9d7203b93ab73d7f6e0ede8f8649b968513831c783a8a09.jpg']\n",
            "file already converted\n",
            "file already converted\n",
            "file already converted\n",
            "file already converted\n",
            "file already converted\n",
            "file already converted\n",
            "file already converted\n",
            "file already converted\n",
            "file already converted\n",
            "file already converted\n",
            "5\n",
            "['20160114120536_眼位_O_0_e174377264ffcb16e31cebb3cd1ef0aea62c2598e16fae5f45e84876a81a5baf.jpg']\n",
            "file already converted\n",
            "6\n",
            "['20010918160722_眼位_O_0_f32788e7f7b19ba0948ab3de4ceba5b1bdf7d3bfe6ac2e71039c49bee5f3af85.JPG', '20020205164618_眼位_O_0_0771f7e0608f442b72a9dd0652ba434f5a0bc1386e23a268a77d1dfa9ed3ffcd.JPG', '20020205164618_眼位_O_0_0a8e12e81a49e8555cda33344451e322b775523ce33755d605c49f614d439839.JPG', '20020319102533_眼位_O_0_dc4952f23ce1a598b434a4ce7a50dcaf22f3092a934d49f5874d9cd9ccfe0f1e.JPG', '20020521115310_眼位_O_0_0f6c857dca0c951a09d4cbc7da6b9149b3ac71f1a8c3077876ca93ff00c809e7.JPG', '20020521115310_眼位_O_0_a335ae6943bc7b5f134e88c49134e224c6e421bfb6965c411fec02e67efabe24.JPG', '20020521115310_眼位_O_0_e8bfff6584d9d52963761eef56cbc5ff7be9cf6192c9a55bb5cbda63c55cbfeb.JPG', '20020917111116_眼位_O_0_6c0718d9acaad08d9984c30e7c4fffb9a880fd5f523aa694a6333f64cd7138c4.JPG', '20040413104834_眼位_O_-1_27cc91ef8763476c0a35056e783f7d2acbbbecf758e2f48ad95528778152c5a4.JPG']\n",
            "6-20010918-0-160722_眼位_O_0_f32788e7f7b19ba0948ab3de4ceba5b1bdf7d3bfe6ac2e71039c49bee5f3af85.JPG\n",
            "6-20020205-1-164618_眼位_O_0_0771f7e0608f442b72a9dd0652ba434f5a0bc1386e23a268a77d1dfa9ed3ffcd.JPG\n",
            "6-20020205-1-164618_眼位_O_0_0a8e12e81a49e8555cda33344451e322b775523ce33755d605c49f614d439839.JPG\n",
            "6-20020319-1-102533_眼位_O_0_dc4952f23ce1a598b434a4ce7a50dcaf22f3092a934d49f5874d9cd9ccfe0f1e.JPG\n",
            "6-20020521-1-115310_眼位_O_0_0f6c857dca0c951a09d4cbc7da6b9149b3ac71f1a8c3077876ca93ff00c809e7.JPG\n",
            "6-20020521-1-115310_眼位_O_0_a335ae6943bc7b5f134e88c49134e224c6e421bfb6965c411fec02e67efabe24.JPG\n",
            "6-20020521-1-115310_眼位_O_0_e8bfff6584d9d52963761eef56cbc5ff7be9cf6192c9a55bb5cbda63c55cbfeb.JPG\n",
            "6-20020917-1-111116_眼位_O_0_6c0718d9acaad08d9984c30e7c4fffb9a880fd5f523aa694a6333f64cd7138c4.JPG\n",
            "6-20040413-3-104834_眼位_O_-1_27cc91ef8763476c0a35056e783f7d2acbbbecf758e2f48ad95528778152c5a4.JPG\n",
            "7\n",
            "['20120208113943_眼位_O_0_10ab430adbdc883837e93598bf81eda7f100f4fde1e52e92a9291a1dbf05a3f1.jpg', '20120208113943_眼位_O_0_c575af08bfa46314fe9cb22ba68bc443a2a3dfc53a4afd21843fe4154b622bc1.jpg', '20120208113943_眼位_O_0_fb542790c96a6ee987f0d86b259cc23c821afae28a61fe4bad567bf62df5bf7c.jpg', '20120523093219_眼位_O_0_9dc3c50469983af6302c4a8d71f9ada699acd79f2e63675f1ed60b000c11ee84.jpg']\n",
            "file already converted\n",
            "file already converted\n",
            "file already converted\n",
            "file already converted\n"
          ]
        }
      ]
    },
    {
      "cell_type": "code",
      "metadata": {
        "colab": {
          "base_uri": "https://localhost:8080/"
        },
        "id": "fYkT9HiujigZ",
        "outputId": "54dccbf7-eec5-4071-be4e-e4669171c7b1"
      },
      "source": [
        "filename"
      ],
      "execution_count": 100,
      "outputs": [
        {
          "output_type": "execute_result",
          "data": {
            "text/plain": [
              "'20120523093219_眼位_O_0'"
            ]
          },
          "metadata": {},
          "execution_count": 100
        }
      ]
    },
    {
      "cell_type": "code",
      "metadata": {
        "colab": {
          "base_uri": "https://localhost:8080/"
        },
        "id": "AUQASQK1jfcC",
        "outputId": "ad95d9b8-984a-4d9e-ac5c-f05677e55ba9"
      },
      "source": [
        "df_csv3.iloc[:,3]"
      ],
      "execution_count": 104,
      "outputs": [
        {
          "output_type": "execute_result",
          "data": {
            "text/plain": [
              "0        20180213175019_眼位_O_0_0523ed324a097d4efee788b2...\n",
              "1        20180213175019_眼位_O_0_faa6840cfbf5af83d05e494a...\n",
              "2        20140806133651_眼位_O_0_be04c416aa556d78e0a4bcb8...\n",
              "3        20100825162259_眼位_O_0_33c7bd88dd8c40a5ee7b53b1...\n",
              "4        20100825162259_眼位_O_0_50a8ce629f9645112ad7b805...\n",
              "                               ...                        \n",
              "66680    20190703094738_眼位_O_0_596a5bcf6c0ee3065bc57363...\n",
              "66681    20200115093008_眼位_O_0_228d19be04651902676cdc3f...\n",
              "66682    20190703094738_眼位_O_0_15abdbbd4d3c29f1a54e52e2...\n",
              "66683    20200115093008_眼位_O_0_b99fb70cfdac882fb23ccc34...\n",
              "66684    20181219114914_眼位_O_0_424913503312470433d168b8...\n",
              "Name: FileName, Length: 66685, dtype: object"
            ]
          },
          "metadata": {},
          "execution_count": 104
        }
      ]
    },
    {
      "cell_type": "code",
      "metadata": {
        "id": "gIVNSih6dZ_H"
      },
      "source": [
        ""
      ],
      "execution_count": null,
      "outputs": []
    },
    {
      "cell_type": "code",
      "metadata": {
        "id": "w0hQeRzySN3Z"
      },
      "source": [
        ""
      ],
      "execution_count": null,
      "outputs": []
    }
  ]
}